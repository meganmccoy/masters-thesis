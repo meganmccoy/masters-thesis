{
 "cells": [
  {
   "cell_type": "markdown",
   "metadata": {},
   "source": [
    "# 882 Replication Paper: Flabbi 2010\n",
    "\n",
    "- Data from CPS, 1995\n",
    "- Estimation strategy from Flabbi 2010 "
   ]
  },
  {
   "cell_type": "markdown",
   "metadata": {},
   "source": [
    "## Import Packages"
   ]
  },
  {
   "cell_type": "code",
   "execution_count": 108,
   "metadata": {},
   "outputs": [],
   "source": [
    "# Data Manipulation \n",
    "import numpy as np\n",
    "import pandas as pd\n",
    "\n",
    "# General\n",
    "import pdb\n",
    "\n",
    "# Estimation\n",
    "from scipy.optimize import minimize\n",
    "import scipy.stats as stats\n",
    "# import numdifftools as ndt\n",
    "import scipy.integrate as integrate\n",
    "\n",
    "# Data Visualization\n",
    "import matplotlib.pyplot as plt\n",
    "%matplotlib inline\n",
    "import seaborn.apionly as sns\n",
    "from pylab import *"
   ]
  },
  {
   "cell_type": "markdown",
   "metadata": {},
   "source": [
    "## Import Data \n",
    "\n",
    "- CPS data on gender, wages, duration of unemployment\n",
    "- M: males\n",
    "- F: females\n",
    "- U: unemployed\n",
    "- E: employed \n",
    "- {M,F} X {E,U} = {males,females} X {employed, unemployed}"
   ]
  },
  {
   "cell_type": "code",
   "execution_count": 41,
   "metadata": {},
   "outputs": [],
   "source": [
    "data=pd.read_csv('../data/est_c.csv')\n",
    "data.columns = ['dur', 'wage', 'empl', 'women']\n",
    "\n",
    "M = data[data['women']==0] #1186 men \n",
    "F = data[data['women']==1] #993 women \n",
    "U = data[data['empl']==0] #45 unemployed\n",
    "E = data[data['empl']==1] #2134 employed\n",
    "\n",
    "ME = M[M['empl']==1] #1168 employed men\n",
    "MU = M[M['empl']==0] #18 unemployed men\n",
    "FE = F[F['empl']==1] #966 employed women\n",
    "FU = F[F['empl']==0] #27 unemployed women"
   ]
  },
  {
   "cell_type": "markdown",
   "metadata": {},
   "source": [
    "### Summary Statistics, without trimming"
   ]
  },
  {
   "cell_type": "code",
   "execution_count": 42,
   "metadata": {},
   "outputs": [],
   "source": [
    "agg_dict = {\n",
    "    'wage': ['mean', 'std', 'count'],\n",
    "    'dur': ['mean', 'std', 'count'],\n",
    "}"
   ]
  },
  {
   "cell_type": "code",
   "execution_count": 43,
   "metadata": {},
   "outputs": [
    {
     "name": "stdout",
     "output_type": "stream",
     "text": [
      "\\begin{tabular}{llrrrrrr}\n",
      "\\toprule\n",
      "  &   & \\multicolumn{3}{l}{wage} & \\multicolumn{3}{l}{dur} \\\\\n",
      "  &   &       mean &       std & count &      mean &       std & count \\\\\n",
      "women & empl &            &           &       &           &           &       \\\\\n",
      "\\midrule\n",
      "0 & 0 &   0.000000 &  0.000000 &    18 &  4.923077 &  4.687447 &    18 \\\\\n",
      "  & 1 &  21.258393 &  9.890162 &  1168 &  0.000000 &  0.000000 &  1168 \\\\\n",
      "1 & 0 &   0.000000 &  0.000000 &    27 &  3.837607 &  3.341191 &    27 \\\\\n",
      "  & 1 &  16.604563 &  8.307586 &   966 &  0.000000 &  0.000000 &   966 \\\\\n",
      "\\bottomrule\n",
      "\\end{tabular}\n",
      "\n"
     ]
    }
   ],
   "source": [
    "print(data.groupby(['women', 'empl']).agg(agg_dict).to_latex()) # by gender"
   ]
  },
  {
   "cell_type": "code",
   "execution_count": 44,
   "metadata": {},
   "outputs": [
    {
     "name": "stdout",
     "output_type": "stream",
     "text": [
      "\\begin{tabular}{lrrrrrr}\n",
      "\\toprule\n",
      "{} & \\multicolumn{3}{l}{wage} & \\multicolumn{3}{l}{dur} \\\\\n",
      "{} &       mean &       std & count &      mean &       std & count \\\\\n",
      "empl &            &           &       &           &           &       \\\\\n",
      "\\midrule\n",
      "0    &   0.000000 &  0.000000 &    45 &  4.271795 &  3.921109 &    45 \\\\\n",
      "1    &  19.151739 &  9.492563 &  2134 &  0.000000 &  0.000000 &  2134 \\\\\n",
      "\\bottomrule\n",
      "\\end{tabular}\n",
      "\n"
     ]
    }
   ],
   "source": [
    "print(data.groupby(['empl']).agg(agg_dict).to_latex()) # all"
   ]
  },
  {
   "cell_type": "markdown",
   "metadata": {},
   "source": [
    "### Summary Statistics, with trimming"
   ]
  },
  {
   "cell_type": "code",
   "execution_count": 45,
   "metadata": {},
   "outputs": [
    {
     "name": "stdout",
     "output_type": "stream",
     "text": [
      "7.2700000000000005\n"
     ]
    }
   ],
   "source": [
    "print(np.percentile(ME['wage'], 5))"
   ]
  },
  {
   "cell_type": "code",
   "execution_count": 46,
   "metadata": {},
   "outputs": [
    {
     "name": "stdout",
     "output_type": "stream",
     "text": [
      "5.75625\n"
     ]
    }
   ],
   "source": [
    "print(np.percentile(FE['wage'], 5))"
   ]
  },
  {
   "cell_type": "code",
   "execution_count": 47,
   "metadata": {},
   "outputs": [],
   "source": [
    "M_WAGE_COND = (data['wage'] > 7.27) #hard coded percentile so it does not continually update\n",
    "M_COND = (data['women'] == 0)\n",
    "\n",
    "F_WAGE_COND = (data['wage'] > 5.75625) #hard coded percentile so it does not continually update\n",
    "F_COND = (data['women'] == 1)\n",
    "\n",
    "DUR_COND = (data['dur'] > 0)\n",
    "\n",
    "trim = data[ (M_COND & M_WAGE_COND) | (F_COND & F_WAGE_COND) | DUR_COND ]\n",
    "\n",
    "\n",
    "M = trim[trim['women']==0] #1127 men \n",
    "F = trim[trim['women']==1] #944 women \n",
    "U = trim[trim['empl']==0] #45 unemployed\n",
    "E = trim[trim['empl']==1] #2026 employed\n",
    "\n",
    "ME = M[M['empl']==1] #1109 employed men\n",
    "MU = M[M['empl']==0] #18 unemployed men\n",
    "FE = F[F['empl']==1] #917 employed women\n",
    "FU = F[F['empl']==0] #27 unemployed women"
   ]
  },
  {
   "cell_type": "code",
   "execution_count": 48,
   "metadata": {},
   "outputs": [
    {
     "name": "stdout",
     "output_type": "stream",
     "text": [
      "\\begin{tabular}{llrrrrrr}\n",
      "\\toprule\n",
      "  &   & \\multicolumn{3}{l}{wage} & \\multicolumn{3}{l}{dur} \\\\\n",
      "  &   &       mean &       std & count &      mean &       std & count \\\\\n",
      "women & empl &            &           &       &           &           &       \\\\\n",
      "\\midrule\n",
      "0 & 0 &   0.000000 &  0.000000 &    18 &  4.923077 &  4.687447 &    18 \\\\\n",
      "  & 1 &  22.093013 &  9.440473 &  1109 &  0.000000 &  0.000000 &  1109 \\\\\n",
      "1 & 0 &   0.000000 &  0.000000 &    27 &  3.837607 &  3.341191 &    27 \\\\\n",
      "  & 1 &  17.263817 &  8.002224 &   917 &  0.000000 &  0.000000 &   917 \\\\\n",
      "\\bottomrule\n",
      "\\end{tabular}\n",
      "\n"
     ]
    }
   ],
   "source": [
    "print(trim.groupby(['women', 'empl']).agg(agg_dict).to_latex()) # by gender"
   ]
  },
  {
   "cell_type": "code",
   "execution_count": 49,
   "metadata": {},
   "outputs": [
    {
     "name": "stdout",
     "output_type": "stream",
     "text": [
      "\\begin{tabular}{lrrrrrr}\n",
      "\\toprule\n",
      "{} & \\multicolumn{3}{l}{wage} & \\multicolumn{3}{l}{dur} \\\\\n",
      "{} &       mean &       std & count &      mean &       std & count \\\\\n",
      "empl &            &           &       &           &           &       \\\\\n",
      "\\midrule\n",
      "0    &   0.000000 &  0.000000 &    45 &  4.271795 &  3.921109 &    45 \\\\\n",
      "1    &  19.907242 &  9.138453 &  2026 &  0.000000 &  0.000000 &  2026 \\\\\n",
      "\\bottomrule\n",
      "\\end{tabular}\n",
      "\n"
     ]
    }
   ],
   "source": [
    "print(trim.groupby(['empl']).agg(agg_dict).to_latex()) # all"
   ]
  },
  {
   "cell_type": "markdown",
   "metadata": {},
   "source": [
    "## Figures \n",
    "\n",
    "- Distribution of wages, men and women"
   ]
  },
  {
   "cell_type": "code",
   "execution_count": 50,
   "metadata": {},
   "outputs": [
    {
     "name": "stderr",
     "output_type": "stream",
     "text": [
      "/Users/megan.mccoy/anaconda3/lib/python3.6/site-packages/matplotlib/axes/_axes.py:6462: UserWarning: The 'normed' kwarg is deprecated, and has been replaced by the 'density' kwarg.\n",
      "  warnings.warn(\"The 'normed' kwarg is deprecated, and has been \"\n",
      "/Users/megan.mccoy/anaconda3/lib/python3.6/site-packages/matplotlib/axes/_axes.py:6462: UserWarning: The 'normed' kwarg is deprecated, and has been replaced by the 'density' kwarg.\n",
      "  warnings.warn(\"The 'normed' kwarg is deprecated, and has been \"\n"
     ]
    },
    {
     "data": {
      "image/png": "[encoded data removed]",
      "text/plain": [
       "<Figure size 864x576 with 2 Axes>"
      ]
     },
     "metadata": {},
     "output_type": "display_data"
    }
   ],
   "source": [
    "# Seaborn\n",
    "fig, ax = plt.subplots(2, 1, figsize=(12, 8))\n",
    "\n",
    "sns.distplot(ME['wage'], color='#4B9CD3', hist_kws={'alpha' : .3}, bins=50, ax=ax[0])\n",
    "sns.distplot(FE['wage'], color='#4B9CD3', hist_kws={'alpha' : .3}, bins=50, ax=ax[1])\n",
    "\n",
    "ax[0].legend(['Men'])\n",
    "ax[1].legend(['Women'])\n",
    "\n",
    "ax[0].set_xlim([0,75])\n",
    "ax[1].set_xlim([0,75])\n",
    "\n",
    "ax[0].set_ylim([0,0.07])\n",
    "ax[1].set_ylim([0,0.07])\n",
    "\n",
    "plt.tight_layout()"
   ]
  },
  {
   "cell_type": "code",
   "execution_count": 51,
   "metadata": {},
   "outputs": [],
   "source": [
    "fig.savefig('./figures/fig1_2.png', bbox_inches='tight', transparent=True)"
   ]
  },
  {
   "cell_type": "markdown",
   "metadata": {},
   "source": [
    "## Estimation "
   ]
  },
  {
   "cell_type": "markdown",
   "metadata": {},
   "source": [
    "### Initial Conditions"
   ]
  },
  {
   "cell_type": "code",
   "execution_count": 52,
   "metadata": {},
   "outputs": [],
   "source": [
    "λ_0 = 0.22\n",
    "λ_M = 0.18\n",
    "λ_F = 0.28\n",
    "\n",
    "h_0 = 0.234\n",
    "h_M = 0.203\n",
    "h_F = 0.260\n",
    "\n",
    "η_0 = 0.005\n",
    "η_M = 0.003\n",
    "η_F = 0.0077\n",
    "\n",
    "μ_0 = 3.433\n",
    "μ_M = 3.456\n",
    "μ_F = 3.454\n",
    "\n",
    "σ_0 = 0.523\n",
    "σ_M = 0.558\n",
    "σ_F = 0.423\n",
    "\n",
    "p_0 = 0.5\n",
    "d_0 = 15 "
   ]
  },
  {
   "cell_type": "markdown",
   "metadata": {},
   "source": [
    "### Parameters without distributional assumptions"
   ]
  },
  {
   "cell_type": "code",
   "execution_count": 53,
   "metadata": {},
   "outputs": [],
   "source": [
    "wstarM = min(ME['wage'])\n",
    "wstarF = min(FE['wage'])\n",
    "\n",
    "α = 0.5"
   ]
  },
  {
   "cell_type": "markdown",
   "metadata": {},
   "source": [
    "### Accepted Wage Distribution as in 13, Log Normal as transformation from Normal"
   ]
  },
  {
   "cell_type": "code",
   "execution_count": 54,
   "metadata": {},
   "outputs": [],
   "source": [
    "def lognormpdf(x: np.array, μ: float, σ: float):\n",
    "    \"\"\"\n",
    "    Calculates lognormal pdf without stats packages\n",
    "    \"\"\"\n",
    "    \n",
    "    denom = x * σ * np.sqrt(2*pi)\n",
    "    exp_num = -(np.log(x)-μ)**2\n",
    "    exp_denom = 2 * σ * σ\n",
    "    num = np.exp(exp_num/exp_denom)\n",
    "    \n",
    "    return num/denom"
   ]
  },
  {
   "cell_type": "code",
   "execution_count": 55,
   "metadata": {},
   "outputs": [],
   "source": [
    "def lognormsf(x: np.array, μ: float, σ: float):\n",
    "    \"\"\"\n",
    "    Calculated lognormal cdf with scipy.stats normal cdf\n",
    "    \"\"\"\n",
    "    \n",
    "    lnx = np.log(x)\n",
    "    num = lnx - μ\n",
    "    denom = σ\n",
    "    \n",
    "    return 1-stats.norm.cdf(num/denom)"
   ]
  },
  {
   "cell_type": "code",
   "execution_count": 56,
   "metadata": {},
   "outputs": [],
   "source": [
    "def dens_accepted(wage: np.array, α: float, μ: float, σ: float, wstar: float):\n",
    "    \"\"\"\n",
    "    Calculates the density of accepted wages using the lognormal distribution (end of eq 13)\n",
    "    \"\"\"\n",
    "    \n",
    "    pdf_in = (wage - (1-α)*wstar)/α\n",
    "    sf_in = wstar\n",
    "    \n",
    "    num = lognormpdf(pdf_in, μ, σ) \n",
    "    denom = lognormsf(sf_in, μ, σ)\n",
    "    \n",
    "    return num / (α * denom)"
   ]
  },
  {
   "cell_type": "code",
   "execution_count": 57,
   "metadata": {},
   "outputs": [],
   "source": [
    "def dens_accepted_prej(wage: np.array, α: float, μ: float, σ: float, wstar: float, d: float):\n",
    "    \"\"\"\n",
    "    Calculates the density of accepted wages when prejudice is present using the lognormal distribution (end of eq 13)\n",
    "    \"\"\"\n",
    "    \n",
    "    pdf_in = (wage + α*d - (1-α)*wstar)/α\n",
    "    sf_in = wstar+d\n",
    "    \n",
    "    num = lognormpdf(pdf_in, μ, σ) \n",
    "    denom = lognormsf(sf_in, μ, σ)    \n",
    "    \n",
    "    return num / (α * denom)"
   ]
  },
  {
   "cell_type": "code",
   "execution_count": 58,
   "metadata": {},
   "outputs": [],
   "source": [
    "def hazardM(λ: float, wstar: float, α: float, μ: float, σ: float):\n",
    "    \"\"\"\n",
    "    Estimates hazard rate for men (eq 10 of the paper)\n",
    "    \"\"\"\n",
    "\n",
    "    mult = lognormsf(wstar, μ, σ)\n",
    "    \n",
    "    return λ * mult"
   ]
  },
  {
   "cell_type": "code",
   "execution_count": 59,
   "metadata": {},
   "outputs": [],
   "source": [
    "def hazardF(λ: float, wstar: float, α: float, μ: float, σ: float, p: float, d: float):\n",
    "    \"\"\"\n",
    "    Estimates hazard rate for women (eq 10 of the paper)\n",
    "    \"\"\"\n",
    "    \n",
    "    sf_in1 = wstar\n",
    "    sf_in2 = wstar+d\n",
    "    \n",
    "    mult = (1-p)*lognormsf(sf_in1, μ, σ) + p*lognormsf(sf_in2, μ, σ)\n",
    "    \n",
    "    return λ * mult"
   ]
  },
  {
   "cell_type": "markdown",
   "metadata": {},
   "source": [
    "### Test Statistics"
   ]
  },
  {
   "cell_type": "code",
   "execution_count": 60,
   "metadata": {},
   "outputs": [],
   "source": [
    "def teststats (hess_inv: np.ndarray, lnL: float, nparams: int):\n",
    "    \"\"\"\n",
    "    Calculates the standard errors and p value from the LR tests, puts into list to export to .csv file\n",
    "    \"\"\"\n",
    "    se = np.sqrt(np.diag(hess_inv))\n",
    "    \n",
    "    loglik_H0 = lnL_6\n",
    "    \n",
    "    LR = 2 * (lnL - loglik_H0)\n",
    "    pval = stats.chi2.pdf(LR, nparams)\n",
    "    \n",
    "    ts = se.tolist()\n",
    "    ts.append(lnL)\n",
    "    ts.append(pval)\n",
    "    \n",
    "    return ts"
   ]
  },
  {
   "cell_type": "markdown",
   "metadata": {},
   "source": [
    "### Likelihood Functions"
   ]
  },
  {
   "cell_type": "markdown",
   "metadata": {},
   "source": [
    "#### Estimation 6"
   ]
  },
  {
   "cell_type": "code",
   "execution_count": 65,
   "metadata": {},
   "outputs": [],
   "source": [
    "def loglik_6( params: list ):\n",
    "    \"\"\"\n",
    "    Calculates log likelihood with prejudice and productivity differences (Estimation 6)\n",
    "    \n",
    "    Parameters to estimate: λM, λF, ηM, ηF, μM, σM, μF, σF, d, p\n",
    "    \"\"\"\n",
    "    \n",
    "    λM = np.exp(params[0])\n",
    "    λF = np.exp(params[1])\n",
    "    ηM = np.exp(params[2])\n",
    "    ηF = np.exp(params[3])\n",
    "    μM = params[4]\n",
    "    σM = np.exp(params[5])\n",
    "    μF = params[6]\n",
    "    σF = np.exp(params[7])\n",
    "    d  = np.exp(params[8])\n",
    "    p  = np.exp(params[9])\n",
    "\n",
    "    \n",
    "    # Men's equations \n",
    "    hM = hazardM(λM, wstarM, α, μM, σM)\n",
    "    \n",
    "    a = M['dur'].count() * np.log(hM/(hM+ηM))\n",
    "    b = MU['dur'].count() * np.log(ηM)\n",
    "    c = - hM * np.sum(MU.values[:,0])\n",
    "    e = np.sum( np.log( (1/α) * dens_accepted( ME['wage'], α, μM, σM, wstarM) ) )  \n",
    "\n",
    "    \n",
    "    # Women's equations\n",
    "    hF = hazardF(λF, wstarF, α, μF, σF, p, d)\n",
    "    \n",
    "    f = F['dur'].count() * np.log(hF/(hF+ηF))\n",
    "    g = FU['dur'].count() * np.log(ηF)\n",
    "    h = - hF * np.sum(FU.values[:,0])\n",
    "    \n",
    "    y = ((1-p)/α) * dens_accepted( FE['wage'], α, μF, σF, wstarF)\n",
    "    z = (p/α) * dens_accepted_prej( FE['wage'], α, μF, σF, wstarF, d)\n",
    "      \n",
    "    i = np.sum( np.log( y + z ) )\n",
    "    \n",
    "    \n",
    "    return -(a + b + c + e + f + g + h + i)"
   ]
  },
  {
   "cell_type": "code",
   "execution_count": 66,
   "metadata": {},
   "outputs": [
    {
     "name": "stdout",
     "output_type": "stream",
     "text": [
      "6042.221472828369\n"
     ]
    }
   ],
   "source": [
    "# Check on log-likelihood\n",
    "\n",
    "param6 = [λ_M, λ_F, η_M, η_F, μ_M, σ_M, μ_F, σ_F, d_0, p_0]\n",
    "\n",
    "b6_0 = np.log(param6[0])\n",
    "b6_1 = np.log(param6[1])\n",
    "b6_2 = np.log(param6[2])\n",
    "b6_3 = np.log(param6[3])\n",
    "b6_4 = param6[4]\n",
    "b6_5 = np.log(param6[5])\n",
    "b6_6 = param6[6]\n",
    "b6_7 = np.log(param6[7])\n",
    "b6_8 = np.log(param6[8])\n",
    "b6_9 = np.log(1)\n",
    "\n",
    "init6 = [b6_0, b6_1, b6_2, b6_3, b6_4, b6_5, b6_6, b6_7, b6_8, b6_9]\n",
    "\n",
    "print(loglik_6(init6))"
   ]
  },
  {
   "cell_type": "code",
   "execution_count": 67,
   "metadata": {},
   "outputs": [
    {
     "name": "stdout",
     "output_type": "stream",
     "text": [
      "[-1.7147984280919266, -1.2729656758128873, -5.809142990314028, -4.866534950122499, 3.456, -0.583396316600826, 3.454, -0.8603830999358592, 2.70805020110221, 0.0]\n"
     ]
    }
   ],
   "source": [
    "print(init6)"
   ]
  },
  {
   "cell_type": "code",
   "execution_count": 68,
   "metadata": {},
   "outputs": [
    {
     "data": {
      "text/plain": [
       "      fun: 5952.05297318644\n",
       " hess_inv: array([[ 3.74988856e-02, -3.68915380e-03,  3.20944010e-02,\n",
       "        -2.49066431e-03,  1.62064516e-05,  4.66085459e-05,\n",
       "         3.00984455e-03, -1.17149732e-03, -1.25377794e-02,\n",
       "         1.98520340e-02],\n",
       "       [-3.68915380e-03,  2.43647111e-02, -1.29755066e-02,\n",
       "         1.87298271e-02, -5.53991418e-05, -9.85633808e-05,\n",
       "        -4.40302759e-03,  3.12563905e-03,  6.81011825e-03,\n",
       "        -2.21425173e-02],\n",
       "       [ 3.20944010e-02, -1.29755066e-02,  7.97512119e-02,\n",
       "        -1.28276268e-02, -3.64119270e-05, -2.27971003e-05,\n",
       "         3.99065651e-03, -1.97662106e-03, -1.83480070e-02,\n",
       "         2.66693568e-02],\n",
       "       [-2.49066431e-03,  1.87298271e-02, -1.28276268e-02,\n",
       "         4.77920184e-02, -1.07529673e-04, -1.92539664e-04,\n",
       "        -6.84646556e-03,  4.87799692e-03,  8.22701220e-03,\n",
       "        -3.25572310e-02],\n",
       "       [ 1.62064516e-05, -5.53991418e-05, -3.64119270e-05,\n",
       "        -1.07529673e-04,  2.94958656e-04, -3.27383173e-05,\n",
       "         1.38617281e-05, -4.46518519e-05, -5.82951408e-05,\n",
       "         1.19625999e-04],\n",
       "       [ 4.66085459e-05, -9.85633808e-05, -2.27971003e-05,\n",
       "        -1.92539664e-04, -3.27383173e-05,  5.19367290e-04,\n",
       "         2.39961951e-05, -5.50716712e-05, -1.17415630e-04,\n",
       "         1.98812696e-04],\n",
       "       [ 3.00984455e-03, -4.40302759e-03,  3.99065651e-03,\n",
       "        -6.84646556e-03,  1.38617281e-05,  2.39961951e-05,\n",
       "         2.57440042e-03, -2.57478007e-03,  1.53239011e-03,\n",
       "         7.15501493e-03],\n",
       "       [-1.17149732e-03,  3.12563905e-03, -1.97662106e-03,\n",
       "         4.87799692e-03, -4.46518519e-05, -5.50716712e-05,\n",
       "        -2.57478007e-03,  3.80595407e-03, -3.05638996e-03,\n",
       "        -5.83885718e-03],\n",
       "       [-1.25377794e-02,  6.81011825e-03, -1.83480070e-02,\n",
       "         8.22701220e-03, -5.82951408e-05, -1.17415630e-04,\n",
       "         1.53239011e-03, -3.05638996e-03,  2.45015128e-02,\n",
       "        -1.23657478e-02],\n",
       "       [ 1.98520340e-02, -2.21425173e-02,  2.66693568e-02,\n",
       "        -3.25572310e-02,  1.19625999e-04,  1.98812696e-04,\n",
       "         7.15501493e-03, -5.83885718e-03, -1.23657478e-02,\n",
       "         3.61252265e-02]])\n",
       "      jac: array([ 0.00000000e+00,  0.00000000e+00,  0.00000000e+00,  6.10351562e-05,\n",
       "       -6.10351562e-05, -6.10351562e-05,  6.10351562e-05,  6.10351562e-05,\n",
       "        0.00000000e+00,  6.10351562e-05])\n",
       "  message: 'Desired error not necessarily achieved due to precision loss.'\n",
       "     nfev: 421\n",
       "      nit: 27\n",
       "     njev: 35\n",
       "   status: 2\n",
       "  success: False\n",
       "        x: array([-1.58922031, -1.28379117, -5.71477724, -4.87011903,  3.45704776,\n",
       "       -0.57893814,  3.46137198, -0.88482368,  2.59788148, -0.62068618])"
      ]
     },
     "execution_count": 68,
     "metadata": {},
     "output_type": "execute_result"
    }
   ],
   "source": [
    "est_6 = minimize(loglik_6, init6)\n",
    "\n",
    "est_6"
   ]
  },
  {
   "cell_type": "code",
   "execution_count": 69,
   "metadata": {},
   "outputs": [
    {
     "name": "stdout",
     "output_type": "stream",
     "text": [
      "[0.20408467292126564, 0.2769852083418413, 0.0032968848409404574, 0.007672451978089833, 3.4570477646923408, 0.5604932172212271, 3.4613719837144994, 0.4127869482430856, 13.435245063239115, 0.537575439740069]\n"
     ]
    }
   ],
   "source": [
    "# Coefficients\n",
    "\n",
    "λM_6 = np.exp(est_6.x[0])\n",
    "λF_6 = np.exp(est_6.x[1])\n",
    "ηM_6 = np.exp(est_6.x[2])\n",
    "ηF_6 = np.exp(est_6.x[3])\n",
    "μM_6 = est_6.x[4]\n",
    "σM_6 = np.exp(est_6.x[5])\n",
    "μF_6 = est_6.x[6]\n",
    "σF_6 = np.exp(est_6.x[7])\n",
    "d_6  = np.exp(est_6.x[8])\n",
    "p_6  = np.exp(est_6.x[9])\n",
    "\n",
    "coeff_6 = [λM_6, λF_6, ηM_6, ηF_6, μM_6, σM_6, μF_6, σF_6, d_6, p_6]\n",
    "\n",
    "print(coeff_6)"
   ]
  },
  {
   "cell_type": "code",
   "execution_count": 70,
   "metadata": {},
   "outputs": [
    {
     "name": "stdout",
     "output_type": "stream",
     "text": [
      "5952.05297318644\n"
     ]
    }
   ],
   "source": [
    "lnL_6 = est_6.fun\n",
    "\n",
    "print(lnL_6)"
   ]
  },
  {
   "cell_type": "code",
   "execution_count": 71,
   "metadata": {},
   "outputs": [
    {
     "name": "stdout",
     "output_type": "stream",
     "text": [
      "[0.1936462899397728, 0.15609199578873947, 0.28240257060225854, 0.2186138568074258, 0.01717436043881923, 0.0227896311987618, 0.05073854964137806, 0.061692414981450526, 0.15652959065994546, 0.1900663738309196, 5952.05297318644, 0.0]\n"
     ]
    }
   ],
   "source": [
    "ts_6 = teststats(est_6.hess_inv, lnL_6, 10)\n",
    "\n",
    "print(ts_6)"
   ]
  },
  {
   "cell_type": "markdown",
   "metadata": {},
   "source": [
    "#### Estimation 3"
   ]
  },
  {
   "cell_type": "code",
   "execution_count": 72,
   "metadata": {},
   "outputs": [],
   "source": [
    "def loglik_3( params: list ):\n",
    "    \"\"\"\n",
    "    Calculates log likelihood with prejudice and productivity differences \n",
    "    \n",
    "    Estimation 3 (η and h not gender specific)\n",
    "    \n",
    "    Parameters to estimate: λ, η, μM, σM, μF, σF, d, p\n",
    "    \"\"\"\n",
    "    \n",
    "    λM = np.exp(params[0]) #same lambda\n",
    "    λF = np.exp(params[0]) #same lambda\n",
    "    η = np.exp(params[1]) #same eta\n",
    "    μM = params[2]\n",
    "    σM = np.exp(params[3])\n",
    "    μF = params[4]\n",
    "    σF = np.exp(params[5])\n",
    "    d = np.exp(params[6])\n",
    "    p = np.exp(params[7])\n",
    "    \n",
    "    \n",
    "    # Men's equations\n",
    "    hM = hazardM(λM, wstarM, α, μM, σM)\n",
    "    \n",
    "    a = M['dur'].count() * np.log(hM/(hM+η))\n",
    "    b = MU['dur'].count() * np.log(η)\n",
    "    c = - hM * np.sum(MU.values[:,0])\n",
    "    e = np.sum( np.log( (1/α) * dens_accepted( ME['wage'], α, μM, σM, wstarM) ) )\n",
    "    \n",
    "    \n",
    "    # Women's equations\n",
    "    hF = hazardF(λF, wstarF, α, μM, σM, p, d)\n",
    "    \n",
    "    f = F['dur'].count() * np.log(hF/(hF+η))\n",
    "    g = FU['dur'].count() * np.log(η)\n",
    "    i = - hF * np.sum(FU.values[:,0])\n",
    "    \n",
    "    y = ((1-p)/α) * dens_accepted( FE['wage'], α, μF, σF, wstarF)\n",
    "    z = (p/α) * dens_accepted_prej( FE['wage'], α, μF, σF, wstarF, d)\n",
    "\n",
    "    j = np.sum( np.log( y + z ) )\n",
    "    \n",
    "    \n",
    "    return -(a + b + c + e + f + g + i + j)"
   ]
  },
  {
   "cell_type": "code",
   "execution_count": 73,
   "metadata": {},
   "outputs": [
    {
     "name": "stdout",
     "output_type": "stream",
     "text": [
      "6045.10706444125\n"
     ]
    }
   ],
   "source": [
    "# Check on log-likelihood\n",
    "\n",
    "param3 = [λ_0, η_0, μ_M, σ_M, μ_F, σ_F, d_0, p_0]\n",
    "\n",
    "b3_0 = np.log(param3[0])\n",
    "b3_1 = np.log(param3[1])\n",
    "b3_2 = param3[2]\n",
    "b3_3 = np.log(param3[3])\n",
    "b3_4 = param3[4]\n",
    "b3_5 = np.log(param3[5])\n",
    "b3_6 = np.log(param3[6])\n",
    "b3_7 = np.log(1)\n",
    "\n",
    "init3 = [b3_0, b3_1, b3_2, b3_3, b3_4, b3_5, b3_6, b3_7]\n",
    "\n",
    "print(loglik_3(init3))"
   ]
  },
  {
   "cell_type": "code",
   "execution_count": 74,
   "metadata": {},
   "outputs": [
    {
     "data": {
      "text/plain": [
       "      fun: 5954.048368026515\n",
       " hess_inv: array([[ 2.27145624e-02,  2.25187631e-02, -5.44691576e-05,\n",
       "         5.98283866e-05,  7.79553498e-04, -6.40036930e-04,\n",
       "         1.06864999e-03,  2.23353973e-03],\n",
       "       [ 2.25187631e-02,  4.57224356e-02, -5.10495572e-05,\n",
       "        -4.87881926e-05,  6.33524329e-05, -1.31058447e-04,\n",
       "         6.68357830e-05,  2.63058622e-04],\n",
       "       [-5.44691576e-05, -5.10495572e-05,  2.89541877e-04,\n",
       "        -3.64528409e-05,  8.42715213e-06, -3.77132391e-05,\n",
       "         8.74036997e-05, -5.16972844e-05],\n",
       "       [ 5.98283866e-05, -4.87881926e-05, -3.64528409e-05,\n",
       "         5.18069773e-04, -9.98282319e-06,  7.24028825e-06,\n",
       "        -9.63536346e-07, -3.48337022e-05],\n",
       "       [ 7.79553498e-04,  6.33524329e-05,  8.42715213e-06,\n",
       "        -9.98282319e-06,  4.61031679e-03, -3.63412340e-03,\n",
       "        -4.06429116e-03,  1.93925156e-02],\n",
       "       [-6.40036930e-04, -1.31058447e-04, -3.77132391e-05,\n",
       "         7.24028825e-06, -3.63412340e-03,  4.14712823e-03,\n",
       "         1.17036890e-03, -1.34847140e-02],\n",
       "       [ 1.06864999e-03,  6.68357830e-05,  8.74036997e-05,\n",
       "        -9.63536346e-07, -4.06429116e-03,  1.17036890e-03,\n",
       "         3.53170917e-02, -4.15100185e-02],\n",
       "       [ 2.23353973e-03,  2.63058622e-04, -5.16972844e-05,\n",
       "        -3.48337022e-05,  1.93925156e-02, -1.34847140e-02,\n",
       "        -4.15100185e-02,  1.05322198e-01]])\n",
       "      jac: array([0., 0., 0., 0., 0., 0., 0., 0.])\n",
       "  message: 'Optimization terminated successfully.'\n",
       "     nfev: 300\n",
       "      nit: 23\n",
       "     njev: 30\n",
       "   status: 0\n",
       "  success: True\n",
       "        x: array([-1.39341156, -5.2532213 ,  3.45692572, -0.5788365 ,  3.46366341,\n",
       "       -0.88719491,  2.6022124 , -0.61511531])"
      ]
     },
     "execution_count": 74,
     "metadata": {},
     "output_type": "execute_result"
    }
   ],
   "source": [
    "est_3 = minimize(loglik_3, init3)\n",
    "\n",
    "est_3"
   ]
  },
  {
   "cell_type": "code",
   "execution_count": 75,
   "metadata": {},
   "outputs": [
    {
     "name": "stdout",
     "output_type": "stream",
     "text": [
      "[0.24822701803450017, 0.005230641757085035, 3.456925718086534, 0.5605501874139475, 3.4636634139882947, 0.4118092972982203, 13.493558119858895, 0.5405785557324355]\n"
     ]
    }
   ],
   "source": [
    "# Coefficients\n",
    "\n",
    "λ_3 = np.exp(est_3.x[0])\n",
    "η_3 = np.exp(est_3.x[1])\n",
    "μM_3 = est_3.x[2]\n",
    "σM_3 = np.exp(est_3.x[3])\n",
    "μF_3 = est_3.x[4]\n",
    "σF_3 = np.exp(est_3.x[5])\n",
    "d_3 = np.exp(est_3.x[6])\n",
    "p_3 = np.exp(est_3.x[7])\n",
    "\n",
    "coeff_3 = [λ_3, η_3, μM_3, σM_3, μF_3, σF_3, d_3, p_3]\n",
    "\n",
    "print(coeff_3)"
   ]
  },
  {
   "cell_type": "code",
   "execution_count": 76,
   "metadata": {},
   "outputs": [
    {
     "name": "stdout",
     "output_type": "stream",
     "text": [
      "5954.048368026515\n"
     ]
    }
   ],
   "source": [
    "lnL_3 = est_3.fun\n",
    "\n",
    "print(lnL_3)"
   ]
  },
  {
   "cell_type": "code",
   "execution_count": 77,
   "metadata": {},
   "outputs": [
    {
     "name": "stdout",
     "output_type": "stream",
     "text": [
      "[0.15071351105685066, 0.213828051402697, 0.017015930098106792, 0.02276114612186696, 0.06789931359343199, 0.06439820048400478, 0.1879284216359636, 0.32453381636344947, 5954.048368026515, 0.09001529729853945]\n"
     ]
    }
   ],
   "source": [
    "ts_3 = teststats(est_3.hess_inv, lnL_3, 8)\n",
    "\n",
    "print(ts_3)"
   ]
  },
  {
   "cell_type": "markdown",
   "metadata": {},
   "source": [
    "#### Estimation 5"
   ]
  },
  {
   "cell_type": "code",
   "execution_count": 78,
   "metadata": {},
   "outputs": [],
   "source": [
    "def loglik_5( params: list ):\n",
    "    \"\"\"\n",
    "    Calculates log likelihood with prejudice, no productivity differences (estimation 5). \n",
    "    \n",
    "    Parameters to estimate: λM, λF, μ, σ, p, d\n",
    "    \"\"\"\n",
    "\n",
    "    λM = np.exp(params[0])\n",
    "    λF = np.exp(params[1])\n",
    "    ηM = np.exp(params[2])\n",
    "    ηF = np.exp(params[3])\n",
    "    μ = params[4]\n",
    "    σ = np.exp(params[5])\n",
    "    d = np.exp(params[6])\n",
    "    p = np.exp(params[7])\n",
    "    \n",
    "    \n",
    "    # Men's equations \n",
    "    hM = hazardM(λM, wstarM, α, μ, σ)\n",
    "    \n",
    "    a = M['dur'].count() * np.log(hM/(hM+ηM))\n",
    "    b = MU['dur'].count() * np.log(ηM)\n",
    "    c = - hM * np.sum(MU.values[:,0])\n",
    "    e = np.sum( np.log( (1/α) * dens_accepted(ME['wage'], α, μ, σ, wstarM) ) )\n",
    "    \n",
    "    \n",
    "    # Women's equations\n",
    "    hF = hazardF(λF, wstarF, α, μ, σ, p, d)\n",
    "    \n",
    "    f = F['dur'].count() * np.log(hF/(hF+ηF))\n",
    "    g = FU['dur'].count() * np.log(ηF)\n",
    "    h = - hF * np.sum(FU.values[:,0])\n",
    "    \n",
    "    y = ((1-p)/α) * dens_accepted(FE['wage'], α, μ, σ, wstarF)\n",
    "    z = (p/α) * dens_accepted_prej(FE['wage'], α, μ, σ, wstarF, d)\n",
    "\n",
    "    i = np.sum( np.log( y + z ) )\n",
    "    \n",
    "    \n",
    "    return -(a + b + c + e + f + g + h + i)"
   ]
  },
  {
   "cell_type": "code",
   "execution_count": 79,
   "metadata": {},
   "outputs": [
    {
     "name": "stdout",
     "output_type": "stream",
     "text": [
      "5991.740177658849\n"
     ]
    }
   ],
   "source": [
    "# Check on log-likelihood\n",
    "\n",
    "param5 = [λ_M, λ_F, η_M, η_F, μ_0, σ_0, d_0, p_0]\n",
    "\n",
    "b5_0 = np.log(param6[0])\n",
    "b5_1 = np.log(param6[1])\n",
    "b5_2 = np.log(param6[2])\n",
    "b5_3 = np.log(param6[3])\n",
    "b5_4 = param6[4]\n",
    "b5_5 = np.log(param6[5])\n",
    "b5_6 = np.log(param6[6])\n",
    "b5_7 = np.log(1)\n",
    "\n",
    "init5 = [b5_0, b5_1, b5_2, b5_3, b5_4, b5_5, b5_6, b5_7]\n",
    "\n",
    "print(loglik_5(init5))"
   ]
  },
  {
   "cell_type": "code",
   "execution_count": 80,
   "metadata": {},
   "outputs": [
    {
     "data": {
      "text/plain": [
       "      fun: 5974.802052422727\n",
       " hess_inv: array([[ 5.68959538e-02, -5.32915331e-03,  5.68151077e-02,\n",
       "        -7.54085549e-03, -3.67084525e-04,  7.30832508e-06,\n",
       "         6.09488038e-03, -9.59687198e-03],\n",
       "       [-5.32915331e-03,  2.31297390e-02, -5.35616375e-03,\n",
       "         1.85589219e-02, -6.10824138e-04,  2.85641486e-04,\n",
       "        -3.23301213e-03, -3.75395439e-03],\n",
       "       [ 5.68151077e-02, -5.35616375e-03,  1.14287354e-01,\n",
       "        -8.61740221e-03, -3.12536542e-04, -7.90313745e-05,\n",
       "         6.68917126e-03, -9.44003229e-03],\n",
       "       [-7.54085549e-03,  1.85589219e-02, -8.61740221e-03,\n",
       "         5.32059475e-02, -8.83497685e-04,  3.59863215e-04,\n",
       "        -9.15826227e-04, -9.40410209e-03],\n",
       "       [-3.67084525e-04, -6.10824138e-04, -3.12536542e-04,\n",
       "        -8.83497685e-04,  2.19953168e-04, -6.96732184e-05,\n",
       "         2.78784572e-04,  7.88374527e-04],\n",
       "       [ 7.30832508e-06,  2.85641486e-04, -7.90313745e-05,\n",
       "         3.59863215e-04, -6.96732184e-05,  3.45466172e-04,\n",
       "        -6.74017147e-04,  4.93547772e-05],\n",
       "       [ 6.09488038e-03, -3.23301213e-03,  6.68917126e-03,\n",
       "        -9.15826227e-04,  2.78784572e-04, -6.74017147e-04,\n",
       "         3.23931128e-02, -2.63569288e-02],\n",
       "       [-9.59687198e-03, -3.75395439e-03, -9.44003229e-03,\n",
       "        -9.40410209e-03,  7.88374527e-04,  4.93547772e-05,\n",
       "        -2.63569288e-02,  3.49848389e-02]])\n",
       "      jac: array([0., 0., 0., 0., 0., 0., 0., 0.])\n",
       "  message: 'Optimization terminated successfully.'\n",
       "     nfev: 240\n",
       "      nit: 17\n",
       "     njev: 24\n",
       "   status: 0\n",
       "  success: True\n",
       "        x: array([-1.59083403, -1.31609018, -5.7147774 , -4.87011721,  3.4343342 ,\n",
       "       -0.6473739 ,  1.74722409, -0.02973438])"
      ]
     },
     "execution_count": 80,
     "metadata": {},
     "output_type": "execute_result"
    }
   ],
   "source": [
    "est_5 = minimize(loglik_5, init5)\n",
    "\n",
    "est_5"
   ]
  },
  {
   "cell_type": "code",
   "execution_count": 81,
   "metadata": {},
   "outputs": [
    {
     "name": "stdout",
     "output_type": "stream",
     "text": [
      "[0.2037556031901492, 0.2681817978064825, 0.003296884332902228, 0.0076724659800025885, 3.434334199952509, 0.5234185208533351, 5.738650578260146, 0.9707033398524095]\n"
     ]
    }
   ],
   "source": [
    "# Coefficients\n",
    "\n",
    "λM_5 = np.exp(est_5.x[0])\n",
    "λF_5 = np.exp(est_5.x[1])\n",
    "ηM_5 = np.exp(est_5.x[2])\n",
    "ηF_5 = np.exp(est_5.x[3])\n",
    "μ_5 = est_5.x[4]\n",
    "σ_5 = np.exp(est_5.x[5])\n",
    "d_5 = np.exp(est_5.x[6])\n",
    "p_5 = np.exp(est_5.x[7])\n",
    "\n",
    "coeff_5 = [λM_5, λF_5, ηM_5, ηF_5, μ_5, σ_5, d_5, p_5]\n",
    "\n",
    "print(coeff_5)"
   ]
  },
  {
   "cell_type": "code",
   "execution_count": 82,
   "metadata": {},
   "outputs": [
    {
     "name": "stdout",
     "output_type": "stream",
     "text": [
      "5974.802052422727\n"
     ]
    }
   ],
   "source": [
    "lnL_5 = est_5.fun\n",
    "\n",
    "print(lnL_5)"
   ]
  },
  {
   "cell_type": "code",
   "execution_count": 83,
   "metadata": {},
   "outputs": [
    {
     "name": "stdout",
     "output_type": "stream",
     "text": [
      "[0.23852872747412404, 0.15208464431751442, 0.3380641266902341, 0.23066414444652472, 0.014830818188100876, 0.018586720311609985, 0.179980867749008, 0.18704234516859847, 5974.802052422727, 1.2939295865089588e-07]\n"
     ]
    }
   ],
   "source": [
    "ts_5 = teststats(est_5.hess_inv, lnL_5, 8)\n",
    "\n",
    "print(ts_5)"
   ]
  },
  {
   "cell_type": "markdown",
   "metadata": {},
   "source": [
    "#### Estimation 2"
   ]
  },
  {
   "cell_type": "code",
   "execution_count": 84,
   "metadata": {},
   "outputs": [],
   "source": [
    "def loglik_2( params: list ):\n",
    "    \"\"\"\n",
    "    Calculates log likelihood with prejudice, no productivity differences (estimation 2).\n",
    "    \n",
    "    Parameters to estimate: λ, μ, σ, p, d\n",
    "    \"\"\"\n",
    "    \n",
    "    λM = np.exp(params[0])\n",
    "    λF = np.exp(params[0])\n",
    "    η = np.exp(params[1])\n",
    "    μ = params[2]\n",
    "    σ = np.exp(params[3])\n",
    "    d = np.exp(params[4])\n",
    "    p = np.exp(params[5])\n",
    "\n",
    "    \n",
    "    # Men's equations \n",
    "    hM = hazardM(λM, wstarM, α, μ, σ)\n",
    "    \n",
    "    a = M['dur'].count() * np.log(hM/(hM+η))\n",
    "    b = MU['dur'].count() * np.log(η)\n",
    "    c = - hM * np.sum(MU.values[:,0])\n",
    "    e = np.sum( np.log( (1/α) * dens_accepted(ME['wage'], α, μ, σ, wstarM) ) )\n",
    "    \n",
    "    \n",
    "    # Women's equations\n",
    "    hF = hazardF(λF, wstarF, α, μ, σ, p, d)\n",
    "    \n",
    "    f = F['dur'].count() * np.log(hF/(hF+η))\n",
    "    g = FU['dur'].count() * np.log(η)\n",
    "    i = - hF * np.sum(FU.values[:,0])\n",
    "    \n",
    "    y = ((1-p)/α) * dens_accepted(FE['wage'], α, μ, σ, wstarF)\n",
    "    z = (p/α) * dens_accepted_prej(FE['wage'], α, μ, σ, wstarF, d)\n",
    "\n",
    "    j = np.sum( np.log( y + z ) )\n",
    "    \n",
    "    \n",
    "    return -(a + b + c + e + f + g + i + j)"
   ]
  },
  {
   "cell_type": "code",
   "execution_count": 85,
   "metadata": {},
   "outputs": [
    {
     "name": "stdout",
     "output_type": "stream",
     "text": [
      "6031.5311043529\n"
     ]
    }
   ],
   "source": [
    "# Check on log-likelihood\n",
    "\n",
    "param2 = [λ_0, η_0, μ_0, σ_0, d_0, p_0]\n",
    "\n",
    "b2_0 = np.log(param2[0])\n",
    "b2_1 = np.log(param2[1])\n",
    "b2_2 = param2[2]\n",
    "b2_3 = np.log(param2[3])\n",
    "b2_4 = np.log(param2[4])\n",
    "b2_5 = np.log(1)\n",
    "\n",
    "init2 = [b2_0, b2_1, b2_2, b2_3, b2_4, b2_5]\n",
    "\n",
    "print(loglik_2(init2))"
   ]
  },
  {
   "cell_type": "code",
   "execution_count": 86,
   "metadata": {},
   "outputs": [
    {
     "data": {
      "text/plain": [
       "      fun: 5976.973157524611\n",
       " hess_inv: array([[ 1.96820377e-02,  2.01125717e-02,  2.72766540e-04,\n",
       "         9.22607726e-05, -1.75568210e-02,  1.87040568e-02],\n",
       "       [ 2.01125717e-02,  4.40782310e-02,  2.74765655e-04,\n",
       "         8.54807064e-05, -1.84765952e-02,  1.93237892e-02],\n",
       "       [ 2.72766540e-04,  2.74765655e-04,  2.41532074e-04,\n",
       "        -8.55609429e-05,  7.09086922e-04,  5.88223645e-04],\n",
       "       [ 9.22607726e-05,  8.54807064e-05, -8.55609429e-05,\n",
       "         3.58451727e-04, -9.25374393e-04,  8.64603031e-05],\n",
       "       [-1.75568210e-02, -1.84765952e-02,  7.09086922e-04,\n",
       "        -9.25374393e-04,  5.11485235e-02, -2.83536076e-02],\n",
       "       [ 1.87040568e-02,  1.93237892e-02,  5.88223645e-04,\n",
       "         8.64603031e-05, -2.83536076e-02,  2.91736011e-02]])\n",
       "      jac: array([ 0.        ,  0.        , -0.00067139,  0.00024414,  0.00018311,\n",
       "        0.00018311])\n",
       "  message: 'Desired error not necessarily achieved due to precision loss.'\n",
       "     nfev: 201\n",
       "      nit: 19\n",
       "     njev: 25\n",
       "   status: 2\n",
       "  success: False\n",
       "        x: array([-1.43462731, -5.25714118,  3.43418083, -0.64757661,  1.7751247 ,\n",
       "       -0.05533955])"
      ]
     },
     "execution_count": 86,
     "metadata": {},
     "output_type": "execute_result"
    }
   ],
   "source": [
    "est_2 = minimize(loglik_2, init2)\n",
    "\n",
    "est_2"
   ]
  },
  {
   "cell_type": "code",
   "execution_count": 87,
   "metadata": {},
   "outputs": [
    {
     "name": "stdout",
     "output_type": "stream",
     "text": [
      "[0.2382041236811928, 0.00521017840791332, 3.434180829402329, 0.5233124317738327, 5.901016928783534, 0.9461638236004427]\n"
     ]
    }
   ],
   "source": [
    "# Coefficients\n",
    "\n",
    "λ_2 = np.exp(est_2.x[0])\n",
    "η_2 = np.exp(est_2.x[1])\n",
    "μ_2 = est_2.x[2]\n",
    "σ_2 = np.exp(est_2.x[3])\n",
    "d_2 = np.exp(est_2.x[4])\n",
    "p_2 = np.exp(est_2.x[5])\n",
    "\n",
    "coeff_2 = [λ_2, η_2, μ_2, σ_2, d_2, p_2]\n",
    "\n",
    "print(coeff_2)"
   ]
  },
  {
   "cell_type": "code",
   "execution_count": 88,
   "metadata": {},
   "outputs": [
    {
     "name": "stdout",
     "output_type": "stream",
     "text": [
      "5976.973157524611\n"
     ]
    }
   ],
   "source": [
    "lnL_2 = est_2.fun\n",
    "\n",
    "print(lnL_2)"
   ]
  },
  {
   "cell_type": "code",
   "execution_count": 89,
   "metadata": {},
   "outputs": [
    {
     "name": "stdout",
     "output_type": "stream",
     "text": [
      "[0.14029268566897132, 0.2099481627029904, 0.015541302187132577, 0.018932821420288456, 0.2261603932135667, 0.17080281362861516, 5976.973157524611, 2.3353069062141324e-09]\n"
     ]
    }
   ],
   "source": [
    "ts_2 = teststats(est_2.hess_inv, lnL_2, 6)\n",
    "\n",
    "print(ts_2)"
   ]
  },
  {
   "cell_type": "markdown",
   "metadata": {},
   "source": [
    "#### Estimation 4"
   ]
  },
  {
   "cell_type": "code",
   "execution_count": 90,
   "metadata": {},
   "outputs": [],
   "source": [
    "def loglik_4( params: list ):\n",
    "    \"\"\"\n",
    "    Calculates log likelihood with productivity differences, no prejudice (estimation 4).\n",
    "    \n",
    "    Parameters to estimate: λM, λF, μM, σM, μF, σF\n",
    "    \"\"\"\n",
    "\n",
    "    λM = np.exp(params[0])\n",
    "    λF = np.exp(params[1])\n",
    "    ηM = np.exp(params[2])\n",
    "    ηF = np.exp(params[3])\n",
    "    μM = params[4]\n",
    "    σM = np.exp(params[5])\n",
    "    μF = params[6]\n",
    "    σF = np.exp(params[7])\n",
    "    d = 0\n",
    "    p = 0\n",
    "\n",
    "    \n",
    "    # Men's equations \n",
    "    hM = hazardM(λM, wstarM, α, μM, σM)\n",
    "    \n",
    "    a = M['dur'].count() * np.log(hM/(hM+ηM))\n",
    "    b = MU['dur'].count() * np.log(ηM)\n",
    "    c = - hM * np.sum(MU.values[:,0])\n",
    "    e = np.sum( np.log( (1/α) * dens_accepted( ME['wage'], α, μM, σM, wstarM) ) )\n",
    "    \n",
    "    \n",
    "    # Women's equations\n",
    "    hF = hazardF(λF, wstarF, α, μF, σF, p, d)\n",
    "    \n",
    "    f = F['dur'].count() * np.log(hF/(hF+ηF))\n",
    "    g = FU['dur'].count() * np.log(ηF)\n",
    "    i = - hF * np.sum(FU.values[:,0])\n",
    "    \n",
    "    y = (1/α) * dens_accepted( FE['wage'], α, μF, σF, wstarF)\n",
    "\n",
    "    j = np.sum( np.log( y ) )\n",
    "\n",
    "    return -(a + b + c + e + f + g + i + j)"
   ]
  },
  {
   "cell_type": "code",
   "execution_count": 91,
   "metadata": {},
   "outputs": [
    {
     "name": "stdout",
     "output_type": "stream",
     "text": [
      "6208.9856836561685\n"
     ]
    }
   ],
   "source": [
    "# Check on log-likelihood\n",
    "\n",
    "param4 = [λ_M, λ_F, η_M, η_F, μ_M, σ_M, μ_F, σ_F]\n",
    "\n",
    "b4_0 = np.log(param4[0])\n",
    "b4_1 = np.log(param4[1])\n",
    "b4_2 = np.log(param4[2])\n",
    "b4_3 = np.log(param4[3])\n",
    "b4_4 = param4[4]\n",
    "b4_5 = np.log(param4[5])\n",
    "b4_6 = param4[6]\n",
    "b4_7 = np.log(param4[7])\n",
    "\n",
    "init4 = [b4_0, b4_1, b4_2, b4_3, b4_4, b4_5, b4_6, b4_7]\n",
    "\n",
    "print(loglik_4(init4))"
   ]
  },
  {
   "cell_type": "code",
   "execution_count": 92,
   "metadata": {},
   "outputs": [
    {
     "name": "stdout",
     "output_type": "stream",
     "text": [
      "[-1.7147984280919266, -1.2729656758128873, -5.809142990314028, -4.866534950122499, 3.456, -0.583396316600826, 3.454, -0.8603830999358592]\n"
     ]
    }
   ],
   "source": [
    "print(init4)"
   ]
  },
  {
   "cell_type": "code",
   "execution_count": 93,
   "metadata": {},
   "outputs": [
    {
     "data": {
      "text/plain": [
       "      fun: 5969.7966560227815\n",
       " hess_inv: array([[ 3.99217363e-02,  3.36377816e-04,  2.88176552e-02,\n",
       "         8.00642802e-04,  6.78094594e-05, -7.06589405e-05,\n",
       "        -9.46173888e-05,  1.53170393e-04],\n",
       "       [ 3.36377816e-04,  3.63010772e-02,  2.73277224e-04,\n",
       "         3.60547877e-02, -2.85785808e-05, -1.47665373e-05,\n",
       "         5.42454811e-05, -1.04076204e-04],\n",
       "       [ 2.88176552e-02,  2.73277224e-04,  6.09882858e-02,\n",
       "         1.66108565e-03, -6.00636770e-06, -2.43143579e-04,\n",
       "         1.39913545e-04, -1.14416507e-04],\n",
       "       [ 8.00642802e-04,  3.60547877e-02,  1.66108565e-03,\n",
       "         7.55398902e-02,  9.76660329e-06, -1.87406471e-05,\n",
       "         1.14627768e-05, -1.43921133e-04],\n",
       "       [ 6.78094594e-05, -2.85785808e-05, -6.00636770e-06,\n",
       "         9.76660329e-06,  2.91415626e-04, -2.64743780e-05,\n",
       "        -5.96352729e-06,  5.92116302e-06],\n",
       "       [-7.06589405e-05, -1.47665373e-05, -2.43143579e-04,\n",
       "        -1.87406471e-05, -2.64743780e-05,  5.23017938e-04,\n",
       "        -4.27670265e-06,  7.80105742e-06],\n",
       "       [-9.46173888e-05,  5.42454811e-05,  1.39913545e-04,\n",
       "         1.14627768e-05, -5.96352729e-06, -4.27670265e-06,\n",
       "         3.43030718e-04, -9.97445748e-05],\n",
       "       [ 1.53170393e-04, -1.04076204e-04, -1.14416507e-04,\n",
       "        -1.43921133e-04,  5.92116302e-06,  7.80105742e-06,\n",
       "        -9.97445748e-05,  6.10469401e-04]])\n",
       "      jac: array([0., 0., 0., 0., 0., 0., 0., 0.])\n",
       "  message: 'Optimization terminated successfully.'\n",
       "     nfev: 310\n",
       "      nit: 21\n",
       "     njev: 31\n",
       "   status: 0\n",
       "  success: True\n",
       "        x: array([-1.58921978, -1.3394616 , -5.7147764 , -4.87012053,  3.45704779,\n",
       "       -0.57893812,  3.2027221 , -0.56540651])"
      ]
     },
     "execution_count": 93,
     "metadata": {},
     "output_type": "execute_result"
    }
   ],
   "source": [
    "est_4 = minimize(loglik_4, init4)\n",
    "\n",
    "est_4"
   ]
  },
  {
   "cell_type": "code",
   "execution_count": 94,
   "metadata": {},
   "outputs": [
    {
     "name": "stdout",
     "output_type": "stream",
     "text": [
      "[0.20408478026168095, 0.261986684762608, 0.0032968876389615786, 0.007672440479790139, 3.4570477898994274, 0.56049322931875, 3.2027221033970243, 0.5681291492462759]\n"
     ]
    }
   ],
   "source": [
    "# Coefficients\n",
    "\n",
    "λM_4 = np.exp(est_4.x[0])\n",
    "λF_4 = np.exp(est_4.x[1])\n",
    "ηM_4 = np.exp(est_4.x[2])\n",
    "ηF_4 = np.exp(est_4.x[3])\n",
    "μM_4 = est_4.x[4]\n",
    "σM_4 = np.exp(est_4.x[5])\n",
    "μF_4 = est_4.x[6]\n",
    "σF_4 = np.exp(est_4.x[7])\n",
    "\n",
    "coeff_4 = [λM_4, λF_4, ηM_4, ηF_4, μM_4, σM_4, μF_4, σF_4]\n",
    "\n",
    "print(coeff_4)"
   ]
  },
  {
   "cell_type": "code",
   "execution_count": 95,
   "metadata": {},
   "outputs": [
    {
     "name": "stdout",
     "output_type": "stream",
     "text": [
      "5969.7966560227815\n"
     ]
    }
   ],
   "source": [
    "lnL_4 = est_4.fun\n",
    "\n",
    "print(lnL_4)"
   ]
  },
  {
   "cell_type": "code",
   "execution_count": 96,
   "metadata": {},
   "outputs": [
    {
     "name": "stdout",
     "output_type": "stream",
     "text": [
      "[0.1998042448364837, 0.19052841572610552, 0.24695806477774176, 0.27484521132359774, 0.017070899970153795, 0.022869585441344802, 0.01852108845891411, 0.024707678981254054, 5969.7966560227815, 9.161498343507986e-06]\n"
     ]
    }
   ],
   "source": [
    "ts_4 = teststats(est_4.hess_inv, lnL_4, 8)\n",
    "\n",
    "print(ts_4)"
   ]
  },
  {
   "cell_type": "markdown",
   "metadata": {},
   "source": [
    "#### Estimation 1"
   ]
  },
  {
   "cell_type": "code",
   "execution_count": 97,
   "metadata": {},
   "outputs": [],
   "source": [
    "def loglik_1( params: list ):\n",
    "    \"\"\"\n",
    "    Calculates log likelihood with productivity differences, no prejudice (estimation 1).\n",
    "    \n",
    "    Parameters to estimate: λ, η, μM, σM, μF, σF\n",
    "    \"\"\"\n",
    "\n",
    "    λM = np.exp(params[0]) #same lambda\n",
    "    λF = np.exp(params[0]) #same lambda\n",
    "    η = np.exp(params[1]) #same eta\n",
    "    μM = params[2]\n",
    "    σM = np.exp(params[3])\n",
    "    μF = params[4]\n",
    "    σF = np.exp(params[5])\n",
    "    d = 0\n",
    "    p = 0\n",
    "    \n",
    "    \n",
    "    # Men's equations \n",
    "    hM = hazardM(λM, wstarM, α, μM, σM)\n",
    "    \n",
    "    a = M['dur'].count() * np.log(hM/(hM+η))\n",
    "    b = MU['dur'].count() * np.log(η)\n",
    "    c = - hM * np.sum(MU.values[:,0])\n",
    "    e = np.sum( np.log( (1/α) * dens_accepted(ME['wage'], α, μM, σM, wstarM) ) )\n",
    "    \n",
    "    # Women's equations\n",
    "    hF = hazardF(λM, wstarF, α, μF, σF, p, d)\n",
    "    \n",
    "    f = F['dur'].count() * np.log(hF/(hF+η))\n",
    "    g = FU['dur'].count() * np.log(η)\n",
    "    i = - hF * np.sum(FU.values[:,0])\n",
    "    \n",
    "    y = (1/α) * dens_accepted(FE['wage'], α, μF, σF, wstarF)\n",
    "    \n",
    "    j = np.sum( np.log( y ) )\n",
    "    \n",
    "    \n",
    "    return -(a + b + c + e + f + g + i + j)"
   ]
  },
  {
   "cell_type": "code",
   "execution_count": 98,
   "metadata": {},
   "outputs": [
    {
     "name": "stdout",
     "output_type": "stream",
     "text": [
      "6211.093956468574\n"
     ]
    }
   ],
   "source": [
    "# Check on log-likelihood\n",
    "\n",
    "param1 = [λ_0, η_0, μ_M, σ_M, μ_F, σ_F]\n",
    "\n",
    "b1_0 = np.log(param1[0])\n",
    "b1_1 = np.log(param1[1])\n",
    "b1_2 = param1[2]\n",
    "b1_3 = np.log(param1[3])\n",
    "b1_4 = param1[4]\n",
    "b1_5 = np.log(param1[5])\n",
    "\n",
    "init1 = [b1_0, b1_1, b1_2, b1_3, b1_4, b1_5]\n",
    "\n",
    "print(loglik_1(init1))"
   ]
  },
  {
   "cell_type": "code",
   "execution_count": 99,
   "metadata": {},
   "outputs": [
    {
     "data": {
      "text/plain": [
       "      fun: 5972.0556410165755\n",
       " hess_inv: array([[ 9.43818050e-03,  2.89172805e-03, -1.10573596e-05,\n",
       "        -3.58564601e-05, -2.91089576e-05, -8.62156249e-06],\n",
       "       [ 2.89172805e-03,  1.61945331e-02,  2.27246533e-05,\n",
       "        -8.37558660e-05, -1.76285196e-05, -1.79964348e-05],\n",
       "       [-1.10573596e-05,  2.27246533e-05,  2.90169537e-04,\n",
       "        -3.07786876e-05,  6.21245271e-07, -3.29363260e-07],\n",
       "       [-3.58564601e-05, -8.37558660e-05, -3.07786876e-05,\n",
       "         5.28292705e-04, -1.10344557e-06,  4.76879033e-06],\n",
       "       [-2.91089576e-05, -1.76285196e-05,  6.21245271e-07,\n",
       "        -1.10344557e-06,  3.63144271e-04, -4.10675919e-05],\n",
       "       [-8.62156249e-06, -1.79964348e-05, -3.29363260e-07,\n",
       "         4.76879033e-06, -4.10675919e-05,  6.72093541e-04]])\n",
       "      jac: array([0., 0., 0., 0., 0., 0.])\n",
       "  message: 'Optimization terminated successfully.'\n",
       "     nfev: 232\n",
       "      nit: 16\n",
       "     njev: 29\n",
       "   status: 0\n",
       "  success: True\n",
       "        x: array([-1.44695552, -5.25913363,  3.45707921, -0.57901128,  3.20267786,\n",
       "       -0.56530657])"
      ]
     },
     "execution_count": 99,
     "metadata": {},
     "output_type": "execute_result"
    }
   ],
   "source": [
    "est_1 = minimize(loglik_1, init1)\n",
    "\n",
    "est_1"
   ]
  },
  {
   "cell_type": "code",
   "execution_count": 100,
   "metadata": {},
   "outputs": [
    {
     "name": "stdout",
     "output_type": "stream",
     "text": [
      "[0.23528551987291416, 0.005199807708928767, 3.457079212698957, 0.5604522245202261, 3.2026778610465576, 0.5681859337674716]\n"
     ]
    }
   ],
   "source": [
    "# Coefficients\n",
    "\n",
    "λ_1 = np.exp(est_1.x[0])\n",
    "η_1 = np.exp(est_1.x[1])\n",
    "μM_1 = est_1.x[2]\n",
    "σM_1 = np.exp(est_1.x[3])\n",
    "μF_1 = est_1.x[4]\n",
    "σF_1 = np.exp(est_1.x[5])\n",
    "\n",
    "coeff_1 = [λ_1, η_1, μM_1, σM_1, μF_1, σF_1]\n",
    "\n",
    "print(coeff_1)"
   ]
  },
  {
   "cell_type": "code",
   "execution_count": 101,
   "metadata": {},
   "outputs": [
    {
     "name": "stdout",
     "output_type": "stream",
     "text": [
      "5972.0556410165755\n"
     ]
    }
   ],
   "source": [
    "lnL_1 = est_1.fun\n",
    "\n",
    "print(lnL_1)"
   ]
  },
  {
   "cell_type": "code",
   "execution_count": 102,
   "metadata": {},
   "outputs": [
    {
     "name": "stdout",
     "output_type": "stream",
     "text": [
      "[0.09715029849943252, 0.12725774270170764, 0.01703436342736595, 0.022984618873954372, 0.019056344631511398, 0.025924766942401468, 5972.0556410165755, 2.0562105954330203e-07]\n"
     ]
    }
   ],
   "source": [
    "ts_1 = teststats(est_1.hess_inv, lnL_1, 6)\n",
    "\n",
    "print(ts_1)"
   ]
  },
  {
   "cell_type": "markdown",
   "metadata": {},
   "source": [
    "### Output to Latex"
   ]
  },
  {
   "cell_type": "code",
   "execution_count": 104,
   "metadata": {},
   "outputs": [],
   "source": [
    "# Make coeff and ts arrays the same length\n",
    "def pad(coeff: np.array):\n",
    "    while len(coeff) != 12:\n",
    "        coeff.append(None)\n",
    "    return coeff"
   ]
  },
  {
   "cell_type": "code",
   "execution_count": 105,
   "metadata": {},
   "outputs": [
    {
     "data": {
      "text/plain": [
       "[0.1936462899397728,\n",
       " 0.15609199578873947,\n",
       " 0.28240257060225854,\n",
       " 0.2186138568074258,\n",
       " 0.01717436043881923,\n",
       " 0.0227896311987618,\n",
       " 0.05073854964137806,\n",
       " 0.061692414981450526,\n",
       " 0.15652959065994546,\n",
       " 0.1900663738309196,\n",
       " 5952.05297318644,\n",
       " 0.0]"
      ]
     },
     "execution_count": 105,
     "metadata": {},
     "output_type": "execute_result"
    }
   ],
   "source": [
    "# Pad all vectors for dataframe. \n",
    "pad(coeff_1)\n",
    "pad(ts_1)\n",
    "pad(coeff_2)\n",
    "pad(ts_2)\n",
    "pad(coeff_3)\n",
    "pad(ts_3)\n",
    "pad(coeff_4)\n",
    "pad(ts_4)\n",
    "pad(coeff_5)\n",
    "pad(ts_5)\n",
    "pad(coeff_6)\n",
    "pad(ts_6)"
   ]
  },
  {
   "cell_type": "code",
   "execution_count": 106,
   "metadata": {},
   "outputs": [],
   "source": [
    "out = pd.DataFrame({\n",
    "    '(1)': coeff_1,\n",
    "    'se1': ts_1,\n",
    "    '(2)': coeff_2,\n",
    "    'se2': ts_2,\n",
    "    '(3)': coeff_3,\n",
    "    'se3': ts_3,\n",
    "    '(4)': coeff_4,\n",
    "    'se4': ts_4,\n",
    "    '(5)': coeff_5,\n",
    "    'se5': ts_5,\n",
    "    '(6)': coeff_6,\n",
    "    'se6': ts_6\n",
    "})"
   ]
  },
  {
   "cell_type": "code",
   "execution_count": 107,
   "metadata": {},
   "outputs": [],
   "source": [
    "np.savetxt('./output.csv', out, fmt='%1.4f', delimiter=',')"
   ]
  },
  {
   "cell_type": "markdown",
   "metadata": {},
   "source": [
    "### Predicted Values"
   ]
  },
  {
   "cell_type": "code",
   "execution_count": 114,
   "metadata": {},
   "outputs": [],
   "source": [
    "def E(μ: float, σ: float):\n",
    "    \"\"\"\n",
    "    Calculates predicted values of Expected Productivity E(x) from Table 3 \n",
    "    \"\"\"\n",
    "    \n",
    "    exp_in = μ + .5*σ*σ\n",
    "    \n",
    "    return np.exp(exp_in)"
   ]
  },
  {
   "cell_type": "code",
   "execution_count": 115,
   "metadata": {},
   "outputs": [],
   "source": [
    "def V(μ: float, σ: float):\n",
    "    \"\"\"\n",
    "    Calculates predicted values of Variance of Expected Productivity V(x) from Table 3 \n",
    "    \"\"\"\n",
    "    \n",
    "    exp_in1 = 2*μ + 2*σ*σ\n",
    "    exp_in2 = 2*μ + σ*σ\n",
    "    \n",
    "    return np.exp(exp_in1) - np.exp(exp_in2)"
   ]
  },
  {
   "cell_type": "code",
   "execution_count": 125,
   "metadata": {},
   "outputs": [],
   "source": [
    "def int_in(x:np.array, μ: float, σ: float):\n",
    "    \"\"\"\n",
    "    Function for integrand\n",
    "    \"\"\"\n",
    "    \n",
    "    return x * lognormpdf(x, μ, σ)"
   ]
  },
  {
   "cell_type": "code",
   "execution_count": 142,
   "metadata": {},
   "outputs": [],
   "source": [
    "def Ew_M(x: np.array, α: float, wstar: float, μ: float, σ: float):\n",
    "    \"\"\"\n",
    "    Calculated predicted values of Expected Wage given Employed for Men E(w|E) from Table 3\n",
    "    \"\"\"\n",
    "    \n",
    "    mult1 = α/lognormsf(wstar,μ,σ)\n",
    "    integral = integrate.quad(lambda x: int_in(x, μ, σ), 0, wstar)\n",
    "    mult2 = E(μ,σ) - integral[0]\n",
    "    \n",
    "    add = (1-α)*wstar\n",
    "    \n",
    "    return (mult1 * mult2) + add"
   ]
  },
  {
   "cell_type": "code",
   "execution_count": 146,
   "metadata": {},
   "outputs": [],
   "source": [
    "def Ew_F(x: np.array, α: float, wstar: float, μ: float, σ: float, p: float, d: float):\n",
    "    \"\"\"\n",
    "    Calculated predicted values of Expected Wage given Employed for Women E(w|E) from Table 3\n",
    "    \"\"\"\n",
    "    \n",
    "    n_mult1 = α/lognormsf(wstar,μ,σ)\n",
    "    \n",
    "    n_integral = integrate.quad(lambda x:int_in(x, μ, σ), 0, wstar)\n",
    "    n_mult2 = E(μ,σ) - n_integral[0]\n",
    "    \n",
    "    n_add = (1-α)*wstar\n",
    "    \n",
    "    nonprej = (1-p) * ((n_mult1 * n_mult2) + n_add)\n",
    "    \n",
    "    \n",
    "    p_mult1 = α/lognormsf(wstar+d,μ,σ)\n",
    "    \n",
    "    p_integral = integrate.quad(lambda x: int_in(x, μ, σ), 0, wstar+d)\n",
    "    p_mult2 = E(μ,σ) - p_integral[0]\n",
    "    \n",
    "    p_add = (1-α)*wstar - α*d\n",
    "    \n",
    "    prej = p * ((p_mult1 * p_mult2) + p_add)\n",
    "    \n",
    "    return nonprej + prej"
   ]
  },
  {
   "cell_type": "code",
   "execution_count": 133,
   "metadata": {},
   "outputs": [],
   "source": [
    "def pred_hazardM(η: float, λ: float, wstar: float, μ: float, σ: float):\n",
    "    \"\"\"\n",
    "    Calculates predicted hazard rate for men to then find predicted values for Unemployed in Table 3\n",
    "    \"\"\"\n",
    "    \n",
    "    sf = lognormsf(wstar,μ, σ)\n",
    "    \n",
    "    return η + (λ*sf)"
   ]
  },
  {
   "cell_type": "code",
   "execution_count": 119,
   "metadata": {},
   "outputs": [],
   "source": [
    "def uM(η: float, λ: float, wstar: float, μ: float, σ: float):\n",
    "    \"\"\"\n",
    "    Calculated predicted proportion of unemployed men for Table 3\n",
    "    \"\"\"\n",
    "    \n",
    "    hM = pred_hazardM(η,λ,wstar,μ,σ)\n",
    "    \n",
    "    return η / hM"
   ]
  },
  {
   "cell_type": "code",
   "execution_count": 120,
   "metadata": {},
   "outputs": [],
   "source": [
    "def Et_M(η: float, λ: float, wstar: float, μ: float, σ: float):\n",
    "    \"\"\"\n",
    "    Calculated predicted duration of unemployment for unemployed men for Table 3\n",
    "    \"\"\"\n",
    "    \n",
    "    hM = pred_hazardM(η,λ,wstar,μ,σ)\n",
    "    \n",
    "    return 1 / hM"
   ]
  },
  {
   "cell_type": "code",
   "execution_count": 121,
   "metadata": {},
   "outputs": [],
   "source": [
    "def pred_hazardF(η: float, λ: float, wstar: float, μ: float, σ: float, p: float, d: float):\n",
    "    \"\"\"\n",
    "    Calculates predicted hazard rate for women to then find predicted values for Unemployed in Table 3\n",
    "    \"\"\"\n",
    "    \n",
    "    sf1 = lognormsf(wstar,μ, σ)\n",
    "    sf2 = lognormsf(wstar+d,μ, σ)\n",
    "    \n",
    "    mult = (1-p)*sf1 + p*sf2\n",
    "    \n",
    "    return η + (λ*mult)"
   ]
  },
  {
   "cell_type": "code",
   "execution_count": 122,
   "metadata": {},
   "outputs": [],
   "source": [
    "def uF(η: float, λ: float, wstar: float, μ: float, σ: float, p:float, d: float):\n",
    "    \"\"\"\n",
    "    Calculated predicted proportion of unemployed women for Table 3\n",
    "    \"\"\"\n",
    "    \n",
    "    hF = pred_hazardF(η,λ,wstar,μ,σ,p, d)\n",
    "    \n",
    "    return η / hF"
   ]
  },
  {
   "cell_type": "code",
   "execution_count": 123,
   "metadata": {},
   "outputs": [],
   "source": [
    "def Et_F(η: float, λ: float, wstar: float, μ: float, σ: float, p:float, d: float):\n",
    "    \"\"\"\n",
    "    Calculated predicted duration of unemployment for unemployed women for Table 3\n",
    "    \"\"\"\n",
    "    \n",
    "    hF = pred_hazardF(η,λ,wstar,μ,σ,p, d)\n",
    "    \n",
    "    return 1 / hF"
   ]
  },
  {
   "cell_type": "markdown",
   "metadata": {},
   "source": [
    "#### Estimation 6"
   ]
  },
  {
   "cell_type": "code",
   "execution_count": 147,
   "metadata": {},
   "outputs": [
    {
     "name": "stdout",
     "output_type": "stream",
     "text": [
      "[37.11881886224211, 508.54667900386175, 34.694060877448756, 223.60825237457175, 22.332265240843885, 17.246981347314787, 0.015971594907575163, 4.844450345744913, 0.028601712959577377, 3.727845158399829]\n"
     ]
    }
   ],
   "source": [
    "EM_6 = E(μM_6, σM_6)\n",
    "VM_6 = V(μM_6, σM_6)\n",
    "EF_6 = E(μF_6, σF_6)\n",
    "VF_6 = V(μF_6, σF_6)\n",
    "EwM_6 = Ew_M(ME['wage'], α, wstarM, μM_6, σM_6)\n",
    "EwF_6 = Ew_F(FE['wage'], α, wstarF, μF_6, σF_6, p_6, d_6)\n",
    "uM_6 = uM(ηM_6, λM_6, wstarM, μM_6, σM_6)\n",
    "EtM_6 = Et_M(ηM_6, λM_6, wstarM, μM_6, σM_6)\n",
    "uF_6 = uF(ηF_6, λF_6, wstarF, μF_6, σF_6, p_6, d_6)\n",
    "EtF_6 = Et_F(ηF_6, λF_6, wstarF, μF_6, σF_6, p_6, d_6)\n",
    "\n",
    "pred_6 = [EM_6, VM_6, EF_6, VF_6, EwM_6, EwF_6, uM_6, EtM_6, uF_6, EtF_6]\n",
    "\n",
    "print(pred_6)"
   ]
  },
  {
   "cell_type": "markdown",
   "metadata": {},
   "source": [
    "### Estimation 1"
   ]
  },
  {
   "cell_type": "code",
   "execution_count": 110,
   "metadata": {},
   "outputs": [
    {
     "ename": "TypeError",
     "evalue": "'DataFrame' object is not callable",
     "output_type": "error",
     "traceback": [
      "\u001b[0;31m---------------------------------------------------------------------------\u001b[0m",
      "\u001b[0;31mTypeError\u001b[0m                                 Traceback (most recent call last)",
      "\u001b[0;32m<ipython-input-110-373403e47f27>\u001b[0m in \u001b[0;36m<module>\u001b[0;34m()\u001b[0m\n\u001b[0;32m----> 1\u001b[0;31m \u001b[0mE_M_6\u001b[0m \u001b[0;34m=\u001b[0m \u001b[0mE\u001b[0m\u001b[0;34m(\u001b[0m\u001b[0mμM_6\u001b[0m\u001b[0;34m,\u001b[0m \u001b[0mσM_6\u001b[0m\u001b[0;34m)\u001b[0m\u001b[0;34m\u001b[0m\u001b[0m\n\u001b[0m\u001b[1;32m      2\u001b[0m \u001b[0mV_M_6\u001b[0m \u001b[0;34m=\u001b[0m \u001b[0mV\u001b[0m\u001b[0;34m(\u001b[0m\u001b[0mμM_6\u001b[0m\u001b[0;34m,\u001b[0m \u001b[0mσM_6\u001b[0m\u001b[0;34m)\u001b[0m\u001b[0;34m\u001b[0m\u001b[0m\n\u001b[1;32m      3\u001b[0m \u001b[0mE_F_6\u001b[0m \u001b[0;34m=\u001b[0m \u001b[0mE\u001b[0m\u001b[0;34m(\u001b[0m\u001b[0mμF_6\u001b[0m\u001b[0;34m,\u001b[0m \u001b[0mσF_6\u001b[0m\u001b[0;34m)\u001b[0m\u001b[0;34m\u001b[0m\u001b[0m\n\u001b[1;32m      4\u001b[0m \u001b[0mV_F_6\u001b[0m \u001b[0;34m=\u001b[0m \u001b[0mV\u001b[0m\u001b[0;34m(\u001b[0m\u001b[0mμF_6\u001b[0m\u001b[0;34m,\u001b[0m \u001b[0mσF_6\u001b[0m\u001b[0;34m)\u001b[0m\u001b[0;34m\u001b[0m\u001b[0m\n\u001b[1;32m      5\u001b[0m \u001b[0mEw_M_6\u001b[0m \u001b[0;34m=\u001b[0m \u001b[0mEw_M\u001b[0m\u001b[0;34m(\u001b[0m\u001b[0mME\u001b[0m\u001b[0;34m[\u001b[0m\u001b[0;34m'wage'\u001b[0m\u001b[0;34m]\u001b[0m\u001b[0;34m,\u001b[0m \u001b[0mα\u001b[0m\u001b[0;34m,\u001b[0m \u001b[0mwstarM\u001b[0m\u001b[0;34m,\u001b[0m \u001b[0mμM_6\u001b[0m\u001b[0;34m,\u001b[0m \u001b[0mσM_6\u001b[0m\u001b[0;34m)\u001b[0m\u001b[0;34m\u001b[0m\u001b[0m\n",
      "\u001b[0;31mTypeError\u001b[0m: 'DataFrame' object is not callable"
     ]
    }
   ],
   "source": [
    "E_1 = E(μ_1, σM_6)\n",
    "V_1 = V(μM_6, σM_6)\n",
    "Ew_M_1 = Ew_M(ME['wage'], α, wstarM, μM_6, σM_6)\n",
    "Ew_F_6 = Ew_F(FE['wage'], α, wstarF, μF_6, σF_6, p_6, d_6)\n",
    "uM_6 = uM(ηM_6, λM_6, wstarM, μM_6, σM_6)\n",
    "Et_M_6 = Et_M(ηM_6, λM_6, wstarM, μM_6, σM_6)\n",
    "uF_6 = uF(ηF_6, λF_6, wstarF, μF_6, σF_6, p_6, d_6)\n",
    "Et_F_6 = Et_F(ηF_6, λF_6, wstarF, μF_6, σF_6, p_6, d_6)"
   ]
  },
  {
   "cell_type": "code",
   "execution_count": null,
   "metadata": {},
   "outputs": [],
   "source": []
  },
  {
   "cell_type": "markdown",
   "metadata": {},
   "source": [
    "## Scratch"
   ]
  }
 ],
 "metadata": {
  "kernelspec": {
   "display_name": "Python 3",
   "language": "python",
   "name": "python3"
  },
  "language_info": {
   "codemirror_mode": {
    "name": "ipython",
    "version": 3
   },
   "file_extension": ".py",
   "mimetype": "text/x-python",
   "name": "python",
   "nbconvert_exporter": "python",
   "pygments_lexer": "ipython3",
   "version": "3.6.5"
  }
 },
 "nbformat": 4,
 "nbformat_minor": 2
}
