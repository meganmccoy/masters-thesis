{
 "cells": [
  {
   "cell_type": "markdown",
   "metadata": {},
   "source": [
    "# 882 Replication Paper: Flabbi 2010\n",
    "\n",
    "- Read in data\n",
    "- Define log-normal pdf & cdf \n",
    "- Estimate men and women separately to allow for parameters to very by gender"
   ]
  },
  {
   "cell_type": "markdown",
   "metadata": {},
   "source": [
    "## Import Packages"
   ]
  },
  {
   "cell_type": "code",
   "execution_count": 1,
   "metadata": {},
   "outputs": [
    {
     "name": "stderr",
     "output_type": "stream",
     "text": [
      "/Users/megan.mccoy/anaconda3/lib/python3.6/site-packages/seaborn/apionly.py:6: UserWarning: As seaborn no longer sets a default style on import, the seaborn.apionly module is deprecated. It will be removed in a future version.\n",
      "  warnings.warn(msg, UserWarning)\n"
     ]
    }
   ],
   "source": [
    "# Data Manipulation \n",
    "import numpy as np\n",
    "import pandas as pd\n",
    "\n",
    "# General\n",
    "import pdb\n",
    "\n",
    "# Estimation\n",
    "from scipy.optimize import minimize\n",
    "import scipy.stats as stats\n",
    "# import numdifftools as ndt\n",
    "\n",
    "# Data Visualization\n",
    "import matplotlib.pyplot as plt\n",
    "%matplotlib inline\n",
    "import seaborn.apionly as sns\n",
    "from pylab import *"
   ]
  },
  {
   "cell_type": "markdown",
   "metadata": {},
   "source": [
    "## Import Data \n",
    "\n",
    "- CPS data on gender, wages, duration of unemployment\n",
    "- M: males\n",
    "- F: females\n",
    "- U: unemployed\n",
    "- E: employed \n",
    "- {M,F} X {E,U} = {males,females} X {employed, unemployed}"
   ]
  },
  {
   "cell_type": "code",
   "execution_count": 2,
   "metadata": {},
   "outputs": [],
   "source": [
    "data=pd.read_csv('../data/est_c.csv')\n",
    "data.columns = ['dur', 'wage', 'empl', 'women']\n",
    "\n",
    "M = data[data['women']==0] #1186 men \n",
    "F = data[data['women']==1] #993 women \n",
    "U = data[data['empl']==0] #45 unemployed\n",
    "E = data[data['empl']==1] #2134 employed\n",
    "\n",
    "ME = M[M['empl']==1] #1109 employed men\n",
    "MU = M[M['empl']==0] #18 unemployed men\n",
    "FE = F[F['empl']==1] #966 employed women\n",
    "FU = F[F['empl']==0] #27 unemployed women"
   ]
  },
  {
   "cell_type": "code",
   "execution_count": null,
   "metadata": {},
   "outputs": [],
   "source": [
    "data.describe()"
   ]
  },
  {
   "cell_type": "markdown",
   "metadata": {},
   "source": [
    "### Summary Statistics, without trimming"
   ]
  },
  {
   "cell_type": "code",
   "execution_count": null,
   "metadata": {},
   "outputs": [],
   "source": [
    "agg_dict = {\n",
    "    'wage': ['mean', 'std'],\n",
    "    'dur': ['mean', 'std'],\n",
    "}"
   ]
  },
  {
   "cell_type": "code",
   "execution_count": null,
   "metadata": {},
   "outputs": [],
   "source": [
    "print(data.groupby(['women', 'empl']).agg(agg_dict).to_latex()) # by gender"
   ]
  },
  {
   "cell_type": "code",
   "execution_count": null,
   "metadata": {},
   "outputs": [],
   "source": [
    "print(data.groupby(['empl']).agg(agg_dict).to_latex()) # all"
   ]
  },
  {
   "cell_type": "markdown",
   "metadata": {},
   "source": [
    "### Summary Statistics, with trimming"
   ]
  },
  {
   "cell_type": "code",
   "execution_count": null,
   "metadata": {},
   "outputs": [],
   "source": [
    "print(np.percentile(ME['wage'], 5))"
   ]
  },
  {
   "cell_type": "code",
   "execution_count": null,
   "metadata": {},
   "outputs": [],
   "source": [
    "print(np.percentile(FE['wage'], 5))"
   ]
  },
  {
   "cell_type": "code",
   "execution_count": 3,
   "metadata": {},
   "outputs": [],
   "source": [
    "M_WAGE_COND = (data['wage'] > 7.27) #hard coded percentile so it does not continually update\n",
    "M_COND = (data['women'] == 0)\n",
    "\n",
    "F_WAGE_COND = (data['wage'] > 5.75625) #hard coded percentile so it does not continually update\n",
    "F_COND = (data['women'] == 1)\n",
    "\n",
    "DUR_COND = (data['dur'] > 0)\n",
    "\n",
    "trim = data[ (M_COND & M_WAGE_COND) | (F_COND & F_WAGE_COND) | DUR_COND ]\n",
    "\n",
    "# trim = data[ (M_COND & (M_WAGE_COND | DUR_COND)) | (F_COND & (F_WAGE_COND | DUR_COND)) ]\n",
    "\n",
    "M = trim[trim['women']==0] #1071 ?? men \n",
    "F = trim[trim['women']==1] #944 ?? women \n",
    "U = trim[trim['empl']==0] #45 unemployed\n",
    "E = trim[trim['empl']==1] #1970 ?? employed\n",
    "\n",
    "ME = M[M['empl']==1] #1053 ?? employed men\n",
    "MU = M[M['empl']==0] #18 unemployed men\n",
    "FE = F[F['empl']==1] #917 employed women\n",
    "FU = F[F['empl']==0] #27 unemployed women"
   ]
  },
  {
   "cell_type": "code",
   "execution_count": null,
   "metadata": {},
   "outputs": [],
   "source": [
    "print(trim.groupby(['women', 'empl']).agg(agg_dict).to_latex()) # by gender"
   ]
  },
  {
   "cell_type": "code",
   "execution_count": null,
   "metadata": {},
   "outputs": [],
   "source": [
    "print(trim.groupby(['empl']).agg(agg_dict).to_latex()) # all"
   ]
  },
  {
   "cell_type": "markdown",
   "metadata": {},
   "source": [
    "## Figures \n",
    "\n",
    "- Distribution of wages, men and women"
   ]
  },
  {
   "cell_type": "code",
   "execution_count": null,
   "metadata": {},
   "outputs": [],
   "source": [
    "# Seaborn\n",
    "fig, ax = plt.subplots(2, 1, figsize=(12, 8))\n",
    "\n",
    "sns.distplot(ME['wage'], color='#4B9CD3', hist_kws={'alpha' : .3}, bins=50, ax=ax[0])\n",
    "sns.distplot(FE['wage'], color='#4B9CD3', hist_kws={'alpha' : .3}, bins=50, ax=ax[1])\n",
    "\n",
    "ax[0].legend(['Men'])\n",
    "ax[1].legend(['Women']) \n",
    "\n",
    "plt.tight_layout()"
   ]
  },
  {
   "cell_type": "code",
   "execution_count": null,
   "metadata": {},
   "outputs": [],
   "source": [
    "fig.savefig('./figures/fig1_2.png', bbox_inches='tight', transparent=True)"
   ]
  },
  {
   "cell_type": "markdown",
   "metadata": {},
   "source": [
    "## Estimation \n",
    "\n",
    "- Estimations 1-3: Same arrival and termination rates\n",
    "- Estimations 4-6: Gender specific arrival and termination rates"
   ]
  },
  {
   "cell_type": "code",
   "execution_count": null,
   "metadata": {},
   "outputs": [],
   "source": [
    "# Initial Conditions\n",
    "\n",
    "wstarM = min(ME['wage'])\n",
    "wstarF = min(FE['wage'])\n",
    "\n",
    "λ_M = 0.22\n",
    "λ_F = 0.22\n",
    "η_M = 0.005\n",
    "η_F = 0.005\n",
    "# α = 0.5  #FIXED\n",
    "μ_M = 3.456\n",
    "μ_F= 3.454\n",
    "σ_M = 0.558\n",
    "σ_F = 0.423\n",
    "p = 0.5\n",
    "d_F = 10\n",
    "# d_M = 0   #FIXED"
   ]
  },
  {
   "cell_type": "markdown",
   "metadata": {},
   "source": [
    "### Wage Function"
   ]
  },
  {
   "cell_type": "code",
   "execution_count": null,
   "metadata": {},
   "outputs": [],
   "source": [
    "def f_w(wage: np.array, α: float, wstar: float):\n",
    "    \"\"\"\n",
    "    Wage functions\n",
    "    \"\"\"\n",
    "    return (wage - (1-α)*wstar)*(1/α)"
   ]
  },
  {
   "cell_type": "markdown",
   "metadata": {},
   "source": [
    "### Estimation 1: Same arrival and termination, Productivity Differences, No Prejudice"
   ]
  },
  {
   "cell_type": "code",
   "execution_count": null,
   "metadata": {},
   "outputs": [],
   "source": [
    "def loglik1(params: list):\n",
    "    \"\"\"\n",
    "    Calculates the log likelihood with the log normal distribution\n",
    "    \"\"\"\n",
    "    \n",
    "    λ = np.exp(params[0])\n",
    "    η = np.exp(params[1])\n",
    "    μ_M = params[2]\n",
    "    σ_M = np.exp(params[3])\n",
    "    μ_F = params[4]\n",
    "    σ_F = np.exp(params[5])\n",
    "    d_F = 0\n",
    "    p = 0\n",
    "    α = 0.5\n",
    "\n",
    "    \n",
    "    hM = λ * ( (1-stats.lognorm.cdf(wstarM,μ_M,σ_M)) );\n",
    "    L00 = (η/(η+hM)) * hM * np.exp(-hM*np.sum(MU.values[:,0])); #unemployed men\n",
    "\n",
    "    L01a = ( ( (1/α)*stats.lognorm.pdf(f_w(ME.values[:,1],α,wstarM),μ_M,σ_M) )/(1-stats.lognorm.cdf(wstarM,μ_M,σ_M)) );\n",
    "    L01 = np.log(hM/(η+hM)) + np.sum( np.log(L01a) ); #employed men\n",
    "    \n",
    "    hF = λ*( (1-p)*(1-stats.lognorm.cdf(wstarF,μ_F,σ_F)) + p*(1-stats.lognorm.cdf((wstarF+d_F),μ_F,σ_F)) );\n",
    "    L10 = ( (η/(η+hF)) * hF * np.exp(-hF*np.sum(FU.values[:,0])) ); #unemployed women\n",
    "\n",
    "    L11a = ( ( ((1-p)/α)*stats.lognorm.pdf(f_w(FE.values[:,1],α,wstarF),μ_F,σ_F) ) / (1-stats.lognorm.cdf(wstarF,μ_F,σ_F)) );\n",
    "    L11b = ( ( (p/α)*stats.lognorm.pdf(f_w((FE.values[:,1]+α*d_F),α,wstarF),μ_F,σ_F) ) / (1-stats.lognorm.cdf((wstarF+d_F),μ_F,σ_F)) );\n",
    "    L11 = np.log(hF/(η+hF)) + np.sum( np.log(L11a + L11b) ); #employed women\n",
    "\n",
    "    results = np.log(L00) + L01 + np.log(L10) + L11\n",
    "\n",
    "    return -1*results"
   ]
  },
  {
   "cell_type": "code",
   "execution_count": null,
   "metadata": {},
   "outputs": [],
   "source": [
    "init1 = [λ_M, η_M, μ_M, σ_M, μ_F, σ_F]\n",
    "\n",
    "est1 = minimize(loglik1, init1, method='nelder-mead', options={'maxiter': 10000})"
   ]
  },
  {
   "cell_type": "code",
   "execution_count": null,
   "metadata": {},
   "outputs": [],
   "source": [
    "# est1 default\n",
    "\n",
    "print(est1.x)\n",
    "print(-loglik1(est1.x))"
   ]
  },
  {
   "cell_type": "code",
   "execution_count": null,
   "metadata": {},
   "outputs": [],
   "source": [
    "# est1 nelder\n",
    "\n",
    "print(est1.x)\n",
    "print(-loglik1(est1.x))"
   ]
  },
  {
   "cell_type": "markdown",
   "metadata": {},
   "source": [
    "#### Test Statistics"
   ]
  },
  {
   "cell_type": "code",
   "execution_count": null,
   "metadata": {},
   "outputs": [],
   "source": [
    "# Standard Errors\n",
    "\n",
    "vcv_mle1 = est1.hess_inv\n",
    "se1 = np.sqrt(np.diag(vcv_mle1))\n",
    "print('Standard errors are given in ', se1)\n",
    "\n",
    "# Likelihood Ratio Test\n",
    "\n",
    "LR_val_1 = 2 * (-loglik1(est1.x) + loglik1(init1))\n",
    "pval_h0_1 = 1.0 - stats.chi2.cdf(LR_val_1, 5)\n",
    "print('LR value = ', LR_val_1, '. Chi squared of H0 with 5 degrees of freedom p-value = ', pval_h0_1)"
   ]
  },
  {
   "cell_type": "markdown",
   "metadata": {},
   "source": [
    "### Estimation 2: Same arrival and termination, Prejudice, No Productivity Differences"
   ]
  },
  {
   "cell_type": "code",
   "execution_count": null,
   "metadata": {},
   "outputs": [],
   "source": [
    "def loglik2(params: list):\n",
    "    \"\"\"\n",
    "    Calculates the log likelihood with the log normal distribution\n",
    "    \"\"\"\n",
    "  \n",
    "    λ = np.exp(params[0])\n",
    "    η = np.exp(params[1])\n",
    "    μ = params[2]\n",
    "    σ = np.exp(params[3])\n",
    "    d_F = np.exp(params[5])\n",
    "    p = np.exp(params[4]) / (1 + np.exp(params[4]))\n",
    "    α = 0.5\n",
    "\n",
    "#    pdb.set_trace()\n",
    "    \n",
    "    hM = λ * ( (1-stats.lognorm.cdf(wstarM,μ,σ)) );\n",
    "    L00 = (η/(η+hM)) * hM * np.exp(-hM*np.sum(MU.values[:,0])); #unemployed men\n",
    "\n",
    "    L01a = ( ( (1/α)*stats.lognorm.pdf(f_w(ME.values[:,1],α,wstarM),μ,σ) )/(1-stats.lognorm.cdf(wstarM,μ,σ)) );\n",
    "    L01 = np.log(hM/(η+hM)) + np.sum( np.log(1+L01a) ); #employed men\n",
    "    \n",
    "    hF = λ * ( (1-p)*(1-stats.lognorm.cdf(wstarF,μ,σ)) + p*(1-stats.lognorm.cdf((wstarF+d_F),μ,σ)) );\n",
    "    L10 = ( (η/(η+hF)) * hF * np.exp(-hF*np.sum(FU.values[:,0])) ); #unemployed women\n",
    "\n",
    "    L11a = ( ( ((1-p)/α)*stats.lognorm.pdf(f_w(FE.values[:,1],α,wstarF),μ,σ) ) / (1-stats.lognorm.cdf(wstarF,μ,σ)) );\n",
    "    L11b = ( ( (p/α)*stats.lognorm.pdf(f_w((FE.values[:,1]+ α*d_F),α,wstarF),μ,σ) ) / (1-stats.lognorm.cdf((wstarF+d_F),μ,σ)) );\n",
    "    L11 = np.log(hF/(η+hF)) + np.sum( np.log(1+L11a + L11b) ); #employed women\n",
    "\n",
    "    results = np.log(1+L00) + L01 + np.log(1+L10) + L11\n",
    "\n",
    "    return -1*results"
   ]
  },
  {
   "cell_type": "code",
   "execution_count": null,
   "metadata": {},
   "outputs": [],
   "source": [
    "init2 = [λ_M, η_M, μ_M, σ_M, p, d_F]\n",
    "\n",
    "est2 = minimize(loglik2, init2, method='nelder-mead', options={'maxiter': 10000})"
   ]
  },
  {
   "cell_type": "code",
   "execution_count": null,
   "metadata": {},
   "outputs": [],
   "source": [
    "# est2\n",
    "\n",
    "print(est2.x)\n",
    "print(-loglik2(est2.x))"
   ]
  },
  {
   "cell_type": "markdown",
   "metadata": {},
   "source": [
    "#### Test Statistics"
   ]
  },
  {
   "cell_type": "code",
   "execution_count": null,
   "metadata": {},
   "outputs": [],
   "source": [
    "# Standard Errors\n",
    "\n",
    "vcv_mle2 = est2.hess_inv\n",
    "se2 = np.sqrt(np.diag(vcv_mle2))\n",
    "print('Standard errors are given in ', se2)\n",
    "\n",
    "# Likelihood Ratio Test\n",
    "\n",
    "LR_val_2 = 2 * (-loglik2(est2.x) + loglik2(init2))\n",
    "pval_h0_2 = 1.0 - stats.chi2.cdf(LR_val_2, 5)\n",
    "print('LR value = ', LR_val_2, '. Chi squared of H0 with 5 degrees of freedom p-value = ', pval_h0_2)\n"
   ]
  },
  {
   "cell_type": "markdown",
   "metadata": {},
   "source": [
    "### Estimation 3: Same arrival and termination, Productivity Differences and Prejudice"
   ]
  },
  {
   "cell_type": "code",
   "execution_count": null,
   "metadata": {},
   "outputs": [],
   "source": [
    "def loglik3(params: list):\n",
    "    \"\"\"\n",
    "    Calculates the log likelihood with the log normal distribution\n",
    "    \"\"\"\n",
    "    \n",
    "    λ = np.exp(params[0])\n",
    "    η = np.exp(params[1])\n",
    "    μ_M = params[2]\n",
    "    σ_M = np.exp(params[3])\n",
    "    μ_F = params[4]\n",
    "    σ_F = np.exp(params[5])\n",
    "    d_F = np.exp(params[7])\n",
    "    p = (np.exp(params[6]))/(1+np.exp(params[6]))\n",
    "    α = 0.5\n",
    "    \n",
    "#    pdb.set_trace()\n",
    "    \n",
    "    hM = λ * ( (1-stats.lognorm.cdf(wstarM,μ_M,σ_M)) );\n",
    "    L00 = (η/(η+hM)) * hM * np.exp(-hM*np.sum(MU.values[:,0])); #unemployed men\n",
    "\n",
    "    L01a = ( ( (1/α)*stats.lognorm.pdf(f_w(ME.values[:,1],α,wstarM),μ_M,σ_M) )/(1-stats.lognorm.cdf(wstarM,μ_M,σ_M)) );\n",
    "    L01 = np.log(hM/(η+hM)) + np.sum( np.log(L01a) ); #employed men\n",
    "    \n",
    "    hF = λ * ( (1-p)*(1-stats.lognorm.cdf(wstarF,μ_F,σ_F)) + p*(1-stats.lognorm.cdf((wstarF+d_F),μ_F,σ_F)) );\n",
    "    L10 = ( (η/(η+hF)) * hF * np.exp(-hF*np.sum(FU.values[:,0])) ); #unemployed women\n",
    "\n",
    "    L11a = ( ( ((1-p)/α)*stats.lognorm.pdf(f_w(FE.values[:,1],α,wstarF),μ_F,σ_F) ) / (1-stats.lognorm.cdf(wstarF,μ_F,σ_F)) );\n",
    "    L11b = ( ( (p/α)*stats.lognorm.pdf(f_w((FE.values[:,1]+α*d_F),α,wstarF),μ_F,σ_F) ) / (1-stats.lognorm.cdf((wstarF+d_F),μ_F,σ_F)) );\n",
    "    L11 = np.log(hF/(η+hF)) + np.sum( np.log(L11a + L11b) ); #employed women\n",
    "\n",
    "    results = np.log(L00) + L01 + np.log(L10) + L11\n",
    "\n",
    "    return -1*results"
   ]
  },
  {
   "cell_type": "code",
   "execution_count": null,
   "metadata": {},
   "outputs": [],
   "source": [
    "init3 = [λ_M, η_M, μ_M, σ_M, μ_F, σ_F, p, d_F]\n",
    "\n",
    "est3 = minimize(loglik3, init3, options={'maxiter': 10000})"
   ]
  },
  {
   "cell_type": "code",
   "execution_count": null,
   "metadata": {},
   "outputs": [],
   "source": [
    "print(est3.x)\n",
    "print(-loglik3(est3.x))"
   ]
  },
  {
   "cell_type": "markdown",
   "metadata": {},
   "source": [
    "#### Test Statistics"
   ]
  },
  {
   "cell_type": "code",
   "execution_count": null,
   "metadata": {},
   "outputs": [],
   "source": [
    "# Standard Errors\n",
    "\n",
    "vcv_mle3 = est3.hess_inv\n",
    "se3 = np.sqrt(np.diag(vcv_mle3))\n",
    "print('Standard errors are given in ', se3)\n",
    "\n",
    "# Likelihood Ratio Test\n",
    "\n",
    "LR_val_3 = 2 * (-loglik3(est3.x) + loglik3(init3))\n",
    "pval_h0_3 = 1.0 - stats.chi2.cdf(LR_val_3, 5)\n",
    "print('LR value = ', LR_val_3, '. Chi squared of H0 with 5 degrees of freedom p-value = ', pval_h0_3)\n"
   ]
  },
  {
   "cell_type": "markdown",
   "metadata": {},
   "source": [
    "### Estimation 4: Productivity Differences, No Prejudice"
   ]
  },
  {
   "cell_type": "code",
   "execution_count": null,
   "metadata": {},
   "outputs": [],
   "source": [
    "def loglik4(params: list):\n",
    "    \"\"\"\n",
    "    Calculates the log likelihood with the log normal distribution\n",
    "    \"\"\"\n",
    "    \n",
    "    λ_M = np.exp(params[0])\n",
    "    λ_F = np.exp(params[1])\n",
    "    η_M = np.exp(params[2])\n",
    "    η_F = np.exp(params[3])\n",
    "    μ_M = params[4]\n",
    "    σ_M = np.exp(params[5])\n",
    "    μ_F = params[6]\n",
    "    σ_F = np.exp(params[7])\n",
    "    d_F = 0\n",
    "    p = 0\n",
    "    α = 0.5\n",
    "    \n",
    "    hM = λ_M * ( (1-stats.lognorm.cdf(wstarM,μ_M,σ_M)) );\n",
    "    L00 = (η_M/(η_M+hM)) * hM * np.exp(-hM*np.sum(MU.values[:,0])); #unemployed men\n",
    "\n",
    "    L01a = ( ( (1/α)*stats.lognorm.pdf(f_w(ME.values[:,1],α,wstarM),μ_M,σ_M) )/(1-stats.lognorm.cdf(wstarM,μ_M,σ_M)) );\n",
    "    L01 = np.log(hM/(η_M+hM)) + np.sum( np.log(L01a) ); #employed men\n",
    "    \n",
    "    hF = λ_F*( (1-p)*(1-stats.lognorm.cdf(wstarF,μ_F,σ_F)) + p*(1-stats.lognorm.cdf((wstarF+d_F),μ_F,σ_F)) );\n",
    "    L10 = ( (η_F/(η_F+hF)) * hF * np.exp(-hF*np.sum(FU.values[:,0])) ); #unemployed women\n",
    "\n",
    "    L11a = ( ( ((1-p)/α)*stats.lognorm.pdf(f_w(FE.values[:,1],α,wstarF),μ_F,σ_F) ) / (1-stats.lognorm.cdf(wstarF,μ_F,σ_F)) );\n",
    "    L11b = ( ( (p/α)*stats.lognorm.pdf(f_w((FE.values[:,1]+α*d_F),α,wstarF),μ_F,σ_F) ) / (1-stats.lognorm.cdf((wstarF+d_F),μ_F,σ_F)) );\n",
    "    L11 = np.log(hF/(η_F+hF)) + np.sum( np.log(L11a + L11b) ); #employed women\n",
    "\n",
    "    results = np.log(L00) + L01 + np.log(L10) + L11\n",
    "\n",
    "    return -1*results"
   ]
  },
  {
   "cell_type": "code",
   "execution_count": null,
   "metadata": {},
   "outputs": [],
   "source": [
    "init4 = [λ_M, λ_F, η_M, η_F, μ_M, σ_M, μ_F, σ_F]\n",
    "\n",
    "est4 = minimize(loglik4, init4, method='nelder-mead', options={'maxiter': 10000})"
   ]
  },
  {
   "cell_type": "code",
   "execution_count": null,
   "metadata": {},
   "outputs": [],
   "source": [
    "print(est4.x)\n",
    "print(-loglik4(est4.x))"
   ]
  },
  {
   "cell_type": "markdown",
   "metadata": {},
   "source": [
    "#### Test Statistics"
   ]
  },
  {
   "cell_type": "code",
   "execution_count": null,
   "metadata": {},
   "outputs": [],
   "source": [
    "# Standard Errors\n",
    "\n",
    "vcv_mle4 = est4.hess_inv\n",
    "se4 = np.sqrt(np.diag(vcv_mle4))\n",
    "print('Standard errors are given in ', se4)\n",
    "\n",
    "# Likelihood Ratio Test\n",
    "\n",
    "LR_val_4 = 2 * (-loglik4(est4.x) + loglik4(init4))\n",
    "pval_h0_4 = 1.0 - stats.chi2.cdf(LR_val_4, 7)\n",
    "print('LR value = ', LR_val_4, '. Chi squared of H0 with 7 degrees of freedom p-value = ', pval_h0_4)\n"
   ]
  },
  {
   "cell_type": "markdown",
   "metadata": {},
   "source": [
    "### Estimation 5: Prejudice, No Productivity Differences"
   ]
  },
  {
   "cell_type": "code",
   "execution_count": null,
   "metadata": {},
   "outputs": [],
   "source": [
    "def loglik5(params: list):\n",
    "    \"\"\"\n",
    "    Calculates the log likelihood with the log normal distribution\n",
    "    \"\"\"\n",
    "    \n",
    "    λ_M = np.exp(params[0])\n",
    "    λ_F = np.exp(params[1])\n",
    "    η_M = np.exp(params[2])\n",
    "    η_F = np.exp(params[3])\n",
    "    μ = params[4]\n",
    "    σ = np.exp(params[5])\n",
    "    d_F = np.exp(params[7])\n",
    "    p = (np.exp(params[6]))/(1+np.exp(params[6]))\n",
    "    α = 0.5\n",
    "    \n",
    "#    pdb.set_trace()\n",
    "    \n",
    "    hM = λ_M * ( (1-stats.lognorm.cdf(wstarM,μ,σ)) );\n",
    "    L00 = (η_M/(η_M+hM)) * hM * np.exp(-hM*np.sum(MU.values[:,0])); #unemployed men\n",
    "\n",
    "    L01a = ( ( (1/α)*stats.lognorm.pdf(f_w(ME.values[:,1],α,wstarM),μ,σ) )/(1-stats.lognorm.cdf(wstarM,μ,σ)) );\n",
    "    L01 = np.log(hM/(η_M+hM)) + np.sum( np.log(1 + L01a) ); #employed men\n",
    "    \n",
    "    hF = λ_F*( (1-p)*(1-stats.lognorm.cdf(wstarF,μ,σ)) + p*(1-stats.lognorm.cdf((wstarF+d_F),μ,σ)) );\n",
    "    L10 = ( (η_F/(η_F+hF)) * hF * np.exp(-hF*np.sum(FU.values[:,0])) ); #unemployed women\n",
    "\n",
    "    L11a = ( ( ((1-p)/α)*stats.lognorm.pdf(f_w(FE.values[:,1],α,wstarF),μ,σ) ) / (1-stats.lognorm.cdf(wstarF,μ,σ)) );\n",
    "    L11b = ( ( (p/α)*stats.lognorm.pdf(f_w((FE.values[:,1]+α*d_F),α,wstarF),μ,σ) ) / (1-stats.lognorm.cdf((wstarF+d_F),μ,σ)) );\n",
    "    L11 = np.log(hF/(η_F+hF)) + np.sum( np.log(1 + L11a + L11b) ); #employed women\n",
    "\n",
    "    results = np.log(1+L00) + L01 + np.log(1+L10) + L11\n",
    "\n",
    "    return -1*results"
   ]
  },
  {
   "cell_type": "code",
   "execution_count": null,
   "metadata": {},
   "outputs": [],
   "source": [
    "init5 = [λ_M, λ_F, η_M, η_F, μ_M, σ_M, p, d_F]\n",
    "\n",
    "est5 = minimize(loglik5, init5, method='nelder-mead', options={'maxiter': 10000})"
   ]
  },
  {
   "cell_type": "code",
   "execution_count": null,
   "metadata": {},
   "outputs": [],
   "source": [
    "est5.x"
   ]
  },
  {
   "cell_type": "markdown",
   "metadata": {},
   "source": [
    "### Estimation 6: Productivity Differences and Prejudice"
   ]
  },
  {
   "cell_type": "code",
   "execution_count": null,
   "metadata": {},
   "outputs": [],
   "source": [
    "def loglik6(params: list):\n",
    "    \"\"\"\n",
    "    Calculates the log likelihood with the log normal distribution\n",
    "    \"\"\"\n",
    "    \n",
    "    λ_M = np.exp(params[0])\n",
    "    λ_F = np.exp(params[1])\n",
    "    η_M = np.exp(params[2])\n",
    "    η_F = np.exp(params[3])\n",
    "    μ_M = params[4]\n",
    "    σ_M = np.exp(params[5])\n",
    "    μ_F = params[6]\n",
    "    σ_F = np.exp(params[7])\n",
    "    d_F = np.exp(params[9])\n",
    "    p = (np.exp(params[8]))/(1+np.exp(params[8]))\n",
    "    α = 0.5\n",
    "    \n",
    "#    pdb.set_trace()\n",
    "    \n",
    "    hM = λ_M * ( (1-stats.lognorm.cdf(wstarM,μ_M,σ_M)) );\n",
    "    L00 = (η_M/(η_M+hM)) * hM * np.exp(-hM*np.sum(MU.values[:,0])); #unemployed men\n",
    "\n",
    "    L01a = ( ( (1/α)*stats.lognorm.pdf(f_w(ME.values[:,1],α,wstarM),μ_M,σ_M) )/(1-stats.lognorm.cdf(wstarM,μ_M,σ_M)) );\n",
    "    L01 = np.log(hM/(η_M+hM)) + np.sum( np.log(1 + L01a) ); #employed men\n",
    "    \n",
    "    hF = λ_F*( (1-p)*(1-stats.lognorm.cdf(wstarF,μ_F,σ_F)) + p*(1-stats.lognorm.cdf((wstarF+d_F),μ_F,σ_F)) );\n",
    "    L10 = ( (η_F/(η_F+hF)) * hF * np.exp(-hF*np.sum(FU.values[:,0])) ); #unemployed women\n",
    "\n",
    "    L11a = ( ( ((1-p)/α)*stats.lognorm.pdf(f_w(FE.values[:,1],α,wstarF),μ_F,σ_F) ) / (1-stats.lognorm.cdf(wstarF,μ_F,σ_F)) );\n",
    "    L11b = ( ( (p/α)*stats.lognorm.pdf(f_w((FE.values[:,1]+α*d_F),α,wstarF),μ_F,σ_F) ) / (1-stats.lognorm.cdf((wstarF+d_F),μ_F,σ_F)) );\n",
    "    L11 = np.log(hF/(η_F+hF)) + np.sum( np.log(1 + L11a + L11b) ); #employed women\n",
    "\n",
    "    results = np.log(1+L00) + L01 + np.log(1+L10) + L11\n",
    "\n",
    "    return -1*results"
   ]
  },
  {
   "cell_type": "code",
   "execution_count": null,
   "metadata": {},
   "outputs": [],
   "source": [
    "init6 = [λ_M, λ_F, η_M, η_F, μ_M, σ_M, μ_F, σ_F, p, d_F]\n",
    "\n",
    "est6 = minimize(loglik6, init6)#options={'maxiter': 10000})"
   ]
  },
  {
   "cell_type": "code",
   "execution_count": null,
   "metadata": {},
   "outputs": [],
   "source": [
    "est6.x"
   ]
  },
  {
   "cell_type": "code",
   "execution_count": null,
   "metadata": {},
   "outputs": [],
   "source": [
    "pd.DataFrame(est1.x,est2.x,est3.x,est4.x,est5.x,est6.x)"
   ]
  },
  {
   "cell_type": "markdown",
   "metadata": {},
   "source": [
    "## Scratch"
   ]
  },
  {
   "cell_type": "markdown",
   "metadata": {},
   "source": [
    "### Initial Conditions"
   ]
  },
  {
   "cell_type": "code",
   "execution_count": 49,
   "metadata": {},
   "outputs": [],
   "source": [
    "λ = 0.22\n",
    "λ_M = 0.18\n",
    "λ_F = 0.28\n",
    "η = 0.005\n",
    "η_M = 0.003\n",
    "η_F = 0.0077\n",
    "μ_M = 3.456\n",
    "μ_F= 3.454\n",
    "μ = 3.433\n",
    "σ_M = 0.558\n",
    "σ_F = 0.423\n",
    "σ = 0.523\n",
    "p = 0.5\n",
    "d = 15"
   ]
  },
  {
   "cell_type": "markdown",
   "metadata": {},
   "source": [
    "### Parameters without distributional assumptions"
   ]
  },
  {
   "cell_type": "code",
   "execution_count": 27,
   "metadata": {},
   "outputs": [],
   "source": [
    "wstarM = min(ME['wage'])\n",
    "wstarF = min(FE['wage'])\n",
    "\n",
    "hM = MU['dur'].count()/sum(MU.values[:,0])\n",
    "hF = FU['dur'].count()/sum(FU.values[:,0])\n",
    "h = U['dur'].count()/sum(U.values[:,0])\n",
    "\n",
    "ηM = hM * (MU['dur'].count()/ME['empl'].count())\n",
    "ηF = hF * (FU['dur'].count()/FE['empl'].count())\n",
    "η = h * (U['dur'].count()/E['empl'].count())\n",
    "\n",
    "α = 0.5"
   ]
  },
  {
   "cell_type": "markdown",
   "metadata": {},
   "source": [
    "### Accepted Wage Function and Distributions"
   ]
  },
  {
   "cell_type": "code",
   "execution_count": 28,
   "metadata": {},
   "outputs": [],
   "source": [
    "def dens_accepted(wage: np.array, α: float, μ: float, σ: float, wstar: float):\n",
    "    \"\"\"\n",
    "    Calculates the density of accepted wages\n",
    "    \"\"\"\n",
    "    \n",
    "    l = (α*μ) + ((1-α)*wstar)\n",
    "    s = α * σ\n",
    "    shape = 1\n",
    "    \n",
    "    sf_in = (wstar - l)/s\n",
    "    \n",
    "    return stats.lognorm.pdf(wage, shape, l, s) / stats.lognorm.sf(sf_in, shape, l, s)"
   ]
  },
  {
   "cell_type": "code",
   "execution_count": 29,
   "metadata": {},
   "outputs": [],
   "source": [
    "def dens_accepted_prej(wage: np.array, α: float, μ: float, σ: float, wstar: float, d: float):\n",
    "    \"\"\"\n",
    "    Calculates the density of accepted wages when prejudice is present\n",
    "    \"\"\"\n",
    "    \n",
    "    l = (α*μ) + ((1-α)*wstar) - α*d\n",
    "    s = α * σ\n",
    "    shape = 1\n",
    "    \n",
    "    sf_in = (wstar - l)/s\n",
    "    \n",
    "    return stats.lognorm.pdf(wage,shape,l,s) / stats.lognorm.sf(sf_in, shape, l, s)"
   ]
  },
  {
   "cell_type": "code",
   "execution_count": 32,
   "metadata": {},
   "outputs": [],
   "source": [
    "def lambdaM(h: float, wstarM: float, α: float, μ: float, σ: float):\n",
    "    \"\"\"\n",
    "    Estimates lambda for men\n",
    "    \"\"\"\n",
    "    \n",
    "    l = (α*μ) + ((1-α)*wstarM)\n",
    "    s = α * σ\n",
    "    shape = 1\n",
    "    \n",
    "    sf_in = (wstarM-l)/s\n",
    "    \n",
    "    denom = stats.lognorm.sf(sf_in, shape, l, s)\n",
    "    \n",
    "    return h/denom"
   ]
  },
  {
   "cell_type": "code",
   "execution_count": 33,
   "metadata": {},
   "outputs": [],
   "source": [
    "def lambdaF(h: float, wstarF: float, α: float, μ: float, σ: float, p: float):\n",
    "    \"\"\"\n",
    "    Estimates lambda for women\n",
    "    \"\"\"\n",
    "    \n",
    "    l1 = (α*μ) + ((1-α)*wstarF)\n",
    "    l2 = (α*μ) + ((1-α)*wstarF) - α*d\n",
    "    s = α * σ\n",
    "    shape = 1\n",
    "    \n",
    "    sf_in1 = (wstarF-l1)/s\n",
    "    sf_in2 = (wstarF-l2)/s\n",
    "    \n",
    "    denom = (1-p)*stats.lognorm.sf(sf_in1, shape, l1, s) + p*stats.lognorm.sf(sf_in2, shape, l2, s)\n",
    "    \n",
    "    return h/denom"
   ]
  },
  {
   "cell_type": "code",
   "execution_count": null,
   "metadata": {},
   "outputs": [],
   "source": [
    "# def hM(λM: float, wstarM: float, α: float, μ: float, σ: float):\n",
    "    \n",
    "#     l = (α*μ) + ((1-α)*wstarM)\n",
    "#     s = α * σ\n",
    "#     shape = .5\n",
    "    \n",
    "#     return λM * stats.lognorm.sf(wstarM,shape, l, s)"
   ]
  },
  {
   "cell_type": "code",
   "execution_count": null,
   "metadata": {},
   "outputs": [],
   "source": [
    "# def hF(λF: float, wstarF: float, α: float, μ: float, σ: float, p: float):\n",
    "    \n",
    "#     l1 = (α*μ) + ((1-α)*wstarF)\n",
    "#     l2 = (α*μ) + ((1-α)*wstarF) - α*d\n",
    "#     s = α * σ\n",
    "#     shape = .5\n",
    "    \n",
    "#     mult = (1-p)*stats.lognorm.sf(wstarF, shape, l1, s) + p*stats.lognorm.sf(wstarF, shape, l2, s)\n",
    "    \n",
    "#     return λF * mult"
   ]
  },
  {
   "cell_type": "markdown",
   "metadata": {},
   "source": [
    "### Likelihood Functions"
   ]
  },
  {
   "cell_type": "markdown",
   "metadata": {},
   "source": [
    "#### Estimation 6: Working!"
   ]
  },
  {
   "cell_type": "code",
   "execution_count": 34,
   "metadata": {},
   "outputs": [],
   "source": [
    "def loglik_6( params: list ):\n",
    "    \"\"\"\n",
    "    Calculates log likelihood with prejudice and productivity differences \n",
    "    \n",
    "    Estimation 6 (ηM, ηF, hM, hF)\n",
    "    \n",
    "    Parameters to estimate: \n",
    "        λM # see fxn elsewhere\n",
    "        λF # see fxn elsewhere\n",
    "        ηM ?\n",
    "        ηF ?\n",
    "        μM\n",
    "        σM\n",
    "        μF\n",
    "        σF\n",
    "        d\n",
    "        p\n",
    "    \"\"\"\n",
    "    \n",
    "    λM = np.exp(params[0])\n",
    "    λF = np.exp(params[1])\n",
    "    ηM = np.exp(params[2])\n",
    "    ηF = np.exp(params[3])\n",
    "    μM = params[4]\n",
    "    σM = np.exp(params[5])\n",
    "    μF = params[6]\n",
    "    σF = np.exp(params[7])\n",
    "    d = np.exp(params[8])\n",
    "    p = np.exp(params[9])/(1+np.exp(params[9]))\n",
    "\n",
    "    \n",
    "    # Men's equations \n",
    "    λM = lambdaM(hM, wstarM, α, μM, σM)\n",
    "    \n",
    "    a = M['dur'].count() * np.log(hM/(hM+ηM))\n",
    "    b = MU['dur'].count() * np.log(ηM)\n",
    "    c = - hM * np.sum(MU.values[:,0])\n",
    "    e = np.sum( np.log( (1/α) * dens_accepted(ME['wage'], α, μM, σM, wstarM) ) )\n",
    "    \n",
    "    # Women's equations\n",
    "    λF = lambdaF(hF, wstarF, α, μM, σM, p)\n",
    "    \n",
    "    f = F['dur'].count() * np.log(hF/(hF+ηF))\n",
    "    g = FU['dur'].count() * np.log(ηF)\n",
    "    h = - hF * np.sum(FU.values[:,0])\n",
    "    \n",
    "    y = ((1-p)/α) * dens_accepted(FE['wage'], α, μF, σF, wstarF)\n",
    "    z = (p/α) * dens_accepted_prej(FE['wage'], α, μF, σF, wstarF, d)\n",
    "\n",
    "    i = np.sum( np.log( y + z ) )\n",
    "    \n",
    "    return (a + b + c + e + f + g + h + i)"
   ]
  },
  {
   "cell_type": "code",
   "execution_count": 35,
   "metadata": {},
   "outputs": [
    {
     "name": "stdout",
     "output_type": "stream",
     "text": [
      "-5947.5045035078465\n"
     ]
    }
   ],
   "source": [
    "# Check on log-likelihood\n",
    "\n",
    "param6 = [λ_M, λ_F, η_M, η_F, μ_M, σ_M, μ_F, σ_F, d, p]\n",
    "\n",
    "b6_0 = np.log(param6[0])\n",
    "b6_1 = np.log(param6[1])\n",
    "b6_2 = np.log(param6[2])\n",
    "b6_3 = np.log(param6[3])\n",
    "b6_4 = param6[4]\n",
    "b6_5 = np.log(param6[5])\n",
    "b6_6 = param6[6]\n",
    "b6_7 = np.log(param6[7])\n",
    "b6_8 = np.log(param6[8])\n",
    "b6_9 = np.log(1)\n",
    "\n",
    "init6 = [b6_0, b6_1, b6_2, b6_3, b6_4, b6_5, b6_6, b6_7, b6_8, b6_9]\n",
    "\n",
    "print(loglik_6(init6))"
   ]
  },
  {
   "cell_type": "code",
   "execution_count": 36,
   "metadata": {},
   "outputs": [
    {
     "name": "stderr",
     "output_type": "stream",
     "text": [
      "/Users/megan.mccoy/anaconda3/lib/python3.6/site-packages/ipykernel_launcher.py:38: RuntimeWarning: divide by zero encountered in log\n",
      "/Users/megan.mccoy/anaconda3/lib/python3.6/site-packages/scipy/optimize/optimize.py:663: RuntimeWarning: invalid value encountered in double_scalars\n",
      "  grad[k] = (f(*((xk + d,) + args)) - f0) / d[k]\n",
      "/Users/megan.mccoy/anaconda3/lib/python3.6/site-packages/ipykernel_launcher.py:50: RuntimeWarning: divide by zero encountered in log\n",
      "/Users/megan.mccoy/anaconda3/lib/python3.6/site-packages/scipy/stats/_distn_infrastructure.py:1818: RuntimeWarning: overflow encountered in double_scalars\n",
      "  x = np.asarray((x - loc)/scale, dtype=dtyp)\n",
      "/Users/megan.mccoy/anaconda3/lib/python3.6/site-packages/ipykernel_launcher.py:10: RuntimeWarning: divide by zero encountered in double_scalars\n",
      "  # Remove the CWD from sys.path while we load stuff.\n",
      "/Users/megan.mccoy/anaconda3/lib/python3.6/site-packages/scipy/stats/_distn_infrastructure.py:1652: RuntimeWarning: divide by zero encountered in true_divide\n",
      "  x = np.asarray((x - loc)/scale, dtype=dtyp)\n",
      "/Users/megan.mccoy/anaconda3/lib/python3.6/site-packages/ipykernel_launcher.py:11: RuntimeWarning: divide by zero encountered in double_scalars\n",
      "  # This is added back by InteractiveShellApp.init_path()\n",
      "/Users/megan.mccoy/anaconda3/lib/python3.6/site-packages/ipykernel_launcher.py:12: RuntimeWarning: divide by zero encountered in double_scalars\n",
      "  if sys.path[0] == '':\n",
      "/Users/megan.mccoy/anaconda3/lib/python3.6/site-packages/ipykernel_launcher.py:29: RuntimeWarning: invalid value encountered in double_scalars\n",
      "/Users/megan.mccoy/anaconda3/lib/python3.6/site-packages/ipykernel_launcher.py:36: RuntimeWarning: divide by zero encountered in log\n",
      "/Users/megan.mccoy/anaconda3/lib/python3.6/site-packages/ipykernel_launcher.py:43: RuntimeWarning: divide by zero encountered in log\n",
      "/Users/megan.mccoy/anaconda3/lib/python3.6/site-packages/ipykernel_launcher.py:38: RuntimeWarning: divide by zero encountered in log\n",
      "/Users/megan.mccoy/anaconda3/lib/python3.6/site-packages/scipy/optimize/optimize.py:663: RuntimeWarning: invalid value encountered in double_scalars\n",
      "  grad[k] = (f(*((xk + d,) + args)) - f0) / d[k]\n"
     ]
    },
    {
     "data": {
      "text/plain": [
       "      fun: -14520.22960439797\n",
       " hess_inv: array([[ 1.00000000e+00,  0.00000000e+00,  0.00000000e+00,\n",
       "         0.00000000e+00,  0.00000000e+00,  0.00000000e+00,\n",
       "         0.00000000e+00,  0.00000000e+00,  0.00000000e+00,\n",
       "         0.00000000e+00],\n",
       "       [ 0.00000000e+00,  1.00000000e+00,  0.00000000e+00,\n",
       "         0.00000000e+00,  0.00000000e+00,  0.00000000e+00,\n",
       "         0.00000000e+00,  0.00000000e+00,  0.00000000e+00,\n",
       "         0.00000000e+00],\n",
       "       [ 0.00000000e+00,  0.00000000e+00,  1.00000010e+00,\n",
       "        -5.90133621e-09, -4.83535142e-05,  1.22118105e-05,\n",
       "        -6.14910381e-06,  2.05661525e-05,  7.30152026e-05,\n",
       "         7.39743797e-08],\n",
       "       [ 0.00000000e+00,  0.00000000e+00, -5.90133621e-09,\n",
       "         1.00000000e+00,  2.85890129e-06, -7.31411406e-07,\n",
       "         3.65433030e-07, -1.15776735e-06, -4.34009810e-06,\n",
       "        -1.01803525e-08],\n",
       "       [ 0.00000000e+00,  0.00000000e+00, -4.83535142e-05,\n",
       "         2.85890129e-06,  9.50330192e-01, -2.66026576e-01,\n",
       "         4.70308998e-03, -3.18816727e-03, -4.22641065e-02,\n",
       "        -4.14507896e-03],\n",
       "       [ 0.00000000e+00,  0.00000000e+00,  1.22118105e-05,\n",
       "        -7.31411406e-07, -2.66026576e-01,  7.50728825e-02,\n",
       "         4.59476754e-03, -5.81105561e-03, -5.44546685e-03,\n",
       "        -1.15200644e-02],\n",
       "       [ 0.00000000e+00,  0.00000000e+00, -6.14910381e-06,\n",
       "         3.65433030e-07,  4.70308998e-03,  4.59476754e-03,\n",
       "         9.99824660e-01, -2.29877584e-02,  2.29521624e-03,\n",
       "         2.14290063e-03],\n",
       "       [ 0.00000000e+00,  0.00000000e+00,  2.05661525e-05,\n",
       "        -1.15776735e-06, -3.18816727e-03, -5.81105561e-03,\n",
       "        -2.29877584e-02,  9.94054972e-02,  2.94047033e-01,\n",
       "         8.64042589e-02],\n",
       "       [ 0.00000000e+00,  0.00000000e+00,  7.30152026e-05,\n",
       "        -4.34009810e-06, -4.22641065e-02, -5.44546685e-03,\n",
       "         2.29521624e-03,  2.94047033e-01,  9.67139887e-01,\n",
       "        -2.68075562e-02],\n",
       "       [ 0.00000000e+00,  0.00000000e+00,  7.39743797e-08,\n",
       "        -1.01803525e-08, -4.14507896e-03, -1.15200644e-02,\n",
       "         2.14290063e-03,  8.64042589e-02, -2.68075562e-02,\n",
       "         9.91588123e-01]])\n",
       "      jac: array([ 0.00000000e+00,  0.00000000e+00,  1.60668945e+00, -9.50927734e-02,\n",
       "        1.98540039e+02,  3.69522339e+03, -1.08535767e+02,  8.09603394e+02,\n",
       "        1.09310645e+03,  2.02246094e+00])\n",
       "  message: 'Desired error not necessarily achieved due to precision loss.'\n",
       "     nfev: 1272\n",
       "      nit: 2\n",
       "     njev: 105\n",
       "   status: 2\n",
       "  success: False\n",
       "        x: array([-1.71479843, -1.27296568, -5.80972721, -4.86650049,  3.89678918,\n",
       "       -0.02763766,  3.5309246 ,  0.87503872,  1.71915967, -0.16950888])"
      ]
     },
     "execution_count": 36,
     "metadata": {},
     "output_type": "execute_result"
    }
   ],
   "source": [
    "est_6 = minimize(loglik_6, init6)\n",
    "\n",
    "est_6"
   ]
  },
  {
   "cell_type": "code",
   "execution_count": 37,
   "metadata": {},
   "outputs": [
    {
     "name": "stdout",
     "output_type": "stream",
     "text": [
      "0.18000000000000002 0.28 0.0029982478582973393 0.0077002653651407835 3.896789177351564 0.9727407613526795 3.530924597863187 2.3989681825749334 5.5798376020333285 0.457723957946928\n"
     ]
    }
   ],
   "source": [
    "# Coefficients\n",
    "\n",
    "λM_6 = np.exp(est_6.x[0])\n",
    "λF_6 = np.exp(est_6.x[1])\n",
    "ηM_6 = np.exp(est_6.x[2])\n",
    "ηF_6 = np.exp(est_6.x[3])\n",
    "μM_6 = est_6.x[4]\n",
    "σM_6 = np.exp(est_6.x[5])\n",
    "μF_6 = est_6.x[6]\n",
    "σF_6 = np.exp(est_6.x[7])\n",
    "d_6 = np.exp(est_6.x[8])\n",
    "p_6 = np.exp(est_6.x[9])/(1+np.exp(est_6.x[9]))\n",
    "\n",
    "print(λM_6, λF_6, ηM_6, ηF_6, μM_6, σM_6, μF_6, σF_6, d_6, p_6)"
   ]
  },
  {
   "cell_type": "markdown",
   "metadata": {},
   "source": [
    "#### Estimation 3, Working!"
   ]
  },
  {
   "cell_type": "code",
   "execution_count": 57,
   "metadata": {},
   "outputs": [],
   "source": [
    "def loglik_3( params: list ):\n",
    "    \"\"\"\n",
    "    Calculates log likelihood with prejudice and productivity differences \n",
    "    \n",
    "    Estimation 3 (η and h not gender specific)\n",
    "    \n",
    "    Parameters to estimate: \n",
    "        λ \n",
    "        η\n",
    "        μM\n",
    "        σM\n",
    "        μF\n",
    "        σF\n",
    "        d\n",
    "        p\n",
    "    \"\"\"\n",
    "    \n",
    "    λM = np.exp(params[0]) #same lambda\n",
    "    λF = np.exp(params[0]) #same lambda\n",
    "    η = np.exp(params[1]) #same eta\n",
    "    μM = params[2]\n",
    "    σM = np.exp(params[3])\n",
    "    μF = params[4]\n",
    "    σF = np.exp(params[5])\n",
    "    d = np.exp(params[6])\n",
    "    p = np.exp(params[7])/(1+np.exp(params[7]))\n",
    "    \n",
    "    # Men's equations\n",
    "    λM = lambdaM(h, wstarM, α, μM, σM)\n",
    "    \n",
    "    a = M['dur'].count() * np.log(h/(h+η))\n",
    "    b = MU['dur'].count() * np.log(η)\n",
    "    c = - h * np.sum(MU.values[:,0])\n",
    "    e = np.sum( np.log( (1/α) * dens_accepted(ME['wage'], α, μM, σM, wstarM) ) )\n",
    "    \n",
    "    \n",
    "    # Women's equations\n",
    "    λF = lambdaF(h, wstarF, α, μM, σM, p)\n",
    "    \n",
    "    f = F['dur'].count() * np.log(h/(h+η))\n",
    "    g = FU['dur'].count() * np.log(η)\n",
    "    i = - h * np.sum(FU.values[:,0])\n",
    "    \n",
    "    y = ((1-p)/α) * dens_accepted(FE['wage'], α, μF, σF, wstarF)\n",
    "    z = (p/α) * dens_accepted_prej(FE['wage'], α, μF, σF, wstarF, d)\n",
    "\n",
    "    j = np.sum( np.log( y + z ) )\n",
    "    \n",
    "    \n",
    "    return a + b + c + e + f + g + i + j"
   ]
  },
  {
   "cell_type": "code",
   "execution_count": 58,
   "metadata": {},
   "outputs": [
    {
     "name": "stdout",
     "output_type": "stream",
     "text": [
      "-5949.722619171719\n"
     ]
    }
   ],
   "source": [
    "# Check on log-likelihood\n",
    "\n",
    "param3 = [λ, η, μ_M, σ_M, μ_F, σ_F, d, p]\n",
    "\n",
    "b3_0 = np.log(param3[0])\n",
    "b3_1 = np.log(param3[1])\n",
    "b3_2 = param3[2]\n",
    "b3_3 = np.log(param3[3])\n",
    "b3_4 = param3[4]\n",
    "b3_5 = np.log(param3[5])\n",
    "b3_6 = np.log(param3[6])\n",
    "b3_7 = np.log(1)\n",
    "\n",
    "init3 = [b3_0, b3_1, b3_2, b3_3, b3_4, b3_5, b3_6, b3_7]\n",
    "\n",
    "print(loglik_3(init3))"
   ]
  },
  {
   "cell_type": "code",
   "execution_count": 59,
   "metadata": {},
   "outputs": [
    {
     "name": "stderr",
     "output_type": "stream",
     "text": [
      "/Users/megan.mccoy/anaconda3/lib/python3.6/site-packages/ipykernel_launcher.py:36: RuntimeWarning: divide by zero encountered in log\n",
      "/Users/megan.mccoy/anaconda3/lib/python3.6/site-packages/scipy/optimize/optimize.py:663: RuntimeWarning: invalid value encountered in double_scalars\n",
      "  grad[k] = (f(*((xk + d,) + args)) - f0) / d[k]\n",
      "/Users/megan.mccoy/anaconda3/lib/python3.6/site-packages/ipykernel_launcher.py:49: RuntimeWarning: divide by zero encountered in log\n",
      "/Users/megan.mccoy/anaconda3/lib/python3.6/site-packages/scipy/stats/_distn_infrastructure.py:1818: RuntimeWarning: overflow encountered in double_scalars\n",
      "  x = np.asarray((x - loc)/scale, dtype=dtyp)\n",
      "/Users/megan.mccoy/anaconda3/lib/python3.6/site-packages/ipykernel_launcher.py:10: RuntimeWarning: divide by zero encountered in double_scalars\n",
      "  # Remove the CWD from sys.path while we load stuff.\n",
      "/Users/megan.mccoy/anaconda3/lib/python3.6/site-packages/scipy/stats/_distn_infrastructure.py:1652: RuntimeWarning: divide by zero encountered in true_divide\n",
      "  x = np.asarray((x - loc)/scale, dtype=dtyp)\n",
      "/Users/megan.mccoy/anaconda3/lib/python3.6/site-packages/ipykernel_launcher.py:11: RuntimeWarning: divide by zero encountered in double_scalars\n",
      "  # This is added back by InteractiveShellApp.init_path()\n",
      "/Users/megan.mccoy/anaconda3/lib/python3.6/site-packages/ipykernel_launcher.py:12: RuntimeWarning: divide by zero encountered in double_scalars\n",
      "  if sys.path[0] == '':\n",
      "/Users/megan.mccoy/anaconda3/lib/python3.6/site-packages/ipykernel_launcher.py:28: RuntimeWarning: invalid value encountered in double_scalars\n",
      "/Users/megan.mccoy/anaconda3/lib/python3.6/site-packages/ipykernel_launcher.py:34: RuntimeWarning: divide by zero encountered in log\n",
      "/Users/megan.mccoy/anaconda3/lib/python3.6/site-packages/ipykernel_launcher.py:43: RuntimeWarning: divide by zero encountered in log\n",
      "/Users/megan.mccoy/anaconda3/lib/python3.6/site-packages/ipykernel_launcher.py:36: RuntimeWarning: divide by zero encountered in log\n",
      "/Users/megan.mccoy/anaconda3/lib/python3.6/site-packages/scipy/optimize/optimize.py:663: RuntimeWarning: invalid value encountered in double_scalars\n",
      "  grad[k] = (f(*((xk + d,) + args)) - f0) / d[k]\n"
     ]
    },
    {
     "data": {
      "text/plain": [
       "      fun: -14522.44804267152\n",
       " hess_inv: array([[ 1.00000000e+00,  0.00000000e+00,  0.00000000e+00,\n",
       "         0.00000000e+00,  0.00000000e+00,  0.00000000e+00,\n",
       "         0.00000000e+00,  0.00000000e+00],\n",
       "       [ 0.00000000e+00,  1.00000011e+00, -5.16200239e-05,\n",
       "         1.29882541e-05, -6.61895835e-06,  1.97273741e-05,\n",
       "         7.86477526e-05,  2.91649978e-07],\n",
       "       [ 0.00000000e+00, -5.16200239e-05,  9.50330206e-01,\n",
       "        -2.66026569e-01,  4.70308833e-03, -3.18816632e-03,\n",
       "        -4.22641267e-02, -4.14508025e-03],\n",
       "       [ 0.00000000e+00,  1.29882541e-05, -2.66026569e-01,\n",
       "         7.50728792e-02,  4.59473896e-03, -5.81107175e-03,\n",
       "        -5.44551097e-03, -1.15200661e-02],\n",
       "       [ 0.00000000e+00, -6.61895835e-06,  4.70308833e-03,\n",
       "         4.59473896e-03,  9.99824665e-01, -2.29876923e-02,\n",
       "         2.29518829e-03,  2.14289380e-03],\n",
       "       [ 0.00000000e+00,  1.97273741e-05, -3.18816632e-03,\n",
       "        -5.81107175e-03, -2.29876923e-02,  9.94055426e-02,\n",
       "         2.94047103e-01,  8.64042583e-02],\n",
       "       [ 0.00000000e+00,  7.86477526e-05, -4.22641267e-02,\n",
       "        -5.44551097e-03,  2.29518829e-03,  2.94047103e-01,\n",
       "         9.67139830e-01, -2.68075646e-02],\n",
       "       [ 0.00000000e+00,  2.91649978e-07, -4.14508025e-03,\n",
       "        -1.15200661e-02,  2.14289380e-03,  8.64042583e-02,\n",
       "        -2.68075646e-02,  9.91588123e-01]])\n",
       "      jac: array([ 0.00000000e+00,  1.71679688e+00,  1.98539795e+02,  3.69522314e+03,\n",
       "       -1.08535889e+02,  8.09603516e+02,  1.09310645e+03,  2.02246094e+00])\n",
       "  message: 'Desired error not necessarily achieved due to precision loss.'\n",
       "     nfev: 1062\n",
       "      nit: 2\n",
       "     njev: 105\n",
       "   status: 2\n",
       "  success: False\n",
       "        x: array([-1.51412773, -5.29893655,  3.8967892 , -0.02763768,  3.53092455,\n",
       "        0.87503868,  1.71915957, -0.16950889])"
      ]
     },
     "execution_count": 59,
     "metadata": {},
     "output_type": "execute_result"
    }
   ],
   "source": [
    "est_3 = minimize(loglik_3, init3)\n",
    "\n",
    "est_3"
   ]
  },
  {
   "cell_type": "code",
   "execution_count": 60,
   "metadata": {},
   "outputs": [
    {
     "name": "stdout",
     "output_type": "stream",
     "text": [
      "0.22 0.004996905021186945 3.896789204378965 0.9727407417765819 3.530924547840527 2.3989680828918742 5.579837042222459 0.45772395695445\n"
     ]
    }
   ],
   "source": [
    "# Coefficients\n",
    "\n",
    "λ_3 = np.exp(est_3.x[0])\n",
    "η_3 = np.exp(est_3.x[1])\n",
    "μM_3 = est_3.x[2]\n",
    "σM_3 = np.exp(est_3.x[3])\n",
    "μF_3 = est_3.x[4]\n",
    "σF_3 = np.exp(est_3.x[5])\n",
    "d_3 = np.exp(est_3.x[6])\n",
    "p_3 = np.exp(est_3.x[7])/(1+np.exp(est_3.x[7]))\n",
    "\n",
    "print(λ_3, η_3, μM_3, σM_3, μF_3, σF_3, d_3, p_3)"
   ]
  },
  {
   "cell_type": "markdown",
   "metadata": {},
   "source": [
    "#### Estimation 5, Working!"
   ]
  },
  {
   "cell_type": "code",
   "execution_count": 53,
   "metadata": {},
   "outputs": [],
   "source": [
    "def loglik_5( params: list ):\n",
    "    \"\"\"\n",
    "    Calculates log likelihood with prejudice, no productivity differences. \n",
    "    \n",
    "    Estimation 5 (ηM, ηF, hM, hF)\n",
    "    \n",
    "    Parameters to estimate: \n",
    "        λM # see fxn elsewhere\n",
    "        λF # see fxn elsewhere\n",
    "        μ\n",
    "        σ\n",
    "        p\n",
    "        d\n",
    "    \"\"\"\n",
    "\n",
    "    λM = np.exp(params[0])\n",
    "    λF = np.exp(params[1])\n",
    "    ηM = np.exp(params[2])\n",
    "    ηF = np.exp(params[3])\n",
    "    μ = params[4]\n",
    "    σ = np.exp(params[5])\n",
    "    d = np.exp(params[6])\n",
    "    p = np.exp(params[7])/(1+np.exp(params[7]))\n",
    "    \n",
    "    # Men's equations \n",
    "    λM = lambdaM(hM, wstarM, α, μ, σ)\n",
    "    \n",
    "    a = M['dur'].count() * np.log(hM/(hM+ηM))\n",
    "    b = MU['dur'].count() * np.log(ηM)\n",
    "    c = - hM * np.sum(MU.values[:,0])\n",
    "    e = np.sum( np.log( (1/α) * dens_accepted(ME['wage'], α, μ, σ, wstarM) ) )\n",
    "    \n",
    "    \n",
    "    # Women's equations\n",
    "    λF = lambdaF(hF, wstarF, α, μ, σ, p)\n",
    "    \n",
    "    f = F['dur'].count() * np.log(hF/(hF+ηF))\n",
    "    g = FU['dur'].count() * np.log(ηF)\n",
    "    h = - hF * np.sum(FU.values[:,0])\n",
    "    \n",
    "    y = ((1-p)/α) * dens_accepted(FE['wage'], α, μ, σ, wstarF)\n",
    "    z = (p/α) * dens_accepted_prej(FE['wage'], α, μ, σ, wstarF, d)\n",
    "\n",
    "    i = np.sum( np.log( y + z ) )\n",
    "    \n",
    "    \n",
    "    return a + b + c + e + f + g + h + i"
   ]
  },
  {
   "cell_type": "code",
   "execution_count": 54,
   "metadata": {},
   "outputs": [
    {
     "name": "stdout",
     "output_type": "stream",
     "text": [
      "-11513.481093249044\n"
     ]
    }
   ],
   "source": [
    "# Check on log-likelihood\n",
    "\n",
    "param5 = [λ_M, λ_F, η_M, η_F, μ, σ, d, p]\n",
    "\n",
    "b5_0 = np.log(param6[0])\n",
    "b5_1 = np.log(param6[1])\n",
    "b5_2 = np.log(param6[2])\n",
    "b5_3 = np.log(param6[3])\n",
    "b5_4 = param6[4]\n",
    "b5_5 = np.log(param6[5])\n",
    "b5_6 = np.log(param6[6])\n",
    "b5_7 = np.log(1)\n",
    "\n",
    "init5 = [b5_0, b5_1, b5_2, b5_3, b5_4, b5_5, b5_6, b5_7]\n",
    "\n",
    "print(loglik_5(init5))"
   ]
  },
  {
   "cell_type": "code",
   "execution_count": 55,
   "metadata": {},
   "outputs": [
    {
     "name": "stderr",
     "output_type": "stream",
     "text": [
      "/Users/megan.mccoy/anaconda3/lib/python3.6/site-packages/ipykernel_launcher.py:31: RuntimeWarning: divide by zero encountered in log\n",
      "/Users/megan.mccoy/anaconda3/lib/python3.6/site-packages/ipykernel_launcher.py:44: RuntimeWarning: divide by zero encountered in log\n",
      "/Users/megan.mccoy/anaconda3/lib/python3.6/site-packages/scipy/optimize/optimize.py:663: RuntimeWarning: invalid value encountered in double_scalars\n",
      "  grad[k] = (f(*((xk + d,) + args)) - f0) / d[k]\n",
      "/Users/megan.mccoy/anaconda3/lib/python3.6/site-packages/scipy/stats/_distn_infrastructure.py:1818: RuntimeWarning: overflow encountered in double_scalars\n",
      "  x = np.asarray((x - loc)/scale, dtype=dtyp)\n",
      "/Users/megan.mccoy/anaconda3/lib/python3.6/site-packages/ipykernel_launcher.py:10: RuntimeWarning: divide by zero encountered in double_scalars\n",
      "  # Remove the CWD from sys.path while we load stuff.\n",
      "/Users/megan.mccoy/anaconda3/lib/python3.6/site-packages/scipy/stats/_distn_infrastructure.py:1652: RuntimeWarning: divide by zero encountered in true_divide\n",
      "  x = np.asarray((x - loc)/scale, dtype=dtyp)\n",
      "/Users/megan.mccoy/anaconda3/lib/python3.6/site-packages/ipykernel_launcher.py:11: RuntimeWarning: divide by zero encountered in double_scalars\n",
      "  # This is added back by InteractiveShellApp.init_path()\n",
      "/Users/megan.mccoy/anaconda3/lib/python3.6/site-packages/ipykernel_launcher.py:12: RuntimeWarning: divide by zero encountered in double_scalars\n",
      "  if sys.path[0] == '':\n",
      "/Users/megan.mccoy/anaconda3/lib/python3.6/site-packages/ipykernel_launcher.py:29: RuntimeWarning: divide by zero encountered in log\n",
      "/Users/megan.mccoy/anaconda3/lib/python3.6/site-packages/ipykernel_launcher.py:37: RuntimeWarning: divide by zero encountered in log\n",
      "/Users/megan.mccoy/anaconda3/lib/python3.6/site-packages/ipykernel_launcher.py:31: RuntimeWarning: divide by zero encountered in log\n",
      "/Users/megan.mccoy/anaconda3/lib/python3.6/site-packages/ipykernel_launcher.py:44: RuntimeWarning: divide by zero encountered in log\n",
      "/Users/megan.mccoy/anaconda3/lib/python3.6/site-packages/scipy/optimize/optimize.py:663: RuntimeWarning: invalid value encountered in double_scalars\n",
      "  grad[k] = (f(*((xk + d,) + args)) - f0) / d[k]\n"
     ]
    },
    {
     "data": {
      "text/plain": [
       "      fun: -14500.787761901043\n",
       " hess_inv: array([[ 1.00000000e+00,  0.00000000e+00,  0.00000000e+00,\n",
       "         0.00000000e+00,  0.00000000e+00,  0.00000000e+00,\n",
       "         0.00000000e+00,  0.00000000e+00],\n",
       "       [ 0.00000000e+00,  1.00000000e+00,  0.00000000e+00,\n",
       "         0.00000000e+00,  0.00000000e+00,  0.00000000e+00,\n",
       "         0.00000000e+00,  0.00000000e+00],\n",
       "       [ 0.00000000e+00,  0.00000000e+00,  1.00000001e+00,\n",
       "        -8.17222959e-10, -7.91351077e-06,  2.73222802e-06,\n",
       "         6.26952406e-06,  4.59716640e-07],\n",
       "       [ 0.00000000e+00,  0.00000000e+00, -8.17222959e-10,\n",
       "         1.00000000e+00,  4.65105487e-07, -1.66820453e-07,\n",
       "        -3.68635791e-07, -2.69184024e-08],\n",
       "       [ 0.00000000e+00,  0.00000000e+00, -7.91351077e-06,\n",
       "         4.65105487e-07,  9.54375414e-01, -2.17021500e-01,\n",
       "         3.04249310e-02,  6.41201910e-03],\n",
       "       [ 0.00000000e+00,  0.00000000e+00,  2.73222802e-06,\n",
       "        -1.66820453e-07, -2.17021500e-01,  7.46792903e-02,\n",
       "         1.47351131e-01,  2.87711317e-02],\n",
       "       [ 0.00000000e+00,  0.00000000e+00,  6.26952406e-06,\n",
       "        -3.68635791e-07,  3.04249310e-02,  1.47351131e-01,\n",
       "         9.79775649e-01, -4.31837180e-03],\n",
       "       [ 0.00000000e+00,  0.00000000e+00,  4.59716640e-07,\n",
       "        -2.69184024e-08,  6.41201910e-03,  2.87711317e-02,\n",
       "        -4.31837180e-03,  9.99126800e-01]])\n",
       "      jac: array([ 0.00000000e+00,  0.00000000e+00,  1.59936523e+00, -9.42382812e-02,\n",
       "        3.45485352e+02,  5.72246533e+03, -1.30126953e+02, -1.14471313e+02])\n",
       "  message: 'Desired error not necessarily achieved due to precision loss.'\n",
       "     nfev: 1052\n",
       "      nit: 1\n",
       "     njev: 104\n",
       "   status: 2\n",
       "  success: False\n",
       "        x: array([-1.71479843, -1.27296568, -5.80926134, -4.86652797,  3.74862534,\n",
       "        0.3604382 ,  1.03338092, -0.03388415])"
      ]
     },
     "execution_count": 55,
     "metadata": {},
     "output_type": "execute_result"
    }
   ],
   "source": [
    "est_5 = minimize(loglik_5, init5)\n",
    "\n",
    "est_5"
   ]
  },
  {
   "cell_type": "code",
   "execution_count": 56,
   "metadata": {},
   "outputs": [
    {
     "name": "stdout",
     "output_type": "stream",
     "text": [
      "0.18000000000000002 0.28 0.002999644963371521 0.0077000537625960454 3.7486253410117842 1.4339576332057262 2.810552051335424 0.49152977167263917\n"
     ]
    }
   ],
   "source": [
    "# Coefficients\n",
    "\n",
    "λM_5 = np.exp(est_5.x[0])\n",
    "λF_5 = np.exp(est_5.x[1])\n",
    "ηM_5 = np.exp(est_5.x[2])\n",
    "ηF_5 = np.exp(est_5.x[3])\n",
    "μ_5 = est_5.x[4]\n",
    "σ_5 = np.exp(est_5.x[5])\n",
    "d_5 = np.exp(est_5.x[6])\n",
    "p_5 = np.exp(est_5.x[7])/(1+np.exp(est_5.x[7]))\n",
    "\n",
    "print(λM_5, λF_5, ηM_5, ηF_5, μ_5, σ_5, d_5, p_5)"
   ]
  },
  {
   "cell_type": "markdown",
   "metadata": {},
   "source": [
    "#### Estimation 2 (very small d, but plausable)"
   ]
  },
  {
   "cell_type": "code",
   "execution_count": 68,
   "metadata": {},
   "outputs": [],
   "source": [
    "def loglik_2( params: list ):\n",
    "    \"\"\"\n",
    "    Calculates log likelihood with prejudice, no productivity differences. \n",
    "    \n",
    "    Estimation 2 (η and h not gender specific)\n",
    "    \n",
    "    Parameters to estimate: \n",
    "        λ # see fxn elsewhere\n",
    "        μ\n",
    "        σ\n",
    "        p\n",
    "        d\n",
    "    \"\"\"\n",
    "    \n",
    "    λM = np.exp(params[0])\n",
    "    λF = np.exp(params[0])\n",
    "    η = np.exp(params[1])\n",
    "    μ = params[2]\n",
    "    σ = np.exp(params[3])\n",
    "    d = np.exp(params[4])\n",
    "    p = np.exp(params[5])/(1+np.exp(params[5]))\n",
    "\n",
    "    \n",
    "    # Men's equations \n",
    "    λM = lambdaM(h, wstarM, α, μ, σ)\n",
    "    \n",
    "    a = M['dur'].count() * np.log(h/(h+η))\n",
    "    b = MU['dur'].count() * np.log(η)\n",
    "    c = - h * np.sum(MU.values[:,0])\n",
    "    e = np.sum( np.log( (1/α) * dens_accepted(ME['wage'], α, μ, σ, wstarM) ) )\n",
    "    \n",
    "    \n",
    "    # Women's equations\n",
    "    λF = lambdaF(h, wstarF, α, μ, σ, p)\n",
    "    \n",
    "    f = F['dur'].count() * np.log(h/(h+η))\n",
    "    g = FU['dur'].count() * np.log(η)\n",
    "    i = - h * np.sum(FU.values[:,0])\n",
    "    \n",
    "    y = ((1-p)/α) * dens_accepted(FE['wage'], α, μ, σ, wstarF)\n",
    "    z = (p/α) * dens_accepted_prej(FE['wage'], α, μ, σ, wstarF, d)\n",
    "\n",
    "    j = np.sum( np.log( y + z ) )\n",
    "    \n",
    "    \n",
    "    return a + b + c + e + f + g + i + j"
   ]
  },
  {
   "cell_type": "code",
   "execution_count": 73,
   "metadata": {},
   "outputs": [
    {
     "name": "stdout",
     "output_type": "stream",
     "text": [
      "-6487.137606363093\n"
     ]
    }
   ],
   "source": [
    "# Check on log-likelihood\n",
    "\n",
    "param2 = [λ, η, μ, σ, d, p]\n",
    "\n",
    "b2_0 = np.log(param2[0])\n",
    "b2_1 = np.log(param2[1])\n",
    "b2_2 = param2[2]\n",
    "b2_3 = np.log(param2[3])\n",
    "b2_4 = np.log(param2[4])\n",
    "b2_5 = np.log(1)\n",
    "\n",
    "init2 = [b2_0, b2_1, b2_2, b2_3, b2_4, b2_5]\n",
    "\n",
    "print(loglik_2(init2))"
   ]
  },
  {
   "cell_type": "code",
   "execution_count": 74,
   "metadata": {},
   "outputs": [
    {
     "name": "stderr",
     "output_type": "stream",
     "text": [
      "/Users/megan.mccoy/anaconda3/lib/python3.6/site-packages/ipykernel_launcher.py:30: RuntimeWarning: divide by zero encountered in log\n",
      "/Users/megan.mccoy/anaconda3/lib/python3.6/site-packages/ipykernel_launcher.py:43: RuntimeWarning: divide by zero encountered in log\n",
      "/Users/megan.mccoy/anaconda3/lib/python3.6/site-packages/scipy/optimize/optimize.py:663: RuntimeWarning: invalid value encountered in double_scalars\n",
      "  grad[k] = (f(*((xk + d,) + args)) - f0) / d[k]\n",
      "/Users/megan.mccoy/anaconda3/lib/python3.6/site-packages/scipy/stats/_distn_infrastructure.py:1818: RuntimeWarning: overflow encountered in double_scalars\n",
      "  x = np.asarray((x - loc)/scale, dtype=dtyp)\n",
      "/Users/megan.mccoy/anaconda3/lib/python3.6/site-packages/ipykernel_launcher.py:10: RuntimeWarning: divide by zero encountered in double_scalars\n",
      "  # Remove the CWD from sys.path while we load stuff.\n",
      "/Users/megan.mccoy/anaconda3/lib/python3.6/site-packages/scipy/stats/_distn_infrastructure.py:1652: RuntimeWarning: divide by zero encountered in true_divide\n",
      "  x = np.asarray((x - loc)/scale, dtype=dtyp)\n",
      "/Users/megan.mccoy/anaconda3/lib/python3.6/site-packages/ipykernel_launcher.py:11: RuntimeWarning: divide by zero encountered in double_scalars\n",
      "  # This is added back by InteractiveShellApp.init_path()\n",
      "/Users/megan.mccoy/anaconda3/lib/python3.6/site-packages/ipykernel_launcher.py:12: RuntimeWarning: divide by zero encountered in double_scalars\n",
      "  if sys.path[0] == '':\n",
      "/Users/megan.mccoy/anaconda3/lib/python3.6/site-packages/ipykernel_launcher.py:28: RuntimeWarning: divide by zero encountered in log\n",
      "/Users/megan.mccoy/anaconda3/lib/python3.6/site-packages/ipykernel_launcher.py:37: RuntimeWarning: divide by zero encountered in log\n",
      "/Users/megan.mccoy/anaconda3/lib/python3.6/site-packages/ipykernel_launcher.py:30: RuntimeWarning: divide by zero encountered in log\n",
      "/Users/megan.mccoy/anaconda3/lib/python3.6/site-packages/ipykernel_launcher.py:43: RuntimeWarning: divide by zero encountered in log\n",
      "/Users/megan.mccoy/anaconda3/lib/python3.6/site-packages/scipy/optimize/optimize.py:663: RuntimeWarning: invalid value encountered in double_scalars\n",
      "  grad[k] = (f(*((xk + d,) + args)) - f0) / d[k]\n"
     ]
    },
    {
     "data": {
      "text/plain": [
       "      fun: -15858.733214820882\n",
       " hess_inv: array([[ 1.00000000e+00,  0.00000000e+00,  0.00000000e+00,\n",
       "         0.00000000e+00,  0.00000000e+00,  0.00000000e+00],\n",
       "       [ 0.00000000e+00,  1.00000078e+00, -3.51718010e-04,\n",
       "         8.30301637e-05,  1.97572447e-04,  2.27739450e-05],\n",
       "       [ 0.00000000e+00, -3.51718010e-04,  1.01872132e+00,\n",
       "        -2.33539975e-01, -3.67287978e-01, -7.40088282e-02],\n",
       "       [ 0.00000000e+00,  8.30301637e-05, -2.33539975e-01,\n",
       "         5.36828040e-02,  8.60946341e-02,  9.84866862e-03],\n",
       "       [ 0.00000000e+00,  1.97572447e-04, -3.67287978e-01,\n",
       "         8.60946341e-02,  1.83326582e-01, -1.87602824e-01],\n",
       "       [ 0.00000000e+00,  2.27739450e-05, -7.40088282e-02,\n",
       "         9.84866862e-03, -1.87602824e-01,  9.57466755e-01]])\n",
       "      jac: array([ 0.00000000e+00,  1.83374023e+00,  3.95988159e+02,  6.22888110e+03,\n",
       "       -9.91027832e+00, -7.25891113e+00])\n",
       "  message: 'Desired error not necessarily achieved due to precision loss.'\n",
       "     nfev: 852\n",
       "      nit: 2\n",
       "     njev: 105\n",
       "   status: 2\n",
       "  success: False\n",
       "        x: array([-1.51412773, -5.30169909,  3.98527958,  0.08652117, -1.73555339,\n",
       "       -0.89335873])"
      ]
     },
     "execution_count": 74,
     "metadata": {},
     "output_type": "execute_result"
    }
   ],
   "source": [
    "est_2 = minimize(loglik_2, init2)\n",
    "\n",
    "est_2"
   ]
  },
  {
   "cell_type": "code",
   "execution_count": 75,
   "metadata": {},
   "outputs": [
    {
     "name": "stdout",
     "output_type": "stream",
     "text": [
      "0.22 0.004983119938082697 3.9852795832274084 1.0903744533318382 0.17630260835128692 0.2904171910575877\n"
     ]
    }
   ],
   "source": [
    "# Coefficients\n",
    "\n",
    "λ_2 = np.exp(est_2.x[0])\n",
    "η_2 = np.exp(est_2.x[1])\n",
    "μ_2 = est_2.x[2]\n",
    "σ_2 = np.exp(est_2.x[3])\n",
    "d_2 = np.exp(est_2.x[4])\n",
    "p_2 = np.exp(est_2.x[5])/(1+np.exp(est_2.x[5]))\n",
    "\n",
    "print(λ_2, η_2, μ_2, σ_2, d_2, p_2)"
   ]
  },
  {
   "cell_type": "markdown",
   "metadata": {},
   "source": [
    "#### Estimation 4, Working!"
   ]
  },
  {
   "cell_type": "code",
   "execution_count": 80,
   "metadata": {},
   "outputs": [],
   "source": [
    "def loglik_4( params: list ):\n",
    "    \"\"\"\n",
    "    Calculates log likelihood with productivity differences, no prejudice\n",
    "    \n",
    "    Estimation 4 (ηM, ηF, hM, hF)\n",
    "    \n",
    "    Parameters to estimate: \n",
    "        λM # see fxn elsewhere\n",
    "        λF # see fxn elsewhere\n",
    "        μM\n",
    "        σM\n",
    "        μF\n",
    "        σF\n",
    "    \"\"\"\n",
    "\n",
    "    λM = np.exp(params[0])\n",
    "    λF = np.exp(params[1])\n",
    "    ηM = np.exp(params[2])\n",
    "    ηF = np.exp(params[3])\n",
    "    μM = params[4]\n",
    "    σM = np.exp(params[5])\n",
    "    μF = params[6]\n",
    "    σF = np.exp(params[6])\n",
    "    p = 0\n",
    "    \n",
    "    # Men's equations \n",
    "    λM = lambdaM(hM, wstarM, α, μM, σM)\n",
    "    \n",
    "    a = M['dur'].count() * np.log(hM/(hM+ηM))\n",
    "    b = MU['dur'].count() * np.log(ηM)\n",
    "    c = - hM * np.sum(MU.values[:,0])\n",
    "    e = np.sum( np.log( (1/α) * dens_accepted(ME['wage'], α, μM, σM, wstarM) ) )\n",
    "    \n",
    "    \n",
    "    # Women's equations\n",
    "    λF = lambdaF(hF, wstarF, α, μF, σF, p)\n",
    "    \n",
    "    f = F['dur'].count() * np.log(hF/(hF+ηF))\n",
    "    g = FU['dur'].count() * np.log(ηF)\n",
    "    h = - hF * np.sum(FU.values[:,0])\n",
    "    \n",
    "    y = (1/α) * dens_accepted(FE['wage'], α, μF, σF, wstarF)\n",
    "\n",
    "    i = np.sum( np.log( y ) )\n",
    "    \n",
    "    \n",
    "    return a + b + c + e + f + g + h + i"
   ]
  },
  {
   "cell_type": "code",
   "execution_count": 81,
   "metadata": {},
   "outputs": [
    {
     "name": "stdout",
     "output_type": "stream",
     "text": [
      "-11217.133954132982\n"
     ]
    }
   ],
   "source": [
    "# Check on log-likelihood\n",
    "\n",
    "param4 = [λ_M, λ_F, η_M, η_F, μ_M, σ_M, μ_F, σ_F]\n",
    "\n",
    "b4_0 = np.log(param4[0])\n",
    "b4_1 = np.log(param4[1])\n",
    "b4_2 = np.log(param4[2])\n",
    "b4_3 = np.log(param4[3])\n",
    "b4_4 = param4[4]\n",
    "b4_5 = np.log(param4[5])\n",
    "b4_6 = param4[6]\n",
    "b4_7 = np.log(param4[7])\n",
    "\n",
    "init4 = [b4_0, b4_1, b4_2, b4_3, b4_4, b4_5, b4_6, b4_7]\n",
    "\n",
    "print(loglik_4(init4))"
   ]
  },
  {
   "cell_type": "code",
   "execution_count": 82,
   "metadata": {},
   "outputs": [
    {
     "name": "stderr",
     "output_type": "stream",
     "text": [
      "/Users/megan.mccoy/anaconda3/lib/python3.6/site-packages/ipykernel_launcher.py:32: RuntimeWarning: divide by zero encountered in log\n",
      "/Users/megan.mccoy/anaconda3/lib/python3.6/site-packages/scipy/optimize/optimize.py:663: RuntimeWarning: invalid value encountered in double_scalars\n",
      "  grad[k] = (f(*((xk + d,) + args)) - f0) / d[k]\n",
      "/Users/megan.mccoy/anaconda3/lib/python3.6/site-packages/ipykernel_launcher.py:44: RuntimeWarning: divide by zero encountered in log\n",
      "/Users/megan.mccoy/anaconda3/lib/python3.6/site-packages/scipy/stats/_distn_infrastructure.py:1818: RuntimeWarning: overflow encountered in double_scalars\n",
      "  x = np.asarray((x - loc)/scale, dtype=dtyp)\n",
      "/Users/megan.mccoy/anaconda3/lib/python3.6/site-packages/ipykernel_launcher.py:10: RuntimeWarning: divide by zero encountered in double_scalars\n",
      "  # Remove the CWD from sys.path while we load stuff.\n",
      "/Users/megan.mccoy/anaconda3/lib/python3.6/site-packages/scipy/stats/_distn_infrastructure.py:1652: RuntimeWarning: divide by zero encountered in true_divide\n",
      "  x = np.asarray((x - loc)/scale, dtype=dtyp)\n",
      "/Users/megan.mccoy/anaconda3/lib/python3.6/site-packages/ipykernel_launcher.py:30: RuntimeWarning: divide by zero encountered in log\n",
      "/Users/megan.mccoy/anaconda3/lib/python3.6/site-packages/ipykernel_launcher.py:38: RuntimeWarning: divide by zero encountered in log\n",
      "/Users/megan.mccoy/anaconda3/lib/python3.6/site-packages/ipykernel_launcher.py:32: RuntimeWarning: divide by zero encountered in log\n",
      "/Users/megan.mccoy/anaconda3/lib/python3.6/site-packages/scipy/optimize/optimize.py:663: RuntimeWarning: invalid value encountered in double_scalars\n",
      "  grad[k] = (f(*((xk + d,) + args)) - f0) / d[k]\n",
      "/Users/megan.mccoy/anaconda3/lib/python3.6/site-packages/ipykernel_launcher.py:44: RuntimeWarning: divide by zero encountered in log\n"
     ]
    },
    {
     "data": {
      "text/plain": [
       "      fun: -13285.255387569408\n",
       " hess_inv: array([[ 1.00000000e+00,  0.00000000e+00,  0.00000000e+00,\n",
       "         0.00000000e+00,  0.00000000e+00,  0.00000000e+00,\n",
       "         0.00000000e+00,  0.00000000e+00],\n",
       "       [ 0.00000000e+00,  1.00000000e+00,  0.00000000e+00,\n",
       "         0.00000000e+00,  0.00000000e+00,  0.00000000e+00,\n",
       "         0.00000000e+00,  0.00000000e+00],\n",
       "       [ 0.00000000e+00,  0.00000000e+00,  1.00000003e+00,\n",
       "        -1.86764823e-09, -1.58008390e-05,  4.17127214e-06,\n",
       "        -8.04299628e-06,  0.00000000e+00],\n",
       "       [ 0.00000000e+00,  0.00000000e+00, -1.86764823e-09,\n",
       "         1.00000000e+00,  9.33723474e-07, -2.41876863e-07,\n",
       "         4.74686980e-07,  0.00000000e+00],\n",
       "       [ 0.00000000e+00,  0.00000000e+00, -1.58008390e-05,\n",
       "         9.33723474e-07,  9.39590087e-01, -2.54337763e-01,\n",
       "         4.37746378e-03,  0.00000000e+00],\n",
       "       [ 0.00000000e+00,  0.00000000e+00,  4.17127214e-06,\n",
       "        -2.41876863e-07, -2.54337763e-01,  6.88818081e-02,\n",
       "         2.74670760e-04,  0.00000000e+00],\n",
       "       [ 0.00000000e+00,  0.00000000e+00, -8.04299628e-06,\n",
       "         4.74686980e-07,  4.37746378e-03,  2.74670760e-04,\n",
       "         1.00204235e+00,  0.00000000e+00],\n",
       "       [ 0.00000000e+00,  0.00000000e+00,  0.00000000e+00,\n",
       "         0.00000000e+00,  0.00000000e+00,  0.00000000e+00,\n",
       "         0.00000000e+00,  1.00000000e+00]])\n",
       "      jac: array([ 0.00000000e+00,  0.00000000e+00,  1.59851074e+00, -9.43603516e-02,\n",
       "        2.05104370e+02,  3.91616382e+03, -4.11596558e+02,  0.00000000e+00])\n",
       "  message: 'Desired error not necessarily achieved due to precision loss.'\n",
       "     nfev: 1062\n",
       "      nit: 1\n",
       "     njev: 105\n",
       "   status: 2\n",
       "  success: False\n",
       "        x: array([-1.71479843, -1.27296568, -5.80921298, -4.86653082,  3.59377516,\n",
       "       -0.21284623,  3.47124542, -0.8603831 ])"
      ]
     },
     "execution_count": 82,
     "metadata": {},
     "output_type": "execute_result"
    }
   ],
   "source": [
    "est_4 = minimize(loglik_4, init4)\n",
    "\n",
    "est_4"
   ]
  },
  {
   "cell_type": "code",
   "execution_count": 83,
   "metadata": {},
   "outputs": [
    {
     "name": "stdout",
     "output_type": "stream",
     "text": [
      "0.18000000000000002 0.28 0.002999790031996455 0.007700031794285429 3.593775162780644 0.8082804191357728 3.4712454171546696 0.423\n"
     ]
    }
   ],
   "source": [
    "# Coefficients\n",
    "\n",
    "λM_4 = np.exp(est_4.x[0])\n",
    "λF_4 = np.exp(est_4.x[1])\n",
    "ηM_4 = np.exp(est_4.x[2])\n",
    "ηF_4 = np.exp(est_4.x[3])\n",
    "μM_4 = est_4.x[4]\n",
    "σM_4 = np.exp(est_4.x[5])\n",
    "μF_4 = est_4.x[6]\n",
    "σF_4 = np.exp(est_4.x[7])\n",
    "\n",
    "print(λM_4, λF_4, ηM_4, ηF_4, μM_4, σM_4, μF_4, σF_4)"
   ]
  },
  {
   "cell_type": "markdown",
   "metadata": {},
   "source": [
    "#### Estimation 1, Working!"
   ]
  },
  {
   "cell_type": "code",
   "execution_count": 84,
   "metadata": {},
   "outputs": [],
   "source": [
    "def loglik_1( params: list ):\n",
    "    \"\"\"\n",
    "    Calculates log likelihood with productivity differences, no prejudice\n",
    "    \n",
    "    Estimation 1 (η and h not gender specific)\n",
    "    \n",
    "    Parameters to estimate: \n",
    "        λ\n",
    "        μM\n",
    "        σM\n",
    "        μF\n",
    "        σF\n",
    "    \"\"\"\n",
    "\n",
    "    λM = np.exp(params[0]) #same lambda\n",
    "    λF = np.exp(params[0]) #same lambda\n",
    "    η = np.exp(params[1]) #same eta\n",
    "    μM = params[2]\n",
    "    σM = np.exp(params[3])\n",
    "    μF = params[4]\n",
    "    σF = np.exp(params[5])\n",
    "    p = 0\n",
    "    \n",
    "    # Men's equations \n",
    "    λM = lambdaM(h, wstarM, α, μM, σM)\n",
    "    \n",
    "    a = M['dur'].count() * np.log(h/(h+η))\n",
    "    b = MU['dur'].count() * np.log(η)\n",
    "    c = - h * np.sum(MU.values[:,0])\n",
    "    e = np.sum( np.log( (1/α) * dens_accepted(ME['wage'], α, μM, σM, wstarM) ) )\n",
    "    \n",
    "    \n",
    "    # Women's equations\n",
    "    λF = lambdaF(h, wstarF, α, μF, σF, p)\n",
    "    \n",
    "    f = F['dur'].count() * np.log(h/(h+η))\n",
    "    g = FU['dur'].count() * np.log(η)\n",
    "    i = - h * np.sum(FU.values[:,0])\n",
    "    \n",
    "    y = (1/α) * dens_accepted(FE['wage'], α, μF, σF, wstarF)\n",
    "\n",
    "    j = np.sum( np.log( y ) )\n",
    "    \n",
    "    \n",
    "    return a + b + c + e + f + g + i + j"
   ]
  },
  {
   "cell_type": "code",
   "execution_count": 85,
   "metadata": {},
   "outputs": [
    {
     "name": "stdout",
     "output_type": "stream",
     "text": [
      "-15716.39689619685\n"
     ]
    }
   ],
   "source": [
    "# Check on log-likelihood\n",
    "\n",
    "param1 = [λ, η, μ_M, σ_M, μ_F, σ_F]\n",
    "\n",
    "b1_0 = np.log(param1[0])\n",
    "b1_1 = np.log(param1[1])\n",
    "b1_2 = param1[2]\n",
    "b1_3 = np.log(param1[3])\n",
    "b1_4 = param1[4]\n",
    "b1_5 = np.log(param1[5])\n",
    "\n",
    "init1 = [b1_0, b1_1, b1_2, b1_3, b1_4, b1_5]\n",
    "\n",
    "print(loglik_1(init1))"
   ]
  },
  {
   "cell_type": "code",
   "execution_count": 86,
   "metadata": {},
   "outputs": [
    {
     "name": "stderr",
     "output_type": "stream",
     "text": [
      "/Users/megan.mccoy/anaconda3/lib/python3.6/site-packages/ipykernel_launcher.py:42: RuntimeWarning: divide by zero encountered in log\n",
      "/Users/megan.mccoy/anaconda3/lib/python3.6/site-packages/scipy/optimize/optimize.py:663: RuntimeWarning: invalid value encountered in double_scalars\n",
      "  grad[k] = (f(*((xk + d,) + args)) - f0) / d[k]\n",
      "/Users/megan.mccoy/anaconda3/lib/python3.6/site-packages/ipykernel_launcher.py:30: RuntimeWarning: divide by zero encountered in log\n",
      "/Users/megan.mccoy/anaconda3/lib/python3.6/site-packages/ipykernel_launcher.py:10: RuntimeWarning: divide by zero encountered in double_scalars\n",
      "  # Remove the CWD from sys.path while we load stuff.\n",
      "/Users/megan.mccoy/anaconda3/lib/python3.6/site-packages/scipy/stats/_distn_infrastructure.py:1652: RuntimeWarning: divide by zero encountered in true_divide\n",
      "  x = np.asarray((x - loc)/scale, dtype=dtyp)\n",
      "/Users/megan.mccoy/anaconda3/lib/python3.6/site-packages/ipykernel_launcher.py:11: RuntimeWarning: divide by zero encountered in double_scalars\n",
      "  # This is added back by InteractiveShellApp.init_path()\n",
      "/Users/megan.mccoy/anaconda3/lib/python3.6/site-packages/ipykernel_launcher.py:12: RuntimeWarning: divide by zero encountered in double_scalars\n",
      "  if sys.path[0] == '':\n",
      "/Users/megan.mccoy/anaconda3/lib/python3.6/site-packages/ipykernel_launcher.py:28: RuntimeWarning: divide by zero encountered in log\n",
      "/Users/megan.mccoy/anaconda3/lib/python3.6/site-packages/ipykernel_launcher.py:37: RuntimeWarning: divide by zero encountered in log\n",
      "/Users/megan.mccoy/anaconda3/lib/python3.6/site-packages/ipykernel_launcher.py:42: RuntimeWarning: divide by zero encountered in log\n",
      "/Users/megan.mccoy/anaconda3/lib/python3.6/site-packages/scipy/optimize/optimize.py:663: RuntimeWarning: invalid value encountered in double_scalars\n",
      "  grad[k] = (f(*((xk + d,) + args)) - f0) / d[k]\n",
      "/Users/megan.mccoy/anaconda3/lib/python3.6/site-packages/ipykernel_launcher.py:30: RuntimeWarning: divide by zero encountered in log\n"
     ]
    },
    {
     "data": {
      "text/plain": [
       "      fun: -19351.430213370506\n",
       " hess_inv: array([[ 1.00000000e+00,  0.00000000e+00,  0.00000000e+00,\n",
       "         0.00000000e+00,  0.00000000e+00,  0.00000000e+00],\n",
       "       [ 0.00000000e+00,  1.00001173e+00, -5.63423683e-03,\n",
       "         2.50624001e-03, -6.91637888e-03,  2.29218069e-03],\n",
       "       [ 0.00000000e+00, -5.63423683e-03,  3.52593855e+00,\n",
       "        -1.56791893e+00,  3.38360485e+00, -9.89720589e-01],\n",
       "       [ 0.00000000e+00,  2.50624001e-03, -1.56791893e+00,\n",
       "         6.97390700e-01, -1.49196393e+00,  4.33970384e-01],\n",
       "       [ 0.00000000e+00, -6.91637888e-03,  3.38360485e+00,\n",
       "        -1.49196393e+00,  4.89132962e+00, -1.73784639e+00],\n",
       "       [ 0.00000000e+00,  2.29218069e-03, -9.89720589e-01,\n",
       "         4.33970384e-01, -1.73784639e+00,  6.55721445e-01]])\n",
       "      jac: array([ 0.00000000e+00,  1.76904297e+00, -2.48376978e+03, -2.30539600e+03,\n",
       "        2.42332275e+02,  2.89076294e+03])\n",
       "  message: 'Desired error not necessarily achieved due to precision loss.'\n",
       "     nfev: 908\n",
       "      nit: 2\n",
       "     njev: 112\n",
       "   status: 2\n",
       "  success: False\n",
       "        x: array([-1.51412773, -5.30016399,  4.32104769, -0.64788678,  5.0173284 ,\n",
       "       -0.23904929])"
      ]
     },
     "execution_count": 86,
     "metadata": {},
     "output_type": "execute_result"
    }
   ],
   "source": [
    "est_1 = minimize(loglik_1, init1)\n",
    "\n",
    "est_1"
   ]
  },
  {
   "cell_type": "code",
   "execution_count": 87,
   "metadata": {},
   "outputs": [
    {
     "name": "stdout",
     "output_type": "stream",
     "text": [
      "0.22 0.004990775379360802 4.321047691447253 0.5231501431192599 5.017328401110969 0.7873760747884067\n"
     ]
    }
   ],
   "source": [
    "# Coefficients\n",
    "\n",
    "λ_1 = np.exp(est_1.x[0])\n",
    "η_1 = np.exp(est_1.x[1])\n",
    "μM_1 = est_1.x[2]\n",
    "σM_1 = np.exp(est_1.x[3])\n",
    "μF_1 = est_1.x[4]\n",
    "σF_1 = np.exp(est_1.x[5])\n",
    "\n",
    "print(λ_1, η_1, μM_1, σM_1, μF_1, σF_1)"
   ]
  }
 ],
 "metadata": {
  "kernelspec": {
   "display_name": "Python 3",
   "language": "python",
   "name": "python3"
  },
  "language_info": {
   "codemirror_mode": {
    "name": "ipython",
    "version": 3
   },
   "file_extension": ".py",
   "mimetype": "text/x-python",
   "name": "python",
   "nbconvert_exporter": "python",
   "pygments_lexer": "ipython3",
   "version": "3.6.5"
  }
 },
 "nbformat": 4,
 "nbformat_minor": 2
}
