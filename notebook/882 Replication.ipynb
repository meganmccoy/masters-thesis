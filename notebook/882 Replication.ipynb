{
 "cells": [
  {
   "cell_type": "markdown",
   "metadata": {},
   "source": [
    "# 882 Replication Paper: Flabbi 2010\n",
    "\n",
    "- Data from CPS, 1995\n",
    "- Estimation strategy from Flabbi 2010 "
   ]
  },
  {
   "cell_type": "markdown",
   "metadata": {},
   "source": [
    "## Import Packages"
   ]
  },
  {
   "cell_type": "code",
   "execution_count": 1,
   "metadata": {},
   "outputs": [
    {
     "name": "stderr",
     "output_type": "stream",
     "text": [
      "/Users/megan.mccoy/anaconda3/lib/python3.6/site-packages/seaborn/apionly.py:6: UserWarning: As seaborn no longer sets a default style on import, the seaborn.apionly module is deprecated. It will be removed in a future version.\n",
      "  warnings.warn(msg, UserWarning)\n"
     ]
    }
   ],
   "source": [
    "# Data Manipulation \n",
    "import numpy as np\n",
    "import pandas as pd\n",
    "\n",
    "# General\n",
    "import pdb\n",
    "\n",
    "# Estimation\n",
    "from scipy.optimize import minimize\n",
    "import scipy.stats as stats\n",
    "# import numdifftools as ndt\n",
    "\n",
    "# Data Visualization\n",
    "import matplotlib.pyplot as plt\n",
    "%matplotlib inline\n",
    "import seaborn.apionly as sns\n",
    "from pylab import *"
   ]
  },
  {
   "cell_type": "markdown",
   "metadata": {},
   "source": [
    "## Import Data \n",
    "\n",
    "- CPS data on gender, wages, duration of unemployment\n",
    "- M: males\n",
    "- F: females\n",
    "- U: unemployed\n",
    "- E: employed \n",
    "- {M,F} X {E,U} = {males,females} X {employed, unemployed}"
   ]
  },
  {
   "cell_type": "code",
   "execution_count": 2,
   "metadata": {},
   "outputs": [],
   "source": [
    "data=pd.read_csv('../data/est_c.csv')\n",
    "data.columns = ['dur', 'wage', 'empl', 'women']\n",
    "\n",
    "M = data[data['women']==0] #1186 men \n",
    "F = data[data['women']==1] #993 women \n",
    "U = data[data['empl']==0] #45 unemployed\n",
    "E = data[data['empl']==1] #2134 employed\n",
    "\n",
    "ME = M[M['empl']==1] #1168 employed men\n",
    "MU = M[M['empl']==0] #18 unemployed men\n",
    "FE = F[F['empl']==1] #966 employed women\n",
    "FU = F[F['empl']==0] #27 unemployed women"
   ]
  },
  {
   "cell_type": "markdown",
   "metadata": {},
   "source": [
    "### Summary Statistics, without trimming"
   ]
  },
  {
   "cell_type": "code",
   "execution_count": null,
   "metadata": {},
   "outputs": [],
   "source": [
    "agg_dict = {\n",
    "    'wage': ['mean', 'std', 'count'],\n",
    "    'dur': ['mean', 'std', 'count'],\n",
    "}"
   ]
  },
  {
   "cell_type": "code",
   "execution_count": null,
   "metadata": {},
   "outputs": [],
   "source": [
    "print(data.groupby(['women', 'empl']).agg(agg_dict).to_latex()) # by gender"
   ]
  },
  {
   "cell_type": "code",
   "execution_count": null,
   "metadata": {},
   "outputs": [],
   "source": [
    "print(data.groupby(['empl']).agg(agg_dict).to_latex()) # all"
   ]
  },
  {
   "cell_type": "markdown",
   "metadata": {},
   "source": [
    "### Summary Statistics, with trimming"
   ]
  },
  {
   "cell_type": "code",
   "execution_count": null,
   "metadata": {},
   "outputs": [],
   "source": [
    "print(np.percentile(ME['wage'], 5))"
   ]
  },
  {
   "cell_type": "code",
   "execution_count": null,
   "metadata": {},
   "outputs": [],
   "source": [
    "print(np.percentile(FE['wage'], 5))"
   ]
  },
  {
   "cell_type": "code",
   "execution_count": 3,
   "metadata": {},
   "outputs": [],
   "source": [
    "M_WAGE_COND = (data['wage'] > 7.27) #hard coded percentile so it does not continually update\n",
    "M_COND = (data['women'] == 0)\n",
    "\n",
    "F_WAGE_COND = (data['wage'] > 5.75625) #hard coded percentile so it does not continually update\n",
    "F_COND = (data['women'] == 1)\n",
    "\n",
    "DUR_COND = (data['dur'] > 0)\n",
    "\n",
    "trim = data[ (M_COND & M_WAGE_COND) | (F_COND & F_WAGE_COND) | DUR_COND ]\n",
    "\n",
    "\n",
    "M = trim[trim['women']==0] #1127 men \n",
    "F = trim[trim['women']==1] #944 women \n",
    "U = trim[trim['empl']==0] #45 unemployed\n",
    "E = trim[trim['empl']==1] #2026 employed\n",
    "\n",
    "ME = M[M['empl']==1] #1109 employed men\n",
    "MU = M[M['empl']==0] #18 unemployed men\n",
    "FE = F[F['empl']==1] #917 employed women\n",
    "FU = F[F['empl']==0] #27 unemployed women"
   ]
  },
  {
   "cell_type": "code",
   "execution_count": null,
   "metadata": {},
   "outputs": [],
   "source": [
    "print(trim.groupby(['women', 'empl']).agg(agg_dict).to_latex()) # by gender"
   ]
  },
  {
   "cell_type": "code",
   "execution_count": null,
   "metadata": {},
   "outputs": [],
   "source": [
    "print(trim.groupby(['empl']).agg(agg_dict).to_latex()) # all"
   ]
  },
  {
   "cell_type": "markdown",
   "metadata": {},
   "source": [
    "## Figures \n",
    "\n",
    "- Distribution of wages, men and women"
   ]
  },
  {
   "cell_type": "code",
   "execution_count": null,
   "metadata": {},
   "outputs": [],
   "source": [
    "# Seaborn\n",
    "fig, ax = plt.subplots(2, 1, figsize=(12, 8))\n",
    "\n",
    "sns.distplot(ME['wage'], color='#4B9CD3', hist_kws={'alpha' : .3}, bins=50, ax=ax[0])\n",
    "sns.distplot(FE['wage'], color='#4B9CD3', hist_kws={'alpha' : .3}, bins=50, ax=ax[1])\n",
    "\n",
    "ax[0].legend(['Men'])\n",
    "ax[1].legend(['Women'])\n",
    "\n",
    "ax[0].set_xlim([0,75])\n",
    "ax[1].set_xlim([0,75])\n",
    "\n",
    "ax[0].set_ylim([0,0.07])\n",
    "ax[1].set_ylim([0,0.07])\n",
    "\n",
    "plt.tight_layout()"
   ]
  },
  {
   "cell_type": "code",
   "execution_count": null,
   "metadata": {},
   "outputs": [],
   "source": [
    "fig.savefig('./figures/fig1_2.png', bbox_inches='tight', transparent=True)"
   ]
  },
  {
   "cell_type": "markdown",
   "metadata": {},
   "source": [
    "## Estimation "
   ]
  },
  {
   "cell_type": "markdown",
   "metadata": {},
   "source": [
    "### Initial Conditions"
   ]
  },
  {
   "cell_type": "code",
   "execution_count": 4,
   "metadata": {},
   "outputs": [],
   "source": [
    "λ_0 = 0.22\n",
    "λ_M = 0.18\n",
    "λ_F = 0.28\n",
    "\n",
    "h_0 = 0.234\n",
    "h_M = 0.203\n",
    "h_F = 0.260\n",
    "\n",
    "η_0 = 0.005\n",
    "η_M = 0.003\n",
    "η_F = 0.0077\n",
    "\n",
    "μ_0 = 3.433\n",
    "μ_M = 3.456\n",
    "μ_F = 3.454\n",
    "\n",
    "σ_0 = 0.523\n",
    "σ_M = 0.558\n",
    "σ_F = 0.423\n",
    "\n",
    "p_0 = 0.5\n",
    "d_0 = 15 #leads to successful termination (13 leads to unsuccessful)"
   ]
  },
  {
   "cell_type": "markdown",
   "metadata": {},
   "source": [
    "### Parameters without distributional assumptions"
   ]
  },
  {
   "cell_type": "code",
   "execution_count": 5,
   "metadata": {},
   "outputs": [],
   "source": [
    "wstarM = min(ME['wage'])\n",
    "wstarF = min(FE['wage'])\n",
    "\n",
    "α = 0.5"
   ]
  },
  {
   "cell_type": "markdown",
   "metadata": {},
   "source": [
    "### Accepted Wage Distribution as in 13"
   ]
  },
  {
   "cell_type": "code",
   "execution_count": 6,
   "metadata": {},
   "outputs": [],
   "source": [
    "def dens_accepted(wage: np.array, α: float, μ: float, σ: float, wstar: float):\n",
    "    \"\"\"\n",
    "    Calculates the density of accepted wages using the lognormal distribution (end of eq 13)\n",
    "    \"\"\"\n",
    "    \n",
    "    pdf_in = (wage - (1-α)*wstar)/α\n",
    "    sf_in = wstar\n",
    "    \n",
    "    shape = 1\n",
    "    \n",
    "    num = stats.lognorm.pdf(pdf_in, shape, μ, σ) \n",
    "    denom = stats.lognorm.sf(sf_in, shape, μ, σ)\n",
    "    \n",
    "    return num / (α * denom)"
   ]
  },
  {
   "cell_type": "code",
   "execution_count": 7,
   "metadata": {},
   "outputs": [],
   "source": [
    "def dens_accepted_prej(wage: np.array, α: float, μ: float, σ: float, wstar: float, d: float):\n",
    "    \"\"\"\n",
    "    Calculates the density of accepted wages when prejudice is present using the lognormal distribution (end of eq 13)\n",
    "    \"\"\"\n",
    "    \n",
    "    shape = 1\n",
    "    \n",
    "    pdf_in = (wage + α*d - (1-α)*wstar)/α\n",
    "    sf_in = wstar+d\n",
    "    \n",
    "    num = stats.lognorm.pdf(pdf_in, shape, μ, σ) \n",
    "    denom = stats.lognorm.sf(sf_in, shape, μ, σ)    \n",
    "    \n",
    "    return num / (α * denom)"
   ]
  },
  {
   "cell_type": "code",
   "execution_count": 8,
   "metadata": {},
   "outputs": [],
   "source": [
    "def hazardM(λ: float, wstar: float, α: float, μ: float, σ: float):\n",
    "    \"\"\"\n",
    "    Estimates hazard rate for men (eq 10 of the paper)\n",
    "    \"\"\"\n",
    "    \n",
    "    shape = 1\n",
    "\n",
    "    mult = stats.lognorm.sf(wstar, shape, μ, σ)\n",
    "    \n",
    "    return λ * mult"
   ]
  },
  {
   "cell_type": "code",
   "execution_count": 9,
   "metadata": {},
   "outputs": [],
   "source": [
    "def hazardF(λ: float, wstar: float, α: float, μ: float, σ: float, p: float, d: float):\n",
    "    \"\"\"\n",
    "    Estimates hazard rate for women (eq 10 of the paper)\n",
    "    \"\"\"\n",
    "    \n",
    "    shape = 1\n",
    "    \n",
    "    sf_in1 = wstar\n",
    "    sf_in2 = wstar+d\n",
    "    \n",
    "    mult = (1-p)*stats.lognorm.sf(sf_in1, shape, μ, σ) + p*stats.lognorm.sf(sf_in2, shape, μ, σ)\n",
    "    \n",
    "    return λ * mult"
   ]
  },
  {
   "cell_type": "markdown",
   "metadata": {},
   "source": [
    "### Test Statistics"
   ]
  },
  {
   "cell_type": "code",
   "execution_count": 20,
   "metadata": {},
   "outputs": [],
   "source": [
    "def teststats (hess_inv: np.ndarray, lnL: float, nparams: int):\n",
    "    \"\"\"\n",
    "    Calculates the standard errors and p value from the LR tests\n",
    "    \"\"\"\n",
    "    se = np.sqrt(np.diag(hess_inv))\n",
    "    \n",
    "    loglik_H0 = lnL_6\n",
    "    \n",
    "    LR = 2 * (lnL - loglik_H0)\n",
    "    pval = stats.chi2.pdf(LR, nparams)\n",
    "    \n",
    "    return [se.tolist(), [lnL, pval]]"
   ]
  },
  {
   "cell_type": "markdown",
   "metadata": {},
   "source": [
    "### Likelihood Functions"
   ]
  },
  {
   "cell_type": "markdown",
   "metadata": {},
   "source": [
    "#### Estimation 6"
   ]
  },
  {
   "cell_type": "code",
   "execution_count": 11,
   "metadata": {},
   "outputs": [],
   "source": [
    "def loglik_6( params: list ):\n",
    "    \"\"\"\n",
    "    Calculates log likelihood with prejudice and productivity differences (Estimation 6)\n",
    "    \n",
    "    Parameters to estimate: λM, λF, ηM, ηF, μM, σM, μF, σF, d, p\n",
    "    \"\"\"\n",
    "    \n",
    "    λM = np.exp(params[0])\n",
    "    λF = np.exp(params[1])\n",
    "    ηM = np.exp(params[2])\n",
    "    ηF = np.exp(params[3])\n",
    "#     μM = np.exp(params[4])\n",
    "    μM = params[4]\n",
    "    σM = np.exp(params[5])\n",
    "#     μF = np.exp(params[6])\n",
    "    μF = params[6]\n",
    "    σF = np.exp(params[7])\n",
    "    d  = np.exp(params[8])\n",
    "    p  = np.exp(params[9])\n",
    "#     p  = np.exp(params[9])/(1+np.exp(params[9]))\n",
    "    \n",
    "    # Men's equations \n",
    "    hM = hazardM(λM, wstarM, α, μM, σM)\n",
    "    \n",
    "    a = M['dur'].count() * np.log(hM/(hM+ηM))\n",
    "    b = MU['dur'].count() * np.log(ηM)\n",
    "    c = - hM * np.sum(MU.values[:,0])\n",
    "    e = np.sum( np.log( (1/α) * dens_accepted( ME['wage'], α, μM, σM, wstarM) ) )  \n",
    "\n",
    "    \n",
    "    # Women's equations\n",
    "    hF = hazardF(λF, wstarF, α, μF, σF, p, d)\n",
    "    \n",
    "    f = F['dur'].count() * np.log(hF/(hF+ηF))\n",
    "    g = FU['dur'].count() * np.log(ηF)\n",
    "    h = - hF * np.sum(FU.values[:,0])\n",
    "    \n",
    "    y = ((1-p)/α) * dens_accepted( FE['wage'], α, μF, σF, wstarF)\n",
    "    z = (p/α) * dens_accepted_prej( FE['wage'], α, μF, σF, wstarF, d)\n",
    "      \n",
    "    i = np.sum( np.log( y + z ) )\n",
    "    \n",
    "    \n",
    "    return -(a + b + c + e + f + g + h + i)"
   ]
  },
  {
   "cell_type": "code",
   "execution_count": 12,
   "metadata": {},
   "outputs": [
    {
     "name": "stdout",
     "output_type": "stream",
     "text": [
      "17645.414209251347\n"
     ]
    }
   ],
   "source": [
    "# Check on log-likelihood\n",
    "\n",
    "param6 = [λ_M, λ_F, η_M, η_F, μ_M, σ_M, μ_F, σ_F, d_0, p_0]\n",
    "\n",
    "b6_0 = np.log(param6[0])\n",
    "b6_1 = np.log(param6[1])\n",
    "b6_2 = np.log(param6[2])\n",
    "b6_3 = np.log(param6[3])\n",
    "# b6_4 = np.log(param6[4])\n",
    "b6_4 = param6[4]\n",
    "b6_5 = np.log(param6[5])\n",
    "# b6_6 = np.log(param6[6])\n",
    "b6_6 = param6[6]\n",
    "b6_7 = np.log(param6[7])\n",
    "b6_8 = np.log(param6[8])\n",
    "b6_9 = np.log(1)\n",
    "\n",
    "init6 = [b6_0, b6_1, b6_2, b6_3, b6_4, b6_5, b6_6, b6_7, b6_8, b6_9]\n",
    "\n",
    "print(loglik_6(init6))"
   ]
  },
  {
   "cell_type": "code",
   "execution_count": 13,
   "metadata": {},
   "outputs": [
    {
     "name": "stdout",
     "output_type": "stream",
     "text": [
      "[-1.7147984280919266, -1.2729656758128873, -5.809142990314028, -4.866534950122499, 3.456, -0.583396316600826, 3.454, -0.8603830999358592, 2.70805020110221, 0.0]\n"
     ]
    }
   ],
   "source": [
    "print(init6)"
   ]
  },
  {
   "cell_type": "code",
   "execution_count": 14,
   "metadata": {},
   "outputs": [
    {
     "name": "stderr",
     "output_type": "stream",
     "text": [
      "/Users/megan.mccoy/anaconda3/lib/python3.6/site-packages/ipykernel_launcher.py:28: RuntimeWarning: divide by zero encountered in log\n",
      "/Users/megan.mccoy/anaconda3/lib/python3.6/site-packages/scipy/optimize/optimize.py:663: RuntimeWarning: invalid value encountered in double_scalars\n",
      "  grad[k] = (f(*((xk + d,) + args)) - f0) / d[k]\n",
      "/Users/megan.mccoy/anaconda3/lib/python3.6/site-packages/ipykernel_launcher.py:28: RuntimeWarning: divide by zero encountered in log\n",
      "/Users/megan.mccoy/anaconda3/lib/python3.6/site-packages/scipy/optimize/optimize.py:663: RuntimeWarning: invalid value encountered in double_scalars\n",
      "  grad[k] = (f(*((xk + d,) + args)) - f0) / d[k]\n",
      "/Users/megan.mccoy/anaconda3/lib/python3.6/site-packages/ipykernel_launcher.py:28: RuntimeWarning: divide by zero encountered in log\n",
      "/Users/megan.mccoy/anaconda3/lib/python3.6/site-packages/ipykernel_launcher.py:28: RuntimeWarning: divide by zero encountered in log\n",
      "/Users/megan.mccoy/anaconda3/lib/python3.6/site-packages/scipy/optimize/optimize.py:663: RuntimeWarning: invalid value encountered in double_scalars\n",
      "  grad[k] = (f(*((xk + d,) + args)) - f0) / d[k]\n",
      "/Users/megan.mccoy/anaconda3/lib/python3.6/site-packages/ipykernel_launcher.py:28: RuntimeWarning: divide by zero encountered in log\n",
      "/Users/megan.mccoy/anaconda3/lib/python3.6/site-packages/ipykernel_launcher.py:41: RuntimeWarning: divide by zero encountered in log\n",
      "/Users/megan.mccoy/anaconda3/lib/python3.6/site-packages/scipy/optimize/optimize.py:663: RuntimeWarning: invalid value encountered in double_scalars\n",
      "  grad[k] = (f(*((xk + d,) + args)) - f0) / d[k]\n",
      "/Users/megan.mccoy/anaconda3/lib/python3.6/site-packages/ipykernel_launcher.py:41: RuntimeWarning: divide by zero encountered in log\n"
     ]
    },
    {
     "data": {
      "text/plain": [
       "      fun: 6115.957426865454\n",
       " hess_inv: array([[ 3.73780874e-02, -1.60028020e-02,  2.86912794e-02,\n",
       "        -2.39748049e-02, -4.20010641e-03,  2.15635505e-04,\n",
       "        -4.84713297e-03,  1.32040319e-04, -2.95718560e-04,\n",
       "        -7.58494909e-04],\n",
       "       [-1.60028020e-02,  2.97712970e-02, -2.29497417e-02,\n",
       "         2.58592723e-02, -3.49378885e-04,  2.68635011e-06,\n",
       "         1.37706455e-03, -8.40299529e-04, -8.46528369e-05,\n",
       "        -2.58747565e-04],\n",
       "       [ 2.86912794e-02, -2.29497417e-02,  6.45895884e-02,\n",
       "        -3.42837679e-02, -5.52233022e-03,  4.06509636e-04,\n",
       "        -1.14724856e-03,  1.26254767e-04,  4.36157918e-05,\n",
       "        -8.04438583e-04],\n",
       "       [-2.39748049e-02,  2.58592723e-02, -3.42837679e-02,\n",
       "         5.60944028e-02, -4.62873392e-04, -5.69274342e-05,\n",
       "        -3.46048654e-03, -9.00099498e-04, -5.06596361e-04,\n",
       "        -2.33722182e-04],\n",
       "       [-4.20010641e-03, -3.49378885e-04, -5.52233022e-03,\n",
       "        -4.62873392e-04,  3.34289643e-02, -1.92096253e-03,\n",
       "         3.51274832e-03, -4.99677069e-04,  8.47859519e-05,\n",
       "         3.45225054e-04],\n",
       "       [ 2.15635505e-04,  2.68635011e-06,  4.06509636e-04,\n",
       "        -5.69274342e-05, -1.92096253e-03,  9.30637067e-04,\n",
       "        -1.96754170e-04,  3.10886829e-05, -5.86984114e-06,\n",
       "        -2.15647704e-05],\n",
       "       [-4.84713297e-03,  1.37706455e-03, -1.14724856e-03,\n",
       "        -3.46048654e-03,  3.51274832e-03, -1.96754170e-04,\n",
       "         3.33795550e-02, -1.59277764e-03,  2.43063813e-03,\n",
       "        -8.50327540e-04],\n",
       "       [ 1.32040319e-04, -8.40299529e-04,  1.26254767e-04,\n",
       "        -9.00099498e-04, -4.99677069e-04,  3.10886829e-05,\n",
       "        -1.59277764e-03,  1.78269572e-03,  1.81136921e-05,\n",
       "         1.31684324e-03],\n",
       "       [-2.95718560e-04, -8.46528369e-05,  4.36157918e-05,\n",
       "        -5.06596361e-04,  8.47859519e-05, -5.86984114e-06,\n",
       "         2.43063813e-03,  1.81136921e-05,  5.37561361e-04,\n",
       "        -1.41912157e-04],\n",
       "       [-7.58494909e-04, -2.58747565e-04, -8.04438583e-04,\n",
       "        -2.33722182e-04,  3.45225054e-04, -2.15647704e-05,\n",
       "        -8.50327540e-04,  1.31684324e-03, -1.41912157e-04,\n",
       "         3.75128492e-03]])\n",
       "      jac: array([0., 0., 0., 0., 0., 0., 0., 0., 0., 0.])\n",
       "  message: 'Optimization terminated successfully.'\n",
       "     nfev: 1809\n",
       "      nit: 109\n",
       "     njev: 150\n",
       "   status: 0\n",
       "  success: True\n",
       "        x: array([-1.59361462, -1.34405767, -5.71477753, -4.87012194,  6.62758979,\n",
       "        3.15569187, 16.74820381,  2.51401105,  2.45331779, -0.73034876])"
      ]
     },
     "execution_count": 14,
     "metadata": {},
     "output_type": "execute_result"
    }
   ],
   "source": [
    "est_6 = minimize(loglik_6, init6)\n",
    "\n",
    "est_6"
   ]
  },
  {
   "cell_type": "code",
   "execution_count": 15,
   "metadata": {},
   "outputs": [
    {
     "name": "stdout",
     "output_type": "stream",
     "text": [
      "[0.20318982948244704, 0.2607853385960906, 0.0032968838821281813, 0.007672429654633786, 6.627589789784699, 23.469269248327624, 16.748203814377177, 12.354384836155761, 11.626858273307368, 0.48174094703035725]\n"
     ]
    }
   ],
   "source": [
    "# Coefficients\n",
    "\n",
    "λM_6 = np.exp(est_6.x[0])\n",
    "λF_6 = np.exp(est_6.x[1])\n",
    "ηM_6 = np.exp(est_6.x[2])\n",
    "ηF_6 = np.exp(est_6.x[3])\n",
    "# μM_6 = np.exp(est_6.x[4])\n",
    "μM_6 = est_6.x[4]\n",
    "σM_6 = np.exp(est_6.x[5])\n",
    "# σM_6 = est_6.x[5]\n",
    "# μF_6 = np.exp(est_6.x[6])\n",
    "μF_6 = est_6.x[6]\n",
    "σF_6 = np.exp(est_6.x[7])\n",
    "# σF_6 = est_6.x[7]\n",
    "d_6  = np.exp(est_6.x[8])\n",
    "p_6  = np.exp(est_6.x[9])\n",
    "# p_6  = np.exp(est_6.x[9])/(1+np.exp(est_6.x[9]))\n",
    "\n",
    "coeff_6 = [λM_6, λF_6, ηM_6, ηF_6, μM_6, σM_6, μF_6, σF_6, d_6, p_6]\n",
    "\n",
    "print(coeff_6)"
   ]
  },
  {
   "cell_type": "code",
   "execution_count": 16,
   "metadata": {},
   "outputs": [
    {
     "name": "stdout",
     "output_type": "stream",
     "text": [
      "6115.957426865454\n"
     ]
    }
   ],
   "source": [
    "lnL_6 = est_6.fun\n",
    "\n",
    "print(lnL_6)"
   ]
  },
  {
   "cell_type": "code",
   "execution_count": 21,
   "metadata": {},
   "outputs": [
    {
     "name": "stdout",
     "output_type": "stream",
     "text": [
      "[[0.19333413396458246, 0.1725436090925145, 0.25414481775174763, 0.2368425697080135, 0.18283589444274412, 0.03050634469918594, 0.18270072522255384, 0.042221981524450745, 0.02318536953649895, 0.0612477340140531], [6115.957426865454, 0.0]]\n"
     ]
    }
   ],
   "source": [
    "ts_6 = teststats(est_6.hess_inv, lnL_6, 10)\n",
    "\n",
    "print(ts_6)"
   ]
  },
  {
   "cell_type": "markdown",
   "metadata": {},
   "source": [
    "#### Estimation 3"
   ]
  },
  {
   "cell_type": "code",
   "execution_count": 22,
   "metadata": {},
   "outputs": [],
   "source": [
    "def loglik_3( params: list ):\n",
    "    \"\"\"\n",
    "    Calculates log likelihood with prejudice and productivity differences \n",
    "    \n",
    "    Estimation 3 (η and h not gender specific)\n",
    "    \n",
    "    Parameters to estimate: λ, η, μM, σM, μF, σF, d, p\n",
    "    \"\"\"\n",
    "    \n",
    "    λM = np.exp(params[0]) #same lambda\n",
    "    λF = np.exp(params[0]) #same lambda\n",
    "    η = np.exp(params[1]) #same eta\n",
    "#     μM = np.exp(params[2])\n",
    "    μM = params[2]\n",
    "    σM = np.exp(params[3])\n",
    "#     μF = np.exp(params[4])\n",
    "    μF = params[4]\n",
    "    σF = np.exp(params[5])\n",
    "    d = np.exp(params[6])\n",
    "    p = np.exp(params[7])\n",
    "    \n",
    "    # Men's equations\n",
    "    hM = hazardM(λM, wstarM, α, μM, σM)\n",
    "    \n",
    "    a = M['dur'].count() * np.log(hM/(hM+η))\n",
    "    b = MU['dur'].count() * np.log(η)\n",
    "    c = - hM * np.sum(MU.values[:,0])\n",
    "    e = np.sum( np.log( (1/α) * dens_accepted( ME['wage'], α, μM, σM, wstarM) ) )\n",
    "    \n",
    "    \n",
    "    # Women's equations\n",
    "    hF = hazardF(λF, wstarF, α, μM, σM, p, d)\n",
    "    \n",
    "    f = F['dur'].count() * np.log(hF/(hF+η))\n",
    "    g = FU['dur'].count() * np.log(η)\n",
    "    i = - hF * np.sum(FU.values[:,0])\n",
    "    \n",
    "    y = ((1-p)/α) * dens_accepted( FE['wage'], α, μF, σF, wstarF)\n",
    "    z = (p/α) * dens_accepted_prej( FE['wage'], α, μF, σF, wstarF, d)\n",
    "\n",
    "    j = np.sum( np.log( y + z ) )\n",
    "    \n",
    "    \n",
    "    return -(a + b + c + e + f + g + i + j)"
   ]
  },
  {
   "cell_type": "code",
   "execution_count": 23,
   "metadata": {},
   "outputs": [
    {
     "name": "stdout",
     "output_type": "stream",
     "text": [
      "16629.36100816613\n"
     ]
    }
   ],
   "source": [
    "# Check on log-likelihood\n",
    "\n",
    "param3 = [λ_0, η_0, μ_M, σ_M, μ_F, σ_F, d_0, p_0]\n",
    "\n",
    "b3_0 = np.log(param3[0])\n",
    "b3_1 = np.log(param3[1])\n",
    "# b3_2 = np.log(param3[2])\n",
    "b3_2 = param3[2]\n",
    "b3_3 = np.log(param3[3])\n",
    "# b3_4 = np.log(param3[4])\n",
    "b3_4 = param3[4]\n",
    "b3_5 = np.log(param3[5])\n",
    "b3_6 = np.log(param3[6])\n",
    "b3_7 = np.log(1)\n",
    "\n",
    "init3 = [b3_0, b3_1, b3_2, b3_3, b3_4, b3_5, b3_6, b3_7]\n",
    "\n",
    "print(loglik_3(init3))"
   ]
  },
  {
   "cell_type": "code",
   "execution_count": 24,
   "metadata": {},
   "outputs": [
    {
     "name": "stderr",
     "output_type": "stream",
     "text": [
      "/Users/megan.mccoy/anaconda3/lib/python3.6/site-packages/ipykernel_launcher.py:41: RuntimeWarning: divide by zero encountered in log\n",
      "/Users/megan.mccoy/anaconda3/lib/python3.6/site-packages/scipy/optimize/optimize.py:663: RuntimeWarning: invalid value encountered in double_scalars\n",
      "  grad[k] = (f(*((xk + d,) + args)) - f0) / d[k]\n",
      "/Users/megan.mccoy/anaconda3/lib/python3.6/site-packages/ipykernel_launcher.py:41: RuntimeWarning: divide by zero encountered in log\n",
      "/Users/megan.mccoy/anaconda3/lib/python3.6/site-packages/ipykernel_launcher.py:41: RuntimeWarning: divide by zero encountered in log\n",
      "/Users/megan.mccoy/anaconda3/lib/python3.6/site-packages/scipy/optimize/optimize.py:663: RuntimeWarning: invalid value encountered in double_scalars\n",
      "  grad[k] = (f(*((xk + d,) + args)) - f0) / d[k]\n",
      "/Users/megan.mccoy/anaconda3/lib/python3.6/site-packages/ipykernel_launcher.py:41: RuntimeWarning: divide by zero encountered in log\n",
      "/Users/megan.mccoy/anaconda3/lib/python3.6/site-packages/ipykernel_launcher.py:41: RuntimeWarning: divide by zero encountered in log\n",
      "/Users/megan.mccoy/anaconda3/lib/python3.6/site-packages/scipy/optimize/optimize.py:663: RuntimeWarning: invalid value encountered in double_scalars\n",
      "  grad[k] = (f(*((xk + d,) + args)) - f0) / d[k]\n",
      "/Users/megan.mccoy/anaconda3/lib/python3.6/site-packages/ipykernel_launcher.py:41: RuntimeWarning: divide by zero encountered in log\n",
      "/Users/megan.mccoy/anaconda3/lib/python3.6/site-packages/ipykernel_launcher.py:28: RuntimeWarning: divide by zero encountered in log\n",
      "/Users/megan.mccoy/anaconda3/lib/python3.6/site-packages/scipy/optimize/optimize.py:663: RuntimeWarning: invalid value encountered in double_scalars\n",
      "  grad[k] = (f(*((xk + d,) + args)) - f0) / d[k]\n",
      "/Users/megan.mccoy/anaconda3/lib/python3.6/site-packages/ipykernel_launcher.py:28: RuntimeWarning: divide by zero encountered in log\n",
      "/Users/megan.mccoy/anaconda3/lib/python3.6/site-packages/ipykernel_launcher.py:28: RuntimeWarning: divide by zero encountered in log\n",
      "/Users/megan.mccoy/anaconda3/lib/python3.6/site-packages/scipy/optimize/optimize.py:663: RuntimeWarning: invalid value encountered in double_scalars\n",
      "  grad[k] = (f(*((xk + d,) + args)) - f0) / d[k]\n",
      "/Users/megan.mccoy/anaconda3/lib/python3.6/site-packages/ipykernel_launcher.py:28: RuntimeWarning: divide by zero encountered in log\n",
      "/Users/megan.mccoy/anaconda3/lib/python3.6/site-packages/ipykernel_launcher.py:41: RuntimeWarning: invalid value encountered in log\n",
      "/Users/megan.mccoy/anaconda3/lib/python3.6/site-packages/ipykernel_launcher.py:28: RuntimeWarning: divide by zero encountered in log\n",
      "/Users/megan.mccoy/anaconda3/lib/python3.6/site-packages/scipy/optimize/optimize.py:663: RuntimeWarning: invalid value encountered in double_scalars\n",
      "  grad[k] = (f(*((xk + d,) + args)) - f0) / d[k]\n",
      "/Users/megan.mccoy/anaconda3/lib/python3.6/site-packages/ipykernel_launcher.py:14: RuntimeWarning: invalid value encountered in true_divide\n",
      "  \n",
      "/Users/megan.mccoy/anaconda3/lib/python3.6/site-packages/ipykernel_launcher.py:25: RuntimeWarning: invalid value encountered in double_scalars\n",
      "/Users/megan.mccoy/anaconda3/lib/python3.6/site-packages/ipykernel_launcher.py:11: RuntimeWarning: invalid value encountered in double_scalars\n",
      "  # This is added back by InteractiveShellApp.init_path()\n",
      "/Users/megan.mccoy/anaconda3/lib/python3.6/site-packages/ipykernel_launcher.py:38: RuntimeWarning: invalid value encountered in multiply\n",
      "/Users/megan.mccoy/anaconda3/lib/python3.6/site-packages/scipy/stats/_distn_infrastructure.py:1652: RuntimeWarning: invalid value encountered in true_divide\n",
      "  x = np.asarray((x - loc)/scale, dtype=dtyp)\n",
      "/Users/megan.mccoy/anaconda3/lib/python3.6/site-packages/scipy/stats/_distn_infrastructure.py:879: RuntimeWarning: invalid value encountered in greater\n",
      "  return (self.a < x) & (x < self.b)\n",
      "/Users/megan.mccoy/anaconda3/lib/python3.6/site-packages/scipy/stats/_distn_infrastructure.py:879: RuntimeWarning: invalid value encountered in less\n",
      "  return (self.a < x) & (x < self.b)\n",
      "/Users/megan.mccoy/anaconda3/lib/python3.6/site-packages/scipy/stats/_distn_infrastructure.py:1818: RuntimeWarning: invalid value encountered in double_scalars\n",
      "  x = np.asarray((x - loc)/scale, dtype=dtyp)\n",
      "/Users/megan.mccoy/anaconda3/lib/python3.6/site-packages/ipykernel_launcher.py:41: RuntimeWarning: invalid value encountered in log\n",
      "/Users/megan.mccoy/anaconda3/lib/python3.6/site-packages/ipykernel_launcher.py:28: RuntimeWarning: divide by zero encountered in log\n"
     ]
    },
    {
     "data": {
      "text/plain": [
       "      fun: 6130.3380799291535\n",
       " hess_inv: array([[ 4.48544393e-02,  2.17557825e-02,  1.57936036e-02,\n",
       "         1.29214233e-03,  5.92618122e-01,  1.98794170e-02,\n",
       "         5.51051975e-02,  7.05413079e-02],\n",
       "       [ 2.17557825e-02,  4.11046254e-02,  4.82092772e-03,\n",
       "         7.19001662e-05,  1.27220285e-01,  4.50406025e-03,\n",
       "         1.20610505e-02,  1.50775908e-02],\n",
       "       [ 1.57936036e-02,  4.82092772e-03,  4.08202519e-02,\n",
       "        -9.40704421e-04,  3.23128215e-01,  1.04626066e-02,\n",
       "         3.02683683e-02,  3.85022876e-02],\n",
       "       [ 1.29214233e-03,  7.19001662e-05, -9.40704421e-04,\n",
       "         9.99541166e-04,  3.29329774e-02,  1.10122291e-03,\n",
       "         3.07645445e-03,  3.89403019e-03],\n",
       "       [ 5.92618122e-01,  1.27220285e-01,  3.23128215e-01,\n",
       "         3.29329774e-02,  1.18741116e+01,  4.10753774e-01,\n",
       "         1.10826783e+00,  1.40980285e+00],\n",
       "       [ 1.98794170e-02,  4.50406025e-03,  1.04626066e-02,\n",
       "         1.10122291e-03,  4.10753774e-01,  1.45794487e-02,\n",
       "         3.83823621e-02,  4.90396816e-02],\n",
       "       [ 5.51051975e-02,  1.20610505e-02,  3.02683683e-02,\n",
       "         3.07645445e-03,  1.10826783e+00,  3.83823621e-02,\n",
       "         1.05292191e-01,  1.31334707e-01],\n",
       "       [ 7.05413079e-02,  1.50775908e-02,  3.85022876e-02,\n",
       "         3.89403019e-03,  1.40980285e+00,  4.90396816e-02,\n",
       "         1.31334707e-01,  1.68186293e-01]])\n",
       "      jac: array([ 7.15655518, -2.82080078,  2.86486816, 11.49230957, -4.23242188,\n",
       "       73.63977051,  0.98120117,  1.63098145])\n",
       "  message: 'Desired error not necessarily achieved due to precision loss.'\n",
       "     nfev: 1998\n",
       "      nit: 51\n",
       "     njev: 197\n",
       "   status: 2\n",
       "  success: False\n",
       "        x: array([-1.30653804, -5.22740733,  6.69606146,  3.16118073, 15.20327638,\n",
       "        2.70635872,  2.34892422, -0.6397544 ])"
      ]
     },
     "execution_count": 24,
     "metadata": {},
     "output_type": "execute_result"
    }
   ],
   "source": [
    "est_3 = minimize(loglik_3, init3)\n",
    "\n",
    "est_3"
   ]
  },
  {
   "cell_type": "code",
   "execution_count": 25,
   "metadata": {},
   "outputs": [
    {
     "name": "stdout",
     "output_type": "stream",
     "text": [
      "[0.270755782189324, 0.0053674232268518, 6.696061456553306, 3.1611807294646583, 15.203276380543914, 2.706358724009457, 10.474295653012167, 0.5274219414478007]\n"
     ]
    }
   ],
   "source": [
    "# Coefficients\n",
    "\n",
    "λ_3 = np.exp(est_3.x[0])\n",
    "η_3 = np.exp(est_3.x[1])\n",
    "\n",
    "# μM_3 = np.exp(est_3.x[2])\n",
    "# σM_3 = np.exp(est_3.x[3])\n",
    "# μF_3 = np.exp(est_3.x[4])\n",
    "# σF_3 = np.exp(est_3.x[5])\n",
    "\n",
    "μM_3 = est_3.x[2]\n",
    "σM_3 = est_3.x[3]\n",
    "μF_3 = est_3.x[4]\n",
    "σF_3 = est_3.x[5]\n",
    "\n",
    "d_3 = np.exp(est_3.x[6])\n",
    "p_3 = np.exp(est_3.x[7])\n",
    "\n",
    "coeff_3 = [λ_3, η_3, μM_3, σM_3, μF_3, σF_3, d_3, p_3]\n",
    "\n",
    "print(coeff_3)"
   ]
  },
  {
   "cell_type": "code",
   "execution_count": 26,
   "metadata": {},
   "outputs": [
    {
     "name": "stdout",
     "output_type": "stream",
     "text": [
      "6130.3380799291535\n"
     ]
    }
   ],
   "source": [
    "lnL_3 = est_3.fun\n",
    "\n",
    "print(lnL_3)"
   ]
  },
  {
   "cell_type": "code",
   "execution_count": 27,
   "metadata": {},
   "outputs": [
    {
     "name": "stdout",
     "output_type": "stream",
     "text": [
      "[[0.21178866655894932, 0.20274275665779656, 0.2020402235204598, 0.0316155209746657, 3.445883284298531, 0.12074538809047451, 0.32448758235783465, 0.4101052213208973], [6130.3380799291535, 0.0001408368519992885]]\n"
     ]
    }
   ],
   "source": [
    "ts_3 = teststats(est_3.hess_inv, lnL_3, 8)\n",
    "\n",
    "print(ts_3)"
   ]
  },
  {
   "cell_type": "markdown",
   "metadata": {},
   "source": [
    "#### Estimation 5"
   ]
  },
  {
   "cell_type": "code",
   "execution_count": 28,
   "metadata": {},
   "outputs": [],
   "source": [
    "def loglik_5( params: list ):\n",
    "    \"\"\"\n",
    "    Calculates log likelihood with prejudice, no productivity differences (estimation 5). \n",
    "    \n",
    "    Parameters to estimate: λM, λF, μ, σ, p, d\n",
    "    \"\"\"\n",
    "\n",
    "    λM = np.exp(params[0])\n",
    "    λF = np.exp(params[1])\n",
    "    ηM = np.exp(params[2])\n",
    "    ηF = np.exp(params[3])\n",
    "#     μ = np.exp(params[4])\n",
    "    μ = params[4]\n",
    "    σ = np.exp(params[5])\n",
    "    d = np.exp(params[6])\n",
    "    p = np.exp(params[7])\n",
    "    \n",
    "    # Men's equations \n",
    "    hM = hazardM(λM, wstarM, α, μ, σ)\n",
    "    \n",
    "    a = M['dur'].count() * np.log(hM/(hM+ηM))\n",
    "    b = MU['dur'].count() * np.log(ηM)\n",
    "    c = - hM * np.sum(MU.values[:,0])\n",
    "    e = np.sum( np.log( (1/α) * dens_accepted(ME['wage'], α, μ, σ, wstarM) ) )\n",
    "    \n",
    "    \n",
    "    # Women's equations\n",
    "    hF = hazardF(λF, wstarF, α, μ, σ, p, d)\n",
    "    \n",
    "    f = F['dur'].count() * np.log(hF/(hF+ηF))\n",
    "    g = FU['dur'].count() * np.log(ηF)\n",
    "    h = - hF * np.sum(FU.values[:,0])\n",
    "    \n",
    "    y = ((1-p)/α) * dens_accepted(FE['wage'], α, μ, σ, wstarF)\n",
    "    z = (p/α) * dens_accepted_prej(FE['wage'], α, μ, σ, wstarF, d)\n",
    "\n",
    "    i = np.sum( np.log( y + z ) )\n",
    "    \n",
    "    \n",
    "    return -(a + b + c + e + f + g + h + i)"
   ]
  },
  {
   "cell_type": "code",
   "execution_count": 29,
   "metadata": {},
   "outputs": [
    {
     "name": "stdout",
     "output_type": "stream",
     "text": [
      "14874.54168755806\n"
     ]
    }
   ],
   "source": [
    "# Check on log-likelihood\n",
    "\n",
    "param5 = [λ_M, λ_F, η_M, η_F, μ_0, σ_0, d_0, p_0]\n",
    "\n",
    "b5_0 = np.log(param6[0])\n",
    "b5_1 = np.log(param6[1])\n",
    "b5_2 = np.log(param6[2])\n",
    "b5_3 = np.log(param6[3])\n",
    "# b5_4 = np.log(param6[4])\n",
    "b5_4 = param6[4]\n",
    "b5_5 = np.log(param6[5])\n",
    "b5_6 = np.log(param6[6])\n",
    "b5_7 = np.log(1)\n",
    "\n",
    "init5 = [b5_0, b5_1, b5_2, b5_3, b5_4, b5_5, b5_6, b5_7]\n",
    "\n",
    "print(loglik_5(init5))"
   ]
  },
  {
   "cell_type": "code",
   "execution_count": 30,
   "metadata": {},
   "outputs": [
    {
     "name": "stderr",
     "output_type": "stream",
     "text": [
      "/Users/megan.mccoy/anaconda3/lib/python3.6/site-packages/ipykernel_launcher.py:24: RuntimeWarning: divide by zero encountered in log\n",
      "/Users/megan.mccoy/anaconda3/lib/python3.6/site-packages/ipykernel_launcher.py:37: RuntimeWarning: divide by zero encountered in log\n",
      "/Users/megan.mccoy/anaconda3/lib/python3.6/site-packages/scipy/optimize/optimize.py:663: RuntimeWarning: invalid value encountered in double_scalars\n",
      "  grad[k] = (f(*((xk + d,) + args)) - f0) / d[k]\n",
      "/Users/megan.mccoy/anaconda3/lib/python3.6/site-packages/ipykernel_launcher.py:24: RuntimeWarning: divide by zero encountered in log\n",
      "/Users/megan.mccoy/anaconda3/lib/python3.6/site-packages/ipykernel_launcher.py:37: RuntimeWarning: divide by zero encountered in log\n",
      "/Users/megan.mccoy/anaconda3/lib/python3.6/site-packages/ipykernel_launcher.py:24: RuntimeWarning: divide by zero encountered in log\n",
      "/Users/megan.mccoy/anaconda3/lib/python3.6/site-packages/ipykernel_launcher.py:37: RuntimeWarning: divide by zero encountered in log\n",
      "/Users/megan.mccoy/anaconda3/lib/python3.6/site-packages/scipy/optimize/optimize.py:663: RuntimeWarning: invalid value encountered in double_scalars\n",
      "  grad[k] = (f(*((xk + d,) + args)) - f0) / d[k]\n",
      "/Users/megan.mccoy/anaconda3/lib/python3.6/site-packages/ipykernel_launcher.py:24: RuntimeWarning: divide by zero encountered in log\n",
      "/Users/megan.mccoy/anaconda3/lib/python3.6/site-packages/ipykernel_launcher.py:37: RuntimeWarning: divide by zero encountered in log\n",
      "/Users/megan.mccoy/anaconda3/lib/python3.6/site-packages/ipykernel_launcher.py:37: RuntimeWarning: divide by zero encountered in log\n",
      "/Users/megan.mccoy/anaconda3/lib/python3.6/site-packages/scipy/optimize/optimize.py:663: RuntimeWarning: invalid value encountered in double_scalars\n",
      "  grad[k] = (f(*((xk + d,) + args)) - f0) / d[k]\n",
      "/Users/megan.mccoy/anaconda3/lib/python3.6/site-packages/ipykernel_launcher.py:37: RuntimeWarning: divide by zero encountered in log\n"
     ]
    },
    {
     "data": {
      "text/plain": [
       "      fun: 6198.61640797023\n",
       " hess_inv: array([[ 3.63134359e-02, -1.45800634e-02,  3.14557389e-02,\n",
       "        -2.12947544e-02, -5.26816135e-03,  2.96791910e-04,\n",
       "        -9.35041045e-03,  2.53184764e-03],\n",
       "       [-1.45800634e-02,  2.34732731e-02, -2.57176224e-02,\n",
       "         1.78944043e-02, -7.98062634e-03,  3.01160140e-04,\n",
       "        -1.11877513e-02,  2.56018645e-03],\n",
       "       [ 3.14557389e-02, -2.57176224e-02,  7.33769966e-02,\n",
       "        -3.37294017e-02, -6.73186116e-03,  4.11006791e-05,\n",
       "        -9.35626935e-03,  3.61896418e-03],\n",
       "       [-2.12947544e-02,  1.78944043e-02, -3.37294017e-02,\n",
       "         4.61792714e-02, -8.50975056e-03,  2.40031002e-04,\n",
       "        -1.47004772e-02,  4.93118894e-03],\n",
       "       [-5.26816135e-03, -7.98062634e-03, -6.73186116e-03,\n",
       "        -8.50975056e-03,  1.68250421e-02, -9.38015071e-04,\n",
       "         4.26783993e-03, -3.38252164e-04],\n",
       "       [ 2.96791910e-04,  3.01160140e-04,  4.11006791e-05,\n",
       "         2.40031002e-04, -9.38015071e-04,  5.06859826e-04,\n",
       "         1.16593961e-04,  6.92430763e-05],\n",
       "       [-9.35041045e-03, -1.11877513e-02, -9.35626935e-03,\n",
       "        -1.47004772e-02,  4.26783993e-03,  1.16593961e-04,\n",
       "         1.11650195e-01, -6.42256941e-02],\n",
       "       [ 2.53184764e-03,  2.56018645e-03,  3.61896418e-03,\n",
       "         4.93118894e-03, -3.38252164e-04,  6.92430763e-05,\n",
       "        -6.42256941e-02,  4.85939466e-02]])\n",
       "      jac: array([6.10351562e-05, 1.22070312e-04, 0.00000000e+00, 0.00000000e+00,\n",
       "       0.00000000e+00, 0.00000000e+00, 0.00000000e+00, 0.00000000e+00])\n",
       "  message: 'Desired error not necessarily achieved due to precision loss.'\n",
       "     nfev: 630\n",
       "      nit: 45\n",
       "     njev: 62\n",
       "   status: 2\n",
       "  success: False\n",
       "        x: array([-1.59381615, -1.33621451, -5.71477318, -4.87011754,  6.88238044,\n",
       "        3.0260897 ,  1.32218779, -0.84466534])"
      ]
     },
     "execution_count": 30,
     "metadata": {},
     "output_type": "execute_result"
    }
   ],
   "source": [
    "est_5 = minimize(loglik_5, init5)\n",
    "\n",
    "est_5"
   ]
  },
  {
   "cell_type": "code",
   "execution_count": 31,
   "metadata": {},
   "outputs": [
    {
     "name": "stdout",
     "output_type": "stream",
     "text": [
      "[0.20314888424069366, 0.2628387607190816, 0.0032968982534086373, 0.007672463396931774, 6.882380438061033, 3.0260896987852184, 3.7516201635059043, 0.42970113815027533]\n"
     ]
    }
   ],
   "source": [
    "# Coefficients\n",
    "\n",
    "λM_5 = np.exp(est_5.x[0])\n",
    "λF_5 = np.exp(est_5.x[1])\n",
    "ηM_5 = np.exp(est_5.x[2])\n",
    "ηF_5 = np.exp(est_5.x[3])\n",
    "# μ_5 = np.exp(est_5.x[4])\n",
    "μ_5 = est_5.x[4]\n",
    "# σ_5 = np.exp(est_5.x[5])\n",
    "σ_5 = est_5.x[5]\n",
    "d_5 = np.exp(est_5.x[6])\n",
    "p_5 = np.exp(est_5.x[7])\n",
    "\n",
    "coeff_5 = [λM_5, λF_5, ηM_5, ηF_5, μ_5, σ_5, d_5, p_5]\n",
    "\n",
    "print(coeff_5)"
   ]
  },
  {
   "cell_type": "code",
   "execution_count": 32,
   "metadata": {},
   "outputs": [
    {
     "name": "stdout",
     "output_type": "stream",
     "text": [
      "6198.61640797023\n"
     ]
    }
   ],
   "source": [
    "lnL_5 = est_5.fun\n",
    "\n",
    "print(lnL_5)"
   ]
  },
  {
   "cell_type": "code",
   "execution_count": 33,
   "metadata": {},
   "outputs": [
    {
     "name": "stdout",
     "output_type": "stream",
     "text": [
      "[[0.19056084571862936, 0.15320989896646833, 0.2708818867629654, 0.21489362814760402, 0.1297113799656998, 0.022513547609879114, 0.3341409806012453, 0.22044034700076987], [6198.61640797023, 5.947706417842323e-32]]\n"
     ]
    }
   ],
   "source": [
    "ts_5 = teststats(est_5.hess_inv, lnL_5, 8)\n",
    "\n",
    "print(ts_5)"
   ]
  },
  {
   "cell_type": "markdown",
   "metadata": {},
   "source": [
    "#### Estimation 2"
   ]
  },
  {
   "cell_type": "code",
   "execution_count": 34,
   "metadata": {},
   "outputs": [],
   "source": [
    "def loglik_2( params: list ):\n",
    "    \"\"\"\n",
    "    Calculates log likelihood with prejudice, no productivity differences (estimation 2).\n",
    "    \n",
    "    Parameters to estimate: λ, μ, σ, p, d\n",
    "    \"\"\"\n",
    "    \n",
    "    λM = np.exp(params[0])\n",
    "    λF = np.exp(params[0])\n",
    "    η = np.exp(params[1])\n",
    "#     μ = np.exp(params[2])\n",
    "    μ = params[2]\n",
    "    σ = np.exp(params[3])\n",
    "    d = np.exp(params[4])\n",
    "    p = np.exp(params[5])\n",
    "\n",
    "    \n",
    "    # Men's equations \n",
    "    hM = hazardM(λM, wstarM, α, μ, σ)\n",
    "    \n",
    "    a = M['dur'].count() * np.log(hM/(hM+η))\n",
    "    b = MU['dur'].count() * np.log(η)\n",
    "    c = - hM * np.sum(MU.values[:,0])\n",
    "    e = np.sum( np.log( (1/α) * dens_accepted(ME['wage'], α, μ, σ, wstarM) ) )\n",
    "    \n",
    "    \n",
    "    # Women's equations\n",
    "    hF = hazardF(λF, wstarF, α, μ, σ, p, d)\n",
    "    \n",
    "    f = F['dur'].count() * np.log(hF/(hF+η))\n",
    "    g = FU['dur'].count() * np.log(η)\n",
    "    i = - hF * np.sum(FU.values[:,0])\n",
    "    \n",
    "    y = ((1-p)/α) * dens_accepted(FE['wage'], α, μ, σ, wstarF)\n",
    "    z = (p/α) * dens_accepted_prej(FE['wage'], α, μ, σ, wstarF, d)\n",
    "\n",
    "    j = np.sum( np.log( y + z ) )\n",
    "    \n",
    "    \n",
    "    return -(a + b + c + e + f + g + i + j)"
   ]
  },
  {
   "cell_type": "code",
   "execution_count": 35,
   "metadata": {},
   "outputs": [
    {
     "name": "stdout",
     "output_type": "stream",
     "text": [
      "16950.612216946025\n"
     ]
    }
   ],
   "source": [
    "# Check on log-likelihood\n",
    "\n",
    "param2 = [λ_0, η_0, μ_0, σ_0, d_0, p_0]\n",
    "\n",
    "b2_0 = np.log(param2[0])\n",
    "b2_1 = np.log(param2[1])\n",
    "# b2_2 = np.log(param2[2])\n",
    "b2_2 = param2[2]\n",
    "b2_3 = np.log(param2[3])\n",
    "b2_4 = np.log(param2[4])\n",
    "b2_5 = np.log(1)\n",
    "\n",
    "init2 = [b2_0, b2_1, b2_2, b2_3, b2_4, b2_5]\n",
    "\n",
    "print(loglik_2(init2))"
   ]
  },
  {
   "cell_type": "code",
   "execution_count": 36,
   "metadata": {},
   "outputs": [
    {
     "name": "stderr",
     "output_type": "stream",
     "text": [
      "/Users/megan.mccoy/anaconda3/lib/python3.6/site-packages/ipykernel_launcher.py:24: RuntimeWarning: divide by zero encountered in log\n",
      "/Users/megan.mccoy/anaconda3/lib/python3.6/site-packages/ipykernel_launcher.py:37: RuntimeWarning: divide by zero encountered in log\n",
      "/Users/megan.mccoy/anaconda3/lib/python3.6/site-packages/scipy/optimize/optimize.py:663: RuntimeWarning: invalid value encountered in double_scalars\n",
      "  grad[k] = (f(*((xk + d,) + args)) - f0) / d[k]\n",
      "/Users/megan.mccoy/anaconda3/lib/python3.6/site-packages/ipykernel_launcher.py:24: RuntimeWarning: divide by zero encountered in log\n",
      "/Users/megan.mccoy/anaconda3/lib/python3.6/site-packages/ipykernel_launcher.py:37: RuntimeWarning: divide by zero encountered in log\n"
     ]
    },
    {
     "data": {
      "text/plain": [
       "      fun: 6200.846288388901\n",
       " hess_inv: array([[ 0.01359344,  0.00572998, -0.01359512,  0.00739644, -0.00707868,\n",
       "         0.01125219],\n",
       "       [ 0.00572998,  0.01496587, -0.00573208,  0.00308992, -0.00908033,\n",
       "         0.00806914],\n",
       "       [-0.01359512, -0.00573208,  0.01360975, -0.00740346,  0.00708786,\n",
       "        -0.01126448],\n",
       "       [ 0.00739644,  0.00308992, -0.00740346,  0.00649989, -0.01008112,\n",
       "         0.01041043],\n",
       "       [-0.00707868, -0.00908033,  0.00708786, -0.01008112,  0.16522995,\n",
       "        -0.14861798],\n",
       "       [ 0.01125219,  0.00806914, -0.01126448,  0.01041043, -0.14861798,\n",
       "         0.14768418]])\n",
       "      jac: array([6.10351562e-05, 0.00000000e+00, 6.10351562e-05, 1.22070312e-04,\n",
       "       0.00000000e+00, 0.00000000e+00])\n",
       "  message: 'Desired error not necessarily achieved due to precision loss.'\n",
       "     nfev: 647\n",
       "      nit: 59\n",
       "     njev: 80\n",
       "   status: 2\n",
       "  success: False\n",
       "        x: array([-1.44716729, -5.25847417,  6.88239838,  3.02604807,  1.33519524,\n",
       "       -0.85329763])"
      ]
     },
     "execution_count": 36,
     "metadata": {},
     "output_type": "execute_result"
    }
   ],
   "source": [
    "est_2 = minimize(loglik_2, init2)\n",
    "\n",
    "est_2"
   ]
  },
  {
   "cell_type": "code",
   "execution_count": 37,
   "metadata": {},
   "outputs": [
    {
     "name": "stdout",
     "output_type": "stream",
     "text": [
      "[0.23523569902655178, 0.00520323792126242, 6.882398376933335, 3.026048066509593, 3.800737913025053, 0.4260077985422588]\n"
     ]
    }
   ],
   "source": [
    "# Coefficients\n",
    "\n",
    "λ_2 = np.exp(est_2.x[0])\n",
    "η_2 = np.exp(est_2.x[1])\n",
    "# μ_2 = np.exp(est_2.x[2])\n",
    "# σ_2 = np.exp(est_2.x[3])\n",
    "μ_2 = est_2.x[2]\n",
    "σ_2 = est_2.x[3]\n",
    "d_2 = np.exp(est_2.x[4])\n",
    "p_2 = np.exp(est_2.x[5])\n",
    "\n",
    "coeff_2 = [λ_2, η_2, μ_2, σ_2, d_2, p_2]\n",
    "\n",
    "print(coeff_2)"
   ]
  },
  {
   "cell_type": "code",
   "execution_count": 38,
   "metadata": {},
   "outputs": [
    {
     "name": "stdout",
     "output_type": "stream",
     "text": [
      "6200.846288388901\n"
     ]
    }
   ],
   "source": [
    "lnL_2 = est_2.fun\n",
    "\n",
    "print(lnL_2)"
   ]
  },
  {
   "cell_type": "code",
   "execution_count": 39,
   "metadata": {},
   "outputs": [
    {
     "name": "stdout",
     "output_type": "stream",
     "text": [
      "[[0.11659092468997184, 0.12233505515477239, 0.11666085150668226, 0.08062189722948172, 0.4064848702739455, 0.38429699408829693], [6200.846288388901, 2.448371368973035e-34]]\n"
     ]
    }
   ],
   "source": [
    "ts_2 = teststats(est_2.hess_inv, lnL_2, 6)\n",
    "\n",
    "print(ts_2)"
   ]
  },
  {
   "cell_type": "markdown",
   "metadata": {},
   "source": [
    "#### Estimation 4"
   ]
  },
  {
   "cell_type": "code",
   "execution_count": 63,
   "metadata": {},
   "outputs": [],
   "source": [
    "def loglik_4( params: list ):\n",
    "    \"\"\"\n",
    "    Calculates log likelihood with productivity differences, no prejudice (estimation 4).\n",
    "    \n",
    "    Parameters to estimate: λM, λF, μM, σM, μF, σF\n",
    "    \"\"\"\n",
    "\n",
    "    λM = np.exp(params[0])\n",
    "    λF = np.exp(params[1])\n",
    "    ηM = np.exp(params[2])\n",
    "    ηF = np.exp(params[3])\n",
    "    μM = params[4]\n",
    "    σM = np.exp(params[5])\n",
    "    μF = params[6]\n",
    "    σF = np.exp(params[7])\n",
    "    d = 0\n",
    "    p = 0\n",
    "\n",
    "    \n",
    "    # Men's equations \n",
    "    hM = hazardM(λM, wstarM, α, μM, σM)\n",
    "    \n",
    "    a = M['dur'].count() * np.log(hM/(hM+ηM))\n",
    "    b = MU['dur'].count() * np.log(ηM)\n",
    "    c = - hM * np.sum(MU.values[:,0])\n",
    "    e = np.sum( np.log( (1/α) * dens_accepted( ME['wage'], α, μM, σM, wstarM) ) )\n",
    "    \n",
    "    # Women's equations\n",
    "    hF = hazardF(λF, wstarF, α, μF, σF, p, d)\n",
    "    \n",
    "    f = F['dur'].count() * np.log(hF/(hF+ηF))\n",
    "    g = FU['dur'].count() * np.log(ηF)\n",
    "    i = - hF * np.sum(FU.values[:,0])\n",
    "    \n",
    "    y = (1/α) * dens_accepted( FE['wage'], α, μF, σF, wstarF)\n",
    "\n",
    "    j = np.sum( np.log( y ) )\n",
    "\n",
    "    return -(a + b + c + e + f + g + i + j)"
   ]
  },
  {
   "cell_type": "code",
   "execution_count": 64,
   "metadata": {},
   "outputs": [
    {
     "name": "stdout",
     "output_type": "stream",
     "text": [
      "15672.525637821565\n"
     ]
    }
   ],
   "source": [
    "# Check on log-likelihood\n",
    "\n",
    "param4 = [λ_M, λ_F, η_M, η_F, μ_M, σ_M, μ_F, σ_F]\n",
    "\n",
    "b4_0 = np.log(param4[0])\n",
    "b4_1 = np.log(param4[1])\n",
    "b4_2 = np.log(param4[2])\n",
    "b4_3 = np.log(param4[3])\n",
    "b4_4 = param4[4]\n",
    "b4_5 = np.log(param4[5])\n",
    "b4_6 = param4[6]\n",
    "b4_7 = np.log(param4[7])\n",
    "\n",
    "init4 = [b4_0, b4_1, b4_2, b4_3, b4_4, b4_5, b4_6, b4_7]\n",
    "\n",
    "print(loglik_4(init4))"
   ]
  },
  {
   "cell_type": "code",
   "execution_count": 65,
   "metadata": {},
   "outputs": [
    {
     "name": "stdout",
     "output_type": "stream",
     "text": [
      "[-1.7147984280919266, -1.2729656758128873, -5.809142990314028, -4.866534950122499, 3.456, -0.583396316600826, 3.454, -0.8603830999358592]\n"
     ]
    }
   ],
   "source": [
    "print(init4)"
   ]
  },
  {
   "cell_type": "code",
   "execution_count": 66,
   "metadata": {},
   "outputs": [
    {
     "name": "stderr",
     "output_type": "stream",
     "text": [
      "/Users/megan.mccoy/anaconda3/lib/python3.6/site-packages/ipykernel_launcher.py:37: RuntimeWarning: divide by zero encountered in log\n",
      "/Users/megan.mccoy/anaconda3/lib/python3.6/site-packages/scipy/optimize/optimize.py:663: RuntimeWarning: invalid value encountered in double_scalars\n",
      "  grad[k] = (f(*((xk + d,) + args)) - f0) / d[k]\n",
      "/Users/megan.mccoy/anaconda3/lib/python3.6/site-packages/ipykernel_launcher.py:37: RuntimeWarning: divide by zero encountered in log\n"
     ]
    },
    {
     "data": {
      "text/plain": [
       "      fun: 6186.1919220010495\n",
       " hess_inv: array([[ 2.46493291e+01,  3.32569080e-03, -2.19745034e-02,\n",
       "         1.07950290e-02,  8.76282533e-02, -9.72970590e-01,\n",
       "        -7.52108068e-02,  5.08243229e-03],\n",
       "       [ 3.32569080e-03,  2.81071491e-02,  3.69131585e-04,\n",
       "         2.74942721e-02, -1.83974627e-04, -1.22514332e-04,\n",
       "         2.93044438e-04, -1.67392525e-04],\n",
       "       [-2.19745034e-02,  3.69131585e-04,  8.04006971e-02,\n",
       "        -7.97549501e-04, -1.31850154e-03,  2.50478285e-03,\n",
       "        -9.68454161e-04,  2.98653501e-04],\n",
       "       [ 1.07950290e-02,  2.74942721e-02, -7.97549501e-04,\n",
       "         5.47757977e-02, -1.33447006e-04, -4.42441006e-04,\n",
       "         1.09867132e-04, -1.96615177e-04],\n",
       "       [ 8.76282533e-02, -1.83974627e-04, -1.31850154e-03,\n",
       "        -1.33447006e-04,  3.82958008e-04, -3.49252723e-03,\n",
       "        -3.54265703e-04,  1.64115048e-05],\n",
       "       [-9.72970590e-01, -1.22514332e-04,  2.50478285e-03,\n",
       "        -4.42441006e-04, -3.49252723e-03,  3.84583240e-02,\n",
       "         2.94363604e-03, -1.93791423e-04],\n",
       "       [-7.52108067e-02,  2.93044438e-04, -9.68454161e-04,\n",
       "         1.09867132e-04, -3.54265703e-04,  2.94363604e-03,\n",
       "         1.67781123e-02, -1.29050895e-03],\n",
       "       [ 5.08243229e-03, -1.67392525e-04,  2.98653501e-04,\n",
       "        -1.96615177e-04,  1.64115048e-05, -1.93791423e-04,\n",
       "        -1.29050895e-03,  9.51922498e-04]])\n",
       "      jac: array([-7.18383789e-01, -9.88769531e-03,  3.38562012e-01,  7.93457031e-03,\n",
       "       -3.43627930e-02, -1.71760254e+01, -2.08129883e-02, -5.40161133e-02])\n",
       "  message: 'Desired error not necessarily achieved due to precision loss.'\n",
       "     nfev: 2752\n",
       "      nit: 153\n",
       "     njev: 274\n",
       "   status: 2\n",
       "  success: False\n",
       "        x: array([ 316.16519201,   -1.344672  ,   -5.7171735 ,   -4.86989142,\n",
       "       -724.8905673 ,  -18.4493507 ,    5.21724053,    2.8957801 ])"
      ]
     },
     "execution_count": 66,
     "metadata": {},
     "output_type": "execute_result"
    }
   ],
   "source": [
    "est_4 = minimize(loglik_4, init4)\n",
    "\n",
    "est_4"
   ]
  },
  {
   "cell_type": "code",
   "execution_count": 67,
   "metadata": {},
   "outputs": [
    {
     "name": "stdout",
     "output_type": "stream",
     "text": [
      "[2.0360960512647076e+137, 0.260625178824421, 0.00328899410343176, 0.007674198534984502, -724.8905673016349, -18.44935070398948, 5.21724052582315, 2.8957801047095586]\n"
     ]
    }
   ],
   "source": [
    "# Coefficients\n",
    "\n",
    "λM_4 = np.exp(est_4.x[0])\n",
    "λF_4 = np.exp(est_4.x[1])\n",
    "ηM_4 = np.exp(est_4.x[2])\n",
    "ηF_4 = np.exp(est_4.x[3])\n",
    "μM_4 = est_4.x[4]\n",
    "σM_4 = est_4.x[5]\n",
    "μF_4 = est_4.x[6]\n",
    "σF_4 = est_4.x[7]\n",
    "\n",
    "coeff_4 = [λM_4, λF_4, ηM_4, ηF_4, μM_4, σM_4, μF_4, σF_4]\n",
    "\n",
    "print(coeff_4)"
   ]
  },
  {
   "cell_type": "code",
   "execution_count": 68,
   "metadata": {},
   "outputs": [
    {
     "name": "stdout",
     "output_type": "stream",
     "text": [
      "6186.1919220010495\n"
     ]
    }
   ],
   "source": [
    "lnL_4 = est_4.fun\n",
    "\n",
    "print(lnL_4)"
   ]
  },
  {
   "cell_type": "code",
   "execution_count": 69,
   "metadata": {},
   "outputs": [
    {
     "name": "stdout",
     "output_type": "stream",
     "text": [
      "[[4.9648090694403235, 0.1676518689019796, 0.28355016681938594, 0.23404229889119282, 0.01956931291405524, 0.1961079395637774, 0.12953035275294475, 0.03085324128629474], [6186.1919220010495, 9.078549630916258e-27]]\n"
     ]
    }
   ],
   "source": [
    "ts_4 = teststats(est_4.hess_inv, lnL_4, 8)\n",
    "\n",
    "print(ts_4)"
   ]
  },
  {
   "cell_type": "markdown",
   "metadata": {},
   "source": [
    "#### Estimation 1"
   ]
  },
  {
   "cell_type": "code",
   "execution_count": 57,
   "metadata": {},
   "outputs": [],
   "source": [
    "def loglik_1( params: list ):\n",
    "    \"\"\"\n",
    "    Calculates log likelihood with productivity differences, no prejudice (estimation 1).\n",
    "    \n",
    "    Parameters to estimate: λ, η, μM, σM, μF, σF\n",
    "    \"\"\"\n",
    "\n",
    "    λM = np.exp(params[0]) #same lambda\n",
    "    λF = np.exp(params[0]) #same lambda\n",
    "    η = np.exp(params[1]) #same eta\n",
    "#     μM = np.exp(params[2])\n",
    "    μM = params[2]\n",
    "    σM = np.exp(params[3])\n",
    "#     σM = params[3]\n",
    "#     μF = np.exp(params[4])\n",
    "    μF = params[4]\n",
    "    σF = np.exp(params[5])\n",
    "#     σF = params[5]\n",
    "    d = 0\n",
    "    p = 0\n",
    "    \n",
    "    \n",
    "    # Men's equations \n",
    "    hM = hazardM(λM, wstarM, α, μM, σM)\n",
    "    \n",
    "    a = M['dur'].count() * np.log(hM/(hM+η))\n",
    "    b = MU['dur'].count() * np.log(η)\n",
    "    c = - hM * np.sum(MU.values[:,0])\n",
    "    e = np.sum( np.log( (1/α) * dens_accepted(ME['wage'], α, μM, σM, wstarM) ) )\n",
    "    \n",
    "    # Women's equations\n",
    "    hF = hazardF(λM, wstarF, α, μF, σF, p, d)\n",
    "    \n",
    "    f = F['dur'].count() * np.log(hF/(hF+η))\n",
    "    g = FU['dur'].count() * np.log(η)\n",
    "    i = - hF * np.sum(FU.values[:,0])\n",
    "    \n",
    "    y = (1/α) * dens_accepted(FE['wage'], α, μF, σF, wstarF)\n",
    "    \n",
    "    j = np.sum( np.log( y ) )\n",
    "    \n",
    "    \n",
    "    return -(a + b + c + e + f + g + i + j)"
   ]
  },
  {
   "cell_type": "code",
   "execution_count": 58,
   "metadata": {},
   "outputs": [
    {
     "name": "stdout",
     "output_type": "stream",
     "text": [
      "15762.081032459964\n"
     ]
    }
   ],
   "source": [
    "# Check on log-likelihood\n",
    "\n",
    "param1 = [λ_0, η_0, μ_M, σ_M, μ_F, σ_F]\n",
    "\n",
    "b1_0 = np.log(param1[0])\n",
    "b1_1 = np.log(param1[1])\n",
    "# b1_2 = np.log(param1[2])\n",
    "b1_2 = param1[2]\n",
    "b1_3 = np.log(param1[3])\n",
    "# b1_3 = param1[3]\n",
    "# b1_4 = np.log(param1[4])\n",
    "b1_4 = param1[4]\n",
    "b1_5 = np.log(param1[5])\n",
    "# b1_5 = param1[5]\n",
    "\n",
    "init1 = [b1_0, b1_1, b1_2, b1_3, b1_4, b1_5]\n",
    "\n",
    "print(loglik_1(init1))"
   ]
  },
  {
   "cell_type": "code",
   "execution_count": 59,
   "metadata": {},
   "outputs": [
    {
     "name": "stderr",
     "output_type": "stream",
     "text": [
      "/Users/megan.mccoy/anaconda3/lib/python3.6/site-packages/ipykernel_launcher.py:40: RuntimeWarning: divide by zero encountered in log\n",
      "/Users/megan.mccoy/anaconda3/lib/python3.6/site-packages/scipy/optimize/optimize.py:663: RuntimeWarning: invalid value encountered in double_scalars\n",
      "  grad[k] = (f(*((xk + d,) + args)) - f0) / d[k]\n",
      "/Users/megan.mccoy/anaconda3/lib/python3.6/site-packages/ipykernel_launcher.py:40: RuntimeWarning: divide by zero encountered in log\n",
      "/Users/megan.mccoy/anaconda3/lib/python3.6/site-packages/ipykernel_launcher.py:29: RuntimeWarning: divide by zero encountered in log\n",
      "/Users/megan.mccoy/anaconda3/lib/python3.6/site-packages/scipy/optimize/optimize.py:663: RuntimeWarning: invalid value encountered in double_scalars\n",
      "  grad[k] = (f(*((xk + d,) + args)) - f0) / d[k]\n",
      "/Users/megan.mccoy/anaconda3/lib/python3.6/site-packages/ipykernel_launcher.py:29: RuntimeWarning: divide by zero encountered in log\n",
      "/Users/megan.mccoy/anaconda3/lib/python3.6/site-packages/scipy/optimize/optimize.py:663: RuntimeWarning: invalid value encountered in double_scalars\n",
      "  grad[k] = (f(*((xk + d,) + args)) - f0) / d[k]\n",
      "/Users/megan.mccoy/anaconda3/lib/python3.6/site-packages/ipykernel_launcher.py:29: RuntimeWarning: divide by zero encountered in log\n"
     ]
    },
    {
     "data": {
      "text/plain": [
       "      fun: 6190.0344730251945\n",
       " hess_inv: array([[ 1.00984718e-01,  1.18408142e-01,  3.39585926e-02,\n",
       "        -2.24676094e-04,  1.20694543e-02,  2.96089247e-03],\n",
       "       [ 1.18408142e-01,  1.46984222e-01,  4.05265578e-02,\n",
       "        -8.30437298e-04,  1.37073314e-02,  3.69506449e-03],\n",
       "       [ 3.39585926e-02,  4.05265578e-02,  2.30683869e-02,\n",
       "        -1.12074360e-03, -5.94482854e-03,  2.16202660e-03],\n",
       "       [-2.24676094e-04, -8.30437298e-04, -1.12074360e-03,\n",
       "         9.71210766e-04,  4.70240718e-04, -4.80293528e-05],\n",
       "       [ 1.20694543e-02,  1.37073314e-02, -5.94482854e-03,\n",
       "         4.70240718e-04,  2.44795733e-02, -1.35136018e-03],\n",
       "       [ 2.96089247e-03,  3.69506449e-03,  2.16202660e-03,\n",
       "        -4.80293528e-05, -1.35136018e-03,  1.34537335e-03]])\n",
       "      jac: array([0., 0., 0., 0., 0., 0.])\n",
       "  message: 'Optimization terminated successfully.'\n",
       "     nfev: 508\n",
       "      nit: 41\n",
       "     njev: 62\n",
       "   status: 0\n",
       "  success: True\n",
       "        x: array([-1.45175195, -5.25919617,  6.62778406,  3.15568414,  5.21753054,\n",
       "        2.89581226])"
      ]
     },
     "execution_count": 59,
     "metadata": {},
     "output_type": "execute_result"
    }
   ],
   "source": [
    "est_1 = minimize(loglik_1, init1)\n",
    "\n",
    "est_1"
   ]
  },
  {
   "cell_type": "code",
   "execution_count": 60,
   "metadata": {},
   "outputs": [
    {
     "name": "stdout",
     "output_type": "stream",
     "text": [
      "[0.2341596926727771, 0.0051994825566973836, 6.6277840630990035, 3.155684137396635, 5.217530541190654, 2.8958122600497362]\n"
     ]
    }
   ],
   "source": [
    "# Coefficients\n",
    "\n",
    "λ_1 = np.exp(est_1.x[0])\n",
    "η_1 = np.exp(est_1.x[1])\n",
    "# μM_1 = np.exp(est_1.x[2])\n",
    "μM_1 = est_1.x[2]\n",
    "# σM_1 = np.exp(est_1.x[3])\n",
    "σM_1 = est_1.x[3]\n",
    "# μF_1 = np.exp(est_1.x[4])\n",
    "μF_1 = est_1.x[4]\n",
    "# σF_1 = np.exp(est_1.x[5])\n",
    "σF_1 = est_1.x[5]\n",
    "\n",
    "coeff_1 = [λ_1, η_1, μM_1, σM_1, μF_1, σF_1]\n",
    "\n",
    "print(coeff_1)"
   ]
  },
  {
   "cell_type": "code",
   "execution_count": 61,
   "metadata": {},
   "outputs": [
    {
     "name": "stdout",
     "output_type": "stream",
     "text": [
      "6190.0344730251945\n"
     ]
    }
   ],
   "source": [
    "lnL_1 = est_1.fun\n",
    "\n",
    "print(lnL_1)"
   ]
  },
  {
   "cell_type": "code",
   "execution_count": 62,
   "metadata": {},
   "outputs": [
    {
     "name": "stdout",
     "output_type": "stream",
     "text": [
      "[[0.3177809279682816, 0.3833852138890972, 0.15188280661033646, 0.031164254612304, 0.15645949421809457, 0.03667933133752703], [6190.0344730251945, 9.248151564954754e-30]]\n"
     ]
    }
   ],
   "source": [
    "ts_1 = teststats(est_1.hess_inv, lnL_1, 6)\n",
    "\n",
    "print(ts_1)"
   ]
  },
  {
   "cell_type": "markdown",
   "metadata": {},
   "source": [
    "### Output to Latex"
   ]
  },
  {
   "cell_type": "code",
   "execution_count": null,
   "metadata": {},
   "outputs": [],
   "source": [
    "np.arange(1, 10 )"
   ]
  },
  {
   "cell_type": "code",
   "execution_count": null,
   "metadata": {},
   "outputs": [],
   "source": [
    "np.arange(10, 19)"
   ]
  },
  {
   "cell_type": "code",
   "execution_count": null,
   "metadata": {},
   "outputs": [],
   "source": [
    "ts1 = [item for sublist in ts_1 for item in sublist]\n",
    "ts2 = [item for sublist in ts_2 for item in sublist]\n",
    "ts3 = [item for sublist in ts_3 for item in sublist]\n",
    "ts4 = [item for sublist in ts_4 for item in sublist]\n",
    "ts5 = [item for sublist in ts_5 for item in sublist]\n",
    "ts6 = [item for sublist in ts_6 for item in sublist]"
   ]
  },
  {
   "cell_type": "code",
   "execution_count": null,
   "metadata": {},
   "outputs": [],
   "source": [
    "# NA pad coef arrays\n",
    "def pad(coeff: np.array):\n",
    "    while len(coeff) != 11:\n",
    "        coeff.append(None)\n",
    "    return coeff"
   ]
  },
  {
   "cell_type": "code",
   "execution_count": null,
   "metadata": {},
   "outputs": [],
   "source": [
    "# Pad all vectors for dataframe. \n",
    "pad(coeff_1)\n",
    "pad(ts1)\n",
    "pad(coeff_2)\n",
    "pad(ts2)\n",
    "pad(coeff_3)\n",
    "pad(ts3)\n",
    "pad(coeff_4)\n",
    "pad(ts4)\n",
    "pad(coeff_5)\n",
    "pad(ts5)\n",
    "pad(coeff_6)\n",
    "pad(ts6)"
   ]
  },
  {
   "cell_type": "code",
   "execution_count": null,
   "metadata": {},
   "outputs": [],
   "source": [
    "out = pd.DataFrame({\n",
    "    '(1)': coeff_1,\n",
    "    'se1': ts1,\n",
    "    '(2)': coeff_2,\n",
    "    'se2': ts2,\n",
    "    '(3)': coeff_3,\n",
    "    'se_3': ts3,\n",
    "    '(4)': coeff_4,\n",
    "    'se4': ts4,\n",
    "    '(5)': coeff_5,\n",
    "    'se5': ts5,\n",
    "    '(6)': coeff_6,\n",
    "    'se6': ts6\n",
    "})"
   ]
  },
  {
   "cell_type": "code",
   "execution_count": null,
   "metadata": {},
   "outputs": [],
   "source": [
    "np.savetxt('./output_megancode.csv', out, fmt='%1.4f', delimiter=',')"
   ]
  },
  {
   "cell_type": "markdown",
   "metadata": {},
   "source": [
    "## Scratch"
   ]
  },
  {
   "cell_type": "code",
   "execution_count": null,
   "metadata": {},
   "outputs": [],
   "source": [
    "def lambdaM(h: float, wstarM: float, α: float, μ: float, σ: float):\n",
    "    \"\"\"\n",
    "    Estimates lambda for men\n",
    "    \"\"\"\n",
    "    \n",
    "    l = (α*μ) + ((1-α)*wstarM)\n",
    "    s = α * σ\n",
    "    shape = 1\n",
    "    \n",
    "    sf_in = (wstarM-l)/s\n",
    "    \n",
    "    denom = stats.lognorm.sf(sf_in, shape, l, s)\n",
    "    \n",
    "    return h/denom"
   ]
  },
  {
   "cell_type": "code",
   "execution_count": null,
   "metadata": {},
   "outputs": [],
   "source": [
    "def lambdaF(h: float, wstarF: float, α: float, μ: float, σ: float, p: float, d: float):\n",
    "    \"\"\"\n",
    "    Estimates lambda for women\n",
    "    \"\"\"\n",
    "    \n",
    "    l1 = (α*μ) + ((1-α)*wstarF)\n",
    "    l2 = (α*μ) + ((1-α)*wstarF) - α*d\n",
    "    s = α * σ\n",
    "    shape = 1\n",
    "    \n",
    "    sf_in1 = (wstarF-l1)/s\n",
    "    sf_in2 = (wstarF-l2)/s\n",
    "    \n",
    "    denom = (1-p)*stats.lognorm.sf(sf_in1, shape, l1, s) + p*stats.lognorm.sf(sf_in2, shape, l2, s)\n",
    "    \n",
    "    return h/denom"
   ]
  },
  {
   "cell_type": "markdown",
   "metadata": {},
   "source": [
    "### Accepted Wage Function and Distributions as in 17, 18"
   ]
  },
  {
   "cell_type": "code",
   "execution_count": null,
   "metadata": {},
   "outputs": [],
   "source": [
    "def wagefxn(wage: np.array, α: float, wstar: float):\n",
    "    \"\"\"\n",
    "    Calculates wage (equation 8)\n",
    "    \"\"\"\n",
    "    \n",
    "    num = wage - (1-α)*wstar\n",
    "    denom = α\n",
    "    \n",
    "    return num/denom"
   ]
  },
  {
   "cell_type": "code",
   "execution_count": null,
   "metadata": {},
   "outputs": [],
   "source": [
    "def dens_accepted(wage: np.array, α: float, μ: float, σ: float, wstar: float):\n",
    "    \"\"\"\n",
    "    Calculates the density of accepted wages using the lognormal distribution (eq 17 and first part of eq 18 in the paper)\n",
    "    \"\"\"\n",
    "    \n",
    "    l = (α*μ) + ((1-α)*wstar)\n",
    "    s = α*σ\n",
    "    shape = 1\n",
    "    \n",
    "    sf_in = (wstar-l)/s\n",
    "    \n",
    "    num = stats.lognorm.pdf(wage, shape, l, s) \n",
    "#     denom = stats.lognorm.sf(wstar, shape, l, s)\n",
    "    denom = stats.lognorm.sf(sf_in, shape, loc=0, scale=1)\n",
    "    \n",
    "    return num / denom"
   ]
  },
  {
   "cell_type": "code",
   "execution_count": null,
   "metadata": {},
   "outputs": [],
   "source": [
    "def dens_accepted_prej(wage: np.array, α: float, μ: float, σ: float, wstar: float, d: float):\n",
    "    \"\"\"\n",
    "    Calculates the density of accepted wages when prejudice is present using the lognormal distribution (second part of eq 18 in the paper)\n",
    "    \"\"\"\n",
    "    \n",
    "    l = (α*μ) + ((1-α)*wstar) - (α*d)\n",
    "    s = α*σ\n",
    "    shape = 1\n",
    "    \n",
    "    sf_in = (wstar+d-l)/s\n",
    "    \n",
    "    num = stats.lognorm.pdf(wage,shape,l,s) \n",
    "#     denom = stats.lognorm.sf(wstar, shape, l, s) # +d or -d or no d?\n",
    "    denom = stats.lognorm.sf(sf_in, shape, loc=0, scale=1)    \n",
    "    \n",
    "    return num / denom"
   ]
  },
  {
   "cell_type": "code",
   "execution_count": null,
   "metadata": {},
   "outputs": [],
   "source": [
    "def hazardM(λ: float, wstar: float, α: float, μ: float, σ: float):\n",
    "    \"\"\"\n",
    "    Estimates hazard rate for men (eq 10 of the paper)\n",
    "    \"\"\"\n",
    "        \n",
    "    l = (α*μ) + ((1-α)*wstar)\n",
    "    s = α*σ\n",
    "    shape = 1\n",
    "    \n",
    "    sf_in = (wstar-l)/s\n",
    "\n",
    "#     mult = stats.lognorm.sf(wstar, shape, l, s)\n",
    "    mult = stats.lognorm.sf(sf_in, shape, loc=0, scale=1)\n",
    "    \n",
    "    return λ * mult"
   ]
  },
  {
   "cell_type": "code",
   "execution_count": null,
   "metadata": {},
   "outputs": [],
   "source": [
    "def hazardF(λ: float, wstar: float, α: float, μ: float, σ: float, p: float, d: float):\n",
    "    \"\"\"\n",
    "    Estimates hazard rate for women (eq 10 of the paper)\n",
    "    \"\"\"\n",
    "    \n",
    "    l1 = (α*μ) + ((1-α)*wstar)\n",
    "    l2 = (α*μ) + ((1-α)*wstar) - (α*d)\n",
    "    s = α*σ\n",
    "    shape = 1\n",
    "    \n",
    "    sf_in1 = (wstar-l1)/s\n",
    "    sf_in2 = (wstar+d-l2)/s\n",
    "    \n",
    "#     mult = (1-p)*stats.lognorm.sf(wstar, shape, l1, s) + p*stats.lognorm.sf(wstar, shape, l2, s)\n",
    "    mult = (1-p)*stats.lognorm.sf(sf_in1, shape, loc=0, scale=1) + p*stats.lognorm.sf(sf_in2, shape, loc=0, scale=1)\n",
    "    \n",
    "    return λ * mult"
   ]
  },
  {
   "cell_type": "code",
   "execution_count": null,
   "metadata": {},
   "outputs": [],
   "source": []
  }
 ],
 "metadata": {
  "kernelspec": {
   "display_name": "Python 3",
   "language": "python",
   "name": "python3"
  },
  "language_info": {
   "codemirror_mode": {
    "name": "ipython",
    "version": 3
   },
   "file_extension": ".py",
   "mimetype": "text/x-python",
   "name": "python",
   "nbconvert_exporter": "python",
   "pygments_lexer": "ipython3",
   "version": "3.6.5"
  }
 },
 "nbformat": 4,
 "nbformat_minor": 2
}
