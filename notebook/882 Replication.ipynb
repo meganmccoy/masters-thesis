{
 "cells": [
  {
   "cell_type": "markdown",
   "metadata": {},
   "source": [
    "# 882 Replication Paper: Flabbi 2010\n",
    "\n",
    "- Read in data\n",
    "- Define log-normal pdf & cdf \n",
    "- Estimate men and women separately to allow for parameters to very by gender"
   ]
  },
  {
   "cell_type": "markdown",
   "metadata": {},
   "source": [
    "## Import Packages"
   ]
  },
  {
   "cell_type": "code",
   "execution_count": 1,
   "metadata": {},
   "outputs": [
    {
     "name": "stderr",
     "output_type": "stream",
     "text": [
      "/Users/megan.mccoy/anaconda3/lib/python3.6/site-packages/seaborn/apionly.py:6: UserWarning: As seaborn no longer sets a default style on import, the seaborn.apionly module is deprecated. It will be removed in a future version.\n",
      "  warnings.warn(msg, UserWarning)\n"
     ]
    }
   ],
   "source": [
    "# Data Manipulation \n",
    "import numpy as np\n",
    "import pandas as pd\n",
    "\n",
    "# General\n",
    "import pdb\n",
    "\n",
    "# Estimation\n",
    "from scipy.optimize import minimize\n",
    "import scipy.stats as stats\n",
    "# import numdifftools as ndt\n",
    "\n",
    "# Data Visualization\n",
    "import matplotlib.pyplot as plt\n",
    "%matplotlib inline\n",
    "import seaborn.apionly as sns\n",
    "from pylab import *"
   ]
  },
  {
   "cell_type": "markdown",
   "metadata": {},
   "source": [
    "## Import Data \n",
    "\n",
    "- CPS data on gender, wages, duration of unemployment\n",
    "- M: males\n",
    "- F: females\n",
    "- U: unemployed\n",
    "- E: employed \n",
    "- {M,F} X {E,U} = {males,females} X {employed, unemployed}"
   ]
  },
  {
   "cell_type": "code",
   "execution_count": 2,
   "metadata": {},
   "outputs": [],
   "source": [
    "data=pd.read_csv('../data/est_c.csv')\n",
    "data.columns = ['dur', 'wage', 'empl', 'women']\n",
    "\n",
    "M = data[data['women']==0] #1186 men \n",
    "F = data[data['women']==1] #993 women \n",
    "U = data[data['empl']==0] #45 unemployed\n",
    "E = data[data['empl']==1] #2134 employed\n",
    "\n",
    "ME = M[M['empl']==1] #1109 employed men\n",
    "MU = M[M['empl']==0] #18 unemployed men\n",
    "FE = F[F['empl']==1] #966 employed women\n",
    "FU = F[F['empl']==0] #27 unemployed women"
   ]
  },
  {
   "cell_type": "code",
   "execution_count": 3,
   "metadata": {},
   "outputs": [
    {
     "data": {
      "text/html": [
       "<div>\n",
       "<style scoped>\n",
       "    .dataframe tbody tr th:only-of-type {\n",
       "        vertical-align: middle;\n",
       "    }\n",
       "\n",
       "    .dataframe tbody tr th {\n",
       "        vertical-align: top;\n",
       "    }\n",
       "\n",
       "    .dataframe thead th {\n",
       "        text-align: right;\n",
       "    }\n",
       "</style>\n",
       "<table border=\"1\" class=\"dataframe\">\n",
       "  <thead>\n",
       "    <tr style=\"text-align: right;\">\n",
       "      <th></th>\n",
       "      <th>dur</th>\n",
       "      <th>wage</th>\n",
       "      <th>empl</th>\n",
       "      <th>women</th>\n",
       "    </tr>\n",
       "  </thead>\n",
       "  <tbody>\n",
       "    <tr>\n",
       "      <th>count</th>\n",
       "      <td>2179.000000</td>\n",
       "      <td>2179.000000</td>\n",
       "      <td>2179.000000</td>\n",
       "      <td>2179.000000</td>\n",
       "    </tr>\n",
       "    <tr>\n",
       "      <th>mean</th>\n",
       "      <td>0.088220</td>\n",
       "      <td>18.756224</td>\n",
       "      <td>0.979348</td>\n",
       "      <td>0.455714</td>\n",
       "    </tr>\n",
       "    <tr>\n",
       "      <th>std</th>\n",
       "      <td>0.824531</td>\n",
       "      <td>9.781042</td>\n",
       "      <td>0.142248</td>\n",
       "      <td>0.498149</td>\n",
       "    </tr>\n",
       "    <tr>\n",
       "      <th>min</th>\n",
       "      <td>0.000000</td>\n",
       "      <td>0.000000</td>\n",
       "      <td>0.000000</td>\n",
       "      <td>0.000000</td>\n",
       "    </tr>\n",
       "    <tr>\n",
       "      <th>25%</th>\n",
       "      <td>0.000000</td>\n",
       "      <td>12.000000</td>\n",
       "      <td>1.000000</td>\n",
       "      <td>0.000000</td>\n",
       "    </tr>\n",
       "    <tr>\n",
       "      <th>50%</th>\n",
       "      <td>0.000000</td>\n",
       "      <td>17.440000</td>\n",
       "      <td>1.000000</td>\n",
       "      <td>0.000000</td>\n",
       "    </tr>\n",
       "    <tr>\n",
       "      <th>75%</th>\n",
       "      <td>0.000000</td>\n",
       "      <td>24.038750</td>\n",
       "      <td>1.000000</td>\n",
       "      <td>1.000000</td>\n",
       "    </tr>\n",
       "    <tr>\n",
       "      <th>max</th>\n",
       "      <td>15.000000</td>\n",
       "      <td>65.000000</td>\n",
       "      <td>1.000000</td>\n",
       "      <td>1.000000</td>\n",
       "    </tr>\n",
       "  </tbody>\n",
       "</table>\n",
       "</div>"
      ],
      "text/plain": [
       "               dur         wage         empl        women\n",
       "count  2179.000000  2179.000000  2179.000000  2179.000000\n",
       "mean      0.088220    18.756224     0.979348     0.455714\n",
       "std       0.824531     9.781042     0.142248     0.498149\n",
       "min       0.000000     0.000000     0.000000     0.000000\n",
       "25%       0.000000    12.000000     1.000000     0.000000\n",
       "50%       0.000000    17.440000     1.000000     0.000000\n",
       "75%       0.000000    24.038750     1.000000     1.000000\n",
       "max      15.000000    65.000000     1.000000     1.000000"
      ]
     },
     "execution_count": 3,
     "metadata": {},
     "output_type": "execute_result"
    }
   ],
   "source": [
    "data.describe()"
   ]
  },
  {
   "cell_type": "markdown",
   "metadata": {},
   "source": [
    "### Summary Statistics, without trimming"
   ]
  },
  {
   "cell_type": "code",
   "execution_count": 4,
   "metadata": {},
   "outputs": [],
   "source": [
    "agg_dict = {\n",
    "    'wage': ['mean', 'std'],\n",
    "    'dur': ['mean', 'std'],\n",
    "}"
   ]
  },
  {
   "cell_type": "code",
   "execution_count": 5,
   "metadata": {},
   "outputs": [
    {
     "name": "stdout",
     "output_type": "stream",
     "text": [
      "\\begin{tabular}{llrrrr}\n",
      "\\toprule\n",
      "  &   & \\multicolumn{2}{l}{wage} & \\multicolumn{2}{l}{dur} \\\\\n",
      "  &   &       mean &       std &      mean &       std \\\\\n",
      "women & empl &            &           &           &           \\\\\n",
      "\\midrule\n",
      "0 & 0 &   0.000000 &  0.000000 &  4.923077 &  4.687447 \\\\\n",
      "  & 1 &  21.258393 &  9.890162 &  0.000000 &  0.000000 \\\\\n",
      "1 & 0 &   0.000000 &  0.000000 &  3.837607 &  3.341191 \\\\\n",
      "  & 1 &  16.604563 &  8.307586 &  0.000000 &  0.000000 \\\\\n",
      "\\bottomrule\n",
      "\\end{tabular}\n",
      "\n"
     ]
    }
   ],
   "source": [
    "print(data.groupby(['women', 'empl']).agg(agg_dict).to_latex()) # by gender"
   ]
  },
  {
   "cell_type": "code",
   "execution_count": 6,
   "metadata": {},
   "outputs": [
    {
     "name": "stdout",
     "output_type": "stream",
     "text": [
      "\\begin{tabular}{lrrrr}\n",
      "\\toprule\n",
      "{} & \\multicolumn{2}{l}{wage} & \\multicolumn{2}{l}{dur} \\\\\n",
      "{} &       mean &       std &      mean &       std \\\\\n",
      "empl &            &           &           &           \\\\\n",
      "\\midrule\n",
      "0    &   0.000000 &  0.000000 &  4.271795 &  3.921109 \\\\\n",
      "1    &  19.151739 &  9.492563 &  0.000000 &  0.000000 \\\\\n",
      "\\bottomrule\n",
      "\\end{tabular}\n",
      "\n"
     ]
    }
   ],
   "source": [
    "print(data.groupby(['empl']).agg(agg_dict).to_latex()) # all"
   ]
  },
  {
   "cell_type": "markdown",
   "metadata": {},
   "source": [
    "### Summary Statistics, with trimming"
   ]
  },
  {
   "cell_type": "code",
   "execution_count": 6,
   "metadata": {},
   "outputs": [
    {
     "name": "stdout",
     "output_type": "stream",
     "text": [
      "7.2700000000000005\n"
     ]
    }
   ],
   "source": [
    "print(np.percentile(ME['wage'], 5))"
   ]
  },
  {
   "cell_type": "code",
   "execution_count": 7,
   "metadata": {},
   "outputs": [
    {
     "name": "stdout",
     "output_type": "stream",
     "text": [
      "5.75625\n"
     ]
    }
   ],
   "source": [
    "print(np.percentile(FE['wage'], 5))"
   ]
  },
  {
   "cell_type": "code",
   "execution_count": 35,
   "metadata": {},
   "outputs": [],
   "source": [
    "M_WAGE_COND = (data['wage'] > 7.27) #hard coded percentile so it does not continually update\n",
    "M_COND = (data['women'] == 0)\n",
    "\n",
    "F_WAGE_COND = (data['wage'] > 5.75625) #hard coded percentile so it does not continually update\n",
    "F_COND = (data['women'] == 1)\n",
    "\n",
    "DUR_COND = (data['dur'] > 0)\n",
    "\n",
    "trim = data[ (M_COND & M_WAGE_COND) | (F_COND & F_WAGE_COND) | DUR_COND ]\n",
    "\n",
    "# trim = data[ (M_COND & (M_WAGE_COND | DUR_COND)) | (F_COND & (F_WAGE_COND | DUR_COND)) ]\n",
    "\n",
    "M = trim[trim['women']==0] #1071 ?? men \n",
    "F = trim[trim['women']==1] #944 ?? women \n",
    "U = trim[trim['empl']==0] #45 unemployed\n",
    "E = trim[trim['empl']==1] #1970 ?? employed\n",
    "\n",
    "ME = M[M['empl']==1] #1053 ?? employed men\n",
    "MU = M[M['empl']==0] #18 unemployed men\n",
    "FE = F[F['empl']==1] #917 employed women\n",
    "FU = F[F['empl']==0] #27 unemployed women"
   ]
  },
  {
   "cell_type": "code",
   "execution_count": 40,
   "metadata": {},
   "outputs": [
    {
     "data": {
      "text/html": [
       "<div>\n",
       "<style scoped>\n",
       "    .dataframe tbody tr th:only-of-type {\n",
       "        vertical-align: middle;\n",
       "    }\n",
       "\n",
       "    .dataframe tbody tr th {\n",
       "        vertical-align: top;\n",
       "    }\n",
       "\n",
       "    .dataframe thead th {\n",
       "        text-align: right;\n",
       "    }\n",
       "</style>\n",
       "<table border=\"1\" class=\"dataframe\">\n",
       "  <thead>\n",
       "    <tr style=\"text-align: right;\">\n",
       "      <th></th>\n",
       "      <th>dur</th>\n",
       "      <th>wage</th>\n",
       "      <th>empl</th>\n",
       "      <th>women</th>\n",
       "    </tr>\n",
       "  </thead>\n",
       "  <tbody>\n",
       "    <tr>\n",
       "      <th>count</th>\n",
       "      <td>917.0</td>\n",
       "      <td>917.000000</td>\n",
       "      <td>917.0</td>\n",
       "      <td>917.0</td>\n",
       "    </tr>\n",
       "    <tr>\n",
       "      <th>mean</th>\n",
       "      <td>0.0</td>\n",
       "      <td>17.263817</td>\n",
       "      <td>1.0</td>\n",
       "      <td>1.0</td>\n",
       "    </tr>\n",
       "    <tr>\n",
       "      <th>std</th>\n",
       "      <td>0.0</td>\n",
       "      <td>8.002224</td>\n",
       "      <td>0.0</td>\n",
       "      <td>0.0</td>\n",
       "    </tr>\n",
       "    <tr>\n",
       "      <th>min</th>\n",
       "      <td>0.0</td>\n",
       "      <td>5.775000</td>\n",
       "      <td>1.0</td>\n",
       "      <td>1.0</td>\n",
       "    </tr>\n",
       "    <tr>\n",
       "      <th>25%</th>\n",
       "      <td>0.0</td>\n",
       "      <td>11.769230</td>\n",
       "      <td>1.0</td>\n",
       "      <td>1.0</td>\n",
       "    </tr>\n",
       "    <tr>\n",
       "      <th>50%</th>\n",
       "      <td>0.0</td>\n",
       "      <td>15.911110</td>\n",
       "      <td>1.0</td>\n",
       "      <td>1.0</td>\n",
       "    </tr>\n",
       "    <tr>\n",
       "      <th>75%</th>\n",
       "      <td>0.0</td>\n",
       "      <td>21.000000</td>\n",
       "      <td>1.0</td>\n",
       "      <td>1.0</td>\n",
       "    </tr>\n",
       "    <tr>\n",
       "      <th>max</th>\n",
       "      <td>0.0</td>\n",
       "      <td>64.100000</td>\n",
       "      <td>1.0</td>\n",
       "      <td>1.0</td>\n",
       "    </tr>\n",
       "  </tbody>\n",
       "</table>\n",
       "</div>"
      ],
      "text/plain": [
       "         dur        wage   empl  women\n",
       "count  917.0  917.000000  917.0  917.0\n",
       "mean     0.0   17.263817    1.0    1.0\n",
       "std      0.0    8.002224    0.0    0.0\n",
       "min      0.0    5.775000    1.0    1.0\n",
       "25%      0.0   11.769230    1.0    1.0\n",
       "50%      0.0   15.911110    1.0    1.0\n",
       "75%      0.0   21.000000    1.0    1.0\n",
       "max      0.0   64.100000    1.0    1.0"
      ]
     },
     "execution_count": 40,
     "metadata": {},
     "output_type": "execute_result"
    }
   ],
   "source": [
    "FE.describe()"
   ]
  },
  {
   "cell_type": "code",
   "execution_count": 37,
   "metadata": {},
   "outputs": [
    {
     "name": "stdout",
     "output_type": "stream",
     "text": [
      "\\begin{tabular}{llrrrr}\n",
      "\\toprule\n",
      "  &   & \\multicolumn{2}{l}{wage} & \\multicolumn{2}{l}{dur} \\\\\n",
      "  &   &       mean &       std &      mean &       std \\\\\n",
      "women & empl &            &           &           &           \\\\\n",
      "\\midrule\n",
      "0 & 0 &   0.000000 &  0.000000 &  4.923077 &  4.687447 \\\\\n",
      "  & 1 &  22.093013 &  9.440473 &  0.000000 &  0.000000 \\\\\n",
      "1 & 0 &   0.000000 &  0.000000 &  3.837607 &  3.341191 \\\\\n",
      "  & 1 &  17.263817 &  8.002224 &  0.000000 &  0.000000 \\\\\n",
      "\\bottomrule\n",
      "\\end{tabular}\n",
      "\n"
     ]
    }
   ],
   "source": [
    "print(trim.groupby(['women', 'empl']).agg(agg_dict).to_latex()) # by gender"
   ]
  },
  {
   "cell_type": "code",
   "execution_count": 38,
   "metadata": {},
   "outputs": [
    {
     "name": "stdout",
     "output_type": "stream",
     "text": [
      "\\begin{tabular}{lrrrr}\n",
      "\\toprule\n",
      "{} & \\multicolumn{2}{l}{wage} & \\multicolumn{2}{l}{dur} \\\\\n",
      "{} &       mean &       std &      mean &       std \\\\\n",
      "empl &            &           &           &           \\\\\n",
      "\\midrule\n",
      "0    &   0.000000 &  0.000000 &  4.271795 &  3.921109 \\\\\n",
      "1    &  19.907242 &  9.138453 &  0.000000 &  0.000000 \\\\\n",
      "\\bottomrule\n",
      "\\end{tabular}\n",
      "\n"
     ]
    }
   ],
   "source": [
    "print(trim.groupby(['empl']).agg(agg_dict).to_latex()) # all"
   ]
  },
  {
   "cell_type": "markdown",
   "metadata": {},
   "source": [
    "## Figures \n",
    "\n",
    "- Distribution of wages, men and women"
   ]
  },
  {
   "cell_type": "code",
   "execution_count": 41,
   "metadata": {},
   "outputs": [
    {
     "name": "stderr",
     "output_type": "stream",
     "text": [
      "/Users/megan.mccoy/anaconda3/lib/python3.6/site-packages/matplotlib/axes/_axes.py:6462: UserWarning: The 'normed' kwarg is deprecated, and has been replaced by the 'density' kwarg.\n",
      "  warnings.warn(\"The 'normed' kwarg is deprecated, and has been \"\n",
      "/Users/megan.mccoy/anaconda3/lib/python3.6/site-packages/matplotlib/axes/_axes.py:6462: UserWarning: The 'normed' kwarg is deprecated, and has been replaced by the 'density' kwarg.\n",
      "  warnings.warn(\"The 'normed' kwarg is deprecated, and has been \"\n"
     ]
    },
    {
     "data": {
      "image/png": "[encoded data removed]",
      "text/plain": [
       "<Figure size 864x576 with 2 Axes>"
      ]
     },
     "metadata": {},
     "output_type": "display_data"
    }
   ],
   "source": [
    "# Seaborn\n",
    "fig, ax = plt.subplots(2, 1, figsize=(12, 8))\n",
    "\n",
    "sns.distplot(ME['wage'], color='#4B9CD3', hist_kws={'alpha' : .3}, bins=50, ax=ax[0])\n",
    "sns.distplot(FE['wage'], color='#4B9CD3', hist_kws={'alpha' : .3}, bins=50, ax=ax[1])\n",
    "\n",
    "ax[0].legend(['Men'])\n",
    "ax[1].legend(['Women']) \n",
    "\n",
    "plt.tight_layout()"
   ]
  },
  {
   "cell_type": "code",
   "execution_count": 13,
   "metadata": {},
   "outputs": [],
   "source": [
    "fig.savefig('./figures/fig1_2.png', bbox_inches='tight', transparent=True)"
   ]
  },
  {
   "cell_type": "markdown",
   "metadata": {},
   "source": [
    "## Estimation \n",
    "\n",
    "- Estimations 1-3: Same arrival and termination rates\n",
    "- Estimations 4-6: Gender specific arrival and termination rates"
   ]
  },
  {
   "cell_type": "code",
   "execution_count": 42,
   "metadata": {},
   "outputs": [],
   "source": [
    "# Initial Conditions\n",
    "\n",
    "wstarM = min(ME['wage'])\n",
    "wstarF = min(FE['wage'])\n",
    "\n",
    "λ_M = 0.22\n",
    "λ_F = 0.22\n",
    "η_M = 0.005\n",
    "η_F = 0.005\n",
    "# α = 0.5  #FIXED\n",
    "μ_M = 3.456\n",
    "μ_F= 3.454\n",
    "σ_M = 0.558\n",
    "σ_F = 0.423\n",
    "p = 0.5\n",
    "d_F = 10\n",
    "# d_M = 0   #FIXED"
   ]
  },
  {
   "cell_type": "markdown",
   "metadata": {},
   "source": [
    "### Wage Function"
   ]
  },
  {
   "cell_type": "code",
   "execution_count": 43,
   "metadata": {},
   "outputs": [],
   "source": [
    "def f_w(wage: np.array, α: float, wstar: float):\n",
    "    \"\"\"\n",
    "    Wage functions\n",
    "    \"\"\"\n",
    "    return (wage - (1-α)*wstar)*(1/α)"
   ]
  },
  {
   "cell_type": "markdown",
   "metadata": {},
   "source": [
    "### Estimation 1: Same arrival and termination, Productivity Differences, No Prejudice"
   ]
  },
  {
   "cell_type": "code",
   "execution_count": 44,
   "metadata": {},
   "outputs": [],
   "source": [
    "def loglik1(params: list):\n",
    "    \"\"\"\n",
    "    Calculates the log likelihood with the log normal distribution\n",
    "    \"\"\"\n",
    "    \n",
    "    λ = np.exp(params[0])\n",
    "    η = np.exp(params[1])\n",
    "    μ_M = params[2]\n",
    "    σ_M = np.exp(params[3])\n",
    "    μ_F = params[4]\n",
    "    σ_F = np.exp(params[5])\n",
    "    d_F = 0\n",
    "    p = 0\n",
    "    α = 0.5\n",
    "\n",
    "    \n",
    "    hM = λ * ( (1-stats.lognorm.cdf(wstarM,μ_M,σ_M)) );\n",
    "    L00 = (η/(η+hM)) * hM * np.exp(-hM*np.sum(MU.values[:,0])); #unemployed men\n",
    "\n",
    "    L01a = ( ( (1/α)*stats.lognorm.pdf(f_w(ME.values[:,1],α,wstarM),μ_M,σ_M) )/(1-stats.lognorm.cdf(wstarM,μ_M,σ_M)) );\n",
    "    L01 = np.log(hM/(η+hM)) + np.sum( np.log(L01a) ); #employed men\n",
    "    \n",
    "    hF = λ*( (1-p)*(1-stats.lognorm.cdf(wstarF,μ_F,σ_F)) + p*(1-stats.lognorm.cdf((wstarF+d_F),μ_F,σ_F)) );\n",
    "    L10 = ( (η/(η+hF)) * hF * np.exp(-hF*np.sum(FU.values[:,0])) ); #unemployed women\n",
    "\n",
    "    L11a = ( ( ((1-p)/α)*stats.lognorm.pdf(f_w(FE.values[:,1],α,wstarF),μ_F,σ_F) ) / (1-stats.lognorm.cdf(wstarF,μ_F,σ_F)) );\n",
    "    L11b = ( ( (p/α)*stats.lognorm.pdf(f_w((FE.values[:,1]+α*d_F),α,wstarF),μ_F,σ_F) ) / (1-stats.lognorm.cdf((wstarF+d_F),μ_F,σ_F)) );\n",
    "    L11 = np.log(hF/(η+hF)) + np.sum( np.log(L11a + L11b) ); #employed women\n",
    "\n",
    "    results = np.log(L00) + L01 + np.log(L10) + L11\n",
    "\n",
    "    return -1*results"
   ]
  },
  {
   "cell_type": "code",
   "execution_count": 51,
   "metadata": {},
   "outputs": [],
   "source": [
    "init1 = [λ_M, η_M, μ_M, σ_M, μ_F, σ_F]\n",
    "\n",
    "est1 = minimize(loglik1, init1, method='nelder-mead', options={'maxiter': 10000})"
   ]
  },
  {
   "cell_type": "code",
   "execution_count": 48,
   "metadata": {},
   "outputs": [
    {
     "name": "stdout",
     "output_type": "stream",
     "text": [
      "[ -3.01297622  -4.57125719   2.37653876 -13.63984137   2.28903797\n",
      " -15.75794221]\n",
      "-7949.470226031752\n"
     ]
    }
   ],
   "source": [
    "# est1 default\n",
    "\n",
    "print(est1.x)\n",
    "print(-loglik1(est1.x))"
   ]
  },
  {
   "cell_type": "code",
   "execution_count": 52,
   "metadata": {},
   "outputs": [
    {
     "name": "stdout",
     "output_type": "stream",
     "text": [
      "[-3.01291264e+00 -4.57096806e+00  2.37653919e+00 -1.69191267e+02\n",
      "  2.28903646e+00 -2.33688224e+04]\n",
      "-7949.470192520894\n"
     ]
    }
   ],
   "source": [
    "# est1 nelder\n",
    "\n",
    "print(est1.x)\n",
    "print(-loglik1(est1.x))"
   ]
  },
  {
   "cell_type": "markdown",
   "metadata": {},
   "source": [
    "#### Test Statistics"
   ]
  },
  {
   "cell_type": "code",
   "execution_count": 53,
   "metadata": {},
   "outputs": [
    {
     "ename": "AttributeError",
     "evalue": "hess_inv",
     "output_type": "error",
     "traceback": [
      "\u001b[0;31m---------------------------------------------------------------------------\u001b[0m",
      "\u001b[0;31mKeyError\u001b[0m                                  Traceback (most recent call last)",
      "\u001b[0;32m~/anaconda3/lib/python3.6/site-packages/scipy/optimize/optimize.py\u001b[0m in \u001b[0;36m__getattr__\u001b[0;34m(self, name)\u001b[0m\n\u001b[1;32m    113\u001b[0m         \u001b[0;32mtry\u001b[0m\u001b[0;34m:\u001b[0m\u001b[0;34m\u001b[0m\u001b[0m\n\u001b[0;32m--> 114\u001b[0;31m             \u001b[0;32mreturn\u001b[0m \u001b[0mself\u001b[0m\u001b[0;34m[\u001b[0m\u001b[0mname\u001b[0m\u001b[0;34m]\u001b[0m\u001b[0;34m\u001b[0m\u001b[0m\n\u001b[0m\u001b[1;32m    115\u001b[0m         \u001b[0;32mexcept\u001b[0m \u001b[0mKeyError\u001b[0m\u001b[0;34m:\u001b[0m\u001b[0;34m\u001b[0m\u001b[0m\n",
      "\u001b[0;31mKeyError\u001b[0m: 'hess_inv'",
      "\nDuring handling of the above exception, another exception occurred:\n",
      "\u001b[0;31mAttributeError\u001b[0m                            Traceback (most recent call last)",
      "\u001b[0;32m<ipython-input-53-550ef3b1ba3d>\u001b[0m in \u001b[0;36m<module>\u001b[0;34m()\u001b[0m\n\u001b[1;32m      1\u001b[0m \u001b[0;31m# Standard Errors\u001b[0m\u001b[0;34m\u001b[0m\u001b[0;34m\u001b[0m\u001b[0m\n\u001b[1;32m      2\u001b[0m \u001b[0;34m\u001b[0m\u001b[0m\n\u001b[0;32m----> 3\u001b[0;31m \u001b[0mvcv_mle1\u001b[0m \u001b[0;34m=\u001b[0m \u001b[0mest1\u001b[0m\u001b[0;34m.\u001b[0m\u001b[0mhess_inv\u001b[0m\u001b[0;34m\u001b[0m\u001b[0m\n\u001b[0m\u001b[1;32m      4\u001b[0m \u001b[0mse1\u001b[0m \u001b[0;34m=\u001b[0m \u001b[0mnp\u001b[0m\u001b[0;34m.\u001b[0m\u001b[0msqrt\u001b[0m\u001b[0;34m(\u001b[0m\u001b[0mnp\u001b[0m\u001b[0;34m.\u001b[0m\u001b[0mdiag\u001b[0m\u001b[0;34m(\u001b[0m\u001b[0mvcv_mle1\u001b[0m\u001b[0;34m)\u001b[0m\u001b[0;34m)\u001b[0m\u001b[0;34m\u001b[0m\u001b[0m\n\u001b[1;32m      5\u001b[0m \u001b[0mprint\u001b[0m\u001b[0;34m(\u001b[0m\u001b[0;34m'Standard errors are given in '\u001b[0m\u001b[0;34m,\u001b[0m \u001b[0mse1\u001b[0m\u001b[0;34m)\u001b[0m\u001b[0;34m\u001b[0m\u001b[0m\n",
      "\u001b[0;32m~/anaconda3/lib/python3.6/site-packages/scipy/optimize/optimize.py\u001b[0m in \u001b[0;36m__getattr__\u001b[0;34m(self, name)\u001b[0m\n\u001b[1;32m    114\u001b[0m             \u001b[0;32mreturn\u001b[0m \u001b[0mself\u001b[0m\u001b[0;34m[\u001b[0m\u001b[0mname\u001b[0m\u001b[0;34m]\u001b[0m\u001b[0;34m\u001b[0m\u001b[0m\n\u001b[1;32m    115\u001b[0m         \u001b[0;32mexcept\u001b[0m \u001b[0mKeyError\u001b[0m\u001b[0;34m:\u001b[0m\u001b[0;34m\u001b[0m\u001b[0m\n\u001b[0;32m--> 116\u001b[0;31m             \u001b[0;32mraise\u001b[0m \u001b[0mAttributeError\u001b[0m\u001b[0;34m(\u001b[0m\u001b[0mname\u001b[0m\u001b[0;34m)\u001b[0m\u001b[0;34m\u001b[0m\u001b[0m\n\u001b[0m\u001b[1;32m    117\u001b[0m \u001b[0;34m\u001b[0m\u001b[0m\n\u001b[1;32m    118\u001b[0m     \u001b[0m__setattr__\u001b[0m \u001b[0;34m=\u001b[0m \u001b[0mdict\u001b[0m\u001b[0;34m.\u001b[0m\u001b[0m__setitem__\u001b[0m\u001b[0;34m\u001b[0m\u001b[0m\n",
      "\u001b[0;31mAttributeError\u001b[0m: hess_inv"
     ]
    }
   ],
   "source": [
    "# Standard Errors\n",
    "\n",
    "vcv_mle1 = est1.hess_inv\n",
    "se1 = np.sqrt(np.diag(vcv_mle1))\n",
    "print('Standard errors are given in ', se1)\n",
    "\n",
    "# Likelihood Ratio Test\n",
    "\n",
    "LR_val_1 = 2 * (-loglik1(est1.x) + loglik1(init1))\n",
    "pval_h0_1 = 1.0 - stats.chi2.cdf(LR_val_1, 5)\n",
    "print('LR value = ', LR_val_1, '. Chi squared of H0 with 5 degrees of freedom p-value = ', pval_h0_1)"
   ]
  },
  {
   "cell_type": "markdown",
   "metadata": {},
   "source": [
    "### Estimation 2: Same arrival and termination, Prejudice, No Productivity Differences"
   ]
  },
  {
   "cell_type": "code",
   "execution_count": 54,
   "metadata": {},
   "outputs": [],
   "source": [
    "def loglik2(params: list):\n",
    "    \"\"\"\n",
    "    Calculates the log likelihood with the log normal distribution\n",
    "    \"\"\"\n",
    "  \n",
    "    λ = np.exp(params[0])\n",
    "    η = np.exp(params[1])\n",
    "    μ = params[2]\n",
    "    σ = np.exp(params[3])\n",
    "    d_F = np.exp(params[5])\n",
    "    p = np.exp(params[4]) / (1 + np.exp(params[4]))\n",
    "    α = 0.5\n",
    "\n",
    "#    pdb.set_trace()\n",
    "    \n",
    "    hM = λ * ( (1-stats.lognorm.cdf(wstarM,μ,σ)) );\n",
    "    L00 = (η/(η+hM)) * hM * np.exp(-hM*np.sum(MU.values[:,0])); #unemployed men\n",
    "\n",
    "    L01a = ( ( (1/α)*stats.lognorm.pdf(f_w(ME.values[:,1],α,wstarM),μ,σ) )/(1-stats.lognorm.cdf(wstarM,μ,σ)) );\n",
    "    L01 = np.log(hM/(η+hM)) + np.sum( np.log(1+L01a) ); #employed men\n",
    "    \n",
    "    hF = λ * ( (1-p)*(1-stats.lognorm.cdf(wstarF,μ,σ)) + p*(1-stats.lognorm.cdf((wstarF+d_F),μ,σ)) );\n",
    "    L10 = ( (η/(η+hF)) * hF * np.exp(-hF*np.sum(FU.values[:,0])) ); #unemployed women\n",
    "\n",
    "    L11a = ( ( ((1-p)/α)*stats.lognorm.pdf(f_w(FE.values[:,1],α,wstarF),μ,σ) ) / (1-stats.lognorm.cdf(wstarF,μ,σ)) );\n",
    "    L11b = ( ( (p/α)*stats.lognorm.pdf(f_w((FE.values[:,1]+ α*d_F),α,wstarF),μ,σ) ) / (1-stats.lognorm.cdf((wstarF+d_F),μ,σ)) );\n",
    "    L11 = np.log(hF/(η+hF)) + np.sum( np.log(1+L11a + L11b) ); #employed women\n",
    "\n",
    "    results = np.log(1+L00) + L01 + np.log(1+L10) + L11\n",
    "\n",
    "    return -1*results"
   ]
  },
  {
   "cell_type": "code",
   "execution_count": 55,
   "metadata": {},
   "outputs": [
    {
     "name": "stderr",
     "output_type": "stream",
     "text": [
      "/Users/megan.mccoy/anaconda3/lib/python3.6/site-packages/ipykernel_launcher.py:26: RuntimeWarning: divide by zero encountered in true_divide\n",
      "/Users/megan.mccoy/anaconda3/lib/python3.6/site-packages/ipykernel_launcher.py:26: RuntimeWarning: invalid value encountered in true_divide\n",
      "/Users/megan.mccoy/anaconda3/lib/python3.6/site-packages/ipykernel_launcher.py:19: RuntimeWarning: divide by zero encountered in true_divide\n",
      "/Users/megan.mccoy/anaconda3/lib/python3.6/site-packages/ipykernel_launcher.py:20: RuntimeWarning: divide by zero encountered in log\n",
      "/Users/megan.mccoy/anaconda3/lib/python3.6/site-packages/ipykernel_launcher.py:20: RuntimeWarning: invalid value encountered in double_scalars\n",
      "/Users/megan.mccoy/anaconda3/lib/python3.6/site-packages/scipy/optimize/optimize.py:563: RuntimeWarning: invalid value encountered in subtract\n",
      "  numpy.max(numpy.abs(fsim[0] - fsim[1:])) <= fatol):\n"
     ]
    }
   ],
   "source": [
    "init2 = [λ_M, η_M, μ_M, σ_M, p, d_F]\n",
    "\n",
    "est2 = minimize(loglik2, init2, method='nelder-mead', options={'maxiter': 10000})"
   ]
  },
  {
   "cell_type": "code",
   "execution_count": 17,
   "metadata": {},
   "outputs": [
    {
     "name": "stdout",
     "output_type": "stream",
     "text": [
      "[60.75192287 -2.35414311  1.7254563   1.34035391 32.90797981  3.43498699]\n",
      "30.4223264958016\n"
     ]
    }
   ],
   "source": [
    "# est2\n",
    "\n",
    "print(est2.x)\n",
    "print(-loglik2(est2.x))"
   ]
  },
  {
   "cell_type": "markdown",
   "metadata": {},
   "source": [
    "#### Test Statistics"
   ]
  },
  {
   "cell_type": "code",
   "execution_count": 148,
   "metadata": {},
   "outputs": [
    {
     "name": "stdout",
     "output_type": "stream",
     "text": [
      "Standard errors are given in  [ 9.07773691 39.75381239  0.04203081 19.94898012 34.71304461  0.1468559 ]\n",
      "LR value =  1852.5488819398852 . Chi squared of H0 with 5 degrees of freedom p-value =  0.0\n"
     ]
    }
   ],
   "source": [
    "# Standard Errors\n",
    "\n",
    "vcv_mle2 = est2.hess_inv\n",
    "se2 = np.sqrt(np.diag(vcv_mle2))\n",
    "print('Standard errors are given in ', se2)\n",
    "\n",
    "# Likelihood Ratio Test\n",
    "\n",
    "LR_val_2 = 2 * (-loglik2(est2.x) + loglik2(init2))\n",
    "pval_h0_2 = 1.0 - stats.chi2.cdf(LR_val_2, 5)\n",
    "print('LR value = ', LR_val_2, '. Chi squared of H0 with 5 degrees of freedom p-value = ', pval_h0_2)\n"
   ]
  },
  {
   "cell_type": "markdown",
   "metadata": {},
   "source": [
    "### Estimation 3: Same arrival and termination, Productivity Differences and Prejudice"
   ]
  },
  {
   "cell_type": "code",
   "execution_count": 152,
   "metadata": {},
   "outputs": [],
   "source": [
    "def loglik3(params: list):\n",
    "    \"\"\"\n",
    "    Calculates the log likelihood with the log normal distribution\n",
    "    \"\"\"\n",
    "    \n",
    "    λ = np.exp(params[0])\n",
    "    η = np.exp(params[1])\n",
    "    μ_M = params[2]\n",
    "    σ_M = np.exp(params[3])\n",
    "    μ_F = params[4]\n",
    "    σ_F = np.exp(params[5])\n",
    "    d_F = np.exp(params[7])\n",
    "    p = (np.exp(params[6]))/(1+np.exp(params[6]))\n",
    "    α = 0.5\n",
    "    \n",
    "#    pdb.set_trace()\n",
    "    \n",
    "    hM = λ * ( (1-stats.lognorm.cdf(wstarM,μ_M,σ_M)) );\n",
    "    L00 = (η/(η+hM)) * hM * np.exp(-hM*np.sum(MU.values[:,0])); #unemployed men\n",
    "\n",
    "    L01a = ( ( (1/α)*stats.lognorm.pdf(f_w(ME.values[:,1],α,wstarM),μ_M,σ_M) )/(1-stats.lognorm.cdf(wstarM,μ_M,σ_M)) );\n",
    "    L01 = np.log(hM/(η+hM)) + np.sum( np.log(L01a) ); #employed men\n",
    "    \n",
    "    hF = λ * ( (1-p)*(1-stats.lognorm.cdf(wstarF,μ_F,σ_F)) + p*(1-stats.lognorm.cdf((wstarF+d_F),μ_F,σ_F)) );\n",
    "    L10 = ( (η/(η+hF)) * hF * np.exp(-hF*np.sum(FU.values[:,0])) ); #unemployed women\n",
    "\n",
    "    L11a = ( ( ((1-p)/α)*stats.lognorm.pdf(f_w(FE.values[:,1],α,wstarF),μ_F,σ_F) ) / (1-stats.lognorm.cdf(wstarF,μ_F,σ_F)) );\n",
    "    L11b = ( ( (p/α)*stats.lognorm.pdf(f_w((FE.values[:,1]+α*d_F),α,wstarF),μ_F,σ_F) ) / (1-stats.lognorm.cdf((wstarF+d_F),μ_F,σ_F)) );\n",
    "    L11 = np.log(hF/(η+hF)) + np.sum( np.log(L11a + L11b) ); #employed women\n",
    "\n",
    "    results = np.log(L00) + L01 + np.log(L10) + L11\n",
    "\n",
    "    return -1*results"
   ]
  },
  {
   "cell_type": "code",
   "execution_count": 153,
   "metadata": {},
   "outputs": [
    {
     "name": "stderr",
     "output_type": "stream",
     "text": [
      "/Users/megan.mccoy/anaconda3/lib/python3.6/site-packages/ipykernel_launcher.py:28: RuntimeWarning: divide by zero encountered in true_divide\n",
      "/Users/megan.mccoy/anaconda3/lib/python3.6/site-packages/scipy/optimize/optimize.py:663: RuntimeWarning: invalid value encountered in double_scalars\n",
      "  grad[k] = (f(*((xk + d,) + args)) - f0) / d[k]\n",
      "/Users/megan.mccoy/anaconda3/lib/python3.6/site-packages/ipykernel_launcher.py:13: RuntimeWarning: invalid value encountered in double_scalars\n",
      "  del sys.path[0]\n",
      "/Users/megan.mccoy/anaconda3/lib/python3.6/site-packages/ipykernel_launcher.py:28: RuntimeWarning: divide by zero encountered in true_divide\n",
      "/Users/megan.mccoy/anaconda3/lib/python3.6/site-packages/scipy/optimize/optimize.py:663: RuntimeWarning: invalid value encountered in double_scalars\n",
      "  grad[k] = (f(*((xk + d,) + args)) - f0) / d[k]\n",
      "/Users/megan.mccoy/anaconda3/lib/python3.6/site-packages/ipykernel_launcher.py:13: RuntimeWarning: invalid value encountered in double_scalars\n",
      "  del sys.path[0]\n",
      "/Users/megan.mccoy/anaconda3/lib/python3.6/site-packages/ipykernel_launcher.py:13: RuntimeWarning: invalid value encountered in double_scalars\n",
      "  del sys.path[0]\n"
     ]
    }
   ],
   "source": [
    "init3 = [λ_M, η_M, μ_M, σ_M, μ_F, σ_F, p, d_F]\n",
    "\n",
    "est3 = minimize(loglik3, init3, options={'maxiter': 10000})"
   ]
  },
  {
   "cell_type": "code",
   "execution_count": 154,
   "metadata": {},
   "outputs": [
    {
     "name": "stdout",
     "output_type": "stream",
     "text": [
      "[ -378.70387036   -16.63649903  -877.48975899  -699.21727712\n",
      " -2686.22637477  -489.47837348   882.44674051  -824.72286138]\n",
      "nan\n"
     ]
    },
    {
     "name": "stderr",
     "output_type": "stream",
     "text": [
      "/Users/megan.mccoy/anaconda3/lib/python3.6/site-packages/ipykernel_launcher.py:13: RuntimeWarning: invalid value encountered in double_scalars\n",
      "  del sys.path[0]\n"
     ]
    }
   ],
   "source": [
    "print(est3.x)\n",
    "print(-loglik3(est3.x))"
   ]
  },
  {
   "cell_type": "markdown",
   "metadata": {},
   "source": [
    "#### Test Statistics"
   ]
  },
  {
   "cell_type": "code",
   "execution_count": 27,
   "metadata": {},
   "outputs": [
    {
     "name": "stdout",
     "output_type": "stream",
     "text": [
      "Standard errors are given in  [0.99942382 1.00002089 0.55859911 1.01919404 0.95774826 0.99854331\n",
      " 0.99832652 1.        ]\n",
      "LR value =  nan . Chi squared of H0 with 5 degrees of freedom p-value =  nan\n"
     ]
    }
   ],
   "source": [
    "# Standard Errors\n",
    "\n",
    "vcv_mle3 = est3.hess_inv\n",
    "se3 = np.sqrt(np.diag(vcv_mle3))\n",
    "print('Standard errors are given in ', se3)\n",
    "\n",
    "# Likelihood Ratio Test\n",
    "\n",
    "LR_val_3 = 2 * (-loglik3(est3.x) + loglik3(init3))\n",
    "pval_h0_3 = 1.0 - stats.chi2.cdf(LR_val_3, 5)\n",
    "print('LR value = ', LR_val_3, '. Chi squared of H0 with 5 degrees of freedom p-value = ', pval_h0_3)\n"
   ]
  },
  {
   "cell_type": "markdown",
   "metadata": {},
   "source": [
    "### Estimation 4: Productivity Differences, No Prejudice"
   ]
  },
  {
   "cell_type": "code",
   "execution_count": 18,
   "metadata": {},
   "outputs": [],
   "source": [
    "def loglik4(params: list):\n",
    "    \"\"\"\n",
    "    Calculates the log likelihood with the log normal distribution\n",
    "    \"\"\"\n",
    "    \n",
    "    λ_M = np.exp(params[0])\n",
    "    λ_F = np.exp(params[1])\n",
    "    η_M = np.exp(params[2])\n",
    "    η_F = np.exp(params[3])\n",
    "    μ_M = params[4]\n",
    "    σ_M = np.exp(params[5])\n",
    "    μ_F = params[6]\n",
    "    σ_F = np.exp(params[7])\n",
    "    d_F = 0\n",
    "    p = 0\n",
    "    α = 0.5\n",
    "    \n",
    "    hM = λ_M * ( (1-stats.lognorm.cdf(wstarM,μ_M,σ_M)) );\n",
    "    L00 = (η_M/(η_M+hM)) * hM * np.exp(-hM*np.sum(MU.values[:,0])); #unemployed men\n",
    "\n",
    "    L01a = ( ( (1/α)*stats.lognorm.pdf(f_w(ME.values[:,1],α,wstarM),μ_M,σ_M) )/(1-stats.lognorm.cdf(wstarM,μ_M,σ_M)) );\n",
    "    L01 = np.log(hM/(η_M+hM)) + np.sum( np.log(L01a) ); #employed men\n",
    "    \n",
    "    hF = λ_F*( (1-p)*(1-stats.lognorm.cdf(wstarF,μ_F,σ_F)) + p*(1-stats.lognorm.cdf((wstarF+d_F),μ_F,σ_F)) );\n",
    "    L10 = ( (η_F/(η_F+hF)) * hF * np.exp(-hF*np.sum(FU.values[:,0])) ); #unemployed women\n",
    "\n",
    "    L11a = ( ( ((1-p)/α)*stats.lognorm.pdf(f_w(FE.values[:,1],α,wstarF),μ_F,σ_F) ) / (1-stats.lognorm.cdf(wstarF,μ_F,σ_F)) );\n",
    "    L11b = ( ( (p/α)*stats.lognorm.pdf(f_w((FE.values[:,1]+α*d_F),α,wstarF),μ_F,σ_F) ) / (1-stats.lognorm.cdf((wstarF+d_F),μ_F,σ_F)) );\n",
    "    L11 = np.log(hF/(η_F+hF)) + np.sum( np.log(L11a + L11b) ); #employed women\n",
    "\n",
    "    results = np.log(L00) + L01 + np.log(L10) + L11\n",
    "\n",
    "    return -1*results"
   ]
  },
  {
   "cell_type": "code",
   "execution_count": 19,
   "metadata": {},
   "outputs": [
    {
     "name": "stderr",
     "output_type": "stream",
     "text": [
      "/Users/megan.mccoy/anaconda3/lib/python3.6/site-packages/ipykernel_launcher.py:22: RuntimeWarning: divide by zero encountered in log\n",
      "/Users/megan.mccoy/anaconda3/lib/python3.6/site-packages/ipykernel_launcher.py:29: RuntimeWarning: divide by zero encountered in log\n",
      "/Users/megan.mccoy/anaconda3/lib/python3.6/site-packages/scipy/optimize/optimize.py:563: RuntimeWarning: invalid value encountered in subtract\n",
      "  numpy.max(numpy.abs(fsim[0] - fsim[1:])) <= fatol):\n"
     ]
    }
   ],
   "source": [
    "init4 = [λ_M, λ_F, η_M, η_F, μ_M, σ_M, μ_F, σ_F]\n",
    "\n",
    "est4 = minimize(loglik4, init4, method='nelder-mead', options={'maxiter': 10000})"
   ]
  },
  {
   "cell_type": "code",
   "execution_count": 20,
   "metadata": {},
   "outputs": [
    {
     "name": "stdout",
     "output_type": "stream",
     "text": [
      "[0.22  0.22  0.005 0.005 3.456 0.558 3.454 0.423]\n",
      "-inf\n"
     ]
    },
    {
     "name": "stderr",
     "output_type": "stream",
     "text": [
      "/Users/megan.mccoy/anaconda3/lib/python3.6/site-packages/ipykernel_launcher.py:22: RuntimeWarning: divide by zero encountered in log\n",
      "/Users/megan.mccoy/anaconda3/lib/python3.6/site-packages/ipykernel_launcher.py:29: RuntimeWarning: divide by zero encountered in log\n"
     ]
    }
   ],
   "source": [
    "print(est4.x)\n",
    "print(-loglik4(est4.x))"
   ]
  },
  {
   "cell_type": "markdown",
   "metadata": {},
   "source": [
    "#### Test Statistics"
   ]
  },
  {
   "cell_type": "code",
   "execution_count": 158,
   "metadata": {},
   "outputs": [
    {
     "name": "stdout",
     "output_type": "stream",
     "text": [
      "Standard errors are given in  [9.21564686e-01 8.63670863e-01 1.52208582e+00 1.58640875e+00\n",
      " 4.38297886e-02 1.32540316e+02 4.34545802e-02 1.11311020e+02]\n",
      "LR value =  776.7044136924596 . Chi squared of H0 with 7 degrees of freedom p-value =  0.0\n"
     ]
    }
   ],
   "source": [
    "# Standard Errors\n",
    "\n",
    "vcv_mle4 = est4.hess_inv\n",
    "se4 = np.sqrt(np.diag(vcv_mle4))\n",
    "print('Standard errors are given in ', se4)\n",
    "\n",
    "# Likelihood Ratio Test\n",
    "\n",
    "LR_val_4 = 2 * (-loglik4(est4.x) + loglik4(init4))\n",
    "pval_h0_4 = 1.0 - stats.chi2.cdf(LR_val_4, 7)\n",
    "print('LR value = ', LR_val_4, '. Chi squared of H0 with 7 degrees of freedom p-value = ', pval_h0_4)\n"
   ]
  },
  {
   "cell_type": "markdown",
   "metadata": {},
   "source": [
    "### Estimation 5: Prejudice, No Productivity Differences"
   ]
  },
  {
   "cell_type": "code",
   "execution_count": 159,
   "metadata": {},
   "outputs": [],
   "source": [
    "def loglik5(params: list):\n",
    "    \"\"\"\n",
    "    Calculates the log likelihood with the log normal distribution\n",
    "    \"\"\"\n",
    "    \n",
    "    λ_M = np.exp(params[0])\n",
    "    λ_F = np.exp(params[1])\n",
    "    η_M = np.exp(params[2])\n",
    "    η_F = np.exp(params[3])\n",
    "    μ = params[4]\n",
    "    σ = np.exp(params[5])\n",
    "    d_F = np.exp(params[7])\n",
    "    p = (np.exp(params[6]))/(1+np.exp(params[6]))\n",
    "    α = 0.5\n",
    "    \n",
    "#    pdb.set_trace()\n",
    "    \n",
    "    hM = λ_M * ( (1-stats.lognorm.cdf(wstarM,μ,σ)) );\n",
    "    L00 = (η_M/(η_M+hM)) * hM * np.exp(-hM*np.sum(MU.values[:,0])); #unemployed men\n",
    "\n",
    "    L01a = ( ( (1/α)*stats.lognorm.pdf(f_w(ME.values[:,1],α,wstarM),μ,σ) )/(1-stats.lognorm.cdf(wstarM,μ,σ)) );\n",
    "    L01 = np.log(hM/(η_M+hM)) + np.sum( np.log(1 + L01a) ); #employed men\n",
    "    \n",
    "    hF = λ_F*( (1-p)*(1-stats.lognorm.cdf(wstarF,μ,σ)) + p*(1-stats.lognorm.cdf((wstarF+d_F),μ,σ)) );\n",
    "    L10 = ( (η_F/(η_F+hF)) * hF * np.exp(-hF*np.sum(FU.values[:,0])) ); #unemployed women\n",
    "\n",
    "    L11a = ( ( ((1-p)/α)*stats.lognorm.pdf(f_w(FE.values[:,1],α,wstarF),μ,σ) ) / (1-stats.lognorm.cdf(wstarF,μ,σ)) );\n",
    "    L11b = ( ( (p/α)*stats.lognorm.pdf(f_w((FE.values[:,1]+α*d_F),α,wstarF),μ,σ) ) / (1-stats.lognorm.cdf((wstarF+d_F),μ,σ)) );\n",
    "    L11 = np.log(hF/(η_F+hF)) + np.sum( np.log(1 + L11a + L11b) ); #employed women\n",
    "\n",
    "    results = np.log(1+L00) + L01 + np.log(1+L10) + L11\n",
    "\n",
    "    return -1*results"
   ]
  },
  {
   "cell_type": "code",
   "execution_count": 160,
   "metadata": {},
   "outputs": [],
   "source": [
    "init5 = [λ_M, λ_F, η_M, η_F, μ_M, σ_M, p, d_F]\n",
    "\n",
    "est5 = minimize(loglik5, init5, method='nelder-mead', options={'maxiter': 10000})"
   ]
  },
  {
   "cell_type": "code",
   "execution_count": 161,
   "metadata": {},
   "outputs": [
    {
     "data": {
      "text/plain": [
       "array([  123.13924458,    42.45822219,     9.84169944,     8.31474923,\n",
       "           1.60354081, -1199.95077476, -1240.3386432 ,   -76.15708422])"
      ]
     },
     "execution_count": 161,
     "metadata": {},
     "output_type": "execute_result"
    }
   ],
   "source": [
    "est5.x"
   ]
  },
  {
   "cell_type": "markdown",
   "metadata": {},
   "source": [
    "### Estimation 6: Productivity Differences and Prejudice"
   ]
  },
  {
   "cell_type": "code",
   "execution_count": 162,
   "metadata": {},
   "outputs": [],
   "source": [
    "def loglik6(params: list):\n",
    "    \"\"\"\n",
    "    Calculates the log likelihood with the log normal distribution\n",
    "    \"\"\"\n",
    "    \n",
    "    λ_M = np.exp(params[0])\n",
    "    λ_F = np.exp(params[1])\n",
    "    η_M = np.exp(params[2])\n",
    "    η_F = np.exp(params[3])\n",
    "    μ_M = params[4]\n",
    "    σ_M = np.exp(params[5])\n",
    "    μ_F = params[6]\n",
    "    σ_F = np.exp(params[7])\n",
    "    d_F = np.exp(params[9])\n",
    "    p = (np.exp(params[8]))/(1+np.exp(params[8]))\n",
    "    α = 0.5\n",
    "    \n",
    "#    pdb.set_trace()\n",
    "    \n",
    "    hM = λ_M * ( (1-stats.lognorm.cdf(wstarM,μ_M,σ_M)) );\n",
    "    L00 = (η_M/(η_M+hM)) * hM * np.exp(-hM*np.sum(MU.values[:,0])); #unemployed men\n",
    "\n",
    "    L01a = ( ( (1/α)*stats.lognorm.pdf(f_w(ME.values[:,1],α,wstarM),μ_M,σ_M) )/(1-stats.lognorm.cdf(wstarM,μ_M,σ_M)) );\n",
    "    L01 = np.log(hM/(η_M+hM)) + np.sum( np.log(1 + L01a) ); #employed men\n",
    "    \n",
    "    hF = λ_F*( (1-p)*(1-stats.lognorm.cdf(wstarF,μ_F,σ_F)) + p*(1-stats.lognorm.cdf((wstarF+d_F),μ_F,σ_F)) );\n",
    "    L10 = ( (η_F/(η_F+hF)) * hF * np.exp(-hF*np.sum(FU.values[:,0])) ); #unemployed women\n",
    "\n",
    "    L11a = ( ( ((1-p)/α)*stats.lognorm.pdf(f_w(FE.values[:,1],α,wstarF),μ_F,σ_F) ) / (1-stats.lognorm.cdf(wstarF,μ_F,σ_F)) );\n",
    "    L11b = ( ( (p/α)*stats.lognorm.pdf(f_w((FE.values[:,1]+α*d_F),α,wstarF),μ_F,σ_F) ) / (1-stats.lognorm.cdf((wstarF+d_F),μ_F,σ_F)) );\n",
    "    L11 = np.log(hF/(η_F+hF)) + np.sum( np.log(1 + L11a + L11b) ); #employed women\n",
    "\n",
    "    results = np.log(1+L00) + L01 + np.log(1+L10) + L11\n",
    "\n",
    "    return -1*results"
   ]
  },
  {
   "cell_type": "code",
   "execution_count": 167,
   "metadata": {},
   "outputs": [],
   "source": [
    "init6 = [λ_M, λ_F, η_M, η_F, μ_M, σ_M, μ_F, σ_F, p, d_F]\n",
    "\n",
    "est6 = minimize(loglik6, init6)#options={'maxiter': 10000})"
   ]
  },
  {
   "cell_type": "code",
   "execution_count": 168,
   "metadata": {},
   "outputs": [
    {
     "data": {
      "text/plain": [
       "array([  858.35840014,   876.79671601,  -858.13340014,  -876.57171601,\n",
       "       -1047.68182271,  -121.78802029, -5568.08713766,   450.43856927,\n",
       "       -4202.11715697, -2500.71399205])"
      ]
     },
     "execution_count": 168,
     "metadata": {},
     "output_type": "execute_result"
    }
   ],
   "source": [
    "est6.x"
   ]
  },
  {
   "cell_type": "code",
   "execution_count": 37,
   "metadata": {},
   "outputs": [
    {
     "ename": "TypeError",
     "evalue": "__init__() takes from 1 to 6 positional arguments but 7 were given",
     "output_type": "error",
     "traceback": [
      "\u001b[0;31m---------------------------------------------------------------------------\u001b[0m",
      "\u001b[0;31mTypeError\u001b[0m                                 Traceback (most recent call last)",
      "\u001b[0;32m<ipython-input-37-0c2933567c6e>\u001b[0m in \u001b[0;36m<module>\u001b[0;34m()\u001b[0m\n\u001b[0;32m----> 1\u001b[0;31m \u001b[0mpd\u001b[0m\u001b[0;34m.\u001b[0m\u001b[0mDataFrame\u001b[0m\u001b[0;34m(\u001b[0m\u001b[0mest1\u001b[0m\u001b[0;34m.\u001b[0m\u001b[0mx\u001b[0m\u001b[0;34m,\u001b[0m\u001b[0mest2\u001b[0m\u001b[0;34m.\u001b[0m\u001b[0mx\u001b[0m\u001b[0;34m,\u001b[0m\u001b[0mest3\u001b[0m\u001b[0;34m.\u001b[0m\u001b[0mx\u001b[0m\u001b[0;34m,\u001b[0m\u001b[0mest4\u001b[0m\u001b[0;34m.\u001b[0m\u001b[0mx\u001b[0m\u001b[0;34m,\u001b[0m\u001b[0mest5\u001b[0m\u001b[0;34m.\u001b[0m\u001b[0mx\u001b[0m\u001b[0;34m,\u001b[0m\u001b[0mest6\u001b[0m\u001b[0;34m.\u001b[0m\u001b[0mx\u001b[0m\u001b[0;34m)\u001b[0m\u001b[0;34m\u001b[0m\u001b[0m\n\u001b[0m",
      "\u001b[0;31mTypeError\u001b[0m: __init__() takes from 1 to 6 positional arguments but 7 were given"
     ]
    }
   ],
   "source": [
    "pd.DataFrame(est1.x,est2.x,est3.x,est4.x,est5.x,est6.x)"
   ]
  },
  {
   "cell_type": "markdown",
   "metadata": {},
   "source": [
    "## Scratch"
   ]
  },
  {
   "cell_type": "markdown",
   "metadata": {},
   "source": [
    "### Parameters without distributional assumptions"
   ]
  },
  {
   "cell_type": "code",
   "execution_count": 75,
   "metadata": {},
   "outputs": [],
   "source": [
    "wstarM = min(ME['wage'])\n",
    "wstarF = min(FE['wage'])\n",
    "\n",
    "hM = MU['dur'].count()/sum(MU.values[:,0])\n",
    "hF = FU['dur'].count()/sum(FU.values[:,0])\n",
    "h = U['dur'].count()/sum(U.values[:,0])\n",
    "\n",
    "ηM = hM * (MU['dur'].count()/ME['empl'].count())\n",
    "ηF = hF * (FU['dur'].count()/FE['empl'].count())\n",
    "η = h * (U['dur'].count()/E['empl'].count())"
   ]
  },
  {
   "cell_type": "markdown",
   "metadata": {},
   "source": [
    "### Accepted Wages"
   ]
  },
  {
   "cell_type": "code",
   "execution_count": 43,
   "metadata": {},
   "outputs": [],
   "source": [
    "def f_w(wage: np.array, α: float, wstar: float):\n",
    "    \"\"\"\n",
    "    Wage functions\n",
    "    \"\"\"\n",
    "    return (wage - (1-α)*wstar)*(1/α)"
   ]
  },
  {
   "cell_type": "code",
   "execution_count": 92,
   "metadata": {},
   "outputs": [],
   "source": [
    "def dens_accepted(wage: np.array, α: float, μ: float, σ: float, wstar: float):\n",
    "    \"\"\"\n",
    "    Calculates the density of accepted wages\n",
    "    \"\"\"\n",
    "    \n",
    "    l = (α*μ) + ((1-α)*wstar)\n",
    "    s = α * σ\n",
    "    shape = .5\n",
    "    \n",
    "    return stats.lognorm.pdf(wage,shape,l,s) / stats.lognorm.sf(wstar, shape, l, s)"
   ]
  },
  {
   "cell_type": "code",
   "execution_count": 95,
   "metadata": {},
   "outputs": [],
   "source": [
    "def dens_accepted_prej(wage: np.array, α: float, μ: float, σ: float, wstar: float, d: float):\n",
    "    \"\"\"\n",
    "    Calculates the density of accepted wages for men\n",
    "    \"\"\"\n",
    "    \n",
    "    l = (α*μ) + ((1-α)*wstar) - αd\n",
    "    s = α * σ\n",
    "    shape = .5\n",
    "    \n",
    "    return stats.lognorm.pdf(wage,shape,l,s) / stats.lognorm.sf(wstar, shape, l, s)"
   ]
  },
  {
   "cell_type": "code",
   "execution_count": 96,
   "metadata": {},
   "outputs": [],
   "source": [
    "def lambdaM(h: float, wstarM: float, α: float, μ: float, σ: float):\n",
    "    \"\"\"\n",
    "    Estimates lambda for men\n",
    "    \"\"\"\n",
    "    \n",
    "    l = (α*μ) + ((1-α)*wstar)\n",
    "    s = α * σ\n",
    "    shape = .5\n",
    "    \n",
    "    denom = stats.lognorm.sf(wstarM,shape, l, s)\n",
    "    \n",
    "    return h/denom"
   ]
  },
  {
   "cell_type": "code",
   "execution_count": null,
   "metadata": {},
   "outputs": [],
   "source": [
    "def lambdaF(h: float, p: float, wstarF: float, α: float, μ: float, σ: float):\n",
    "    \"\"\"\n",
    "    Estimates lambda for women\n",
    "    \"\"\"\n",
    "    \n",
    "    l1 = (α*μ) + ((1-α)*wstar)\n",
    "    l2 = (α*μ) + ((1-α)*wstar) - αd\n",
    "    s = α * σ\n",
    "    shape = .5\n",
    "    \n",
    "    denom = (1-p)*stats.lognorm.sf(wstar, shape, l1, s) + p*stats.lognorm.sf(wstar, shape, l2, s)\n",
    "    \n",
    "    return h/denom"
   ]
  },
  {
   "cell_type": "markdown",
   "metadata": {},
   "source": [
    "### Likelihood Functions"
   ]
  },
  {
   "cell_type": "code",
   "execution_count": null,
   "metadata": {},
   "outputs": [],
   "source": [
    "def loglik_6( params: list ):\n",
    "    \"\"\"\n",
    "    Calculates log likelihood with prejudice and productivity differences \n",
    "    \n",
    "    Estimation 6 (ηM, ηF, hM, hF)\n",
    "    \n",
    "    Parameters to estimate: \n",
    "    λM # see fxn elsewhere\n",
    "    λF # see fxn elsewhere\n",
    "    μM\n",
    "    σM\n",
    "    μF\n",
    "    σF\n",
    "    d\n",
    "    p\n",
    "    \"\"\"\n",
    "    \n",
    "    # Men's equations \n",
    "    a = M['dur'].count() * np.log(hM/(hM+ηM))\n",
    "    b = MU['dur'].count() * np.log(ηM)\n",
    "    c = - hM * np.sum(MU.values[:,0])\n",
    "    d = np.sum( np.log( (1/α) * dens_accepted(ME['wage'], α, μM, σM, wstarM) ) )\n",
    "    \n",
    "    \n",
    "    # Women's equations\n",
    "    e = F['dur'].count() * np.log(hF/(hF+ηF))\n",
    "    f = FU['dur'].count * np.log(ηF)\n",
    "    g = - hF * np.sum(FU.values[:,0])\n",
    "    \n",
    "    y = ((1-p)/α) * dens_accepted(FE['wage'], α, μF, σF, wstarF)\n",
    "    z = (p/α) * dens_accepted_prej(FE['wage'], α, μF, σF, wstarF, d)\n",
    "\n",
    "    h = np.sum( np.log( y + z ) )\n",
    "    \n",
    "    \n",
    "    return a + b + c + d + e + f + g + h"
   ]
  },
  {
   "cell_type": "code",
   "execution_count": null,
   "metadata": {},
   "outputs": [],
   "source": [
    "def loglik_3( params: list ):\n",
    "    \"\"\"\n",
    "    Calculates log likelihood with prejudice and productivity differences \n",
    "    \n",
    "    Estimation 3 (η and h not gender specific)\n",
    "    \n",
    "    Parameters to estimate: \n",
    "    λ # see fxn elsewhere\n",
    "    μM\n",
    "    σM\n",
    "    μF\n",
    "    σF\n",
    "    d\n",
    "    p\n",
    "    \"\"\"\n",
    "\n",
    "    \n",
    "    # Men's equations \n",
    "    a = M['dur'].count() * np.log(h/(h+η))\n",
    "    b = MU['dur'].count() * np.log(η)\n",
    "    c = - h * np.sum(MU.values[:,0])\n",
    "    d = np.sum( np.log( (1/α) * dens_accepted(ME['wage'], α, μM, σM, wstarM) ) )\n",
    "    \n",
    "    \n",
    "    # Women's equations\n",
    "    e = F['dur'].count() * np.log(h/(h+η))\n",
    "    f = FU['dur'].count * np.log(η)\n",
    "    g = - h * np.sum(FU.values[:,0])\n",
    "    \n",
    "    y = ((1-p)/α) * dens_accepted(FE['wage'], α, μF, σF, wstarF)\n",
    "    z = (p/α) * dens_accepted_prej(FE['wage'], α, μF, σF, wstarF, d)\n",
    "\n",
    "    h = np.sum( np.log( y + z ) )\n",
    "    \n",
    "    \n",
    "    return a + b + c + d + e + f + g + h"
   ]
  },
  {
   "cell_type": "code",
   "execution_count": null,
   "metadata": {},
   "outputs": [],
   "source": [
    "def loglik_5( params: list ):\n",
    "    \"\"\"\n",
    "    Calculates log likelihood with prejudice, no productivity differences. \n",
    "    \n",
    "    Estimation 5 (ηM, ηF, hM, hF)\n",
    "    \n",
    "    Parameters to estimate: \n",
    "    λM # see fxn elsewhere\n",
    "    λF # see fxn elsewhere\n",
    "    μ\n",
    "    σ\n",
    "    p\n",
    "    d\n",
    "    \"\"\"\n",
    "\n",
    "    \n",
    "    # Men's equations \n",
    "    a = M['dur'].count() * np.log(hM/(hM+ηM))\n",
    "    b = MU['dur'].count() * np.log(ηM)\n",
    "    c = - hM * np.sum(MU.values[:,0])\n",
    "    d = np.sum( np.log( (1/α) * dens_accepted(ME['wage'], α, μ, σ, wstarM) ) )\n",
    "    \n",
    "    \n",
    "    # Women's equations\n",
    "    e = F['dur'].count() * np.log(hF/(hF+ηF))\n",
    "    f = FU['dur'].count * np.log(ηF)\n",
    "    g = - hF * np.sum(FU.values[:,0])\n",
    "    \n",
    "    y = ((1-p)/α) * dens_accepted(FE['wage'], α, μ, σ, wstarF)\n",
    "    z = (p/α) * dens_accepted_prej(FE['wage'], α, μ, σ, wstarF, d)\n",
    "\n",
    "    h = np.sum( np.log( y + z ) )\n",
    "    \n",
    "    \n",
    "    return a + b + c + d + e + f + g + h"
   ]
  },
  {
   "cell_type": "code",
   "execution_count": null,
   "metadata": {},
   "outputs": [],
   "source": [
    "def loglik_2( params: list ):\n",
    "    \"\"\"\n",
    "    Calculates log likelihood with prejudice, no productivity differences. \n",
    "    \n",
    "    Estimation 2 (η and h not gender specific)\n",
    "    \n",
    "    Parameters to estimate: \n",
    "    λ # see fxn elsewhere\n",
    "    μ\n",
    "    σ\n",
    "    p\n",
    "    d\n",
    "    \"\"\"\n",
    "\n",
    "    \n",
    "    # Men's equations \n",
    "    a = M['dur'].count() * np.log(h/(h+η))\n",
    "    b = MU['dur'].count() * np.log(η)\n",
    "    c = - h * np.sum(MU.values[:,0])\n",
    "    d = np.sum( np.log( (1/α) * dens_accepted(ME['wage'], α, μ, σ, wstarM) ) )\n",
    "    \n",
    "    \n",
    "    # Women's equations\n",
    "    e = F['dur'].count() * np.log(h/(h+η))\n",
    "    f = FU['dur'].count * np.log(η)\n",
    "    g = - h * np.sum(FU.values[:,0])\n",
    "    \n",
    "    y = ((1-p)/α) * dens_accepted(FE['wage'], α, μ, σ, wstarF)\n",
    "    z = (p/α) * dens_accepted_prej(FE['wage'], α, μ, σ, wstarF, d)\n",
    "\n",
    "    h = np.sum( np.log( y + z ) )\n",
    "    \n",
    "    \n",
    "    return a + b + c + d + e + f + g + h"
   ]
  },
  {
   "cell_type": "code",
   "execution_count": null,
   "metadata": {},
   "outputs": [],
   "source": [
    "def loglik_4( params: list ):\n",
    "    \"\"\"\n",
    "    Calculates log likelihood with productivity differences, no prejudice\n",
    "    \n",
    "    Estimation 4 (ηM, ηF, hM, hF)\n",
    "    \n",
    "    Parameters to estimate: \n",
    "    λM # see fxn elsewhere\n",
    "    λF # see fxn elsewhere\n",
    "    μM\n",
    "    σM\n",
    "    μF\n",
    "    σF\n",
    "    \"\"\"\n",
    "\n",
    "    \n",
    "    # Men's equations \n",
    "    a = M['dur'].count() * np.log(hM/(hM+ηM))\n",
    "    b = MU['dur'].count() * np.log(ηM)\n",
    "    c = - hM * np.sum(MU.values[:,0])\n",
    "    d = np.sum( np.log( (1/α) * dens_accepted(ME['wage'], α, μM, σM, wstarM) ) )\n",
    "    \n",
    "    \n",
    "    # Women's equations\n",
    "    e = F['dur'].count() * np.log(hF/(hF+ηF))\n",
    "    f = FU['dur'].count * np.log(ηF)\n",
    "    g = - hF * np.sum(FU.values[:,0])\n",
    "    \n",
    "    y = (1/α) * dens_accepted(FE['wage'], α, μF, σF, wstarF)\n",
    "\n",
    "    h = np.sum( np.log( y ) )\n",
    "    \n",
    "    \n",
    "    return a + b + c + d + e + f + g + h"
   ]
  },
  {
   "cell_type": "code",
   "execution_count": null,
   "metadata": {},
   "outputs": [],
   "source": [
    "def loglik_1( params: list ):\n",
    "    \"\"\"\n",
    "    Calculates log likelihood with productivity differences, no prejudice\n",
    "    \n",
    "    Estimation 1 (η and h not gender specific)\n",
    "    \n",
    "    Parameters to estimate: \n",
    "    λ\n",
    "    μM\n",
    "    σM\n",
    "    μF\n",
    "    σF\n",
    "    \"\"\"\n",
    "\n",
    "    \n",
    "    # Men's equations \n",
    "    a = M['dur'].count() * np.log(h/(h+η))\n",
    "    b = MU['dur'].count() * np.log(η)\n",
    "    c = - h * np.sum(MU.values[:,0])\n",
    "    d = np.sum( np.log( (1/α) * dens_accepted(ME['wage'], α, μM, σM, wstarM) ) )\n",
    "    \n",
    "    \n",
    "    # Women's equations\n",
    "    e = F['dur'].count() * np.log(h/(h+η))\n",
    "    f = FU['dur'].count * np.log(η)\n",
    "    g = - h * np.sum(FU.values[:,0])\n",
    "    \n",
    "    y = (1/α) * dens_accepted(FE['wage'], α, μF, σF, wstarF)\n",
    "\n",
    "    h = np.sum( np.log( y ) )\n",
    "    \n",
    "    \n",
    "    return a + b + c + d + e + f + g + h"
   ]
  }
 ],
 "metadata": {
  "kernelspec": {
   "display_name": "Python 3",
   "language": "python",
   "name": "python3"
  },
  "language_info": {
   "codemirror_mode": {
    "name": "ipython",
    "version": 3
   },
   "file_extension": ".py",
   "mimetype": "text/x-python",
   "name": "python",
   "nbconvert_exporter": "python",
   "pygments_lexer": "ipython3",
   "version": "3.6.5"
  }
 },
 "nbformat": 4,
 "nbformat_minor": 2
}
