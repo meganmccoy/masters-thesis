{
 "cells": [
  {
   "cell_type": "markdown",
   "metadata": {},
   "source": [
    "# 882 Replication Paper: Flabbi 2010\n",
    "\n",
    "- Read in data\n",
    "- Define log-normal pdf & cdf \n",
    "- Estimate men and women separately to allow for parameters to very by gender"
   ]
  },
  {
   "cell_type": "markdown",
   "metadata": {},
   "source": [
    "## Import Packages"
   ]
  },
  {
   "cell_type": "code",
   "execution_count": 132,
   "metadata": {},
   "outputs": [],
   "source": [
    "# Data Manipulation \n",
    "import numpy as np\n",
    "import pandas as pd\n",
    "\n",
    "# General\n",
    "import pdb\n",
    "\n",
    "# Estimation\n",
    "from scipy.optimize import minimize\n",
    "import scipy.stats as stats\n",
    "\n",
    "# Data Visualization\n",
    "import matplotlib.pyplot as plt\n",
    "%matplotlib inline"
   ]
  },
  {
   "cell_type": "markdown",
   "metadata": {},
   "source": [
    "## Import Data \n",
    "\n",
    "- CPS data on gender, wages, duration of unemployment\n",
    "- M: males\n",
    "- F: females\n",
    "- U: unemployed\n",
    "- E: employed \n",
    "- {M,F} X {E,U} = {males,females} X {employed, unemployed}"
   ]
  },
  {
   "cell_type": "code",
   "execution_count": 133,
   "metadata": {},
   "outputs": [],
   "source": [
    "data=pd.read_csv('../data/est_c.csv')\n",
    "data.columns = ['dur', 'wage', 'empl', 'women']\n",
    "\n",
    "M = data[data['women']==0] #1186 men \n",
    "F = data[data['women']==1] #993 women \n",
    "U = data[data['empl']==0] #45 unemployed\n",
    "E = data[data['empl']==1] #2134 employed\n",
    "\n",
    "ME = M[M['empl']==1] #1109 employed men\n",
    "MU = M[M['empl']==0] #18 unemployed men\n",
    "FE = F[F['empl']==1] #966 employed women\n",
    "FU = F[F['empl']==0] #27 unemployed women"
   ]
  },
  {
   "cell_type": "markdown",
   "metadata": {},
   "source": [
    "### Summary Statistics, without trimming"
   ]
  },
  {
   "cell_type": "code",
   "execution_count": 134,
   "metadata": {},
   "outputs": [],
   "source": [
    "agg_dict = {\n",
    "    'wage': ['mean', 'std'],\n",
    "    'dur': ['mean', 'std'],\n",
    "}"
   ]
  },
  {
   "cell_type": "code",
   "execution_count": 135,
   "metadata": {},
   "outputs": [
    {
     "name": "stdout",
     "output_type": "stream",
     "text": [
      "\\begin{tabular}{llrrrr}\n",
      "\\toprule\n",
      "  &   & \\multicolumn{2}{l}{wage} & \\multicolumn{2}{l}{dur} \\\\\n",
      "  &   &       mean &       std &      mean &       std \\\\\n",
      "women & empl &            &           &           &           \\\\\n",
      "\\midrule\n",
      "0 & 0 &   0.000000 &  0.000000 &  4.923077 &  4.687447 \\\\\n",
      "  & 1 &  21.258393 &  9.890162 &  0.000000 &  0.000000 \\\\\n",
      "1 & 0 &   0.000000 &  0.000000 &  3.837607 &  3.341191 \\\\\n",
      "  & 1 &  16.604563 &  8.307586 &  0.000000 &  0.000000 \\\\\n",
      "\\bottomrule\n",
      "\\end{tabular}\n",
      "\n"
     ]
    }
   ],
   "source": [
    "print(data.groupby(['women', 'empl']).agg(agg_dict).to_latex()) # by gender"
   ]
  },
  {
   "cell_type": "code",
   "execution_count": 136,
   "metadata": {},
   "outputs": [
    {
     "name": "stdout",
     "output_type": "stream",
     "text": [
      "\\begin{tabular}{lrrrr}\n",
      "\\toprule\n",
      "{} & \\multicolumn{2}{l}{wage} & \\multicolumn{2}{l}{dur} \\\\\n",
      "{} &       mean &       std &      mean &       std \\\\\n",
      "empl &            &           &           &           \\\\\n",
      "\\midrule\n",
      "0    &   0.000000 &  0.000000 &  4.271795 &  3.921109 \\\\\n",
      "1    &  19.151739 &  9.492563 &  0.000000 &  0.000000 \\\\\n",
      "\\bottomrule\n",
      "\\end{tabular}\n",
      "\n"
     ]
    }
   ],
   "source": [
    "print(data.groupby(['empl']).agg(agg_dict).to_latex()) # all"
   ]
  },
  {
   "cell_type": "markdown",
   "metadata": {},
   "source": [
    "### Summary Statistics, with trimming"
   ]
  },
  {
   "cell_type": "code",
   "execution_count": 137,
   "metadata": {},
   "outputs": [
    {
     "name": "stdout",
     "output_type": "stream",
     "text": [
      "7.2700000000000005\n"
     ]
    }
   ],
   "source": [
    "print(np.percentile(ME['wage'], 5))"
   ]
  },
  {
   "cell_type": "code",
   "execution_count": 138,
   "metadata": {},
   "outputs": [
    {
     "name": "stdout",
     "output_type": "stream",
     "text": [
      "5.75625\n"
     ]
    }
   ],
   "source": [
    "print(np.percentile(FE['wage'], 5))"
   ]
  },
  {
   "cell_type": "code",
   "execution_count": 156,
   "metadata": {},
   "outputs": [],
   "source": [
    "M_WAGE_COND = (data['wage'] > 7.27) #hard coded percentile so it does not continually update\n",
    "M_COND = (data['women'] == 0)\n",
    "\n",
    "F_WAGE_COND = (data['wage'] > 5.75625) #hard coded percentile so it does not continually update\n",
    "F_COND = (data['women'] == 1)\n",
    "\n",
    "DUR_COND = (data['dur'] > 0)\n",
    "\n",
    "trim = data[ (M_COND & (M_WAGE_COND | DUR_COND)) | (F_COND & (F_WAGE_COND | DUR_COND)) ]\n",
    "\n",
    "M = trim[trim['women']==0] #1071 men \n",
    "F = trim[trim['women']==1] #944 women \n",
    "U = trim[trim['empl']==0] #45 unemployed\n",
    "E = trim[trim['empl']==1] #1970 employed\n",
    "\n",
    "ME = M[M['empl']==1] #1053 employed men\n",
    "MU = M[M['empl']==0] #18 unemployed men\n",
    "FE = F[F['empl']==1] #917 employed women\n",
    "FU = F[F['empl']==0] #27 unemployed women"
   ]
  },
  {
   "cell_type": "code",
   "execution_count": 157,
   "metadata": {},
   "outputs": [
    {
     "data": {
      "text/html": [
       "<div>\n",
       "<style scoped>\n",
       "    .dataframe tbody tr th:only-of-type {\n",
       "        vertical-align: middle;\n",
       "    }\n",
       "\n",
       "    .dataframe tbody tr th {\n",
       "        vertical-align: top;\n",
       "    }\n",
       "\n",
       "    .dataframe thead th {\n",
       "        text-align: right;\n",
       "    }\n",
       "</style>\n",
       "<table border=\"1\" class=\"dataframe\">\n",
       "  <thead>\n",
       "    <tr style=\"text-align: right;\">\n",
       "      <th></th>\n",
       "      <th>dur</th>\n",
       "      <th>wage</th>\n",
       "      <th>empl</th>\n",
       "      <th>women</th>\n",
       "    </tr>\n",
       "  </thead>\n",
       "  <tbody>\n",
       "    <tr>\n",
       "      <th>count</th>\n",
       "      <td>2071.000000</td>\n",
       "      <td>2071.000000</td>\n",
       "      <td>2071.000000</td>\n",
       "      <td>2071.000000</td>\n",
       "    </tr>\n",
       "    <tr>\n",
       "      <th>mean</th>\n",
       "      <td>0.092820</td>\n",
       "      <td>19.474685</td>\n",
       "      <td>0.978271</td>\n",
       "      <td>0.455818</td>\n",
       "    </tr>\n",
       "    <tr>\n",
       "      <th>std</th>\n",
       "      <td>0.845514</td>\n",
       "      <td>9.493358</td>\n",
       "      <td>0.145831</td>\n",
       "      <td>0.498164</td>\n",
       "    </tr>\n",
       "    <tr>\n",
       "      <th>min</th>\n",
       "      <td>0.000000</td>\n",
       "      <td>0.000000</td>\n",
       "      <td>0.000000</td>\n",
       "      <td>0.000000</td>\n",
       "    </tr>\n",
       "    <tr>\n",
       "      <th>25%</th>\n",
       "      <td>0.000000</td>\n",
       "      <td>12.700000</td>\n",
       "      <td>1.000000</td>\n",
       "      <td>0.000000</td>\n",
       "    </tr>\n",
       "    <tr>\n",
       "      <th>50%</th>\n",
       "      <td>0.000000</td>\n",
       "      <td>18.060000</td>\n",
       "      <td>1.000000</td>\n",
       "      <td>0.000000</td>\n",
       "    </tr>\n",
       "    <tr>\n",
       "      <th>75%</th>\n",
       "      <td>0.000000</td>\n",
       "      <td>24.486365</td>\n",
       "      <td>1.000000</td>\n",
       "      <td>1.000000</td>\n",
       "    </tr>\n",
       "    <tr>\n",
       "      <th>max</th>\n",
       "      <td>15.000000</td>\n",
       "      <td>65.000000</td>\n",
       "      <td>1.000000</td>\n",
       "      <td>1.000000</td>\n",
       "    </tr>\n",
       "  </tbody>\n",
       "</table>\n",
       "</div>"
      ],
      "text/plain": [
       "               dur         wage         empl        women\n",
       "count  2071.000000  2071.000000  2071.000000  2071.000000\n",
       "mean      0.092820    19.474685     0.978271     0.455818\n",
       "std       0.845514     9.493358     0.145831     0.498164\n",
       "min       0.000000     0.000000     0.000000     0.000000\n",
       "25%       0.000000    12.700000     1.000000     0.000000\n",
       "50%       0.000000    18.060000     1.000000     0.000000\n",
       "75%       0.000000    24.486365     1.000000     1.000000\n",
       "max      15.000000    65.000000     1.000000     1.000000"
      ]
     },
     "execution_count": 157,
     "metadata": {},
     "output_type": "execute_result"
    }
   ],
   "source": [
    "trim.describe()"
   ]
  },
  {
   "cell_type": "code",
   "execution_count": 158,
   "metadata": {},
   "outputs": [
    {
     "name": "stdout",
     "output_type": "stream",
     "text": [
      "\\begin{tabular}{llrrrr}\n",
      "\\toprule\n",
      "  &   & \\multicolumn{2}{l}{wage} & \\multicolumn{2}{l}{dur} \\\\\n",
      "  &   &       mean &       std &      mean &       std \\\\\n",
      "women & empl &            &           &           &           \\\\\n",
      "\\midrule\n",
      "0 & 0 &   0.000000 &  0.000000 &  4.923077 &  4.687447 \\\\\n",
      "  & 1 &  22.093013 &  9.440473 &  0.000000 &  0.000000 \\\\\n",
      "1 & 0 &   0.000000 &  0.000000 &  3.837607 &  3.341191 \\\\\n",
      "  & 1 &  17.263817 &  8.002224 &  0.000000 &  0.000000 \\\\\n",
      "\\bottomrule\n",
      "\\end{tabular}\n",
      "\n"
     ]
    }
   ],
   "source": [
    "print(trim.groupby(['women', 'empl']).agg(agg_dict).to_latex()) # by gender"
   ]
  },
  {
   "cell_type": "code",
   "execution_count": 159,
   "metadata": {},
   "outputs": [
    {
     "name": "stdout",
     "output_type": "stream",
     "text": [
      "\\begin{tabular}{lrrrr}\n",
      "\\toprule\n",
      "{} & \\multicolumn{2}{l}{wage} & \\multicolumn{2}{l}{dur} \\\\\n",
      "{} &       mean &       std &      mean &       std \\\\\n",
      "empl &            &           &           &           \\\\\n",
      "\\midrule\n",
      "0    &   0.000000 &  0.000000 &  4.271795 &  3.921109 \\\\\n",
      "1    &  19.907242 &  9.138453 &  0.000000 &  0.000000 \\\\\n",
      "\\bottomrule\n",
      "\\end{tabular}\n",
      "\n"
     ]
    }
   ],
   "source": [
    "print(trim.groupby(['empl']).agg(agg_dict).to_latex()) # all"
   ]
  },
  {
   "cell_type": "markdown",
   "metadata": {},
   "source": [
    "## Exploratory Data Analysis \n",
    "- Distribution of wages for men, women\n",
    "- Distribution of durations for men, women\n",
    "- Summary statistics of men v women"
   ]
  },
  {
   "cell_type": "code",
   "execution_count": 37,
   "metadata": {},
   "outputs": [
    {
     "data": {
      "image/png": "[encoded data removed]",
      "text/plain": [
       "<Figure size 1152x288 with 3 Axes>"
      ]
     },
     "metadata": {},
     "output_type": "display_data"
    }
   ],
   "source": [
    "fig_wage = plt.figure(figsize=(16,4))\n",
    "\n",
    "ax1 = fig_wage.add_subplot(131)\n",
    "ax2 = fig_wage.add_subplot(132)\n",
    "ax3 = fig_wage.add_subplot(133)\n",
    "\n",
    "ax1.hist(E['he'])\n",
    "ax2.hist(ME['he'])\n",
    "ax3.hist(FE['he'])\n",
    "\n",
    "ax1.set_title(\"Histogram of Wages\")\n",
    "ax2.set_title(\"Histogram of Wages, Men\")\n",
    "ax3.set_title(\"Histogram of Wages, Women\")\n",
    "\n",
    "plt.tight_layout()"
   ]
  },
  {
   "cell_type": "code",
   "execution_count": 43,
   "metadata": {},
   "outputs": [
    {
     "data": {
      "image/png": "[encoded data removed]",
      "text/plain": [
       "<Figure size 864x288 with 1 Axes>"
      ]
     },
     "metadata": {},
     "output_type": "display_data"
    }
   ],
   "source": [
    "# Caleb\n",
    "fig, ax = plt.subplots(1, 1, figsize=(12, 4))\n",
    "\n",
    "ax.hist(E['he'], color='grey', alpha=.15, bins=50)\n",
    "ax.hist(ME['he'], color='red', alpha=.3, bins=50)\n",
    "ax.hist(FE['he'], color='blue', alpha=.3, bins=50)\n",
    "\n",
    "ax.legend(['All', 'Men', 'Women'])\n",
    "\n",
    "plt.tight_layout()\n",
    "\n",
    "# fig, ax = plt.subplots(2, 1, figsize=(12, 4), sharex=True, sharey=True)\n",
    "\n",
    "# # ax.hist(CPSdata['he'], color='grey', alpha=.15)\n",
    "# ax[0].hist(CPSdataM['he'], color='red', alpha=.3, bins=50)\n",
    "# ax[1].hist(CPSdataF['he'], color='blue', alpha=.3, bins=50)\n",
    "\n",
    "# # ax.legend(['Men', 'Women'])\n",
    "\n",
    "# plt.tight_layout()"
   ]
  },
  {
   "cell_type": "code",
   "execution_count": 41,
   "metadata": {},
   "outputs": [
    {
     "data": {
      "image/png": "[encoded data removed]",
      "text/plain": [
       "<Figure size 864x288 with 1 Axes>"
      ]
     },
     "metadata": {},
     "output_type": "display_data"
    }
   ],
   "source": [
    "# fig_dur = plt.figure()\n",
    "\n",
    "# ax1 = fig_dur.add_subplot(131)\n",
    "# ax2 = fig_dur.add_subplot(132)\n",
    "# ax3 = fig_dur.add_subplot(133)\n",
    "\n",
    "# ax1.hist(U['ud'])\n",
    "# ax2.hist(MU['ud'])\n",
    "# ax3.hist(FU['ud'])\n",
    "\n",
    "# ax1.set_title(\"Histogram of Unemployment Duration\")\n",
    "# ax2.set_title(\"Histogram of Unemployment Duration, Men\")\n",
    "# ax3.set_title(\"Histogram of Unemployment Duration, Women\")\n",
    "\n",
    "# plot.tight_layout()\n",
    "\n",
    "fig, ax = plt.subplots(1, 1, figsize=(12, 4))\n",
    "\n",
    "ax.hist(U['ud'], color='grey', alpha=.15, bins=50)\n",
    "ax.hist(MU['ud'], color='red', alpha=.3, bins=50)\n",
    "ax.hist(FU['ud'], color='blue', alpha=.3, bins=50)\n",
    "\n",
    "ax.legend(['All', 'Men', 'Women'])\n",
    "\n",
    "plt.tight_layout()"
   ]
  },
  {
   "cell_type": "markdown",
   "metadata": {},
   "source": [
    "## Estimation \n",
    "\n",
    "- Reservation wage = min(accepted wage), by gender\n",
    "- MLE using log normal distribution\n",
    "\n",
    "- Estimations 1-3: Same arrival and termination rates\n",
    "- Estimations 4-6: Gender specific arrival and termination rates"
   ]
  },
  {
   "cell_type": "code",
   "execution_count": 160,
   "metadata": {},
   "outputs": [],
   "source": [
    "# Initial Conditions\n",
    "\n",
    "wstarM = min(ME['wage'])\n",
    "wstarF = min(FE['wage'])\n",
    "\n",
    "λ_M = 0.22\n",
    "λ_F = 0.22\n",
    "η_M = 0.005\n",
    "η_F = 0.005\n",
    "# α = 0.5  #FIXED\n",
    "μ_M = 3.456\n",
    "μ_F= 3.454\n",
    "σ_M = 0.558\n",
    "σ_F = 0.423\n",
    "p = 0.5\n",
    "d_F = 10\n",
    "# d_M = 0   #FIXED\n",
    "\n",
    "init = [λ_M, λ_F, η_M, η_F, μ_M, σ_M, μ_F, σ_F, p, d_F]"
   ]
  },
  {
   "cell_type": "markdown",
   "metadata": {},
   "source": [
    "### Wage Function"
   ]
  },
  {
   "cell_type": "code",
   "execution_count": null,
   "metadata": {},
   "outputs": [],
   "source": [
    "def f_w(wage: np.array, α: float, wstar: float):\n",
    "    \"\"\"\n",
    "    Wage functions\n",
    "    \"\"\"\n",
    "    return (wage - (1-α)*wstar)*(1/α)"
   ]
  },
  {
   "cell_type": "markdown",
   "metadata": {},
   "source": [
    "### Estimation 1: Same arrival and termination, Productivity Differences, No Prejudice"
   ]
  },
  {
   "cell_type": "code",
   "execution_count": null,
   "metadata": {},
   "outputs": [],
   "source": [
    "def loglik1(params: list):\n",
    "    \"\"\"\n",
    "    Calculates the log likelihood with the log normal distribution\n",
    "    \"\"\"\n",
    "    \n",
    "    λ_M = np.exp(params[0])\n",
    "    λ_F = np.exp(params[0])\n",
    "    η_M = np.exp(params[2])\n",
    "    η_F = np.exp(params[2])\n",
    "    μ_M = params[4]\n",
    "    σ_M = np.exp(params[5])\n",
    "    μ_F = params[6]\n",
    "    σ_F = np.exp(params[7])\n",
    "    d_F = 0\n",
    "    p = 0\n",
    "    α = 0.5\n",
    "    \n",
    "#    pdb.set_trace()\n",
    "    \n",
    "    hM = λ_M * ( (1-stats.lognorm.cdf(wstarM,μ_M,σ_M)) );\n",
    "    L00 = (η_M/(η_M+hM)) * hM * np.exp(-hM*np.sum(MU.values[:,0])); #unemployed men\n",
    "\n",
    "    L01a = ( ( (1/α)*stats.lognorm.pdf(f_w(ME.values[:,1],α,wstarM),μ_M,σ_M) )/(1-stats.lognorm.cdf(wstarM,μ_M,σ_M)) );\n",
    "    L01 = np.log(hM/(η_M+hM)) + np.sum( np.log(1 + L01a) ); #employed men\n",
    "    \n",
    "    hF = λ_F*( (1-p)*(1-stats.lognorm.cdf(wstarF,μ_F,σ_F)) + p*(1-stats.lognorm.cdf((wstarF+d_F),μ_F,σ_F)) );\n",
    "    L10 = ( (η_F/(η_F+hF)) * hF * np.exp(-hF*np.sum(FU.values[:,0])) ); #unemployed women\n",
    "\n",
    "    L11a = ( ( ((1-p)/α)*stats.lognorm.pdf(f_w(FE.values[:,1],α,wstarF),μ_F,σ_F) ) / (1-stats.lognorm.cdf(wstarF,μ_F,σ_F)) );\n",
    "    L11b = ( ( (p/α)*stats.lognorm.pdf(f_w((FE.values[:,1]+α*d_F),α,wstarF),μ_F,σ_F) ) / (1-stats.lognorm.cdf((wstarF+d_F),μ_F,σ_F)) );\n",
    "    L11 = np.log(hF/(η_F+hF)) + np.sum( np.log(1 + L11a + L11b) ); #employed women\n",
    "\n",
    "    results = np.log(1+L00) + L01 + np.log(1+L10) + L11\n",
    "\n",
    "    return -1*results"
   ]
  },
  {
   "cell_type": "code",
   "execution_count": null,
   "metadata": {},
   "outputs": [],
   "source": [
    "est1 = minimize(loglik1, init, method='nelder-mead', options={'maxiter': 10000})"
   ]
  },
  {
   "cell_type": "markdown",
   "metadata": {},
   "source": [
    "### Estimation 2: Same arrival and termination, Prejudice, No Productivity Differences"
   ]
  },
  {
   "cell_type": "code",
   "execution_count": null,
   "metadata": {},
   "outputs": [],
   "source": [
    "def loglik2(params: list):\n",
    "    \"\"\"\n",
    "    Calculates the log likelihood with the log normal distribution\n",
    "    \"\"\"\n",
    "    \n",
    "    λ_M = np.exp(params[0])\n",
    "    λ_F = np.exp(params[0])\n",
    "    η_M = np.exp(params[2])\n",
    "    η_F = np.exp(params[2])\n",
    "    μ_M = params[4]\n",
    "    σ_M = np.exp(params[5])\n",
    "    μ_F = params[4]\n",
    "    σ_F = np.exp(params[5])\n",
    "    d_F = np.exp(params[9])\n",
    "    p = (np.exp(params[8]))/(1+np.exp(params[8]))\n",
    "    α = 0.5\n",
    "    \n",
    "#    pdb.set_trace()\n",
    "    \n",
    "    hM = λ_M * ( (1-stats.lognorm.cdf(wstarM,μ_M,σ_M)) );\n",
    "    L00 = (η_M/(η_M+hM)) * hM * np.exp(-hM*np.sum(MU.values[:,0])); #unemployed men\n",
    "\n",
    "    L01a = ( ( (1/α)*stats.lognorm.pdf(f_w(ME.values[:,1],α,wstarM),μ_M,σ_M) )/(1-stats.lognorm.cdf(wstarM,μ_M,σ_M)) );\n",
    "    L01 = np.log(hM/(η_M+hM)) + np.sum( np.log(1 + L01a) ); #employed men\n",
    "    \n",
    "    hF = λ_F*( (1-p)*(1-stats.lognorm.cdf(wstarF,μ_F,σ_F)) + p*(1-stats.lognorm.cdf((wstarF+d_F),μ_F,σ_F)) );\n",
    "    L10 = ( (η_F/(η_F+hF)) * hF * np.exp(-hF*np.sum(FU.values[:,0])) ); #unemployed women\n",
    "\n",
    "    L11a = ( ( ((1-p)/α)*stats.lognorm.pdf(f_w(FE.values[:,1],α,wstarF),μ_F,σ_F) ) / (1-stats.lognorm.cdf(wstarF,μ_F,σ_F)) );\n",
    "    L11b = ( ( (p/α)*stats.lognorm.pdf(f_w((FE.values[:,1]+α*d_F),α,wstarF),μ_F,σ_F) ) / (1-stats.lognorm.cdf((wstarF+d_F),μ_F,σ_F)) );\n",
    "    L11 = np.log(hF/(η_F+hF)) + np.sum( np.log(1 + L11a + L11b) ); #employed women\n",
    "\n",
    "    results = np.log(1+L00) + L01 + np.log(1+L10) + L11\n",
    "\n",
    "    return -1*results"
   ]
  },
  {
   "cell_type": "code",
   "execution_count": null,
   "metadata": {},
   "outputs": [],
   "source": [
    "est2 = minimize(loglik2, init, method='nelder-mead', options={'maxiter': 10000})"
   ]
  },
  {
   "cell_type": "markdown",
   "metadata": {},
   "source": [
    "### Estimation 4: Productivity Differences, No Prejudice"
   ]
  },
  {
   "cell_type": "code",
   "execution_count": null,
   "metadata": {},
   "outputs": [],
   "source": [
    "def loglik4(params: list):\n",
    "    \"\"\"\n",
    "    Calculates the log likelihood with the log normal distribution\n",
    "    \"\"\"\n",
    "    \n",
    "    λ_M = np.exp(params[0])\n",
    "    λ_F = np.exp(params[1])\n",
    "    η_M = np.exp(params[2])\n",
    "    η_F = np.exp(params[3])\n",
    "    μ_M = params[4]\n",
    "    σ_M = np.exp(params[5])\n",
    "    μ_F = params[6]\n",
    "    σ_F = np.exp(params[7])\n",
    "    d_F = 0\n",
    "    p = 0\n",
    "    α = 0.5\n",
    "    \n",
    "#    pdb.set_trace()\n",
    "    \n",
    "    hM = λ_M * ( (1-stats.lognorm.cdf(wstarM,μ_M,σ_M)) );\n",
    "    L00 = (η_M/(η_M+hM)) * hM * np.exp(-hM*np.sum(MU.values[:,0])); #unemployed men\n",
    "\n",
    "    L01a = ( ( (1/α)*stats.lognorm.pdf(f_w(ME.values[:,1],α,wstarM),μ_M,σ_M) )/(1-stats.lognorm.cdf(wstarM,μ_M,σ_M)) );\n",
    "    L01 = np.log(hM/(η_M+hM)) + np.sum( np.log(1 + L01a) ); #employed men\n",
    "    \n",
    "    hF = λ_F*( (1-p)*(1-stats.lognorm.cdf(wstarF,μ_F,σ_F)) + p*(1-stats.lognorm.cdf((wstarF+d_F),μ_F,σ_F)) );\n",
    "    L10 = ( (η_F/(η_F+hF)) * hF * np.exp(-hF*np.sum(FU.values[:,0])) ); #unemployed women\n",
    "\n",
    "    L11a = ( ( ((1-p)/α)*stats.lognorm.pdf(f_w(FE.values[:,1],α,wstarF),μ_F,σ_F) ) / (1-stats.lognorm.cdf(wstarF,μ_F,σ_F)) );\n",
    "    L11b = ( ( (p/α)*stats.lognorm.pdf(f_w((FE.values[:,1]+α*d_F),α,wstarF),μ_F,σ_F) ) / (1-stats.lognorm.cdf((wstarF+d_F),μ_F,σ_F)) );\n",
    "    L11 = np.log(hF/(η_F+hF)) + np.sum( np.log(1 + L11a + L11b) ); #employed women\n",
    "\n",
    "    results = np.log(1+L00) + L01 + np.log(1+L10) + L11\n",
    "\n",
    "    return -1*results"
   ]
  },
  {
   "cell_type": "code",
   "execution_count": null,
   "metadata": {},
   "outputs": [],
   "source": [
    "est4 = minimize(loglik4, init, method='nelder-mead', options={'maxiter': 10000})"
   ]
  },
  {
   "cell_type": "markdown",
   "metadata": {},
   "source": [
    "### Estimation 5: Prejudice, No Productivity Differences"
   ]
  },
  {
   "cell_type": "code",
   "execution_count": null,
   "metadata": {},
   "outputs": [],
   "source": [
    "def loglik5(params: list):\n",
    "    \"\"\"\n",
    "    Calculates the log likelihood with the log normal distribution\n",
    "    \"\"\"\n",
    "    \n",
    "    λ_M = np.exp(params[0])\n",
    "    λ_F = np.exp(params[1])\n",
    "    η_M = np.exp(params[2])\n",
    "    η_F = np.exp(params[3])\n",
    "    μ_M = params[4]\n",
    "    σ_M = np.exp(params[5])\n",
    "    μ_F = params[4]\n",
    "    σ_F = np.exp(params[5])\n",
    "    d_F = np.exp(params[9])\n",
    "    p = (np.exp(params[8]))/(1+np.exp(params[8]))\n",
    "    α = 0.5\n",
    "    \n",
    "#    pdb.set_trace()\n",
    "    \n",
    "    hM = λ_M * ( (1-stats.lognorm.cdf(wstarM,μ_M,σ_M)) );\n",
    "    L00 = (η_M/(η_M+hM)) * hM * np.exp(-hM*np.sum(MU.values[:,0])); #unemployed men\n",
    "\n",
    "    L01a = ( ( (1/α)*stats.lognorm.pdf(f_w(ME.values[:,1],α,wstarM),μ_M,σ_M) )/(1-stats.lognorm.cdf(wstarM,μ_M,σ_M)) );\n",
    "    L01 = np.log(hM/(η_M+hM)) + np.sum( np.log(1 + L01a) ); #employed men\n",
    "    \n",
    "    hF = λ_F*( (1-p)*(1-stats.lognorm.cdf(wstarF,μ_F,σ_F)) + p*(1-stats.lognorm.cdf((wstarF+d_F),μ_F,σ_F)) );\n",
    "    L10 = ( (η_F/(η_F+hF)) * hF * np.exp(-hF*np.sum(FU.values[:,0])) ); #unemployed women\n",
    "\n",
    "    L11a = ( ( ((1-p)/α)*stats.lognorm.pdf(f_w(FE.values[:,1],α,wstarF),μ_F,σ_F) ) / (1-stats.lognorm.cdf(wstarF,μ_F,σ_F)) );\n",
    "    L11b = ( ( (p/α)*stats.lognorm.pdf(f_w((FE.values[:,1]+α*d_F),α,wstarF),μ_F,σ_F) ) / (1-stats.lognorm.cdf((wstarF+d_F),μ_F,σ_F)) );\n",
    "    L11 = np.log(hF/(η_F+hF)) + np.sum( np.log(1 + L11a + L11b) ); #employed women\n",
    "\n",
    "    results = np.log(1+L00) + L01 + np.log(1+L10) + L11\n",
    "\n",
    "    return -1*results"
   ]
  },
  {
   "cell_type": "code",
   "execution_count": null,
   "metadata": {},
   "outputs": [],
   "source": [
    "est5 = minimize(loglik5, init, method='nelder-mead', options={'maxiter': 10000})"
   ]
  },
  {
   "cell_type": "markdown",
   "metadata": {},
   "source": [
    "### Estimation 6: Productivity Differences and Prejudice"
   ]
  },
  {
   "cell_type": "code",
   "execution_count": 164,
   "metadata": {},
   "outputs": [],
   "source": [
    "def loglik6(params: list):\n",
    "    \"\"\"\n",
    "    Calculates the log likelihood with the log normal distribution\n",
    "    \"\"\"\n",
    "    \n",
    "    λ_M = np.exp(params[0])\n",
    "    λ_F = np.exp(params[1])\n",
    "    η_M = np.exp(params[2])\n",
    "    η_F = np.exp(params[3])\n",
    "    μ_M = params[4]\n",
    "    σ_M = np.exp(params[5])\n",
    "    μ_F = params[6]\n",
    "    σ_F = np.exp(params[7])\n",
    "    d_F = np.exp(params[9])\n",
    "    p = (np.exp(params[8]))/(1+np.exp(params[8]))\n",
    "    α = 0.5\n",
    "    \n",
    "#    pdb.set_trace()\n",
    "    \n",
    "    hM = λ_M * ( (1-stats.lognorm.cdf(wstarM,μ_M,σ_M)) );\n",
    "    L00 = (η_M/(η_M+hM)) * hM * np.exp(-hM*np.sum(MU.values[:,0])); #unemployed men\n",
    "\n",
    "    L01a = ( ( (1/α)*stats.lognorm.pdf(f_w(ME.values[:,1],α,wstarM),μ_M,σ_M) )/(1-stats.lognorm.cdf(wstarM,μ_M,σ_M)) );\n",
    "    L01 = np.log(hM/(η_M+hM)) + np.sum( np.log(1 + L01a) ); #employed men\n",
    "    \n",
    "    hF = λ_F*( (1-p)*(1-stats.lognorm.cdf(wstarF,μ_F,σ_F)) + p*(1-stats.lognorm.cdf((wstarF+d_F),μ_F,σ_F)) );\n",
    "    L10 = ( (η_F/(η_F+hF)) * hF * np.exp(-hF*np.sum(FU.values[:,0])) ); #unemployed women\n",
    "\n",
    "    L11a = ( ( ((1-p)/α)*stats.lognorm.pdf(f_w(FE.values[:,1],α,wstarF),μ_F,σ_F) ) / (1-stats.lognorm.cdf(wstarF,μ_F,σ_F)) );\n",
    "    L11b = ( ( (p/α)*stats.lognorm.pdf(f_w((FE.values[:,1]+α*d_F),α,wstarF),μ_F,σ_F) ) / (1-stats.lognorm.cdf((wstarF+d_F),μ_F,σ_F)) );\n",
    "    L11 = np.log(hF/(η_F+hF)) + np.sum( np.log(1 + L11a + L11b) ); #employed women\n",
    "\n",
    "    results = np.log(1+L00) + L01 + np.log(1+L10) + L11\n",
    "\n",
    "    return -1*results"
   ]
  },
  {
   "cell_type": "code",
   "execution_count": 165,
   "metadata": {},
   "outputs": [
    {
     "name": "stderr",
     "output_type": "stream",
     "text": [
      "/Users/megan.mccoy/anaconda3/lib/python3.6/site-packages/ipykernel_launcher.py:37: RuntimeWarning: divide by zero encountered in true_divide\n",
      "/Users/megan.mccoy/anaconda3/lib/python3.6/site-packages/scipy/optimize/optimize.py:563: RuntimeWarning: invalid value encountered in subtract\n",
      "  numpy.max(numpy.abs(fsim[0] - fsim[1:])) <= fatol):\n"
     ]
    }
   ],
   "source": [
    "est6 = minimize(loglik6, init, method='nelder-mead', options={'maxiter': 10000})"
   ]
  }
 ],
 "metadata": {
  "kernelspec": {
   "display_name": "Python 3",
   "language": "python",
   "name": "python3"
  },
  "language_info": {
   "codemirror_mode": {
    "name": "ipython",
    "version": 3
   },
   "file_extension": ".py",
   "mimetype": "text/x-python",
   "name": "python",
   "nbconvert_exporter": "python",
   "pygments_lexer": "ipython3",
   "version": "3.6.5"
  }
 },
 "nbformat": 4,
 "nbformat_minor": 2
}
