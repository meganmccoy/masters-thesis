{
 "cells": [
  {
   "cell_type": "markdown",
   "metadata": {},
   "source": [
    "# 882 Replication Paper: Flabbi 2010\n",
    "\n",
    "- Read in data\n",
    "- Define log-normal pdf & cdf \n",
    "- Estimate men and women separately to allow for parameters to very by gender"
   ]
  },
  {
   "cell_type": "markdown",
   "metadata": {},
   "source": [
    "## Import Packages"
   ]
  },
  {
   "cell_type": "code",
   "execution_count": 1,
   "metadata": {},
   "outputs": [
    {
     "name": "stderr",
     "output_type": "stream",
     "text": [
      "/Users/megan.mccoy/anaconda3/lib/python3.6/site-packages/seaborn/apionly.py:6: UserWarning: As seaborn no longer sets a default style on import, the seaborn.apionly module is deprecated. It will be removed in a future version.\n",
      "  warnings.warn(msg, UserWarning)\n"
     ]
    }
   ],
   "source": [
    "# Data Manipulation \n",
    "import numpy as np\n",
    "import pandas as pd\n",
    "\n",
    "# General\n",
    "import pdb\n",
    "\n",
    "# Estimation\n",
    "from scipy.optimize import minimize\n",
    "import scipy.stats as stats\n",
    "# import numdifftools as ndt\n",
    "\n",
    "# Data Visualization\n",
    "import matplotlib.pyplot as plt\n",
    "%matplotlib inline\n",
    "import seaborn.apionly as sns\n",
    "from pylab import *"
   ]
  },
  {
   "cell_type": "markdown",
   "metadata": {},
   "source": [
    "## Import Data \n",
    "\n",
    "- CPS data on gender, wages, duration of unemployment\n",
    "- M: males\n",
    "- F: females\n",
    "- U: unemployed\n",
    "- E: employed \n",
    "- {M,F} X {E,U} = {males,females} X {employed, unemployed}"
   ]
  },
  {
   "cell_type": "code",
   "execution_count": 2,
   "metadata": {},
   "outputs": [],
   "source": [
    "data=pd.read_csv('../data/est_c.csv')\n",
    "data.columns = ['dur', 'wage', 'empl', 'women']\n",
    "\n",
    "M = data[data['women']==0] #1186 men \n",
    "F = data[data['women']==1] #993 women \n",
    "U = data[data['empl']==0] #45 unemployed\n",
    "E = data[data['empl']==1] #2134 employed\n",
    "\n",
    "ME = M[M['empl']==1] #1109 employed men\n",
    "MU = M[M['empl']==0] #18 unemployed men\n",
    "FE = F[F['empl']==1] #966 employed women\n",
    "FU = F[F['empl']==0] #27 unemployed women"
   ]
  },
  {
   "cell_type": "code",
   "execution_count": null,
   "metadata": {},
   "outputs": [],
   "source": [
    "data.describe()"
   ]
  },
  {
   "cell_type": "markdown",
   "metadata": {},
   "source": [
    "### Summary Statistics, without trimming"
   ]
  },
  {
   "cell_type": "code",
   "execution_count": null,
   "metadata": {},
   "outputs": [],
   "source": [
    "agg_dict = {\n",
    "    'wage': ['mean', 'std'],\n",
    "    'dur': ['mean', 'std'],\n",
    "}"
   ]
  },
  {
   "cell_type": "code",
   "execution_count": null,
   "metadata": {},
   "outputs": [],
   "source": [
    "print(data.groupby(['women', 'empl']).agg(agg_dict).to_latex()) # by gender"
   ]
  },
  {
   "cell_type": "code",
   "execution_count": null,
   "metadata": {},
   "outputs": [],
   "source": [
    "print(data.groupby(['empl']).agg(agg_dict).to_latex()) # all"
   ]
  },
  {
   "cell_type": "markdown",
   "metadata": {},
   "source": [
    "### Summary Statistics, with trimming"
   ]
  },
  {
   "cell_type": "code",
   "execution_count": null,
   "metadata": {},
   "outputs": [],
   "source": [
    "print(np.percentile(ME['wage'], 5))"
   ]
  },
  {
   "cell_type": "code",
   "execution_count": null,
   "metadata": {},
   "outputs": [],
   "source": [
    "print(np.percentile(FE['wage'], 5))"
   ]
  },
  {
   "cell_type": "code",
   "execution_count": 3,
   "metadata": {},
   "outputs": [],
   "source": [
    "M_WAGE_COND = (data['wage'] > 7.27) #hard coded percentile so it does not continually update\n",
    "M_COND = (data['women'] == 0)\n",
    "\n",
    "F_WAGE_COND = (data['wage'] > 5.75625) #hard coded percentile so it does not continually update\n",
    "F_COND = (data['women'] == 1)\n",
    "\n",
    "DUR_COND = (data['dur'] > 0)\n",
    "\n",
    "trim = data[ (M_COND & M_WAGE_COND) | (F_COND & F_WAGE_COND) | DUR_COND ]\n",
    "\n",
    "# trim = data[ (M_COND & (M_WAGE_COND | DUR_COND)) | (F_COND & (F_WAGE_COND | DUR_COND)) ]\n",
    "\n",
    "M = trim[trim['women']==0] #1071 ?? men \n",
    "F = trim[trim['women']==1] #944 ?? women \n",
    "U = trim[trim['empl']==0] #45 unemployed\n",
    "E = trim[trim['empl']==1] #1970 ?? employed\n",
    "\n",
    "ME = M[M['empl']==1] #1053 ?? employed men\n",
    "MU = M[M['empl']==0] #18 unemployed men\n",
    "FE = F[F['empl']==1] #917 employed women\n",
    "FU = F[F['empl']==0] #27 unemployed women"
   ]
  },
  {
   "cell_type": "code",
   "execution_count": null,
   "metadata": {},
   "outputs": [],
   "source": [
    "print(trim.groupby(['women', 'empl']).agg(agg_dict).to_latex()) # by gender"
   ]
  },
  {
   "cell_type": "code",
   "execution_count": null,
   "metadata": {},
   "outputs": [],
   "source": [
    "print(trim.groupby(['empl']).agg(agg_dict).to_latex()) # all"
   ]
  },
  {
   "cell_type": "markdown",
   "metadata": {},
   "source": [
    "## Figures \n",
    "\n",
    "- Distribution of wages, men and women"
   ]
  },
  {
   "cell_type": "code",
   "execution_count": null,
   "metadata": {},
   "outputs": [],
   "source": [
    "# Seaborn\n",
    "fig, ax = plt.subplots(2, 1, figsize=(12, 8))\n",
    "\n",
    "sns.distplot(ME['wage'], color='#4B9CD3', hist_kws={'alpha' : .3}, bins=50, ax=ax[0])\n",
    "sns.distplot(FE['wage'], color='#4B9CD3', hist_kws={'alpha' : .3}, bins=50, ax=ax[1])\n",
    "\n",
    "ax[0].legend(['Men'])\n",
    "ax[1].legend(['Women']) \n",
    "\n",
    "plt.tight_layout()"
   ]
  },
  {
   "cell_type": "code",
   "execution_count": null,
   "metadata": {},
   "outputs": [],
   "source": [
    "fig.savefig('./figures/fig1_2.png', bbox_inches='tight', transparent=True)"
   ]
  },
  {
   "cell_type": "markdown",
   "metadata": {},
   "source": [
    "## Estimation \n",
    "\n",
    "- Estimations 1-3: Same arrival and termination rates\n",
    "- Estimations 4-6: Gender specific arrival and termination rates"
   ]
  },
  {
   "cell_type": "code",
   "execution_count": null,
   "metadata": {},
   "outputs": [],
   "source": [
    "# Initial Conditions\n",
    "\n",
    "wstarM = min(ME['wage'])\n",
    "wstarF = min(FE['wage'])\n",
    "\n",
    "λ_M = 0.22\n",
    "λ_F = 0.22\n",
    "η_M = 0.005\n",
    "η_F = 0.005\n",
    "# α = 0.5  #FIXED\n",
    "μ_M = 3.456\n",
    "μ_F= 3.454\n",
    "σ_M = 0.558\n",
    "σ_F = 0.423\n",
    "p = 0.5\n",
    "d_F = 10\n",
    "# d_M = 0   #FIXED"
   ]
  },
  {
   "cell_type": "markdown",
   "metadata": {},
   "source": [
    "### Wage Function"
   ]
  },
  {
   "cell_type": "code",
   "execution_count": null,
   "metadata": {},
   "outputs": [],
   "source": [
    "def f_w(wage: np.array, α: float, wstar: float):\n",
    "    \"\"\"\n",
    "    Wage functions\n",
    "    \"\"\"\n",
    "    return (wage - (1-α)*wstar)*(1/α)"
   ]
  },
  {
   "cell_type": "markdown",
   "metadata": {},
   "source": [
    "### Estimation 1: Same arrival and termination, Productivity Differences, No Prejudice"
   ]
  },
  {
   "cell_type": "code",
   "execution_count": null,
   "metadata": {},
   "outputs": [],
   "source": [
    "def loglik1(params: list):\n",
    "    \"\"\"\n",
    "    Calculates the log likelihood with the log normal distribution\n",
    "    \"\"\"\n",
    "    \n",
    "    λ = np.exp(params[0])\n",
    "    η = np.exp(params[1])\n",
    "    μ_M = params[2]\n",
    "    σ_M = np.exp(params[3])\n",
    "    μ_F = params[4]\n",
    "    σ_F = np.exp(params[5])\n",
    "    d_F = 0\n",
    "    p = 0\n",
    "    α = 0.5\n",
    "\n",
    "    \n",
    "    hM = λ * ( (1-stats.lognorm.cdf(wstarM,μ_M,σ_M)) );\n",
    "    L00 = (η/(η+hM)) * hM * np.exp(-hM*np.sum(MU.values[:,0])); #unemployed men\n",
    "\n",
    "    L01a = ( ( (1/α)*stats.lognorm.pdf(f_w(ME.values[:,1],α,wstarM),μ_M,σ_M) )/(1-stats.lognorm.cdf(wstarM,μ_M,σ_M)) );\n",
    "    L01 = np.log(hM/(η+hM)) + np.sum( np.log(L01a) ); #employed men\n",
    "    \n",
    "    hF = λ*( (1-p)*(1-stats.lognorm.cdf(wstarF,μ_F,σ_F)) + p*(1-stats.lognorm.cdf((wstarF+d_F),μ_F,σ_F)) );\n",
    "    L10 = ( (η/(η+hF)) * hF * np.exp(-hF*np.sum(FU.values[:,0])) ); #unemployed women\n",
    "\n",
    "    L11a = ( ( ((1-p)/α)*stats.lognorm.pdf(f_w(FE.values[:,1],α,wstarF),μ_F,σ_F) ) / (1-stats.lognorm.cdf(wstarF,μ_F,σ_F)) );\n",
    "    L11b = ( ( (p/α)*stats.lognorm.pdf(f_w((FE.values[:,1]+α*d_F),α,wstarF),μ_F,σ_F) ) / (1-stats.lognorm.cdf((wstarF+d_F),μ_F,σ_F)) );\n",
    "    L11 = np.log(hF/(η+hF)) + np.sum( np.log(L11a + L11b) ); #employed women\n",
    "\n",
    "    results = np.log(L00) + L01 + np.log(L10) + L11\n",
    "\n",
    "    return -1*results"
   ]
  },
  {
   "cell_type": "code",
   "execution_count": null,
   "metadata": {},
   "outputs": [],
   "source": [
    "init1 = [λ_M, η_M, μ_M, σ_M, μ_F, σ_F]\n",
    "\n",
    "est1 = minimize(loglik1, init1, method='nelder-mead', options={'maxiter': 10000})"
   ]
  },
  {
   "cell_type": "code",
   "execution_count": null,
   "metadata": {},
   "outputs": [],
   "source": [
    "# est1 default\n",
    "\n",
    "print(est1.x)\n",
    "print(-loglik1(est1.x))"
   ]
  },
  {
   "cell_type": "code",
   "execution_count": null,
   "metadata": {},
   "outputs": [],
   "source": [
    "# est1 nelder\n",
    "\n",
    "print(est1.x)\n",
    "print(-loglik1(est1.x))"
   ]
  },
  {
   "cell_type": "markdown",
   "metadata": {},
   "source": [
    "#### Test Statistics"
   ]
  },
  {
   "cell_type": "code",
   "execution_count": null,
   "metadata": {},
   "outputs": [],
   "source": [
    "# Standard Errors\n",
    "\n",
    "vcv_mle1 = est1.hess_inv\n",
    "se1 = np.sqrt(np.diag(vcv_mle1))\n",
    "print('Standard errors are given in ', se1)\n",
    "\n",
    "# Likelihood Ratio Test\n",
    "\n",
    "LR_val_1 = 2 * (-loglik1(est1.x) + loglik1(init1))\n",
    "pval_h0_1 = 1.0 - stats.chi2.cdf(LR_val_1, 5)\n",
    "print('LR value = ', LR_val_1, '. Chi squared of H0 with 5 degrees of freedom p-value = ', pval_h0_1)"
   ]
  },
  {
   "cell_type": "markdown",
   "metadata": {},
   "source": [
    "### Estimation 2: Same arrival and termination, Prejudice, No Productivity Differences"
   ]
  },
  {
   "cell_type": "code",
   "execution_count": null,
   "metadata": {},
   "outputs": [],
   "source": [
    "def loglik2(params: list):\n",
    "    \"\"\"\n",
    "    Calculates the log likelihood with the log normal distribution\n",
    "    \"\"\"\n",
    "  \n",
    "    λ = np.exp(params[0])\n",
    "    η = np.exp(params[1])\n",
    "    μ = params[2]\n",
    "    σ = np.exp(params[3])\n",
    "    d_F = np.exp(params[5])\n",
    "    p = np.exp(params[4]) / (1 + np.exp(params[4]))\n",
    "    α = 0.5\n",
    "\n",
    "#    pdb.set_trace()\n",
    "    \n",
    "    hM = λ * ( (1-stats.lognorm.cdf(wstarM,μ,σ)) );\n",
    "    L00 = (η/(η+hM)) * hM * np.exp(-hM*np.sum(MU.values[:,0])); #unemployed men\n",
    "\n",
    "    L01a = ( ( (1/α)*stats.lognorm.pdf(f_w(ME.values[:,1],α,wstarM),μ,σ) )/(1-stats.lognorm.cdf(wstarM,μ,σ)) );\n",
    "    L01 = np.log(hM/(η+hM)) + np.sum( np.log(1+L01a) ); #employed men\n",
    "    \n",
    "    hF = λ * ( (1-p)*(1-stats.lognorm.cdf(wstarF,μ,σ)) + p*(1-stats.lognorm.cdf((wstarF+d_F),μ,σ)) );\n",
    "    L10 = ( (η/(η+hF)) * hF * np.exp(-hF*np.sum(FU.values[:,0])) ); #unemployed women\n",
    "\n",
    "    L11a = ( ( ((1-p)/α)*stats.lognorm.pdf(f_w(FE.values[:,1],α,wstarF),μ,σ) ) / (1-stats.lognorm.cdf(wstarF,μ,σ)) );\n",
    "    L11b = ( ( (p/α)*stats.lognorm.pdf(f_w((FE.values[:,1]+ α*d_F),α,wstarF),μ,σ) ) / (1-stats.lognorm.cdf((wstarF+d_F),μ,σ)) );\n",
    "    L11 = np.log(hF/(η+hF)) + np.sum( np.log(1+L11a + L11b) ); #employed women\n",
    "\n",
    "    results = np.log(1+L00) + L01 + np.log(1+L10) + L11\n",
    "\n",
    "    return -1*results"
   ]
  },
  {
   "cell_type": "code",
   "execution_count": null,
   "metadata": {},
   "outputs": [],
   "source": [
    "init2 = [λ_M, η_M, μ_M, σ_M, p, d_F]\n",
    "\n",
    "est2 = minimize(loglik2, init2, method='nelder-mead', options={'maxiter': 10000})"
   ]
  },
  {
   "cell_type": "code",
   "execution_count": null,
   "metadata": {},
   "outputs": [],
   "source": [
    "# est2\n",
    "\n",
    "print(est2.x)\n",
    "print(-loglik2(est2.x))"
   ]
  },
  {
   "cell_type": "markdown",
   "metadata": {},
   "source": [
    "#### Test Statistics"
   ]
  },
  {
   "cell_type": "code",
   "execution_count": null,
   "metadata": {},
   "outputs": [],
   "source": [
    "# Standard Errors\n",
    "\n",
    "vcv_mle2 = est2.hess_inv\n",
    "se2 = np.sqrt(np.diag(vcv_mle2))\n",
    "print('Standard errors are given in ', se2)\n",
    "\n",
    "# Likelihood Ratio Test\n",
    "\n",
    "LR_val_2 = 2 * (-loglik2(est2.x) + loglik2(init2))\n",
    "pval_h0_2 = 1.0 - stats.chi2.cdf(LR_val_2, 5)\n",
    "print('LR value = ', LR_val_2, '. Chi squared of H0 with 5 degrees of freedom p-value = ', pval_h0_2)\n"
   ]
  },
  {
   "cell_type": "markdown",
   "metadata": {},
   "source": [
    "### Estimation 3: Same arrival and termination, Productivity Differences and Prejudice"
   ]
  },
  {
   "cell_type": "code",
   "execution_count": null,
   "metadata": {},
   "outputs": [],
   "source": [
    "def loglik3(params: list):\n",
    "    \"\"\"\n",
    "    Calculates the log likelihood with the log normal distribution\n",
    "    \"\"\"\n",
    "    \n",
    "    λ = np.exp(params[0])\n",
    "    η = np.exp(params[1])\n",
    "    μ_M = params[2]\n",
    "    σ_M = np.exp(params[3])\n",
    "    μ_F = params[4]\n",
    "    σ_F = np.exp(params[5])\n",
    "    d_F = np.exp(params[7])\n",
    "    p = (np.exp(params[6]))/(1+np.exp(params[6]))\n",
    "    α = 0.5\n",
    "    \n",
    "#    pdb.set_trace()\n",
    "    \n",
    "    hM = λ * ( (1-stats.lognorm.cdf(wstarM,μ_M,σ_M)) );\n",
    "    L00 = (η/(η+hM)) * hM * np.exp(-hM*np.sum(MU.values[:,0])); #unemployed men\n",
    "\n",
    "    L01a = ( ( (1/α)*stats.lognorm.pdf(f_w(ME.values[:,1],α,wstarM),μ_M,σ_M) )/(1-stats.lognorm.cdf(wstarM,μ_M,σ_M)) );\n",
    "    L01 = np.log(hM/(η+hM)) + np.sum( np.log(L01a) ); #employed men\n",
    "    \n",
    "    hF = λ * ( (1-p)*(1-stats.lognorm.cdf(wstarF,μ_F,σ_F)) + p*(1-stats.lognorm.cdf((wstarF+d_F),μ_F,σ_F)) );\n",
    "    L10 = ( (η/(η+hF)) * hF * np.exp(-hF*np.sum(FU.values[:,0])) ); #unemployed women\n",
    "\n",
    "    L11a = ( ( ((1-p)/α)*stats.lognorm.pdf(f_w(FE.values[:,1],α,wstarF),μ_F,σ_F) ) / (1-stats.lognorm.cdf(wstarF,μ_F,σ_F)) );\n",
    "    L11b = ( ( (p/α)*stats.lognorm.pdf(f_w((FE.values[:,1]+α*d_F),α,wstarF),μ_F,σ_F) ) / (1-stats.lognorm.cdf((wstarF+d_F),μ_F,σ_F)) );\n",
    "    L11 = np.log(hF/(η+hF)) + np.sum( np.log(L11a + L11b) ); #employed women\n",
    "\n",
    "    results = np.log(L00) + L01 + np.log(L10) + L11\n",
    "\n",
    "    return -1*results"
   ]
  },
  {
   "cell_type": "code",
   "execution_count": null,
   "metadata": {},
   "outputs": [],
   "source": [
    "init3 = [λ_M, η_M, μ_M, σ_M, μ_F, σ_F, p, d_F]\n",
    "\n",
    "est3 = minimize(loglik3, init3, options={'maxiter': 10000})"
   ]
  },
  {
   "cell_type": "code",
   "execution_count": null,
   "metadata": {},
   "outputs": [],
   "source": [
    "print(est3.x)\n",
    "print(-loglik3(est3.x))"
   ]
  },
  {
   "cell_type": "markdown",
   "metadata": {},
   "source": [
    "#### Test Statistics"
   ]
  },
  {
   "cell_type": "code",
   "execution_count": null,
   "metadata": {},
   "outputs": [],
   "source": [
    "# Standard Errors\n",
    "\n",
    "vcv_mle3 = est3.hess_inv\n",
    "se3 = np.sqrt(np.diag(vcv_mle3))\n",
    "print('Standard errors are given in ', se3)\n",
    "\n",
    "# Likelihood Ratio Test\n",
    "\n",
    "LR_val_3 = 2 * (-loglik3(est3.x) + loglik3(init3))\n",
    "pval_h0_3 = 1.0 - stats.chi2.cdf(LR_val_3, 5)\n",
    "print('LR value = ', LR_val_3, '. Chi squared of H0 with 5 degrees of freedom p-value = ', pval_h0_3)\n"
   ]
  },
  {
   "cell_type": "markdown",
   "metadata": {},
   "source": [
    "### Estimation 4: Productivity Differences, No Prejudice"
   ]
  },
  {
   "cell_type": "code",
   "execution_count": null,
   "metadata": {},
   "outputs": [],
   "source": [
    "def loglik4(params: list):\n",
    "    \"\"\"\n",
    "    Calculates the log likelihood with the log normal distribution\n",
    "    \"\"\"\n",
    "    \n",
    "    λ_M = np.exp(params[0])\n",
    "    λ_F = np.exp(params[1])\n",
    "    η_M = np.exp(params[2])\n",
    "    η_F = np.exp(params[3])\n",
    "    μ_M = params[4]\n",
    "    σ_M = np.exp(params[5])\n",
    "    μ_F = params[6]\n",
    "    σ_F = np.exp(params[7])\n",
    "    d_F = 0\n",
    "    p = 0\n",
    "    α = 0.5\n",
    "    \n",
    "    hM = λ_M * ( (1-stats.lognorm.cdf(wstarM,μ_M,σ_M)) );\n",
    "    L00 = (η_M/(η_M+hM)) * hM * np.exp(-hM*np.sum(MU.values[:,0])); #unemployed men\n",
    "\n",
    "    L01a = ( ( (1/α)*stats.lognorm.pdf(f_w(ME.values[:,1],α,wstarM),μ_M,σ_M) )/(1-stats.lognorm.cdf(wstarM,μ_M,σ_M)) );\n",
    "    L01 = np.log(hM/(η_M+hM)) + np.sum( np.log(L01a) ); #employed men\n",
    "    \n",
    "    hF = λ_F*( (1-p)*(1-stats.lognorm.cdf(wstarF,μ_F,σ_F)) + p*(1-stats.lognorm.cdf((wstarF+d_F),μ_F,σ_F)) );\n",
    "    L10 = ( (η_F/(η_F+hF)) * hF * np.exp(-hF*np.sum(FU.values[:,0])) ); #unemployed women\n",
    "\n",
    "    L11a = ( ( ((1-p)/α)*stats.lognorm.pdf(f_w(FE.values[:,1],α,wstarF),μ_F,σ_F) ) / (1-stats.lognorm.cdf(wstarF,μ_F,σ_F)) );\n",
    "    L11b = ( ( (p/α)*stats.lognorm.pdf(f_w((FE.values[:,1]+α*d_F),α,wstarF),μ_F,σ_F) ) / (1-stats.lognorm.cdf((wstarF+d_F),μ_F,σ_F)) );\n",
    "    L11 = np.log(hF/(η_F+hF)) + np.sum( np.log(L11a + L11b) ); #employed women\n",
    "\n",
    "    results = np.log(L00) + L01 + np.log(L10) + L11\n",
    "\n",
    "    return -1*results"
   ]
  },
  {
   "cell_type": "code",
   "execution_count": null,
   "metadata": {},
   "outputs": [],
   "source": [
    "init4 = [λ_M, λ_F, η_M, η_F, μ_M, σ_M, μ_F, σ_F]\n",
    "\n",
    "est4 = minimize(loglik4, init4, method='nelder-mead', options={'maxiter': 10000})"
   ]
  },
  {
   "cell_type": "code",
   "execution_count": null,
   "metadata": {},
   "outputs": [],
   "source": [
    "print(est4.x)\n",
    "print(-loglik4(est4.x))"
   ]
  },
  {
   "cell_type": "markdown",
   "metadata": {},
   "source": [
    "#### Test Statistics"
   ]
  },
  {
   "cell_type": "code",
   "execution_count": null,
   "metadata": {},
   "outputs": [],
   "source": [
    "# Standard Errors\n",
    "\n",
    "vcv_mle4 = est4.hess_inv\n",
    "se4 = np.sqrt(np.diag(vcv_mle4))\n",
    "print('Standard errors are given in ', se4)\n",
    "\n",
    "# Likelihood Ratio Test\n",
    "\n",
    "LR_val_4 = 2 * (-loglik4(est4.x) + loglik4(init4))\n",
    "pval_h0_4 = 1.0 - stats.chi2.cdf(LR_val_4, 7)\n",
    "print('LR value = ', LR_val_4, '. Chi squared of H0 with 7 degrees of freedom p-value = ', pval_h0_4)\n"
   ]
  },
  {
   "cell_type": "markdown",
   "metadata": {},
   "source": [
    "### Estimation 5: Prejudice, No Productivity Differences"
   ]
  },
  {
   "cell_type": "code",
   "execution_count": null,
   "metadata": {},
   "outputs": [],
   "source": [
    "def loglik5(params: list):\n",
    "    \"\"\"\n",
    "    Calculates the log likelihood with the log normal distribution\n",
    "    \"\"\"\n",
    "    \n",
    "    λ_M = np.exp(params[0])\n",
    "    λ_F = np.exp(params[1])\n",
    "    η_M = np.exp(params[2])\n",
    "    η_F = np.exp(params[3])\n",
    "    μ = params[4]\n",
    "    σ = np.exp(params[5])\n",
    "    d_F = np.exp(params[7])\n",
    "    p = (np.exp(params[6]))/(1+np.exp(params[6]))\n",
    "    α = 0.5\n",
    "    \n",
    "#    pdb.set_trace()\n",
    "    \n",
    "    hM = λ_M * ( (1-stats.lognorm.cdf(wstarM,μ,σ)) );\n",
    "    L00 = (η_M/(η_M+hM)) * hM * np.exp(-hM*np.sum(MU.values[:,0])); #unemployed men\n",
    "\n",
    "    L01a = ( ( (1/α)*stats.lognorm.pdf(f_w(ME.values[:,1],α,wstarM),μ,σ) )/(1-stats.lognorm.cdf(wstarM,μ,σ)) );\n",
    "    L01 = np.log(hM/(η_M+hM)) + np.sum( np.log(1 + L01a) ); #employed men\n",
    "    \n",
    "    hF = λ_F*( (1-p)*(1-stats.lognorm.cdf(wstarF,μ,σ)) + p*(1-stats.lognorm.cdf((wstarF+d_F),μ,σ)) );\n",
    "    L10 = ( (η_F/(η_F+hF)) * hF * np.exp(-hF*np.sum(FU.values[:,0])) ); #unemployed women\n",
    "\n",
    "    L11a = ( ( ((1-p)/α)*stats.lognorm.pdf(f_w(FE.values[:,1],α,wstarF),μ,σ) ) / (1-stats.lognorm.cdf(wstarF,μ,σ)) );\n",
    "    L11b = ( ( (p/α)*stats.lognorm.pdf(f_w((FE.values[:,1]+α*d_F),α,wstarF),μ,σ) ) / (1-stats.lognorm.cdf((wstarF+d_F),μ,σ)) );\n",
    "    L11 = np.log(hF/(η_F+hF)) + np.sum( np.log(1 + L11a + L11b) ); #employed women\n",
    "\n",
    "    results = np.log(1+L00) + L01 + np.log(1+L10) + L11\n",
    "\n",
    "    return -1*results"
   ]
  },
  {
   "cell_type": "code",
   "execution_count": null,
   "metadata": {},
   "outputs": [],
   "source": [
    "init5 = [λ_M, λ_F, η_M, η_F, μ_M, σ_M, p, d_F]\n",
    "\n",
    "est5 = minimize(loglik5, init5, method='nelder-mead', options={'maxiter': 10000})"
   ]
  },
  {
   "cell_type": "code",
   "execution_count": null,
   "metadata": {},
   "outputs": [],
   "source": [
    "est5.x"
   ]
  },
  {
   "cell_type": "markdown",
   "metadata": {},
   "source": [
    "### Estimation 6: Productivity Differences and Prejudice"
   ]
  },
  {
   "cell_type": "code",
   "execution_count": null,
   "metadata": {},
   "outputs": [],
   "source": [
    "def loglik6(params: list):\n",
    "    \"\"\"\n",
    "    Calculates the log likelihood with the log normal distribution\n",
    "    \"\"\"\n",
    "    \n",
    "    λ_M = np.exp(params[0])\n",
    "    λ_F = np.exp(params[1])\n",
    "    η_M = np.exp(params[2])\n",
    "    η_F = np.exp(params[3])\n",
    "    μ_M = params[4]\n",
    "    σ_M = np.exp(params[5])\n",
    "    μ_F = params[6]\n",
    "    σ_F = np.exp(params[7])\n",
    "    d_F = np.exp(params[9])\n",
    "    p = (np.exp(params[8]))/(1+np.exp(params[8]))\n",
    "    α = 0.5\n",
    "    \n",
    "#    pdb.set_trace()\n",
    "    \n",
    "    hM = λ_M * ( (1-stats.lognorm.cdf(wstarM,μ_M,σ_M)) );\n",
    "    L00 = (η_M/(η_M+hM)) * hM * np.exp(-hM*np.sum(MU.values[:,0])); #unemployed men\n",
    "\n",
    "    L01a = ( ( (1/α)*stats.lognorm.pdf(f_w(ME.values[:,1],α,wstarM),μ_M,σ_M) )/(1-stats.lognorm.cdf(wstarM,μ_M,σ_M)) );\n",
    "    L01 = np.log(hM/(η_M+hM)) + np.sum( np.log(1 + L01a) ); #employed men\n",
    "    \n",
    "    hF = λ_F*( (1-p)*(1-stats.lognorm.cdf(wstarF,μ_F,σ_F)) + p*(1-stats.lognorm.cdf((wstarF+d_F),μ_F,σ_F)) );\n",
    "    L10 = ( (η_F/(η_F+hF)) * hF * np.exp(-hF*np.sum(FU.values[:,0])) ); #unemployed women\n",
    "\n",
    "    L11a = ( ( ((1-p)/α)*stats.lognorm.pdf(f_w(FE.values[:,1],α,wstarF),μ_F,σ_F) ) / (1-stats.lognorm.cdf(wstarF,μ_F,σ_F)) );\n",
    "    L11b = ( ( (p/α)*stats.lognorm.pdf(f_w((FE.values[:,1]+α*d_F),α,wstarF),μ_F,σ_F) ) / (1-stats.lognorm.cdf((wstarF+d_F),μ_F,σ_F)) );\n",
    "    L11 = np.log(hF/(η_F+hF)) + np.sum( np.log(1 + L11a + L11b) ); #employed women\n",
    "\n",
    "    results = np.log(1+L00) + L01 + np.log(1+L10) + L11\n",
    "\n",
    "    return -1*results"
   ]
  },
  {
   "cell_type": "code",
   "execution_count": null,
   "metadata": {},
   "outputs": [],
   "source": [
    "init6 = [λ_M, λ_F, η_M, η_F, μ_M, σ_M, μ_F, σ_F, p, d_F]\n",
    "\n",
    "est6 = minimize(loglik6, init6)#options={'maxiter': 10000})"
   ]
  },
  {
   "cell_type": "code",
   "execution_count": null,
   "metadata": {},
   "outputs": [],
   "source": [
    "est6.x"
   ]
  },
  {
   "cell_type": "code",
   "execution_count": null,
   "metadata": {},
   "outputs": [],
   "source": [
    "pd.DataFrame(est1.x,est2.x,est3.x,est4.x,est5.x,est6.x)"
   ]
  },
  {
   "cell_type": "markdown",
   "metadata": {},
   "source": [
    "## Scratch"
   ]
  },
  {
   "cell_type": "markdown",
   "metadata": {},
   "source": [
    "### Initial Conditions"
   ]
  },
  {
   "cell_type": "code",
   "execution_count": 4,
   "metadata": {},
   "outputs": [],
   "source": [
    "λ_M = 0.18\n",
    "λ_F = 0.28\n",
    "η_M = 0.003\n",
    "η_F = 0.0077\n",
    "μ_M = 3.456\n",
    "μ_F= 3.454\n",
    "σ_M = 0.558\n",
    "σ_F = 0.423\n",
    "p = 0.5\n",
    "d = 15"
   ]
  },
  {
   "cell_type": "markdown",
   "metadata": {},
   "source": [
    "### Parameters without distributional assumptions"
   ]
  },
  {
   "cell_type": "code",
   "execution_count": 5,
   "metadata": {},
   "outputs": [],
   "source": [
    "wstarM = min(ME['wage'])\n",
    "wstarF = min(FE['wage'])\n",
    "\n",
    "hM = MU['dur'].count()/sum(MU.values[:,0])\n",
    "hF = FU['dur'].count()/sum(FU.values[:,0])\n",
    "h = U['dur'].count()/sum(U.values[:,0])\n",
    "\n",
    "ηM = hM * (MU['dur'].count()/ME['empl'].count())\n",
    "ηF = hF * (FU['dur'].count()/FE['empl'].count())\n",
    "η = h * (U['dur'].count()/E['empl'].count())\n",
    "\n",
    "α = 0.5"
   ]
  },
  {
   "cell_type": "markdown",
   "metadata": {},
   "source": [
    "### Accepted Wage Function and Distributions"
   ]
  },
  {
   "cell_type": "code",
   "execution_count": 6,
   "metadata": {},
   "outputs": [],
   "source": [
    "def dens_accepted(wage: np.array, α: float, μ: float, σ: float, wstar: float):\n",
    "    \"\"\"\n",
    "    Calculates the density of accepted wages\n",
    "    \"\"\"\n",
    "    \n",
    "    l = (α*μ) + ((1-α)*wstar)\n",
    "    s = α * σ\n",
    "    shape = 1\n",
    "    \n",
    "    sf_in = (wstar - l)/s\n",
    "    \n",
    "    return stats.lognorm.pdf(wage, shape, l, s) / stats.lognorm.sf(sf_in, shape, l, s)"
   ]
  },
  {
   "cell_type": "code",
   "execution_count": 7,
   "metadata": {},
   "outputs": [],
   "source": [
    "def dens_accepted_prej(wage: np.array, α: float, μ: float, σ: float, wstar: float, d: float):\n",
    "    \"\"\"\n",
    "    Calculates the density of accepted wages when prejudice is present\n",
    "    \"\"\"\n",
    "    \n",
    "    l = (α*μ) + ((1-α)*wstar) - α*d\n",
    "    s = α * σ\n",
    "    shape = 1\n",
    "    \n",
    "    sf_in = (wstar - l)/s\n",
    "    \n",
    "    return stats.lognorm.pdf(wage,shape,l,s) / stats.lognorm.sf(sf_in, shape, l, s)"
   ]
  },
  {
   "cell_type": "code",
   "execution_count": 8,
   "metadata": {},
   "outputs": [],
   "source": [
    "def lambdaM(h: float, wstarM: float, α: float, μ: float, σ: float):\n",
    "    \"\"\"\n",
    "    Estimates lambda for men\n",
    "    \"\"\"\n",
    "    \n",
    "    l = (α*μ) + ((1-α)*wstarM)\n",
    "    s = α * σ\n",
    "    shape = 1\n",
    "    \n",
    "    sf_in = (wstarM-l)/s\n",
    "    \n",
    "    denom = stats.lognorm.sf(sf_in, shape, l, s)\n",
    "    \n",
    "    return h/denom"
   ]
  },
  {
   "cell_type": "code",
   "execution_count": 9,
   "metadata": {},
   "outputs": [],
   "source": [
    "def lambdaF(h: float, wstarF: float, α: float, μ: float, σ: float, p: float):\n",
    "    \"\"\"\n",
    "    Estimates lambda for women\n",
    "    \"\"\"\n",
    "    \n",
    "    l1 = (α*μ) + ((1-α)*wstarF)\n",
    "    l2 = (α*μ) + ((1-α)*wstarF) - α*d\n",
    "    s = α * σ\n",
    "    shape = 1\n",
    "    \n",
    "    sf_in1 = (wstarF-l1)/s\n",
    "    sf_in2 = (wstarF-l2)/s\n",
    "    \n",
    "    denom = (1-p)*stats.lognorm.sf(sf_in1, shape, l1, s) + p*stats.lognorm.sf(sf_in2, shape, l2, s)\n",
    "    \n",
    "    return h/denom"
   ]
  },
  {
   "cell_type": "code",
   "execution_count": null,
   "metadata": {},
   "outputs": [],
   "source": [
    "# def hM(λM: float, wstarM: float, α: float, μ: float, σ: float):\n",
    "    \n",
    "#     l = (α*μ) + ((1-α)*wstarM)\n",
    "#     s = α * σ\n",
    "#     shape = .5\n",
    "    \n",
    "#     return λM * stats.lognorm.sf(wstarM,shape, l, s)"
   ]
  },
  {
   "cell_type": "code",
   "execution_count": null,
   "metadata": {},
   "outputs": [],
   "source": [
    "# def hF(λF: float, wstarF: float, α: float, μ: float, σ: float, p: float):\n",
    "    \n",
    "#     l1 = (α*μ) + ((1-α)*wstarF)\n",
    "#     l2 = (α*μ) + ((1-α)*wstarF) - α*d\n",
    "#     s = α * σ\n",
    "#     shape = .5\n",
    "    \n",
    "#     mult = (1-p)*stats.lognorm.sf(wstarF, shape, l1, s) + p*stats.lognorm.sf(wstarF, shape, l2, s)\n",
    "    \n",
    "#     return λF * mult"
   ]
  },
  {
   "cell_type": "markdown",
   "metadata": {},
   "source": [
    "### Likelihood Functions"
   ]
  },
  {
   "cell_type": "code",
   "execution_count": 10,
   "metadata": {},
   "outputs": [],
   "source": [
    "def loglik_6( params: list ):\n",
    "    \"\"\"\n",
    "    Calculates log likelihood with prejudice and productivity differences \n",
    "    \n",
    "    Estimation 6 (ηM, ηF, hM, hF)\n",
    "    \n",
    "    Parameters to estimate: \n",
    "        λM # see fxn elsewhere\n",
    "        λF # see fxn elsewhere\n",
    "        ηM ?\n",
    "        ηF ?\n",
    "        μM\n",
    "        σM\n",
    "        μF\n",
    "        σF\n",
    "        d\n",
    "        p\n",
    "    \"\"\"\n",
    "    \n",
    "    λM = np.exp(params[0])\n",
    "    λF = np.exp(params[1])\n",
    "    ηM = np.exp(params[2])\n",
    "    ηF = np.exp(params[3])\n",
    "    μM = params[4]\n",
    "    σM = np.exp(params[5])\n",
    "    μF = params[6]\n",
    "    σF = np.exp(params[7])\n",
    "    d = np.exp(params[8])\n",
    "    p = np.exp(params[9])/(1+np.exp(params[9]))\n",
    "\n",
    "    \n",
    "    # Men's equations \n",
    "    λM = lambdaM(hM, wstarM, α, μM, σM)\n",
    "    \n",
    "    a = M['dur'].count() * np.log(hM/(hM+ηM))\n",
    "    b = MU['dur'].count() * np.log(ηM)\n",
    "    c = - hM * np.sum(MU.values[:,0])\n",
    "    e = np.sum( np.log( (1/α) * dens_accepted(ME['wage'], α, μM, σM, wstarM) ) )\n",
    "    \n",
    "    # Women's equations\n",
    "    λF = lambdaF(hF, p, wstarF, α, μM, σM)\n",
    "    \n",
    "    f = F['dur'].count() * np.log(hF/(hF+ηF))\n",
    "    g = FU['dur'].count() * np.log(ηF)\n",
    "    h = - hF * np.sum(FU.values[:,0])\n",
    "    \n",
    "    y = ((1-p)/α) * dens_accepted(FE['wage'], α, μF, σF, wstarF)\n",
    "    z = (p/α) * dens_accepted_prej(FE['wage'], α, μF, σF, wstarF, d)\n",
    "\n",
    "    i = np.sum( np.log( y + z ) )\n",
    "    \n",
    "    return (a + b + c + e + f + g + h + i)"
   ]
  },
  {
   "cell_type": "code",
   "execution_count": 17,
   "metadata": {},
   "outputs": [
    {
     "name": "stdout",
     "output_type": "stream",
     "text": [
      "5947.5045035078465\n"
     ]
    }
   ],
   "source": [
    "# Check on log-likelihood\n",
    "\n",
    "param6 = [λ_M, λ_F, η_M, η_F, μ_M, σ_M, μ_F, σ_F, d, p]\n",
    "\n",
    "b0 = np.log(param6[0])\n",
    "b1 = np.log(param6[1])\n",
    "b2 = np.log(param6[2])\n",
    "b3 = np.log(param6[3])\n",
    "b4 = param6[4]\n",
    "b5 = np.log(param6[5])\n",
    "b6 = param6[6]\n",
    "b7 = np.log(param6[7])\n",
    "b8 = np.log(param6[8])\n",
    "b9 = np.log(1)\n",
    "\n",
    "init6 = [b0, b1, b2, b3, b4, b5, b6, b7, b8,b9]\n",
    "\n",
    "print(loglik_6(init6))"
   ]
  },
  {
   "cell_type": "code",
   "execution_count": null,
   "metadata": {},
   "outputs": [],
   "source": [
    "est_6 = minimize(loglik_6, init6)\n",
    "\n",
    "est_6"
   ]
  },
  {
   "cell_type": "code",
   "execution_count": null,
   "metadata": {},
   "outputs": [],
   "source": [
    "# Coefficients\n",
    "\n",
    "λM = np.exp(est_6.x[0])\n",
    "λF = np.exp(est_6.x[1])\n",
    "ηM = np.exp(est_6.x[2])\n",
    "ηF = np.exp(est_6.x[3])\n",
    "μM = est_6.x[4]\n",
    "σM = np.exp(est_6.x[5])\n",
    "μF = est_6.x[6]\n",
    "σF = np.exp(est_6.x[7])\n",
    "d = np.exp(est_6.x[8])\n",
    "p = np.exp(est_6.x[9])/(1+np.exp(est_6.x[9]))\n",
    "\n",
    "print(λM, λF, ηM, ηF, μM, σM, μF, σF, d, p)"
   ]
  },
  {
   "cell_type": "code",
   "execution_count": null,
   "metadata": {},
   "outputs": [],
   "source": [
    "def loglik_3( params: list ):\n",
    "    \"\"\"\n",
    "    Calculates log likelihood with prejudice and productivity differences \n",
    "    \n",
    "    Estimation 3 (η and h not gender specific)\n",
    "    \n",
    "    Parameters to estimate: \n",
    "        λ # see fxn elsewhere\n",
    "        μM\n",
    "        σM\n",
    "        μF\n",
    "        σF\n",
    "        d\n",
    "        p\n",
    "    \"\"\"\n",
    "\n",
    "    \n",
    "    # Men's equations \n",
    "    a = M['dur'].count() * np.log(h/(h+η))\n",
    "    b = MU['dur'].count() * np.log(η)\n",
    "    c = - h * np.sum(MU.values[:,0])\n",
    "    e = np.sum( np.log( (1/α) * dens_accepted(ME['wage'], α, μM, σM, wstarM) ) )\n",
    "    \n",
    "    \n",
    "    # Women's equations\n",
    "    f = F['dur'].count() * np.log(h/(h+η))\n",
    "    g = FU['dur'].count * np.log(η)\n",
    "    h = - h * np.sum(FU.values[:,0])\n",
    "    \n",
    "    y = ((1-p)/α) * dens_accepted(FE['wage'], α, μF, σF, wstarF)\n",
    "    z = (p/α) * dens_accepted_prej(FE['wage'], α, μF, σF, wstarF, d)\n",
    "\n",
    "    i = np.sum( np.log( y + z ) )\n",
    "    \n",
    "    \n",
    "    return a + b + c + e + f + g + h + i"
   ]
  },
  {
   "cell_type": "code",
   "execution_count": null,
   "metadata": {},
   "outputs": [],
   "source": [
    "def loglik_5( params: list ):\n",
    "    \"\"\"\n",
    "    Calculates log likelihood with prejudice, no productivity differences. \n",
    "    \n",
    "    Estimation 5 (ηM, ηF, hM, hF)\n",
    "    \n",
    "    Parameters to estimate: \n",
    "        λM # see fxn elsewhere\n",
    "        λF # see fxn elsewhere\n",
    "        μ\n",
    "        σ\n",
    "        p\n",
    "        d\n",
    "    \"\"\"\n",
    "\n",
    "    \n",
    "    # Men's equations \n",
    "    a = M['dur'].count() * np.log(hM/(hM+ηM))\n",
    "    b = MU['dur'].count() * np.log(ηM)\n",
    "    c = - hM * np.sum(MU.values[:,0])\n",
    "    e = np.sum( np.log( (1/α) * dens_accepted(ME['wage'], α, μ, σ, wstarM) ) )\n",
    "    \n",
    "    \n",
    "    # Women's equations\n",
    "    f = F['dur'].count() * np.log(hF/(hF+ηF))\n",
    "    g = FU['dur'].count * np.log(ηF)\n",
    "    h = - hF * np.sum(FU.values[:,0])\n",
    "    \n",
    "    y = ((1-p)/α) * dens_accepted(FE['wage'], α, μ, σ, wstarF)\n",
    "    z = (p/α) * dens_accepted_prej(FE['wage'], α, μ, σ, wstarF, d)\n",
    "\n",
    "    i = np.sum( np.log( y + z ) )\n",
    "    \n",
    "    \n",
    "    return a + b + c + e + f + g + h + i"
   ]
  },
  {
   "cell_type": "code",
   "execution_count": null,
   "metadata": {},
   "outputs": [],
   "source": [
    "def loglik_2( params: list ):\n",
    "    \"\"\"\n",
    "    Calculates log likelihood with prejudice, no productivity differences. \n",
    "    \n",
    "    Estimation 2 (η and h not gender specific)\n",
    "    \n",
    "    Parameters to estimate: \n",
    "        λ # see fxn elsewhere\n",
    "        μ\n",
    "        σ\n",
    "        p\n",
    "        d\n",
    "    \"\"\"\n",
    "\n",
    "    \n",
    "    # Men's equations \n",
    "    a = M['dur'].count() * np.log(h/(h+η))\n",
    "    b = MU['dur'].count() * np.log(η)\n",
    "    c = - h * np.sum(MU.values[:,0])\n",
    "    e = np.sum( np.log( (1/α) * dens_accepted(ME['wage'], α, μ, σ, wstarM) ) )\n",
    "    \n",
    "    \n",
    "    # Women's equations\n",
    "    f = F['dur'].count() * np.log(h/(h+η))\n",
    "    g = FU['dur'].count * np.log(η)\n",
    "    h = - h * np.sum(FU.values[:,0])\n",
    "    \n",
    "    y = ((1-p)/α) * dens_accepted(FE['wage'], α, μ, σ, wstarF)\n",
    "    z = (p/α) * dens_accepted_prej(FE['wage'], α, μ, σ, wstarF, d)\n",
    "\n",
    "    i = np.sum( np.log( y + z ) )\n",
    "    \n",
    "    \n",
    "    return a + b + c + e + f + g + h + i"
   ]
  },
  {
   "cell_type": "code",
   "execution_count": null,
   "metadata": {},
   "outputs": [],
   "source": [
    "def loglik_4( params: list ):\n",
    "    \"\"\"\n",
    "    Calculates log likelihood with productivity differences, no prejudice\n",
    "    \n",
    "    Estimation 4 (ηM, ηF, hM, hF)\n",
    "    \n",
    "    Parameters to estimate: \n",
    "        λM # see fxn elsewhere\n",
    "        λF # see fxn elsewhere\n",
    "        μM\n",
    "        σM\n",
    "        μF\n",
    "        σF\n",
    "    \"\"\"\n",
    "\n",
    "    \n",
    "    # Men's equations \n",
    "    a = M['dur'].count() * np.log(hM/(hM+ηM))\n",
    "    b = MU['dur'].count() * np.log(ηM)\n",
    "    c = - hM * np.sum(MU.values[:,0])\n",
    "    e = np.sum( np.log( (1/α) * dens_accepted(ME['wage'], α, μM, σM, wstarM) ) )\n",
    "    \n",
    "    \n",
    "    # Women's equations\n",
    "    f = F['dur'].count() * np.log(hF/(hF+ηF))\n",
    "    g = FU['dur'].count * np.log(ηF)\n",
    "    h = - hF * np.sum(FU.values[:,0])\n",
    "    \n",
    "    y = (1/α) * dens_accepted(FE['wage'], α, μF, σF, wstarF)\n",
    "\n",
    "    i = np.sum( np.log( y ) )\n",
    "    \n",
    "    \n",
    "    return a + b + c + e + f + g + h + i"
   ]
  },
  {
   "cell_type": "code",
   "execution_count": null,
   "metadata": {},
   "outputs": [],
   "source": [
    "def loglik_1( params: list ):\n",
    "    \"\"\"\n",
    "    Calculates log likelihood with productivity differences, no prejudice\n",
    "    \n",
    "    Estimation 1 (η and h not gender specific)\n",
    "    \n",
    "    Parameters to estimate: \n",
    "        λ\n",
    "        μM\n",
    "        σM\n",
    "        μF\n",
    "        σF\n",
    "    \"\"\"\n",
    "\n",
    "    \n",
    "    # Men's equations \n",
    "    a = M['dur'].count() * np.log(h/(h+η))\n",
    "    b = MU['dur'].count() * np.log(η)\n",
    "    c = - h * np.sum(MU.values[:,0])\n",
    "    e = np.sum( np.log( (1/α) * dens_accepted(ME['wage'], α, μM, σM, wstarM) ) )\n",
    "    \n",
    "    \n",
    "    # Women's equations\n",
    "    f = F['dur'].count() * np.log(h/(h+η))\n",
    "    g = FU['dur'].count * np.log(η)\n",
    "    h = - h * np.sum(FU.values[:,0])\n",
    "    \n",
    "    y = (1/α) * dens_accepted(FE['wage'], α, μF, σF, wstarF)\n",
    "\n",
    "    i = np.sum( np.log( y ) )\n",
    "    \n",
    "    \n",
    "    return a + b + c + e + f + g + h + i"
   ]
  }
 ],
 "metadata": {
  "kernelspec": {
   "display_name": "Python 3",
   "language": "python",
   "name": "python3"
  },
  "language_info": {
   "codemirror_mode": {
    "name": "ipython",
    "version": 3
   },
   "file_extension": ".py",
   "mimetype": "text/x-python",
   "name": "python",
   "nbconvert_exporter": "python",
   "pygments_lexer": "ipython3",
   "version": "3.6.5"
  }
 },
 "nbformat": 4,
 "nbformat_minor": 2
}
