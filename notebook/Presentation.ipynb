{
 "cells": [
  {
   "cell_type": "markdown",
   "metadata": {
    "slideshow": {
     "slide_type": "slide"
    }
   },
   "source": [
    "# Gender Discrimination and Promotions in a Labor Search Model\n",
    "\n",
    "## Replication of Flabbi 2010 with an extension to the model\n",
    "\n",
    "### Presented by Megan McCoy"
   ]
  },
  {
   "cell_type": "markdown",
   "metadata": {
    "slideshow": {
     "slide_type": "subslide"
    }
   },
   "source": [
    "This is a sub- slide"
   ]
  },
  {
   "cell_type": "markdown",
   "metadata": {
    "slideshow": {
     "slide_type": "slide"
    }
   },
   "source": [
    "## Outline\n",
    "\n",
    "- Flabbi 2010 Model Overview\n",
    "\n",
    "- Estimation with CPS (1995)\n",
    "\n",
    "- Estimation with SOEP (2017)\n",
    "\n",
    "- Extension of the Model "
   ]
  },
  {
   "cell_type": "markdown",
   "metadata": {
    "slideshow": {
     "slide_type": "slide"
    }
   },
   "source": [
    "## Flabbi 2010 Overview"
   ]
  },
  {
   "cell_type": "markdown",
   "metadata": {
    "slideshow": {
     "slide_type": "fragment"
    }
   },
   "source": [
    "- Continuous time search-match-bargaining model\n",
    "    - Common discount rate $\\rho$\n",
    "    - Meet at arrival rate $\\lambda$, termination at rate $\\eta$\n",
    "    - Match-specific productivity $x \\sim G(x)$ realized when meeting\n",
    "    - Wages by Nash bargaining with power $\\alpha$\n",
    "    - Flow (dis)utility of unemployment $b$\n",
    "\n",
    "- Workers $\\in$ { Male, Female }\n",
    "\n",
    "- Firms $\\in$ { Prejudiced, Not Prejudiced }\n",
    "\n",
    "    - Prejudiced employers are of proportion $p$\n",
    "    - Experience a disutility flow $d$ of working with women."
   ]
  },
  {
   "cell_type": "markdown",
   "metadata": {
    "slideshow": {
     "slide_type": "slide"
    }
   },
   "source": [
    "## Flabbi 2010 Model Overview\n",
    "\n",
    "- The model shows that wage discrimination occurs for multiple reasons:\n",
    "\n",
    "    - Matching with a prejudiced employer increases the reservation value of the match-specific productivity value and shifts down the wage schedule for women\n",
    "    - The presence of prejudiced employers lowers value of unemployment for women compared to men \n",
    "    \n",
    "    \n",
    "- Data from Current Population Survey (CPS) in 1995\n",
    "    - Age 30-55\n",
    "    - Employed or looking for employment \n",
    "    - White men and women     \n",
    "    - College educated or more "
   ]
  },
  {
   "cell_type": "markdown",
   "metadata": {
    "slideshow": {
     "slide_type": "slide"
    }
   },
   "source": [
    "## Flabbi 2010 Model: Identification\n",
    "\n",
    "Wage Equations\n",
    "\n",
    "$$w_{JI} = \\alpha (x - d \\textbf{I}_{F,P}) + (1-\\alpha) \\rho U_J$$\n",
    "\n",
    "Reservation Wage Equations\n",
    "\n",
    "$$\\rho U_J = b_J + \\frac{\\lambda_J\\alpha}{\\rho + \\eta_J}\\left( p\\int [x - d \\textbf{I}_{F,P} - \\rho U_J]g_J(x)dx = (1-p) \\int[x-\\rho U_J]g_J(x)dx \\right)$$\n",
    "\n",
    "Hazard Rate Out of Unemployment\n",
    "\n",
    "$$h_J = \\lambda_J\\left((1-p)\\tilde{G}_J(\\rho U_J) + p\\tilde{G}_J(\\rho U_J + d\\textbf{I}_{F})\\right)$$"
   ]
  },
  {
   "cell_type": "markdown",
   "metadata": {
    "slideshow": {
     "slide_type": "slide"
    }
   },
   "source": [
    "## Flabbi 2010 Model: Estimation\n",
    "\n",
    "- Reservation Wage \n",
    "\n",
    "$$\\hat{\\rho U_J} = \\min_{w_i}\\{w_i, i\\in E_J\\}$$\n",
    "\n",
    "- Hazard Rate\n",
    "\n",
    "$$\\hat{h_J} = \\frac{N_{UJ}}{\\sum_{i \\in U_J} t_i}$$\n",
    "\n",
    "- Termination Rate\n",
    "\n",
    "$$ \\hat{\\eta_J} = \\frac{N_{UJ}}{N_{EJ}}\\hat{h_J}$$"
   ]
  },
  {
   "cell_type": "markdown",
   "metadata": {
    "slideshow": {
     "slide_type": "subslide"
    }
   },
   "source": [
    "```python\n",
    "## Parameters without distributional assumptions\n",
    "\n",
    "wstarM = min(ME['wage'])\n",
    "wstarF = min(FE['wage'])\n",
    "\n",
    "hM = MU['dur'].count()/sum(MU.values[:,0])\n",
    "hF = FU['dur'].count()/sum(FU.values[:,0])\n",
    "h = U['dur'].count()/sum(U.values[:,0])\n",
    "\n",
    "ηM = hM * (MU['dur'].count()/ME['empl'].count())\n",
    "ηF = hF * (FU['dur'].count()/FE['empl'].count())\n",
    "η = h * (U['dur'].count()/E['empl'].count())\n",
    "\n",
    "α = 0.5\n",
    "```"
   ]
  },
  {
   "cell_type": "markdown",
   "metadata": {
    "slideshow": {
     "slide_type": "subslide"
    }
   },
   "source": [
    "```python\n",
    "# Equations for λ\n",
    "\n",
    "def lambdaM(h: float, wstarM: float, α: float, μ: float, σ: float):\n",
    "    \"\"\"\n",
    "    Estimates lambda for men\n",
    "    \"\"\"\n",
    "    \n",
    "    l = (α*μ) + ((1-α)*wstarM)\n",
    "    s = α * σ\n",
    "    shape = 1\n",
    "    \n",
    "    sf_in = (wstarM-l)/s\n",
    "    \n",
    "    denom = stats.lognorm.sf(sf_in, shape, l, s)\n",
    "    \n",
    "    return h/denom\n",
    "\n",
    "def lambdaF(h: float, wstarF: float, α: float, μ: float, σ: float, p: float):\n",
    "    \"\"\"\n",
    "    Estimates lambda for women\n",
    "    \"\"\"\n",
    "    \n",
    "    l1 = (α*μ) + ((1-α)*wstarF)\n",
    "    l2 = (α*μ) + ((1-α)*wstarF) - α*d\n",
    "    s = α * σ\n",
    "    shape = 1\n",
    "    \n",
    "    sf_in1 = (wstarF-l1)/s\n",
    "    sf_in2 = (wstarF-l2)/s\n",
    "    \n",
    "    denom = (1-p)*stats.lognorm.sf(sf_in1, shape, l1, s) + p*stats.lognorm.sf(sf_in2, shape, l2, s)\n",
    "    \n",
    "    return h/denom\n",
    "```"
   ]
  },
  {
   "cell_type": "markdown",
   "metadata": {
    "slideshow": {
     "slide_type": "slide"
    }
   },
   "source": [
    "## Flabbi 2010 Model: Identification\n",
    "\n",
    "Unconditional Unemployment Contribution \n",
    "\n",
    "$$f_u(t_i|i \\in U|J) = f_u(t_i|i \\in U,J)P(i\\in U|J) = h_J \\exp(-h_Jt_i)\\frac{\\eta_J}{\\eta_J+h_J}$$\n",
    "\n",
    "Employed Contribution \n",
    "\n",
    "$$f_e(w_i, w_i>\\rho U_J, i\\in E |J)$$\n",
    "\n",
    "$$= f_e(w_i|w_i>\\rho U_J, i\\in E, J)P(w_i>\\rho U_J|i\\in E,J) P(i\\in E|J)$$\n",
    "\n",
    "$$= \\left(\\frac{\\frac{(1-p)}{\\alpha}g_J \\left( \\frac{w_i-(1-\\alpha)\\rho U_J}{\\alpha} \\right)}{\\tilde{G}_J(\\rho U_J)} + \\frac{\\frac{p}{\\alpha}g_J \\left( \\frac{w_i + \\alpha d \\textbf{I}_{F,P} -(1-\\alpha)\\rho U_J}{\\alpha} \\right)}{\\tilde{G}_J(\\rho U_J + d \\textbf{I}_{F,P})} \\right)\\frac{h_J}{h_J+\\eta_J}$$"
   ]
  },
  {
   "cell_type": "markdown",
   "metadata": {
    "slideshow": {
     "slide_type": "slide"
    }
   },
   "source": [
    "## Flabbi 2010 Model: Estimation \n",
    "\n",
    "- Distributional Assumption: Lognormal Distribution \n",
    "\n",
    "    $$g_J(x,\\mu_J,\\sigma_J) = \\frac{1}{\\sigma_J} f \\left( \\frac{x-\\mu_J}{\\sigma_J} \\right)$$\n",
    "\n",
    "    - Density of accepted wages for men \n",
    "    \n",
    "    $$ \\frac{\\frac{1}{s_M}f\\left(\\frac{w_i-l_M}{s_M} \\right)}{\\tilde{F}\\left( \\frac{\\rho U_M - l_M}{s_M} \\right)} $$\n",
    "    \n",
    "    $$l_M \\equiv \\alpha\\mu_M + (1-\\alpha)\\rho U_M \\hspace{2cm} s_M \\equiv \\alpha \\sigma_M$$\n",
    "    \n",
    "    - Density of accepted wages for women \n",
    "    \n",
    "    $$ (1-p) \\frac{\\frac{1}{s_{FN}}f\\left(\\frac{w_i-l_{FN}}{s_{FN}} \\right)}{\\tilde{F}\\left( \\frac{\\rho U_F - l_{FN}}{s_{FN}} \\right)} + p \\frac{\\frac{1}{s_{FP}}f\\left(\\frac{w_i-l_{FP}}{s_{FP}} \\right)}{\\tilde{F}\\left( \\frac{\\rho U_{FP} - l_{FP}}{s_{}FP} \\right)} $$  \n",
    "    \n",
    "    $$l_{FN} \\equiv \\alpha\\mu_F + (1-\\alpha)\\rho U_F \\hspace{1cm} l_{FP} \\equiv \\alpha\\mu_F + (1-\\alpha)\\rho U_F - \\alpha d \\hspace{1cm} s_{FN} = s_{FP} \\equiv \\alpha \\sigma_F$$\n"
   ]
  },
  {
   "cell_type": "markdown",
   "metadata": {
    "slideshow": {
     "slide_type": "subslide"
    }
   },
   "source": [
    "```python\n",
    "# Accepted Wage Function and Distributions\n",
    "\n",
    "def dens_accepted(wage: np.array, α: float, μ: float, σ: float, wstar: float):\n",
    "    \"\"\"\n",
    "    Calculates the density of accepted wages using the lognormal distribution\n",
    "    \"\"\"\n",
    "    \n",
    "    l = (α*μ) + ((1-α)*wstar)\n",
    "    s = α * σ\n",
    "    shape = 1\n",
    "    \n",
    "    sf_in = (wstar - l)/s\n",
    "    \n",
    "    return stats.lognorm.pdf(wage, shape, l, s) / stats.lognorm.sf(sf_in, shape, l, s)\n",
    "\n",
    "def dens_accepted_prej(wage: np.array, α: float, μ: float, σ: float, wstar: float, d: float):\n",
    "    \"\"\"\n",
    "    Calculates the density of accepted wages when prejudice is present using the lognormal distribution\n",
    "    \"\"\"\n",
    "    \n",
    "    l = (α*μ) + ((1-α)*wstar) - α*d\n",
    "    s = α * σ\n",
    "    shape = 1\n",
    "    \n",
    "    sf_in = (wstar - l)/s\n",
    "    \n",
    "    return stats.lognorm.pdf(wage,shape,l,s) / stats.lognorm.sf(sf_in, shape, l, s)\n",
    "```"
   ]
  },
  {
   "cell_type": "markdown",
   "metadata": {
    "slideshow": {
     "slide_type": "slide"
    }
   },
   "source": [
    "## Flabbi 2010 Model: Identification\n",
    "\n",
    "<img src='./figures/FlabbiLogL.png'>"
   ]
  },
  {
   "cell_type": "markdown",
   "metadata": {
    "slideshow": {
     "slide_type": "subslide"
    }
   },
   "source": [
    "```python\n",
    "def loglik_6( params: list ):\n",
    "    \"\"\"\n",
    "    Calculates log likelihood with prejudice and productivity differences \n",
    "    \"\"\"\n",
    "    λM = np.exp(params[0])\n",
    "    λF = np.exp(params[1])\n",
    "    ηM = np.exp(params[2])\n",
    "    ηF = np.exp(params[3])\n",
    "    μM = params[4]\n",
    "    σM = np.exp(params[5])\n",
    "    μF = params[6]\n",
    "    σF = np.exp(params[7])\n",
    "    d = np.exp(params[8])\n",
    "    p = np.exp(params[9])/(1+np.exp(params[9]))\n",
    "\n",
    "    # Men's equations \n",
    "    λM = lambdaM(hM, wstarM, α, μM, σM)\n",
    "    \n",
    "    a = M['dur'].count() * np.log(hM/(hM+ηM))\n",
    "    b = MU['dur'].count() * np.log(ηM)\n",
    "    c = - hM * np.sum(MU.values[:,0])\n",
    "    e = np.sum( np.log( (1/α) * dens_accepted(ME['wage'], α, μM, σM, wstarM) ) )\n",
    "    \n",
    "    # Women's equations\n",
    "    λF = lambdaF(hF, wstarF, α, μM, σM, p)\n",
    "    \n",
    "    f = F['dur'].count() * np.log(hF/(hF+ηF))\n",
    "    g = FU['dur'].count() * np.log(ηF)\n",
    "    h = - hF * np.sum(FU.values[:,0])\n",
    "    \n",
    "    y = ((1-p)/α) * dens_accepted(FE['wage'], α, μF, σF, wstarF)\n",
    "    z = (p/α) * dens_accepted_prej(FE['wage'], α, μF, σF, wstarF, d)\n",
    "\n",
    "    i = np.sum( np.log( y + z ) )\n",
    "    \n",
    "    return (a + b + c + e + f + g + h + i)\n",
    "```"
   ]
  },
  {
   "cell_type": "markdown",
   "metadata": {
    "slideshow": {
     "slide_type": "subslide"
    }
   },
   "source": [
    "```python\n",
    "# Check on log-likelihood\n",
    "\n",
    "param6 = [λ_M, λ_F, η_M, η_F, μ_M, σ_M, μ_F, σ_F, d, p]\n",
    "\n",
    "b6_0 = np.log(param6[0])\n",
    "b6_1 = np.log(param6[1])\n",
    "b6_2 = np.log(param6[2])\n",
    "b6_3 = np.log(param6[3])\n",
    "b6_4 = param6[4]\n",
    "b6_5 = np.log(param6[5])\n",
    "b6_6 = param6[6]\n",
    "b6_7 = np.log(param6[7])\n",
    "b6_8 = np.log(param6[8])\n",
    "b6_9 = np.log(1)\n",
    "\n",
    "init6 = [b6_0, b6_1, b6_2, b6_3, b6_4, b6_5, b6_6, b6_7, b6_8, b6_9]\n",
    "```"
   ]
  },
  {
   "cell_type": "markdown",
   "metadata": {
    "slideshow": {
     "slide_type": "subslide"
    }
   },
   "source": [
    "```python\n",
    "# Coefficients\n",
    "\n",
    "λM_6 = np.exp(est_6.x[0])\n",
    "λF_6 = np.exp(est_6.x[1])\n",
    "ηM_6 = np.exp(est_6.x[2])\n",
    "ηF_6 = np.exp(est_6.x[3])\n",
    "μM_6 = est_6.x[4]\n",
    "σM_6 = np.exp(est_6.x[5])\n",
    "μF_6 = est_6.x[6]\n",
    "σF_6 = np.exp(est_6.x[7])\n",
    "d_6 = np.exp(est_6.x[8])\n",
    "p_6 = np.exp(est_6.x[9])/(1+np.exp(est_6.x[9]))\n",
    "\n",
    "coeff_6 = [λM_6, λF_6, ηM_6, ηF_6, μM_6, σM_6, μF_6, σF_6, d_6, p_6]\n",
    "\n",
    "```"
   ]
  },
  {
   "cell_type": "markdown",
   "metadata": {
    "slideshow": {
     "slide_type": "subslide"
    }
   },
   "source": [
    "```python\n",
    "# Function for calculating standard errors and significance\n",
    "\n",
    "def teststats (hess_inv : np.ndarray, lnL : float, nparams : int):\n",
    "    \"\"\"\n",
    "    Calculates the standard errors and p value from the LR tests\n",
    "    \"\"\"\n",
    "    se = np.sqrt(np.diag(hess_inv))\n",
    "    \n",
    "    loglik_H0 = lnL_6\n",
    "    \n",
    "    LR = 2 * (lnL - loglik_H0)\n",
    "    pval = stats.chi2.pdf(LR, nparams)\n",
    "    \n",
    "    return [se.tolist(), [pval]]\n",
    "```"
   ]
  },
  {
   "cell_type": "markdown",
   "metadata": {
    "slideshow": {
     "slide_type": "slide"
    }
   },
   "source": [
    "## Estimation with CPS (1995)\n",
    "\n",
    "<img src='./figures/CPSdescr.png'>"
   ]
  },
  {
   "cell_type": "markdown",
   "metadata": {
    "slideshow": {
     "slide_type": "subslide"
    }
   },
   "source": [
    "## Output from Flabbi 2010\n",
    "\n",
    "<img src='./figures/Flabbi_Descr.png'>"
   ]
  },
  {
   "cell_type": "markdown",
   "metadata": {
    "slideshow": {
     "slide_type": "slide"
    }
   },
   "source": [
    "## Estimation with CPS (1995)\n",
    "\n",
    "<img src='./figures/fig1_2.png'>"
   ]
  },
  {
   "cell_type": "markdown",
   "metadata": {
    "slideshow": {
     "slide_type": "subslide"
    }
   },
   "source": [
    "## Figure from Flabbi 2010, Men's Distribution\n",
    "\n",
    "<img src='./figures/FlabbiMenDistr.png'>"
   ]
  },
  {
   "cell_type": "markdown",
   "metadata": {
    "slideshow": {
     "slide_type": "subslide"
    }
   },
   "source": [
    "## Figure from Flabbi 2010, Women Distribution \n",
    "\n",
    "<img src='./figures/FlabbiWomenDistr.png'>"
   ]
  },
  {
   "cell_type": "markdown",
   "metadata": {
    "slideshow": {
     "slide_type": "slide"
    }
   },
   "source": [
    "## Estimation Results with CPS (1995)\n",
    "\n",
    "<img src='./figures/CPSest.png' width=\"600\">"
   ]
  },
  {
   "cell_type": "markdown",
   "metadata": {
    "slideshow": {
     "slide_type": "subslide"
    }
   },
   "source": [
    "## Output from Flabbi 2010 \n",
    "\n",
    "<img src='./figures/FlabbiMLE.png'  width=\"600\">"
   ]
  },
  {
   "cell_type": "markdown",
   "metadata": {
    "slideshow": {
     "slide_type": "slide"
    }
   },
   "source": [
    "## Estimation with SOEP (2017)"
   ]
  },
  {
   "cell_type": "markdown",
   "metadata": {
    "slideshow": {
     "slide_type": "fragment"
    }
   },
   "source": [
    "- Socio-Economic Panel (SOEP) is collected by the German Institute for Economic Research \n",
    "\n",
    "- Data from 2017\n",
    "    - Age 30-55\n",
    "    - Employed full-time or unemployed"
   ]
  },
  {
   "cell_type": "markdown",
   "metadata": {
    "slideshow": {
     "slide_type": "slide"
    }
   },
   "source": [
    "## Estimation with SOEP (2017)\n",
    "\n",
    "<img src='./figures/SOEPdescr.png'>"
   ]
  },
  {
   "cell_type": "markdown",
   "metadata": {
    "slideshow": {
     "slide_type": "slide"
    }
   },
   "source": [
    "## Estimation with SOEP (2017)\n",
    "\n",
    "<img src='./figures/fig1_2_SOEP.png'>"
   ]
  },
  {
   "cell_type": "markdown",
   "metadata": {
    "slideshow": {
     "slide_type": "slide"
    }
   },
   "source": [
    "## Extension of the Model"
   ]
  },
  {
   "cell_type": "markdown",
   "metadata": {
    "slideshow": {
     "slide_type": "fragment"
    }
   },
   "source": [
    "- Stationary, continuous time search-match-bargaining model\n",
    "    - Common discount rate $\\rho$ and death rate $\\delta$\n",
    "    - Meet at arrival rate $\\lambda$, termination at rate $\\eta$\n",
    "    - Match-specific productivity $x \\sim G(x)$ realized when meeting\n",
    "    - Wages by Nash bargaining with power $\\alpha$\n",
    "    - Flow (dis)utility of unemployment $b$\n",
    "   \n",
    "- Workers $\\in$ { Male, Female }\n",
    "- Firms $\\in$ {Prejudiced, Not Prejudiced }\n",
    "    - Prejudiced employers are of proportion $p$\n",
    "    - Experience a disutility flow $d$ of working with women."
   ]
  },
  {
   "cell_type": "markdown",
   "metadata": {
    "slideshow": {
     "slide_type": "fragment"
    }
   },
   "source": [
    "- Include promotion shocks\n",
    "    - Employees start in the labor market at position level $a_0$\n",
    "    - When employed, they receive a promotion shock $\\tau_{\\textbf{I}_{\\{F,P\\}},k}$ to level $k'>k$\n",
    "    - The position shock does not depreciate\n",
    "    - Productivity $y(k,x) = a_k x$"
   ]
  },
  {
   "cell_type": "markdown",
   "metadata": {
    "slideshow": {
     "slide_type": "slide"
    }
   },
   "source": [
    "## Value Functions"
   ]
  },
  {
   "cell_type": "markdown",
   "metadata": {
    "slideshow": {
     "slide_type": "slide"
    }
   },
   "source": [
    "## Wages"
   ]
  },
  {
   "cell_type": "markdown",
   "metadata": {
    "slideshow": {
     "slide_type": "slide"
    }
   },
   "source": [
    "## Equilibrium"
   ]
  },
  {
   "cell_type": "markdown",
   "metadata": {
    "slideshow": {
     "slide_type": "slide"
    }
   },
   "source": [
    "## Identification Strategy"
   ]
  },
  {
   "cell_type": "markdown",
   "metadata": {},
   "source": [
    "## Going Forward"
   ]
  },
  {
   "cell_type": "code",
   "execution_count": null,
   "metadata": {},
   "outputs": [],
   "source": []
  }
 ],
 "metadata": {
  "kernelspec": {
   "display_name": "Python 3",
   "language": "python",
   "name": "python3"
  },
  "language_info": {
   "codemirror_mode": {
    "name": "ipython",
    "version": 3
   },
   "file_extension": ".py",
   "mimetype": "text/x-python",
   "name": "python",
   "nbconvert_exporter": "python",
   "pygments_lexer": "ipython3",
   "version": "3.6.5"
  }
 },
 "nbformat": 4,
 "nbformat_minor": 2
}
