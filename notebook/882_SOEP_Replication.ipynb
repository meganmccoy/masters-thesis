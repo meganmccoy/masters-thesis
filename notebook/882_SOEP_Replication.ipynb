{
 "cells": [
  {
   "cell_type": "markdown",
   "metadata": {},
   "source": [
    "# 882 Replication with SOEP Data\n",
    "\n",
    "- Data from SOEP, 2017\n",
    "- Estimation strategy from Flabbi 2010 "
   ]
  },
  {
   "cell_type": "markdown",
   "metadata": {},
   "source": [
    "## Import Packages"
   ]
  },
  {
   "cell_type": "code",
   "execution_count": 95,
   "metadata": {},
   "outputs": [],
   "source": [
    "# Data Manipulation \n",
    "import numpy as np\n",
    "import pandas as pd\n",
    "from winsorize import winsorize_column\n",
    "\n",
    "# General\n",
    "import pdb\n",
    "\n",
    "# Estimation\n",
    "from scipy.optimize import minimize\n",
    "import scipy.stats as stats\n",
    "# import numdifftools as ndt\n",
    "import scipy.integrate as integrate\n",
    "\n",
    "# Data Visualization\n",
    "import matplotlib.pyplot as plt\n",
    "%matplotlib inline\n",
    "import seaborn.apionly as sns\n",
    "from pylab import *"
   ]
  },
  {
   "cell_type": "markdown",
   "metadata": {},
   "source": [
    "## Import Data \n",
    "\n",
    "- SOEP (Germany) data on gender, wages, duration of unemployment\n",
    "- M: males\n",
    "- F: females\n",
    "- U: unemployed\n",
    "- E: employed \n",
    "- {M,F} X {E,U} = {males,females} X {employed, unemployed}"
   ]
  },
  {
   "cell_type": "code",
   "execution_count": 2,
   "metadata": {},
   "outputs": [
    {
     "name": "stderr",
     "output_type": "stream",
     "text": [
      "/Users/megan.mccoy/anaconda3/lib/python3.6/site-packages/ipykernel_launcher.py:56: SettingWithCopyWarning: \n",
      "A value is trying to be set on a copy of a slice from a DataFrame.\n",
      "Try using .loc[row_indexer,col_indexer] = value instead\n",
      "\n",
      "See the caveats in the documentation: http://pandas.pydata.org/pandas-docs/stable/indexing.html#indexing-view-versus-copy\n"
     ]
    }
   ],
   "source": [
    "df=pd.read_stata('../data/merged.dta') # 624,562\n",
    "df.columns = ['pid', 'year', 'inc_gro', 'inc_net', 'pos', 'emplsta', 'change', 'change_reason', 'dur', 'sex', 'age', 'hours', 'edu']\n",
    "\n",
    "# Only the year 2017\n",
    "df1 = df[df['year']==2017] # 31,630\n",
    "\n",
    "# Turning categorical into dummies\n",
    "df_sex = pd.get_dummies(df1, columns=['sex'])\n",
    "# 1 if man, 2 if woman. \n",
    "df_empl = pd.get_dummies(df_sex, columns=['emplsta'])\n",
    "# 5 if unemployed, 1 if full time\n",
    "df_edu = pd.get_dummies(df_empl, columns=['edu'])\n",
    "# 6 if bachelors, 7 if masters, 8 if doctorate\n",
    "\n",
    "# Keeping only the necessary variables \n",
    "df2 = df_edu[['inc_net', 'dur', 'age', 'sex_[2] weiblich', 'emplsta_[1] Voll erwerbstaetig', 'emplsta_[5] Nicht erwerbstaetig', 'hours', 'edu_[6] Bachelor s or equivalent level', 'edu_[7] Master s or equivalent level', 'edu_[8] Doctoral or equivalent level']]\n",
    "df2.columns = ['wage', 'dur', 'age', 'women', 'ft_empl', 'unempl', 'hours', 'college', 'masters', 'phd']\n",
    "\n",
    "# Using age for condition, then dropping age as a variable\n",
    "AGE_LOW = (df2['age']>29)\n",
    "AGE_HIGH = (df2['age']<56)\n",
    "AGE_COND = AGE_LOW & AGE_HIGH\n",
    "\n",
    "df3 = df2[AGE_COND==True] # 15,443\n",
    "\n",
    "# Creating condition for FT employment or unemployed only \n",
    "FT_COND = (df3['ft_empl']==1)\n",
    "UN_COND = (df3['unempl']==1)\n",
    "EMPL_COND = FT_COND | UN_COND\n",
    "\n",
    "df4 = df3[EMPL_COND==True] # 11,533\n",
    "\n",
    "# Ensuring positive hours, wages for employed; positive unemployment duration for unemployed\n",
    "POS_WAGE = (df4['wage']>0)\n",
    "POS_HOURS = (df4['hours']>0)\n",
    "EMPL = (df4['ft_empl']==1)\n",
    "EMPLVAR_COND = POS_WAGE & POS_HOURS & EMPL\n",
    "\n",
    "POS_DUR = (df4['dur']>0)\n",
    "UNEMPL = (df4['unempl']==1)\n",
    "UNEMPLVAR_COND = POS_DUR & UNEMPL\n",
    "\n",
    "CONSIST_COND = EMPLVAR_COND | UNEMPLVAR_COND\n",
    "\n",
    "df5 = df4[CONSIST_COND==True] #8,439\n",
    "\n",
    "# Keeping only college or more educated \n",
    "BS_COND = (df5['college']==1) \n",
    "MS_COND = (df5['masters']==1) \n",
    "PHD_COND = (df5['phd']==1)\n",
    "EDU_COND = BS_COND | MS_COND | PHD_COND\n",
    "\n",
    "df6= df5[EDU_COND==True] #2,226\n",
    "\n",
    "# Change wage to be hourly \n",
    "df6['wage'] = df6['wage'] / (df6['hours']*4)\n",
    "\n",
    "# Dropping unnecessary columns (age, unempl, edu, hours) and reorganizing to be consistent with CPS organization\n",
    "df7 = df6[['dur', 'wage', 'ft_empl', 'women']]\n",
    "df7.columns = ['dur', 'wage', 'empl', 'women']"
   ]
  },
  {
   "cell_type": "markdown",
   "metadata": {},
   "source": [
    "Note: Missing data (no answer/does not apply) are denoted by negative values by the SOEP. Instead of coding these negative values to zero, they are kept. The inclusion criteria below ensure that there are positive wage and hours for the employed, and positive duration values for the unemployed. In the following analysis, the data is broken into employment status and gender, so the negatives do not affect the descriptive statistics or empirics. This methodology was chosen so not to add unneccessary complications and/or impact the data that we wish to study. "
   ]
  },
  {
   "cell_type": "code",
   "execution_count": 3,
   "metadata": {},
   "outputs": [
    {
     "data": {
      "text/html": [
       "<div>\n",
       "<style scoped>\n",
       "    .dataframe tbody tr th:only-of-type {\n",
       "        vertical-align: middle;\n",
       "    }\n",
       "\n",
       "    .dataframe tbody tr th {\n",
       "        vertical-align: top;\n",
       "    }\n",
       "\n",
       "    .dataframe thead th {\n",
       "        text-align: right;\n",
       "    }\n",
       "</style>\n",
       "<table border=\"1\" class=\"dataframe\">\n",
       "  <thead>\n",
       "    <tr style=\"text-align: right;\">\n",
       "      <th></th>\n",
       "      <th>dur</th>\n",
       "      <th>wage</th>\n",
       "      <th>empl</th>\n",
       "      <th>women</th>\n",
       "    </tr>\n",
       "  </thead>\n",
       "  <tbody>\n",
       "    <tr>\n",
       "      <th>count</th>\n",
       "      <td>2226.000000</td>\n",
       "      <td>2226.000000</td>\n",
       "      <td>2226.000000</td>\n",
       "      <td>2226.000000</td>\n",
       "    </tr>\n",
       "    <tr>\n",
       "      <th>mean</th>\n",
       "      <td>0.610153</td>\n",
       "      <td>15.909179</td>\n",
       "      <td>0.813118</td>\n",
       "      <td>0.384996</td>\n",
       "    </tr>\n",
       "    <tr>\n",
       "      <th>std</th>\n",
       "      <td>1.467214</td>\n",
       "      <td>11.063978</td>\n",
       "      <td>0.389905</td>\n",
       "      <td>0.486704</td>\n",
       "    </tr>\n",
       "    <tr>\n",
       "      <th>min</th>\n",
       "      <td>-1.000000</td>\n",
       "      <td>0.250000</td>\n",
       "      <td>0.000000</td>\n",
       "      <td>0.000000</td>\n",
       "    </tr>\n",
       "    <tr>\n",
       "      <th>25%</th>\n",
       "      <td>0.000000</td>\n",
       "      <td>9.459459</td>\n",
       "      <td>1.000000</td>\n",
       "      <td>0.000000</td>\n",
       "    </tr>\n",
       "    <tr>\n",
       "      <th>50%</th>\n",
       "      <td>0.000000</td>\n",
       "      <td>15.745370</td>\n",
       "      <td>1.000000</td>\n",
       "      <td>0.000000</td>\n",
       "    </tr>\n",
       "    <tr>\n",
       "      <th>75%</th>\n",
       "      <td>0.600000</td>\n",
       "      <td>22.135989</td>\n",
       "      <td>1.000000</td>\n",
       "      <td>1.000000</td>\n",
       "    </tr>\n",
       "    <tr>\n",
       "      <th>max</th>\n",
       "      <td>15.000000</td>\n",
       "      <td>125.000000</td>\n",
       "      <td>1.000000</td>\n",
       "      <td>1.000000</td>\n",
       "    </tr>\n",
       "  </tbody>\n",
       "</table>\n",
       "</div>"
      ],
      "text/plain": [
       "               dur         wage         empl        women\n",
       "count  2226.000000  2226.000000  2226.000000  2226.000000\n",
       "mean      0.610153    15.909179     0.813118     0.384996\n",
       "std       1.467214    11.063978     0.389905     0.486704\n",
       "min      -1.000000     0.250000     0.000000     0.000000\n",
       "25%       0.000000     9.459459     1.000000     0.000000\n",
       "50%       0.000000    15.745370     1.000000     0.000000\n",
       "75%       0.600000    22.135989     1.000000     1.000000\n",
       "max      15.000000   125.000000     1.000000     1.000000"
      ]
     },
     "execution_count": 3,
     "metadata": {},
     "output_type": "execute_result"
    }
   ],
   "source": [
    "df7.describe()"
   ]
  },
  {
   "cell_type": "code",
   "execution_count": 4,
   "metadata": {},
   "outputs": [],
   "source": [
    "# Creating naming conventions that are consistent with analysis from CPS data\n",
    "\n",
    "data = df7 \n",
    "\n",
    "M = data[data['women']==0] # 1369 men \n",
    "F = data[data['women']==1] # 857 women \n",
    "U = data[data['empl']==0] # 416 unemployed\n",
    "E = data[data['empl']==1] # 1810 employed\n",
    "\n",
    "ME = M[M['empl']==1] # 1147 employed men\n",
    "MU = M[M['empl']==0] # 222 unemployed men\n",
    "FE = F[F['empl']==1] # 663 employed women\n",
    "FU = F[F['empl']==0] # 194 unemployed women"
   ]
  },
  {
   "cell_type": "markdown",
   "metadata": {},
   "source": [
    "### Summary Statistics, without trimming"
   ]
  },
  {
   "cell_type": "code",
   "execution_count": 5,
   "metadata": {},
   "outputs": [],
   "source": [
    "agg_dict = {\n",
    "    'wage': ['mean', 'std', 'count'],\n",
    "    'dur': ['mean', 'std', 'count'],\n",
    "}"
   ]
  },
  {
   "cell_type": "code",
   "execution_count": 6,
   "metadata": {},
   "outputs": [
    {
     "name": "stdout",
     "output_type": "stream",
     "text": [
      "\\begin{tabular}{llrrrrrr}\n",
      "\\toprule\n",
      "  &   & \\multicolumn{3}{l}{wage} & \\multicolumn{3}{l}{dur} \\\\\n",
      "  &   &       mean &       std & count &      mean &       std & count \\\\\n",
      "women & empl &            &           &       &           &           &       \\\\\n",
      "\\midrule\n",
      "0 & 0 &   0.250000 &  0.000000 &   222 &  1.791892 &  2.090709 &   222 \\\\\n",
      "  & 1 &  21.065335 &  9.464534 &  1147 &  0.274194 &  0.815939 &  1147 \\\\\n",
      "1 & 0 &   0.250000 &  0.000000 &   194 &  2.184021 &  2.801259 &   194 \\\\\n",
      "  & 1 &  16.814318 &  7.442181 &   663 &  0.335143 &  0.932893 &   663 \\\\\n",
      "\\bottomrule\n",
      "\\end{tabular}\n",
      "\n"
     ]
    }
   ],
   "source": [
    "print(data.groupby(['women', 'empl']).agg(agg_dict).to_latex()) # by gender"
   ]
  },
  {
   "cell_type": "code",
   "execution_count": 7,
   "metadata": {},
   "outputs": [
    {
     "name": "stdout",
     "output_type": "stream",
     "text": [
      "\\begin{tabular}{lrrrrrr}\n",
      "\\toprule\n",
      "{} & \\multicolumn{3}{l}{wage} & \\multicolumn{3}{l}{dur} \\\\\n",
      "{} &       mean &       std & count &      mean &       std & count \\\\\n",
      "empl &            &           &       &           &           &       \\\\\n",
      "\\midrule\n",
      "0    &   0.250000 &  0.000000 &   416 &  1.974760 &  2.452638 &   416 \\\\\n",
      "1    &  19.508195 &  9.011808 &  1810 &  0.296519 &  0.860871 &  1810 \\\\\n",
      "\\bottomrule\n",
      "\\end{tabular}\n",
      "\n"
     ]
    }
   ],
   "source": [
    "print(data.groupby(['empl']).agg(agg_dict).to_latex()) # all"
   ]
  },
  {
   "cell_type": "code",
   "execution_count": 8,
   "metadata": {},
   "outputs": [
    {
     "name": "stderr",
     "output_type": "stream",
     "text": [
      "/Users/megan.mccoy/anaconda3/lib/python3.6/site-packages/matplotlib/axes/_axes.py:6462: UserWarning: The 'normed' kwarg is deprecated, and has been replaced by the 'density' kwarg.\n",
      "  warnings.warn(\"The 'normed' kwarg is deprecated, and has been \"\n",
      "/Users/megan.mccoy/anaconda3/lib/python3.6/site-packages/matplotlib/axes/_axes.py:6462: UserWarning: The 'normed' kwarg is deprecated, and has been replaced by the 'density' kwarg.\n",
      "  warnings.warn(\"The 'normed' kwarg is deprecated, and has been \"\n"
     ]
    },
    {
     "data": {
      "image/png": "[encoded data removed]",
      "text/plain": [
       "<Figure size 864x576 with 2 Axes>"
      ]
     },
     "metadata": {},
     "output_type": "display_data"
    }
   ],
   "source": [
    "# Seaborn\n",
    "fig, ax = plt.subplots(2, 1, figsize=(12, 8))\n",
    "\n",
    "sns.distplot(ME['wage'], color='#4B9CD3', hist_kws={'alpha' : .3}, bins=50, ax=ax[0])\n",
    "sns.distplot(FE['wage'], color='#4B9CD3', hist_kws={'alpha' : .3}, bins=50, ax=ax[1])\n",
    "\n",
    "ax[0].legend(['Men'])\n",
    "ax[1].legend(['Women']) \n",
    "\n",
    "ax[0].set_xlim([0,120])\n",
    "ax[1].set_xlim([0,120])\n",
    "\n",
    "ax[0].set_ylim([0,0.08])\n",
    "ax[1].set_ylim([0,0.08])\n",
    "\n",
    "plt.tight_layout()"
   ]
  },
  {
   "cell_type": "code",
   "execution_count": 9,
   "metadata": {},
   "outputs": [],
   "source": [
    "fig.savefig('./figures/fig1_2_SOEP_raw.png', bbox_inches='tight', transparent=True)"
   ]
  },
  {
   "cell_type": "markdown",
   "metadata": {},
   "source": [
    "### Summary Statistics, with winsorizing of wages"
   ]
  },
  {
   "cell_type": "code",
   "execution_count": 10,
   "metadata": {},
   "outputs": [],
   "source": [
    "minwage_2017 = 8.84"
   ]
  },
  {
   "cell_type": "markdown",
   "metadata": {},
   "source": [
    "#### Winsorizing for Men"
   ]
  },
  {
   "cell_type": "code",
   "execution_count": 11,
   "metadata": {},
   "outputs": [],
   "source": [
    "# Establish Tukeys Fences, Men\n",
    "q1M = percentile(ME['wage'], 25)\n",
    "q3M = percentile(ME['wage'], 75)\n",
    "iqrM = q3M - q1M\n",
    "\n",
    "lower_limitM = q1M - 1.5 * iqrM\n",
    "upper_limitM = q3M + 1.5 * iqrM"
   ]
  },
  {
   "cell_type": "code",
   "execution_count": 98,
   "metadata": {},
   "outputs": [
    {
     "data": {
      "text/plain": [
       "-1.2414668935612632"
      ]
     },
     "execution_count": 98,
     "metadata": {},
     "output_type": "execute_result"
    }
   ],
   "source": [
    "lower_limitM"
   ]
  },
  {
   "cell_type": "code",
   "execution_count": 12,
   "metadata": {},
   "outputs": [
    {
     "name": "stderr",
     "output_type": "stream",
     "text": [
      "/Users/megan.mccoy/anaconda3/lib/python3.6/site-packages/pandas/core/indexing.py:543: SettingWithCopyWarning: \n",
      "A value is trying to be set on a copy of a slice from a DataFrame.\n",
      "Try using .loc[row_indexer,col_indexer] = value instead\n",
      "\n",
      "See the caveats in the documentation: http://pandas.pydata.org/pandas-docs/stable/indexing.html#indexing-view-versus-copy\n",
      "  self.obj[item] = s\n"
     ]
    }
   ],
   "source": [
    "# # Winsorizing at the lower and upper limit defined by Tukey's fences\n",
    "# ME.loc[ME['wage'] < lower_limitM, 'wage'] = lower_limitM\n",
    "# ME.loc[ME['wage'] > upper_limitM, 'wage'] = upper_limitM\n",
    "\n",
    "# Winsorizing the lower at the minimum wage, the upper defined by Tukey's fences\n",
    "ME.loc[ME['wage'] < minwage_2017, 'wage'] = minwage_2017\n",
    "ME.loc[ME['wage'] > upper_limitM, 'wage'] = upper_limitM"
   ]
  },
  {
   "cell_type": "code",
   "execution_count": 13,
   "metadata": {},
   "outputs": [
    {
     "data": {
      "text/html": [
       "<div>\n",
       "<style scoped>\n",
       "    .dataframe tbody tr th:only-of-type {\n",
       "        vertical-align: middle;\n",
       "    }\n",
       "\n",
       "    .dataframe tbody tr th {\n",
       "        vertical-align: top;\n",
       "    }\n",
       "\n",
       "    .dataframe thead th {\n",
       "        text-align: right;\n",
       "    }\n",
       "</style>\n",
       "<table border=\"1\" class=\"dataframe\">\n",
       "  <thead>\n",
       "    <tr style=\"text-align: right;\">\n",
       "      <th></th>\n",
       "      <th>dur</th>\n",
       "      <th>wage</th>\n",
       "      <th>empl</th>\n",
       "      <th>women</th>\n",
       "    </tr>\n",
       "  </thead>\n",
       "  <tbody>\n",
       "    <tr>\n",
       "      <th>count</th>\n",
       "      <td>1147.000000</td>\n",
       "      <td>1147.000000</td>\n",
       "      <td>1147.0</td>\n",
       "      <td>1147.0</td>\n",
       "    </tr>\n",
       "    <tr>\n",
       "      <th>mean</th>\n",
       "      <td>0.274194</td>\n",
       "      <td>20.826208</td>\n",
       "      <td>1.0</td>\n",
       "      <td>0.0</td>\n",
       "    </tr>\n",
       "    <tr>\n",
       "      <th>std</th>\n",
       "      <td>0.815943</td>\n",
       "      <td>8.062265</td>\n",
       "      <td>0.0</td>\n",
       "      <td>0.0</td>\n",
       "    </tr>\n",
       "    <tr>\n",
       "      <th>min</th>\n",
       "      <td>-1.000000</td>\n",
       "      <td>8.840000</td>\n",
       "      <td>1.0</td>\n",
       "      <td>0.0</td>\n",
       "    </tr>\n",
       "    <tr>\n",
       "      <th>25%</th>\n",
       "      <td>0.000000</td>\n",
       "      <td>14.909115</td>\n",
       "      <td>1.0</td>\n",
       "      <td>0.0</td>\n",
       "    </tr>\n",
       "    <tr>\n",
       "      <th>50%</th>\n",
       "      <td>0.000000</td>\n",
       "      <td>19.512195</td>\n",
       "      <td>1.0</td>\n",
       "      <td>0.0</td>\n",
       "    </tr>\n",
       "    <tr>\n",
       "      <th>75%</th>\n",
       "      <td>0.000000</td>\n",
       "      <td>25.676170</td>\n",
       "      <td>1.0</td>\n",
       "      <td>0.0</td>\n",
       "    </tr>\n",
       "    <tr>\n",
       "      <th>max</th>\n",
       "      <td>8.100000</td>\n",
       "      <td>41.826751</td>\n",
       "      <td>1.0</td>\n",
       "      <td>0.0</td>\n",
       "    </tr>\n",
       "  </tbody>\n",
       "</table>\n",
       "</div>"
      ],
      "text/plain": [
       "               dur         wage    empl   women\n",
       "count  1147.000000  1147.000000  1147.0  1147.0\n",
       "mean      0.274194    20.826208     1.0     0.0\n",
       "std       0.815943     8.062265     0.0     0.0\n",
       "min      -1.000000     8.840000     1.0     0.0\n",
       "25%       0.000000    14.909115     1.0     0.0\n",
       "50%       0.000000    19.512195     1.0     0.0\n",
       "75%       0.000000    25.676170     1.0     0.0\n",
       "max       8.100000    41.826751     1.0     0.0"
      ]
     },
     "execution_count": 13,
     "metadata": {},
     "output_type": "execute_result"
    }
   ],
   "source": [
    "ME.describe()"
   ]
  },
  {
   "cell_type": "markdown",
   "metadata": {},
   "source": [
    "#### Winsorizing for Women"
   ]
  },
  {
   "cell_type": "code",
   "execution_count": 14,
   "metadata": {},
   "outputs": [],
   "source": [
    "# Establish Tukeys Fences, Women\n",
    "q1F = percentile(FE['wage'], 25)\n",
    "q3F = percentile(FE['wage'], 75)\n",
    "iqrF = q3F - q1F\n",
    "\n",
    "lower_limitF = q1F - 1.5 * iqrF\n",
    "upper_limitF = q3F + 1.5 * iqrF"
   ]
  },
  {
   "cell_type": "code",
   "execution_count": 97,
   "metadata": {},
   "outputs": [
    {
     "data": {
      "text/plain": [
       "0.8066933066933046"
      ]
     },
     "execution_count": 97,
     "metadata": {},
     "output_type": "execute_result"
    }
   ],
   "source": [
    "lower_limitF"
   ]
  },
  {
   "cell_type": "code",
   "execution_count": 15,
   "metadata": {},
   "outputs": [
    {
     "name": "stderr",
     "output_type": "stream",
     "text": [
      "/Users/megan.mccoy/anaconda3/lib/python3.6/site-packages/pandas/core/indexing.py:543: SettingWithCopyWarning: \n",
      "A value is trying to be set on a copy of a slice from a DataFrame.\n",
      "Try using .loc[row_indexer,col_indexer] = value instead\n",
      "\n",
      "See the caveats in the documentation: http://pandas.pydata.org/pandas-docs/stable/indexing.html#indexing-view-versus-copy\n",
      "  self.obj[item] = s\n"
     ]
    }
   ],
   "source": [
    "# # Winsorizing at the lower and upper limit defined by Tukey's fences\n",
    "# FE.loc[FE['wage'] < lower_limitF, 'wage'] = lower_limitF\n",
    "# FE.loc[FE['wage'] > upper_limitF, 'wage'] = upper_limitF\n",
    "\n",
    "# Winsorizing the lower at the minimum wage, the upper defined by Tukey's fences\n",
    "FE.loc[FE['wage'] < minwage_2017, 'wage'] = minwage_2017\n",
    "FE.loc[FE['wage'] > upper_limitF, 'wage'] = upper_limitF"
   ]
  },
  {
   "cell_type": "code",
   "execution_count": 16,
   "metadata": {},
   "outputs": [
    {
     "data": {
      "text/html": [
       "<div>\n",
       "<style scoped>\n",
       "    .dataframe tbody tr th:only-of-type {\n",
       "        vertical-align: middle;\n",
       "    }\n",
       "\n",
       "    .dataframe tbody tr th {\n",
       "        vertical-align: top;\n",
       "    }\n",
       "\n",
       "    .dataframe thead th {\n",
       "        text-align: right;\n",
       "    }\n",
       "</style>\n",
       "<table border=\"1\" class=\"dataframe\">\n",
       "  <thead>\n",
       "    <tr style=\"text-align: right;\">\n",
       "      <th></th>\n",
       "      <th>dur</th>\n",
       "      <th>wage</th>\n",
       "      <th>empl</th>\n",
       "      <th>women</th>\n",
       "    </tr>\n",
       "  </thead>\n",
       "  <tbody>\n",
       "    <tr>\n",
       "      <th>count</th>\n",
       "      <td>663.000000</td>\n",
       "      <td>663.000000</td>\n",
       "      <td>663.0</td>\n",
       "      <td>663.0</td>\n",
       "    </tr>\n",
       "    <tr>\n",
       "      <th>mean</th>\n",
       "      <td>0.335143</td>\n",
       "      <td>16.670020</td>\n",
       "      <td>1.0</td>\n",
       "      <td>1.0</td>\n",
       "    </tr>\n",
       "    <tr>\n",
       "      <th>std</th>\n",
       "      <td>0.932893</td>\n",
       "      <td>5.894336</td>\n",
       "      <td>0.0</td>\n",
       "      <td>0.0</td>\n",
       "    </tr>\n",
       "    <tr>\n",
       "      <th>min</th>\n",
       "      <td>-1.000000</td>\n",
       "      <td>8.840000</td>\n",
       "      <td>1.0</td>\n",
       "      <td>1.0</td>\n",
       "    </tr>\n",
       "    <tr>\n",
       "      <th>25%</th>\n",
       "      <td>0.000000</td>\n",
       "      <td>12.322677</td>\n",
       "      <td>1.0</td>\n",
       "      <td>1.0</td>\n",
       "    </tr>\n",
       "    <tr>\n",
       "      <th>50%</th>\n",
       "      <td>0.000000</td>\n",
       "      <td>15.625000</td>\n",
       "      <td>1.0</td>\n",
       "      <td>1.0</td>\n",
       "    </tr>\n",
       "    <tr>\n",
       "      <th>75%</th>\n",
       "      <td>0.200000</td>\n",
       "      <td>20.000000</td>\n",
       "      <td>1.0</td>\n",
       "      <td>1.0</td>\n",
       "    </tr>\n",
       "    <tr>\n",
       "      <th>max</th>\n",
       "      <td>8.300000</td>\n",
       "      <td>31.515984</td>\n",
       "      <td>1.0</td>\n",
       "      <td>1.0</td>\n",
       "    </tr>\n",
       "  </tbody>\n",
       "</table>\n",
       "</div>"
      ],
      "text/plain": [
       "              dur        wage   empl  women\n",
       "count  663.000000  663.000000  663.0  663.0\n",
       "mean     0.335143   16.670020    1.0    1.0\n",
       "std      0.932893    5.894336    0.0    0.0\n",
       "min     -1.000000    8.840000    1.0    1.0\n",
       "25%      0.000000   12.322677    1.0    1.0\n",
       "50%      0.000000   15.625000    1.0    1.0\n",
       "75%      0.200000   20.000000    1.0    1.0\n",
       "max      8.300000   31.515984    1.0    1.0"
      ]
     },
     "execution_count": 16,
     "metadata": {},
     "output_type": "execute_result"
    }
   ],
   "source": [
    "FE.describe()"
   ]
  },
  {
   "cell_type": "markdown",
   "metadata": {},
   "source": [
    "#### Summary Statistics"
   ]
  },
  {
   "cell_type": "code",
   "execution_count": 17,
   "metadata": {},
   "outputs": [
    {
     "data": {
      "text/html": [
       "<div>\n",
       "<style scoped>\n",
       "    .dataframe tbody tr th:only-of-type {\n",
       "        vertical-align: middle;\n",
       "    }\n",
       "\n",
       "    .dataframe tbody tr th {\n",
       "        vertical-align: top;\n",
       "    }\n",
       "\n",
       "    .dataframe thead th {\n",
       "        text-align: right;\n",
       "    }\n",
       "</style>\n",
       "<table border=\"1\" class=\"dataframe\">\n",
       "  <thead>\n",
       "    <tr style=\"text-align: right;\">\n",
       "      <th></th>\n",
       "      <th>dur</th>\n",
       "      <th>wage</th>\n",
       "      <th>empl</th>\n",
       "      <th>women</th>\n",
       "    </tr>\n",
       "  </thead>\n",
       "  <tbody>\n",
       "    <tr>\n",
       "      <th>count</th>\n",
       "      <td>1810.000000</td>\n",
       "      <td>1810.000000</td>\n",
       "      <td>1810.0</td>\n",
       "      <td>1810.000000</td>\n",
       "    </tr>\n",
       "    <tr>\n",
       "      <th>mean</th>\n",
       "      <td>0.296519</td>\n",
       "      <td>19.303804</td>\n",
       "      <td>1.0</td>\n",
       "      <td>0.366298</td>\n",
       "    </tr>\n",
       "    <tr>\n",
       "      <th>std</th>\n",
       "      <td>0.860873</td>\n",
       "      <td>7.609443</td>\n",
       "      <td>0.0</td>\n",
       "      <td>0.481925</td>\n",
       "    </tr>\n",
       "    <tr>\n",
       "      <th>min</th>\n",
       "      <td>-1.000000</td>\n",
       "      <td>8.840000</td>\n",
       "      <td>1.0</td>\n",
       "      <td>0.000000</td>\n",
       "    </tr>\n",
       "    <tr>\n",
       "      <th>25%</th>\n",
       "      <td>0.000000</td>\n",
       "      <td>13.639132</td>\n",
       "      <td>1.0</td>\n",
       "      <td>0.000000</td>\n",
       "    </tr>\n",
       "    <tr>\n",
       "      <th>50%</th>\n",
       "      <td>0.000000</td>\n",
       "      <td>18.125000</td>\n",
       "      <td>1.0</td>\n",
       "      <td>0.000000</td>\n",
       "    </tr>\n",
       "    <tr>\n",
       "      <th>75%</th>\n",
       "      <td>0.100000</td>\n",
       "      <td>23.809524</td>\n",
       "      <td>1.0</td>\n",
       "      <td>1.000000</td>\n",
       "    </tr>\n",
       "    <tr>\n",
       "      <th>max</th>\n",
       "      <td>8.300000</td>\n",
       "      <td>41.826751</td>\n",
       "      <td>1.0</td>\n",
       "      <td>1.000000</td>\n",
       "    </tr>\n",
       "  </tbody>\n",
       "</table>\n",
       "</div>"
      ],
      "text/plain": [
       "               dur         wage    empl        women\n",
       "count  1810.000000  1810.000000  1810.0  1810.000000\n",
       "mean      0.296519    19.303804     1.0     0.366298\n",
       "std       0.860873     7.609443     0.0     0.481925\n",
       "min      -1.000000     8.840000     1.0     0.000000\n",
       "25%       0.000000    13.639132     1.0     0.000000\n",
       "50%       0.000000    18.125000     1.0     0.000000\n",
       "75%       0.100000    23.809524     1.0     1.000000\n",
       "max       8.300000    41.826751     1.0     1.000000"
      ]
     },
     "execution_count": 17,
     "metadata": {},
     "output_type": "execute_result"
    }
   ],
   "source": [
    "E = ME.append(FE)\n",
    "E.describe()"
   ]
  },
  {
   "cell_type": "code",
   "execution_count": 18,
   "metadata": {},
   "outputs": [
    {
     "name": "stdout",
     "output_type": "stream",
     "text": [
      "\\begin{tabular}{lrr}\n",
      "\\toprule\n",
      "{} &         wage &          dur \\\\\n",
      "\\midrule\n",
      "mean  &    19.303804 &     0.296519 \\\\\n",
      "std   &     7.609443 &     0.860873 \\\\\n",
      "count &  1810.000000 &  1810.000000 \\\\\n",
      "\\bottomrule\n",
      "\\end{tabular}\n",
      "\n"
     ]
    }
   ],
   "source": [
    "print(E.agg(agg_dict).to_latex())"
   ]
  },
  {
   "cell_type": "markdown",
   "metadata": {},
   "source": [
    "### Figures \n",
    "\n",
    "- Distribution of wages, men and women"
   ]
  },
  {
   "cell_type": "code",
   "execution_count": 19,
   "metadata": {},
   "outputs": [
    {
     "name": "stderr",
     "output_type": "stream",
     "text": [
      "/Users/megan.mccoy/anaconda3/lib/python3.6/site-packages/matplotlib/axes/_axes.py:6462: UserWarning: The 'normed' kwarg is deprecated, and has been replaced by the 'density' kwarg.\n",
      "  warnings.warn(\"The 'normed' kwarg is deprecated, and has been \"\n",
      "/Users/megan.mccoy/anaconda3/lib/python3.6/site-packages/matplotlib/axes/_axes.py:6462: UserWarning: The 'normed' kwarg is deprecated, and has been replaced by the 'density' kwarg.\n",
      "  warnings.warn(\"The 'normed' kwarg is deprecated, and has been \"\n"
     ]
    },
    {
     "data": {
      "image/png": "[encoded data removed]",
      "text/plain": [
       "<Figure size 864x576 with 2 Axes>"
      ]
     },
     "metadata": {},
     "output_type": "display_data"
    }
   ],
   "source": [
    "# Seaborn\n",
    "fig, ax = plt.subplots(2, 1, figsize=(12, 8))\n",
    "\n",
    "sns.distplot(ME['wage'], color='#4B9CD3', hist_kws={'alpha' : .3}, bins=50, ax=ax[0])\n",
    "sns.distplot(FE['wage'], color='#4B9CD3', hist_kws={'alpha' : .3}, bins=50, ax=ax[1])\n",
    "\n",
    "ax[0].legend(['Men'])\n",
    "ax[1].legend(['Women']) \n",
    "\n",
    "ax[0].set_xlim([0,45])\n",
    "ax[1].set_xlim([0,45])\n",
    "\n",
    "ax[0].set_ylim([0,0.08])\n",
    "ax[1].set_ylim([0,0.08])\n",
    "\n",
    "plt.tight_layout()"
   ]
  },
  {
   "cell_type": "code",
   "execution_count": 20,
   "metadata": {},
   "outputs": [],
   "source": [
    "fig.savefig('./figures/fig1_2_SOEP_wins.png', bbox_inches='tight', transparent=True)"
   ]
  },
  {
   "cell_type": "markdown",
   "metadata": {},
   "source": [
    "## Estimation "
   ]
  },
  {
   "cell_type": "markdown",
   "metadata": {},
   "source": [
    "### Initial Conditions"
   ]
  },
  {
   "cell_type": "code",
   "execution_count": 21,
   "metadata": {},
   "outputs": [],
   "source": [
    "λ_0 = 0.506\n",
    "λ_M = 0.558\n",
    "λ_F = 0.457\n",
    "\n",
    "h_0 = 0.506\n",
    "h_M = 0.558\n",
    "h_F = 0.457\n",
    "\n",
    "η_0 = 0.116\n",
    "η_M = 0.108\n",
    "η_F = 0.133\n",
    "\n",
    "μ_0 = 3.433\n",
    "μ_M = 3.456\n",
    "μ_F = 3.454\n",
    "\n",
    "σ_0 = 0.523\n",
    "σ_M = 0.558\n",
    "σ_F = 0.423\n",
    "\n",
    "p_0 = 0.5\n",
    "d_0 = 10"
   ]
  },
  {
   "cell_type": "markdown",
   "metadata": {},
   "source": [
    "### Parameters without distributional assumptions"
   ]
  },
  {
   "cell_type": "code",
   "execution_count": 22,
   "metadata": {},
   "outputs": [],
   "source": [
    "wstarM = min(ME['wage'])\n",
    "wstarF = min(FE['wage'])\n",
    "\n",
    "α = 0.5"
   ]
  },
  {
   "cell_type": "markdown",
   "metadata": {},
   "source": [
    "### Accepted Wage Distribution as in 13, Log Normal as transformation from Normal"
   ]
  },
  {
   "cell_type": "code",
   "execution_count": 23,
   "metadata": {},
   "outputs": [],
   "source": [
    "def lognormpdf(x: np.array, μ: float, σ: float):\n",
    "    \"\"\"\n",
    "    Calculates lognormal pdf without stats packages\n",
    "    \"\"\"\n",
    "    \n",
    "    denom = x * σ * np.sqrt(2*pi)\n",
    "    exp_num = -(np.log(x)-μ)**2\n",
    "    exp_denom = 2 * σ * σ\n",
    "    num = np.exp(exp_num/exp_denom)\n",
    "    \n",
    "    return num/denom"
   ]
  },
  {
   "cell_type": "code",
   "execution_count": 24,
   "metadata": {},
   "outputs": [],
   "source": [
    "def lognormsf(x: np.array, μ: float, σ: float):\n",
    "    \"\"\"\n",
    "    Calculated lognormal cdf with scipy.stats normal cdf\n",
    "    \"\"\"\n",
    "    \n",
    "    lnx = np.log(x)\n",
    "    num = lnx - μ\n",
    "    denom = σ\n",
    "    \n",
    "    return 1-stats.norm.cdf(num/denom)"
   ]
  },
  {
   "cell_type": "code",
   "execution_count": 25,
   "metadata": {},
   "outputs": [],
   "source": [
    "def dens_accepted(wage: np.array, α: float, μ: float, σ: float, wstar: float):\n",
    "    \"\"\"\n",
    "    Calculates the density of accepted wages using the lognormal distribution (end of eq 13)\n",
    "    \"\"\"\n",
    "    \n",
    "    pdf_in = (wage - (1-α)*wstar)/α\n",
    "    sf_in = wstar\n",
    "    \n",
    "    num = lognormpdf(pdf_in, μ, σ) \n",
    "    denom = lognormsf(sf_in, μ, σ)\n",
    "    \n",
    "    return num / (α * denom)"
   ]
  },
  {
   "cell_type": "code",
   "execution_count": 26,
   "metadata": {},
   "outputs": [],
   "source": [
    "def dens_accepted_prej(wage: np.array, α: float, μ: float, σ: float, wstar: float, d: float):\n",
    "    \"\"\"\n",
    "    Calculates the density of accepted wages when prejudice is present using the lognormal distribution (end of eq 13)\n",
    "    \"\"\"\n",
    "    \n",
    "    pdf_in = (wage + α*d - (1-α)*wstar)/α\n",
    "    sf_in = wstar+d\n",
    "    \n",
    "    num = lognormpdf(pdf_in, μ, σ) \n",
    "    denom = lognormsf(sf_in, μ, σ)    \n",
    "    \n",
    "    return num / (α * denom)"
   ]
  },
  {
   "cell_type": "code",
   "execution_count": 27,
   "metadata": {},
   "outputs": [],
   "source": [
    "def hazardM(λ: float, wstar: float, α: float, μ: float, σ: float):\n",
    "    \"\"\"\n",
    "    Estimates hazard rate for men (eq 10 of the paper)\n",
    "    \"\"\"\n",
    "\n",
    "    mult = lognormsf(wstar, μ, σ)\n",
    "    \n",
    "    return λ * mult"
   ]
  },
  {
   "cell_type": "code",
   "execution_count": 28,
   "metadata": {},
   "outputs": [],
   "source": [
    "def hazardF(λ: float, wstar: float, α: float, μ: float, σ: float, p: float, d: float):\n",
    "    \"\"\"\n",
    "    Estimates hazard rate for women (eq 10 of the paper)\n",
    "    \"\"\"\n",
    "    \n",
    "    sf_in1 = wstar\n",
    "    sf_in2 = wstar+d\n",
    "    \n",
    "    mult = (1-p)*lognormsf(sf_in1, μ, σ) + p*lognormsf(sf_in2, μ, σ)\n",
    "    \n",
    "    return λ * mult"
   ]
  },
  {
   "cell_type": "markdown",
   "metadata": {},
   "source": [
    "### Test Statistics"
   ]
  },
  {
   "cell_type": "code",
   "execution_count": 29,
   "metadata": {},
   "outputs": [],
   "source": [
    "def teststats (hess_inv: np.ndarray, lnL: float, nparams: int):\n",
    "    \"\"\"\n",
    "    Calculates the standard errors and p value from the LR tests\n",
    "    \"\"\"\n",
    "    se = np.sqrt(np.diag(hess_inv))\n",
    "    \n",
    "    loglik_H0 = lnL_6\n",
    "    \n",
    "    LR = 2 * (lnL - loglik_H0)\n",
    "    pval = stats.chi2.pdf(LR, nparams)\n",
    "    \n",
    "    ts = se.tolist()\n",
    "    ts.append(lnL)\n",
    "    ts.append(pval)\n",
    "    \n",
    "    return ts"
   ]
  },
  {
   "cell_type": "markdown",
   "metadata": {},
   "source": [
    "#### Estimation 6"
   ]
  },
  {
   "cell_type": "code",
   "execution_count": 30,
   "metadata": {},
   "outputs": [],
   "source": [
    "def loglik_6( params: list ):\n",
    "    \"\"\"\n",
    "    Calculates log likelihood with prejudice and productivity differences (Estimation 6)\n",
    "    \n",
    "    Parameters to estimate: λM, λF, ηM, ηF, μM, σM, μF, σF, d, p\n",
    "    \"\"\"\n",
    "    \n",
    "    λM = np.exp(params[0])\n",
    "    λF = np.exp(params[1])\n",
    "    ηM = np.exp(params[2])\n",
    "    ηF = np.exp(params[3])\n",
    "    μM = params[4]\n",
    "    σM = np.exp(params[5])\n",
    "    μF = params[6]\n",
    "    σF = np.exp(params[7])\n",
    "    d  = np.exp(params[8])\n",
    "    p  = np.exp(params[9])\n",
    "    \n",
    "    \n",
    "    # Men's equations \n",
    "    hM = hazardM(λM, wstarM, α, μM, σM)\n",
    "    \n",
    "    a = M['dur'].count() * np.log(hM/(hM+ηM))\n",
    "    b = MU['dur'].count() * np.log(ηM)\n",
    "    c = - hM * np.sum(MU.values[:,0])\n",
    "    e = np.sum( np.log( (1/α) * dens_accepted( ME['wage'], α, μM, σM, wstarM) ) )  \n",
    "\n",
    "    \n",
    "    # Women's equations\n",
    "    hF = hazardF(λF, wstarF, α, μF, σF, p, d)\n",
    "    \n",
    "    f = F['dur'].count() * np.log(hF/(hF+ηF))\n",
    "    g = FU['dur'].count() * np.log(ηF)\n",
    "    h = - hF * np.sum(FU.values[:,0])\n",
    "    \n",
    "    y = ((1-p)/α) * dens_accepted( FE['wage'], α, μF, σF, wstarF)\n",
    "    z = (p/α) * dens_accepted_prej( FE['wage'], α, μF, σF, wstarF, d)\n",
    "      \n",
    "    i = np.sum( np.log( y + z ) )\n",
    "    \n",
    "    \n",
    "    return -(a + b + c + e + f + g + h + i)"
   ]
  },
  {
   "cell_type": "code",
   "execution_count": 31,
   "metadata": {},
   "outputs": [
    {
     "name": "stdout",
     "output_type": "stream",
     "text": [
      "6506.912627052691\n"
     ]
    }
   ],
   "source": [
    "# Check on log-likelihood\n",
    "\n",
    "param6 = [λ_M, λ_F, η_M, η_F, μ_M, σ_M, μ_F, σ_F, d_0, p_0]\n",
    "\n",
    "b6_0 = np.log(param6[0])\n",
    "b6_1 = np.log(param6[1])\n",
    "b6_2 = np.log(param6[2])\n",
    "b6_3 = np.log(param6[3])\n",
    "b6_4 = param6[4]\n",
    "b6_5 = np.log(param6[5])\n",
    "b6_6 = param6[6]\n",
    "b6_7 = np.log(param6[7])\n",
    "b6_8 = np.log(param6[8])\n",
    "b6_9 = np.log(1)\n",
    "\n",
    "init6 = [b6_0, b6_1, b6_2, b6_3, b6_4, b6_5, b6_6, b6_7, b6_8, b6_9]\n",
    "\n",
    "print(loglik_6(init6))"
   ]
  },
  {
   "cell_type": "code",
   "execution_count": 32,
   "metadata": {},
   "outputs": [
    {
     "name": "stdout",
     "output_type": "stream",
     "text": [
      "[-0.583396316600826, -0.7830718880879323, -2.2256240518579173, -2.017406150760383, 3.456, -0.583396316600826, 3.454, -0.8603830999358592, 2.302585092994046, 0.0]\n"
     ]
    }
   ],
   "source": [
    "print(init6)"
   ]
  },
  {
   "cell_type": "code",
   "execution_count": 33,
   "metadata": {},
   "outputs": [
    {
     "data": {
      "text/plain": [
       "      fun: 6444.98294159042\n",
       " hess_inv: array([[ 2.10825229e-03,  1.13593787e-03,  1.51969448e-03,\n",
       "         8.50273946e-04,  3.01518607e-05, -2.10867985e-04,\n",
       "        -8.00421675e-04,  9.31828556e-04,  2.93482623e-03,\n",
       "         1.06747323e-03],\n",
       "       [ 1.13593787e-03,  1.03740582e-02,  2.16090111e-03,\n",
       "         4.82945218e-04, -9.81519681e-05, -2.26975899e-04,\n",
       "        -7.14187149e-04,  9.39291887e-04,  1.19063317e-02,\n",
       "         1.01280430e-02],\n",
       "       [ 1.51969448e-03,  2.16090111e-03,  5.99822847e-03,\n",
       "        -9.66734267e-04,  3.77535218e-05, -3.71836372e-04,\n",
       "        -1.67244102e-03,  1.64993388e-03,  7.75160275e-03,\n",
       "         3.48448741e-03],\n",
       "       [ 8.50273946e-04,  4.82945218e-04, -9.66734267e-04,\n",
       "         3.94856890e-03, -2.32167373e-04,  2.85490494e-05,\n",
       "         2.88109786e-04, -9.01902134e-04,  1.72113378e-04,\n",
       "        -2.04783372e-03],\n",
       "       [ 3.01518607e-05, -9.81519681e-05,  3.77535218e-05,\n",
       "        -2.32167373e-04,  3.04900724e-04, -1.10576226e-04,\n",
       "         1.21591481e-05, -2.41920647e-05, -4.12475833e-06,\n",
       "        -6.57855500e-06],\n",
       "       [-2.10867985e-04, -2.26975899e-04, -3.71836372e-04,\n",
       "         2.85490494e-05, -1.10576226e-04,  6.23179242e-04,\n",
       "         5.49729194e-06,  7.80313184e-08, -2.23509076e-04,\n",
       "        -3.25853587e-04],\n",
       "       [-8.00421675e-04, -7.14187149e-04, -1.67244102e-03,\n",
       "         2.88109786e-04,  1.21591481e-05,  5.49729194e-06,\n",
       "         6.12275407e-04, -7.10984970e-04, -2.40855426e-03,\n",
       "        -1.18193695e-03],\n",
       "       [ 9.31828556e-04,  9.39291887e-04,  1.64993388e-03,\n",
       "        -9.01902134e-04, -2.41920647e-05,  7.80313185e-08,\n",
       "        -7.10984970e-04,  2.00060826e-03,  1.95775850e-03,\n",
       "         2.29101717e-03],\n",
       "       [ 2.93482623e-03,  1.19063317e-02,  7.75160275e-03,\n",
       "         1.72113378e-04, -4.12475833e-06, -2.23509076e-04,\n",
       "        -2.40855426e-03,  1.95775850e-03,  2.32776166e-02,\n",
       "         1.60439321e-02],\n",
       "       [ 1.06747323e-03,  1.01280430e-02,  3.48448741e-03,\n",
       "        -2.04783372e-03, -6.57855500e-06, -3.25853587e-04,\n",
       "        -1.18193695e-03,  2.29101717e-03,  1.60439321e-02,\n",
       "         1.56224239e-02]])\n",
       "      jac: array([ 0.00000000e+00,  0.00000000e+00, -1.22070312e-04,  0.00000000e+00,\n",
       "        0.00000000e+00,  0.00000000e+00, -9.15527344e-04, -3.05175781e-04,\n",
       "       -1.83105469e-04,  6.10351562e-05])\n",
       "  message: 'Desired error not necessarily achieved due to precision loss.'\n",
       "     nfev: 625\n",
       "      nit: 32\n",
       "     njev: 52\n",
       "   status: 2\n",
       "  success: False\n",
       "        x: array([-0.56155267, -0.2260019 , -2.22549971, -2.01008422,  3.32919094,\n",
       "       -0.56539733,  3.3490311 , -1.08111211,  4.09511223, -0.8490274 ])"
      ]
     },
     "execution_count": 33,
     "metadata": {},
     "output_type": "execute_result"
    }
   ],
   "source": [
    "est_6 = minimize(loglik_6, init6)\n",
    "\n",
    "est_6"
   ]
  },
  {
   "cell_type": "code",
   "execution_count": 34,
   "metadata": {},
   "outputs": [
    {
     "name": "stdout",
     "output_type": "stream",
     "text": [
      "[0.570322855400464, 0.7977165869681949, 0.10801342979357667, 0.133977390091662, 3.3291909437902643, 0.5681343646476833, 3.34903109554237, 0.3392180680255432, 60.04607801666561, 0.42783083817621903]\n"
     ]
    }
   ],
   "source": [
    "# Coefficients\n",
    "\n",
    "λM_6 = np.exp(est_6.x[0])\n",
    "λF_6 = np.exp(est_6.x[1])\n",
    "ηM_6 = np.exp(est_6.x[2])\n",
    "ηF_6 = np.exp(est_6.x[3])\n",
    "μM_6 = est_6.x[4]\n",
    "σM_6 = np.exp(est_6.x[5])\n",
    "μF_6 = est_6.x[6]\n",
    "σF_6 = np.exp(est_6.x[7])\n",
    "d_6  = np.exp(est_6.x[8])\n",
    "p_6  = np.exp(est_6.x[9])\n",
    "\n",
    "coeff_6 = [λM_6, λF_6, ηM_6, ηF_6, μM_6, σM_6, μF_6, σF_6, d_6, p_6]\n",
    "\n",
    "print(coeff_6)"
   ]
  },
  {
   "cell_type": "code",
   "execution_count": 35,
   "metadata": {},
   "outputs": [
    {
     "name": "stdout",
     "output_type": "stream",
     "text": [
      "6444.98294159042\n"
     ]
    }
   ],
   "source": [
    "lnL_6 = est_6.fun\n",
    "\n",
    "print(lnL_6)"
   ]
  },
  {
   "cell_type": "code",
   "execution_count": 36,
   "metadata": {},
   "outputs": [
    {
     "name": "stdout",
     "output_type": "stream",
     "text": [
      "[0.045915708486873534, 0.10185312092920687, 0.07744823088548224, 0.06283763921179684, 0.01746140670008499, 0.024963558284158312, 0.02474419947104088, 0.04472815960700245, 0.15257003821817428, 0.1249896951899015, 6444.98294159042, 0.0]\n"
     ]
    }
   ],
   "source": [
    "ts_6 = teststats(est_6.hess_inv, lnL_6, 10)\n",
    "\n",
    "print(ts_6)"
   ]
  },
  {
   "cell_type": "markdown",
   "metadata": {},
   "source": [
    "#### Estimation 3"
   ]
  },
  {
   "cell_type": "code",
   "execution_count": 37,
   "metadata": {},
   "outputs": [],
   "source": [
    "def loglik_3( params: list ):\n",
    "    \"\"\"\n",
    "    Calculates log likelihood with prejudice and productivity differences \n",
    "    \n",
    "    Estimation 3 (η and h not gender specific)\n",
    "    \n",
    "    Parameters to estimate: λ, η, μM, σM, μF, σF, d, p\n",
    "    \"\"\"\n",
    "    \n",
    "    λM = np.exp(params[0]) #same lambda\n",
    "    λF = np.exp(params[0]) #same lambda\n",
    "    η = np.exp(params[1]) #same eta\n",
    "    μM = params[2]\n",
    "    σM = np.exp(params[3])\n",
    "    μF = params[4]\n",
    "    σF = np.exp(params[5])\n",
    "    d = np.exp(params[6])\n",
    "    p = np.exp(params[7])\n",
    "    \n",
    "    \n",
    "    # Men's equations\n",
    "    hM = hazardM(λM, wstarM, α, μM, σM)\n",
    "    \n",
    "    a = M['dur'].count() * np.log(hM/(hM+η))\n",
    "    b = MU['dur'].count() * np.log(η)\n",
    "    c = - hM * np.sum(MU.values[:,0])\n",
    "    e = np.sum( np.log( (1/α) * dens_accepted( ME['wage'], α, μM, σM, wstarM) ) )\n",
    "    \n",
    "    \n",
    "    # Women's equations\n",
    "    hF = hazardF(λF, wstarF, α, μM, σM, p, d)\n",
    "    \n",
    "    f = F['dur'].count() * np.log(hF/(hF+η))\n",
    "    g = FU['dur'].count() * np.log(η)\n",
    "    i = - hF * np.sum(FU.values[:,0])\n",
    "    \n",
    "    y = ((1-p)/α) * dens_accepted( FE['wage'], α, μF, σF, wstarF)\n",
    "    z = (p/α) * dens_accepted_prej( FE['wage'], α, μF, σF, wstarF, d)\n",
    "\n",
    "    j = np.sum( np.log( y + z ) )\n",
    "    \n",
    "    \n",
    "    return -(a + b + c + e + f + g + i + j)"
   ]
  },
  {
   "cell_type": "code",
   "execution_count": 38,
   "metadata": {},
   "outputs": [
    {
     "name": "stdout",
     "output_type": "stream",
     "text": [
      "6510.052927415925\n"
     ]
    }
   ],
   "source": [
    "# Check on log-likelihood\n",
    "\n",
    "param3 = [λ_0, η_0, μ_M, σ_M, μ_F, σ_F, d_0, p_0]\n",
    "\n",
    "b3_0 = np.log(param3[0])\n",
    "b3_1 = np.log(param3[1])\n",
    "b3_2 = param3[2]\n",
    "b3_3 = np.log(param3[3])\n",
    "b3_4 = param3[4]\n",
    "b3_5 = np.log(param3[5])\n",
    "b3_6 = np.log(param3[6])\n",
    "b3_7 = np.log(1)\n",
    "\n",
    "init3 = [b3_0, b3_1, b3_2, b3_3, b3_4, b3_5, b3_6, b3_7]\n",
    "\n",
    "print(loglik_3(init3))"
   ]
  },
  {
   "cell_type": "code",
   "execution_count": 39,
   "metadata": {},
   "outputs": [
    {
     "data": {
      "text/plain": [
       "      fun: 6448.114262021706\n",
       " hess_inv: array([[ 6.77039997e-03,  7.65326858e-03,  1.28840870e-04,\n",
       "        -2.73945713e-04,  2.46553501e-03,  3.90501450e-04,\n",
       "        -1.23704174e-02,  1.77768998e-02],\n",
       "       [ 7.65326858e-03,  1.06693401e-02,  2.31735460e-04,\n",
       "        -6.35856223e-04,  3.34463037e-03,  4.47733137e-04,\n",
       "        -1.56825341e-02,  2.19601733e-02],\n",
       "       [ 1.28840870e-04,  2.31735460e-04,  3.54144421e-04,\n",
       "        -1.43185607e-04,  1.37056255e-04,  5.05738441e-05,\n",
       "        -9.18758294e-04,  1.06947559e-03],\n",
       "       [-2.73945713e-04, -6.35856223e-04, -1.43185607e-04,\n",
       "         6.54707602e-04, -2.14165577e-04,  7.49663174e-05,\n",
       "         1.50266967e-03, -1.63129441e-03],\n",
       "       [ 2.46553501e-03,  3.34463037e-03,  1.37056255e-04,\n",
       "        -2.14165577e-04,  1.72765581e-03, -3.73029929e-04,\n",
       "        -6.41270972e-03,  8.54866058e-03],\n",
       "       [ 3.90501450e-04,  4.47733137e-04,  5.05738441e-05,\n",
       "         7.49663174e-05, -3.73029929e-04,  1.95674794e-03,\n",
       "         3.96713724e-04,  1.67777416e-03],\n",
       "       [-1.23704174e-02, -1.56825341e-02, -9.18758294e-04,\n",
       "         1.50266967e-03, -6.41270972e-03,  3.96713724e-04,\n",
       "         2.85802402e-02, -3.87265366e-02],\n",
       "       [ 1.77768998e-02,  2.19601733e-02,  1.06947559e-03,\n",
       "        -1.63129441e-03,  8.54866058e-03,  1.67777416e-03,\n",
       "        -3.87265366e-02,  5.92632394e-02]])\n",
       "      jac: array([-6.10351562e-05, -6.10351562e-05, -6.10351562e-05,  6.10351562e-05,\n",
       "       -6.10351562e-05, -6.10351562e-05,  0.00000000e+00,  0.00000000e+00])\n",
       "  message: 'Desired error not necessarily achieved due to precision loss.'\n",
       "     nfev: 391\n",
       "      nit: 24\n",
       "     njev: 39\n",
       "   status: 2\n",
       "  success: False\n",
       "        x: array([-0.47224443, -2.13037498,  3.33056048, -0.56397767,  3.33767647,\n",
       "       -1.08272801,  3.67309427, -0.91959457])"
      ]
     },
     "execution_count": 39,
     "metadata": {},
     "output_type": "execute_result"
    }
   ],
   "source": [
    "est_3 = minimize(loglik_3, init3)\n",
    "\n",
    "est_3"
   ]
  },
  {
   "cell_type": "code",
   "execution_count": 40,
   "metadata": {},
   "outputs": [
    {
     "name": "stdout",
     "output_type": "stream",
     "text": [
      "[0.623601064484499, 0.11879274082357513, 3.33056048098153, 0.5689414932272288, 3.337676467775946, 0.33867036732413863, 39.37355011566521, 0.3986806443856615]\n"
     ]
    }
   ],
   "source": [
    "# Coefficients\n",
    "\n",
    "λ_3 = np.exp(est_3.x[0])\n",
    "η_3 = np.exp(est_3.x[1])\n",
    "μM_3 = est_3.x[2]\n",
    "σM_3 = np.exp(est_3.x[3])\n",
    "μF_3 = est_3.x[4]\n",
    "σF_3 = np.exp(est_3.x[5])\n",
    "d_3 = np.exp(est_3.x[6])\n",
    "p_3 = np.exp(est_3.x[7])\n",
    "\n",
    "coeff_3 = [λ_3, η_3, μM_3, σM_3, μF_3, σF_3, d_3, p_3]\n",
    "\n",
    "print(coeff_3)"
   ]
  },
  {
   "cell_type": "code",
   "execution_count": 41,
   "metadata": {},
   "outputs": [
    {
     "name": "stdout",
     "output_type": "stream",
     "text": [
      "6448.114262021706\n"
     ]
    }
   ],
   "source": [
    "lnL_3 = est_3.fun\n",
    "\n",
    "print(lnL_3)"
   ]
  },
  {
   "cell_type": "code",
   "execution_count": 42,
   "metadata": {},
   "outputs": [
    {
     "name": "stdout",
     "output_type": "stream",
     "text": [
      "[0.08228244021277957, 0.10329249785482957, 0.018818725264126125, 0.025587254673227717, 0.04156507923557317, 0.04423514367207034, 0.1690569142085072, 0.24344042264690233, 6448.114262021706, 0.11170847027562783]\n"
     ]
    }
   ],
   "source": [
    "ts_3 = teststats(est_3.hess_inv, lnL_3, 8)\n",
    "\n",
    "print(ts_3)"
   ]
  },
  {
   "cell_type": "markdown",
   "metadata": {},
   "source": [
    "#### Estimation 5"
   ]
  },
  {
   "cell_type": "code",
   "execution_count": 43,
   "metadata": {},
   "outputs": [],
   "source": [
    "def loglik_5( params: list ):\n",
    "    \"\"\"\n",
    "    Calculates log likelihood with prejudice, no productivity differences (estimation 5). \n",
    "    \n",
    "    Parameters to estimate: λM, λF, μ, σ, p, d\n",
    "    \"\"\"\n",
    "\n",
    "    λM = np.exp(params[0])\n",
    "    λF = np.exp(params[1])\n",
    "    ηM = np.exp(params[2])\n",
    "    ηF = np.exp(params[3])\n",
    "    μ = params[4]\n",
    "    σ = np.exp(params[5])\n",
    "    d = np.exp(params[6])\n",
    "    p = np.exp(params[7])\n",
    "    \n",
    "    \n",
    "    # Men's equations \n",
    "    hM = hazardM(λM, wstarM, α, μ, σ)\n",
    "    \n",
    "    a = M['dur'].count() * np.log(hM/(hM+ηM))\n",
    "    b = MU['dur'].count() * np.log(ηM)\n",
    "    c = - hM * np.sum(MU.values[:,0])\n",
    "    e = np.sum( np.log( (1/α) * dens_accepted(ME['wage'], α, μ, σ, wstarM) ) )\n",
    "    \n",
    "    \n",
    "    # Women's equations\n",
    "    hF = hazardF(λF, wstarF, α, μ, σ, p, d)\n",
    "    \n",
    "    f = F['dur'].count() * np.log(hF/(hF+ηF))\n",
    "    g = FU['dur'].count() * np.log(ηF)\n",
    "    h = - hF * np.sum(FU.values[:,0])\n",
    "    \n",
    "    y = ((1-p)/α) * dens_accepted(FE['wage'], α, μ, σ, wstarF)\n",
    "    z = (p/α) * dens_accepted_prej(FE['wage'], α, μ, σ, wstarF, d)\n",
    "\n",
    "    i = np.sum( np.log( y + z ) )\n",
    "    \n",
    "    \n",
    "    return -(a + b + c + e + f + g + h + i)"
   ]
  },
  {
   "cell_type": "code",
   "execution_count": 44,
   "metadata": {},
   "outputs": [
    {
     "name": "stdout",
     "output_type": "stream",
     "text": [
      "6605.594288593054\n"
     ]
    }
   ],
   "source": [
    "# Check on log-likelihood\n",
    "\n",
    "param5 = [λ_M, λ_F, η_M, η_F, μ_0, σ_0, d_0, p_0]\n",
    "\n",
    "b5_0 = np.log(param6[0])\n",
    "b5_1 = np.log(param6[1])\n",
    "b5_2 = np.log(param6[2])\n",
    "b5_3 = np.log(param6[3])\n",
    "# b5_4 = np.log(param6[4])\n",
    "b5_4 = param6[4]\n",
    "b5_5 = np.log(param6[5])\n",
    "b5_6 = np.log(param6[6])\n",
    "b5_7 = np.log(1)\n",
    "\n",
    "init5 = [b5_0, b5_1, b5_2, b5_3, b5_4, b5_5, b5_6, b5_7]\n",
    "\n",
    "print(loglik_5(init5))"
   ]
  },
  {
   "cell_type": "code",
   "execution_count": 45,
   "metadata": {},
   "outputs": [
    {
     "name": "stderr",
     "output_type": "stream",
     "text": [
      "/Users/megan.mccoy/anaconda3/lib/python3.6/site-packages/ipykernel_launcher.py:37: RuntimeWarning: invalid value encountered in log\n"
     ]
    },
    {
     "data": {
      "text/plain": [
       "      fun: 6487.694113044838\n",
       " hess_inv: array([[ 0.00428381,  0.0036268 ,  0.006412  , -0.00153612, -0.00021399,\n",
       "         0.00011901,  0.00658479, -0.00096926],\n",
       "       [ 0.0036268 ,  0.0105274 ,  0.00378286,  0.00412961, -0.00045455,\n",
       "        -0.00030309,  0.01773313, -0.00964753],\n",
       "       [ 0.006412  ,  0.00378286,  0.02592033, -0.00742271, -0.00142015,\n",
       "         0.00093894,  0.00450056,  0.00195077],\n",
       "       [-0.00153612,  0.00412961, -0.00742271,  0.00967558,  0.00053649,\n",
       "        -0.00098269,  0.01027377, -0.00825774],\n",
       "       [-0.00021399, -0.00045455, -0.00142015,  0.00053649,  0.00039138,\n",
       "        -0.00020025, -0.00052164,  0.0003705 ],\n",
       "       [ 0.00011901, -0.00030309,  0.00093894, -0.00098269, -0.00020025,\n",
       "         0.00045005, -0.00028746,  0.00022463],\n",
       "       [ 0.00658479,  0.01773313,  0.00450056,  0.01027377, -0.00052164,\n",
       "        -0.00028746,  0.03438975, -0.01865861],\n",
       "       [-0.00096926, -0.00964753,  0.00195077, -0.00825774,  0.0003705 ,\n",
       "         0.00022463, -0.01865861,  0.01336836]])\n",
       "      jac: array([-6.10351562e-05, -6.10351562e-05,  1.22070312e-04, -6.10351562e-05,\n",
       "       -3.05175781e-04, -1.22070312e-04,  0.00000000e+00, -6.10351562e-05])\n",
       "  message: 'Desired error not necessarily achieved due to precision loss.'\n",
       "     nfev: 311\n",
       "      nit: 23\n",
       "     njev: 31\n",
       "   status: 2\n",
       "  success: False\n",
       "        x: array([-0.56786286, -0.28971214, -2.22549897, -2.01008484,  3.31680601,\n",
       "       -0.64240316,  2.89544981, -0.22458379])"
      ]
     },
     "execution_count": 45,
     "metadata": {},
     "output_type": "execute_result"
    }
   ],
   "source": [
    "est_5 = minimize(loglik_5, init5)\n",
    "\n",
    "est_5"
   ]
  },
  {
   "cell_type": "code",
   "execution_count": 46,
   "metadata": {},
   "outputs": [
    {
     "name": "stdout",
     "output_type": "stream",
     "text": [
      "[0.5667353390601806, 0.7484789973449865, 0.1080135097992883, 0.1339773074269028, 3.3168060102218173, 0.5260267757412171, 18.091637325348877, 0.7988486387194483]\n"
     ]
    }
   ],
   "source": [
    "# Coefficients\n",
    "\n",
    "λM_5 = np.exp(est_5.x[0])\n",
    "λF_5 = np.exp(est_5.x[1])\n",
    "ηM_5 = np.exp(est_5.x[2])\n",
    "ηF_5 = np.exp(est_5.x[3])\n",
    "μ_5 = est_5.x[4]\n",
    "σ_5 = np.exp(est_5.x[5])\n",
    "d_5 = np.exp(est_5.x[6])\n",
    "p_5 = np.exp(est_5.x[7])\n",
    "\n",
    "coeff_5 = [λM_5, λF_5, ηM_5, ηF_5, μ_5, σ_5, d_5, p_5]\n",
    "\n",
    "print(coeff_5)"
   ]
  },
  {
   "cell_type": "code",
   "execution_count": 47,
   "metadata": {},
   "outputs": [
    {
     "name": "stdout",
     "output_type": "stream",
     "text": [
      "6487.694113044838\n"
     ]
    }
   ],
   "source": [
    "lnL_5 = est_5.fun\n",
    "\n",
    "print(lnL_5)"
   ]
  },
  {
   "cell_type": "code",
   "execution_count": 48,
   "metadata": {},
   "outputs": [
    {
     "name": "stdout",
     "output_type": "stream",
     "text": [
      "[0.06545081962688908, 0.10260309898838571, 0.1609979304677244, 0.09836450420829565, 0.019783369361929325, 0.02121432033335354, 0.1854447244572699, 0.11562164499373997, 6487.694113044838, 1.833230715160835e-15]\n"
     ]
    }
   ],
   "source": [
    "ts_5 = teststats(est_5.hess_inv, lnL_5, 8)\n",
    "\n",
    "print(ts_5)"
   ]
  },
  {
   "cell_type": "markdown",
   "metadata": {},
   "source": [
    "#### Estimation 2"
   ]
  },
  {
   "cell_type": "code",
   "execution_count": 49,
   "metadata": {},
   "outputs": [],
   "source": [
    "def loglik_2( params: list ):\n",
    "    \"\"\"\n",
    "    Calculates log likelihood with prejudice, no productivity differences (estimation 2).\n",
    "    \n",
    "    Parameters to estimate: λ, μ, σ, p, d\n",
    "    \"\"\"\n",
    "    \n",
    "    λM = np.exp(params[0])\n",
    "    λF = np.exp(params[0])\n",
    "    η = np.exp(params[1])\n",
    "    μ = params[2]\n",
    "    σ = np.exp(params[3])\n",
    "    d = np.exp(params[4])\n",
    "    p = np.exp(params[5])\n",
    "\n",
    "    \n",
    "    # Men's equations \n",
    "    hM = hazardM(λM, wstarM, α, μ, σ)\n",
    "    \n",
    "    a = M['dur'].count() * np.log(hM/(hM+η))\n",
    "    b = MU['dur'].count() * np.log(η)\n",
    "    c = - hM * np.sum(MU.values[:,0])\n",
    "    e = np.sum( np.log( (1/α) * dens_accepted(ME['wage'], α, μ, σ, wstarM) ) )\n",
    "    \n",
    "    \n",
    "    # Women's equations\n",
    "    hF = hazardF(λF, wstarF, α, μ, σ, p, d)\n",
    "    \n",
    "    f = F['dur'].count() * np.log(hF/(hF+η))\n",
    "    g = FU['dur'].count() * np.log(η)\n",
    "    i = - hF * np.sum(FU.values[:,0])\n",
    "    \n",
    "    y = ((1-p)/α) * dens_accepted(FE['wage'], α, μ, σ, wstarF)\n",
    "    z = (p/α) * dens_accepted_prej(FE['wage'], α, μ, σ, wstarF, d)\n",
    "\n",
    "    j = np.sum( np.log( y + z ) )\n",
    "    \n",
    "    \n",
    "    return -(a + b + c + e + f + g + i + j)"
   ]
  },
  {
   "cell_type": "code",
   "execution_count": 50,
   "metadata": {},
   "outputs": [
    {
     "name": "stdout",
     "output_type": "stream",
     "text": [
      "6530.313131313066\n"
     ]
    }
   ],
   "source": [
    "# Check on log-likelihood\n",
    "\n",
    "param2 = [λ_0, η_0, μ_0, σ_0, d_0, p_0]\n",
    "\n",
    "b2_0 = np.log(param2[0])\n",
    "b2_1 = np.log(param2[1])\n",
    "b2_2 = param2[2]\n",
    "b2_3 = np.log(param2[3])\n",
    "b2_4 = np.log(param2[4])\n",
    "b2_5 = np.log(1)\n",
    "\n",
    "init2 = [b2_0, b2_1, b2_2, b2_3, b2_4, b2_5]\n",
    "\n",
    "print(loglik_2(init2))"
   ]
  },
  {
   "cell_type": "code",
   "execution_count": 51,
   "metadata": {},
   "outputs": [
    {
     "data": {
      "text/plain": [
       "      fun: 6489.271791152495\n",
       " hess_inv: array([[ 7.52606924e-03,  9.49397312e-03, -8.91154678e-05,\n",
       "         1.05523543e-03,  6.62350319e-03, -3.02067141e-03],\n",
       "       [ 9.49397312e-03,  1.52102831e-02,  1.73712380e-04,\n",
       "         1.19691748e-03,  8.46628149e-03, -3.17596594e-03],\n",
       "       [-8.91154678e-05,  1.73712380e-04,  1.90487488e-04,\n",
       "        -1.21276980e-04, -2.46620367e-05, -1.60231113e-04],\n",
       "       [ 1.05523543e-03,  1.19691748e-03, -1.21276980e-04,\n",
       "         5.64807461e-04,  1.32355251e-03, -4.63034172e-04],\n",
       "       [ 6.62350319e-03,  8.46628149e-03, -2.46620367e-05,\n",
       "         1.32355251e-03,  9.91679759e-03, -4.49772505e-03],\n",
       "       [-3.02067141e-03, -3.17596594e-03, -1.60231113e-04,\n",
       "        -4.63034172e-04, -4.49772505e-03,  3.14836509e-03]])\n",
       "      jac: array([-6.10351562e-05,  0.00000000e+00, -1.83105469e-04, -6.10351562e-05,\n",
       "       -6.10351562e-05, -6.10351562e-05])\n",
       "  message: 'Desired error not necessarily achieved due to precision loss.'\n",
       "     nfev: 185\n",
       "      nit: 15\n",
       "     njev: 23\n",
       "   status: 2\n",
       "  success: False\n",
       "        x: array([-0.50909207, -2.12937126,  3.31661254, -0.63881266,  2.52927026,\n",
       "       -0.08554278])"
      ]
     },
     "execution_count": 51,
     "metadata": {},
     "output_type": "execute_result"
    }
   ],
   "source": [
    "est_2 = minimize(loglik_2, init2)\n",
    "\n",
    "est_2"
   ]
  },
  {
   "cell_type": "code",
   "execution_count": 52,
   "metadata": {},
   "outputs": [
    {
     "name": "stdout",
     "output_type": "stream",
     "text": [
      "[0.601041031650277, 0.11891203498782597, 3.3166125428284694, 0.5279188715056954, 12.544348655648596, 0.9180138666179612]\n"
     ]
    }
   ],
   "source": [
    "# Coefficients\n",
    "\n",
    "λ_2 = np.exp(est_2.x[0])\n",
    "η_2 = np.exp(est_2.x[1])\n",
    "μ_2 = est_2.x[2]\n",
    "σ_2 = np.exp(est_2.x[3])\n",
    "d_2 = np.exp(est_2.x[4])\n",
    "p_2 = np.exp(est_2.x[5])\n",
    "\n",
    "coeff_2 = [λ_2, η_2, μ_2, σ_2, d_2, p_2]\n",
    "\n",
    "print(coeff_2)"
   ]
  },
  {
   "cell_type": "code",
   "execution_count": 53,
   "metadata": {},
   "outputs": [
    {
     "name": "stdout",
     "output_type": "stream",
     "text": [
      "6489.271791152495\n"
     ]
    }
   ],
   "source": [
    "lnL_2 = est_2.fun\n",
    "\n",
    "print(lnL_2)"
   ]
  },
  {
   "cell_type": "code",
   "execution_count": 54,
   "metadata": {},
   "outputs": [
    {
     "name": "stdout",
     "output_type": "stream",
     "text": [
      "[0.08675292065555171, 0.12332997642169187, 0.013801720469121615, 0.023765678206385178, 0.09958311899609794, 0.05611029399336313, 6489.271791152495, 2.858418622359933e-17]\n"
     ]
    }
   ],
   "source": [
    "ts_2 = teststats(est_2.hess_inv, lnL_2, 6)\n",
    "\n",
    "print(ts_2)"
   ]
  },
  {
   "cell_type": "markdown",
   "metadata": {},
   "source": [
    "#### Estimation 4"
   ]
  },
  {
   "cell_type": "code",
   "execution_count": 55,
   "metadata": {},
   "outputs": [],
   "source": [
    "def loglik_4( params: list ):\n",
    "    \"\"\"\n",
    "    Calculates log likelihood with productivity differences, no prejudice (estimation 4).\n",
    "    \n",
    "    Parameters to estimate: λM, λF, μM, σM, μF, σF\n",
    "    \"\"\"\n",
    "\n",
    "    λM = np.exp(params[0])\n",
    "    λF = np.exp(params[1])\n",
    "    ηM = np.exp(params[2])\n",
    "    ηF = np.exp(params[3])\n",
    "    μM = params[4]\n",
    "    σM = np.exp(params[5])\n",
    "    μF = params[6]\n",
    "    σF = np.exp(params[7])\n",
    "    d = 0\n",
    "    p = 0\n",
    "\n",
    "    \n",
    "    # Men's equations \n",
    "    hM = hazardM(λM, wstarM, α, μM, σM)\n",
    "    \n",
    "    a = M['dur'].count() * np.log(hM/(hM+ηM))\n",
    "    b = MU['dur'].count() * np.log(ηM)\n",
    "    c = - hM * np.sum(MU.values[:,0])\n",
    "    e = np.sum( np.log( (1/α) * dens_accepted( ME['wage'], α, μM, σM, wstarM) ) )\n",
    "    \n",
    "    # Women's equations\n",
    "    hF = hazardF(λF, wstarF, α, μF, σF, p, d)\n",
    "    \n",
    "    f = F['dur'].count() * np.log(hF/(hF+ηF))\n",
    "    g = FU['dur'].count() * np.log(ηF)\n",
    "    i = - hF * np.sum(FU.values[:,0])\n",
    "    \n",
    "    y = (1/α) * dens_accepted( FE['wage'], α, μF, σF, wstarF)\n",
    "\n",
    "    j = np.sum( np.log( y ) )\n",
    "\n",
    "    return -(a + b + c + e + f + g + i + j)"
   ]
  },
  {
   "cell_type": "code",
   "execution_count": 56,
   "metadata": {},
   "outputs": [
    {
     "name": "stdout",
     "output_type": "stream",
     "text": [
      "6820.350277466316\n"
     ]
    }
   ],
   "source": [
    "# Check on log-likelihood\n",
    "\n",
    "param4 = [λ_M, λ_F, η_M, η_F, μ_M, σ_M, μ_F, σ_F]\n",
    "\n",
    "b4_0 = np.log(param4[0])\n",
    "b4_1 = np.log(param4[1])\n",
    "b4_2 = np.log(param4[2])\n",
    "b4_3 = np.log(param4[3])\n",
    "b4_4 = param4[4]\n",
    "b4_5 = np.log(param4[5])\n",
    "b4_6 = param4[6]\n",
    "b4_7 = np.log(param4[7])\n",
    "\n",
    "init4 = [b4_0, b4_1, b4_2, b4_3, b4_4, b4_5, b4_6, b4_7]\n",
    "\n",
    "print(loglik_4(init4))"
   ]
  },
  {
   "cell_type": "code",
   "execution_count": 57,
   "metadata": {},
   "outputs": [
    {
     "name": "stdout",
     "output_type": "stream",
     "text": [
      "[-0.583396316600826, -0.7830718880879323, -2.2256240518579173, -2.017406150760383, 3.456, -0.583396316600826, 3.454, -0.8603830999358592]\n"
     ]
    }
   ],
   "source": [
    "print(init4)"
   ]
  },
  {
   "cell_type": "code",
   "execution_count": 58,
   "metadata": {},
   "outputs": [
    {
     "data": {
      "text/plain": [
       "      fun: 6484.239598515669\n",
       " hess_inv: array([[ 5.00337811e-03, -7.68533824e-04,  5.15132280e-03,\n",
       "        -7.96400942e-04, -7.16248704e-04,  1.12167268e-03,\n",
       "         1.53059323e-03,  4.24189589e-04],\n",
       "       [-7.68533824e-04,  6.48840223e-03, -1.10323006e-03,\n",
       "         6.76741034e-03,  9.20349656e-04, -1.37839936e-03,\n",
       "        -2.33587261e-03,  6.68969053e-05],\n",
       "       [ 5.15132280e-03, -1.10323006e-03,  1.05128115e-02,\n",
       "        -7.01977229e-04, -1.25116692e-03,  1.97115985e-03,\n",
       "         2.87171386e-03,  7.41146566e-04],\n",
       "       [-7.96400942e-04,  6.76741034e-03, -7.01977229e-04,\n",
       "         1.31580456e-02,  1.61031050e-03, -2.43675143e-03,\n",
       "        -3.67752070e-03, -5.99370619e-04],\n",
       "       [-7.16248704e-04,  9.20349656e-04, -1.25116692e-03,\n",
       "         1.61031050e-03,  6.87977069e-04, -6.30814560e-04,\n",
       "        -8.10310841e-04, -2.89601396e-04],\n",
       "       [ 1.12167268e-03, -1.37839936e-03,  1.97115985e-03,\n",
       "        -2.43675143e-03, -6.30814560e-04,  1.34160986e-03,\n",
       "         1.16712313e-03,  3.41805813e-04],\n",
       "       [ 1.53059323e-03, -2.33587261e-03,  2.87171386e-03,\n",
       "        -3.67752070e-03, -8.10310841e-04,  1.16712313e-03,\n",
       "         2.23230616e-03, -1.36424280e-04],\n",
       "       [ 4.24189589e-04,  6.68969053e-05,  7.41146566e-04,\n",
       "        -5.99370619e-04, -2.89601396e-04,  3.41805813e-04,\n",
       "        -1.36424280e-04,  1.62346875e-03]])\n",
       "      jac: array([ 0.00000000e+00,  0.00000000e+00,  6.10351562e-05, -6.10351562e-05,\n",
       "        0.00000000e+00, -6.10351562e-05, -6.10351562e-05,  0.00000000e+00])\n",
       "  message: 'Desired error not necessarily achieved due to precision loss.'\n",
       "     nfev: 321\n",
       "      nit: 22\n",
       "     njev: 32\n",
       "   status: 2\n",
       "  success: False\n",
       "        x: array([-0.56155273, -0.6985071 , -2.22549958, -2.0100844 ,  3.32919095,\n",
       "       -0.5653974 ,  2.98839593, -0.55509256])"
      ]
     },
     "execution_count": 58,
     "metadata": {},
     "output_type": "execute_result"
    }
   ],
   "source": [
    "est_4 = minimize(loglik_4, init4)\n",
    "\n",
    "est_4"
   ]
  },
  {
   "cell_type": "code",
   "execution_count": 59,
   "metadata": {},
   "outputs": [
    {
     "name": "stdout",
     "output_type": "stream",
     "text": [
      "[0.5703228210687591, 0.49732720889694876, 0.10801344404473649, 0.13397736601812374, 3.3291909535505386, 0.5681343266554968, 2.9883959282992834, 0.574019127119415]\n"
     ]
    }
   ],
   "source": [
    "# Coefficients\n",
    "\n",
    "λM_4 = np.exp(est_4.x[0])\n",
    "λF_4 = np.exp(est_4.x[1])\n",
    "ηM_4 = np.exp(est_4.x[2])\n",
    "ηF_4 = np.exp(est_4.x[3])\n",
    "μM_4 = est_4.x[4]\n",
    "σM_4 = np.exp(est_4.x[5])\n",
    "μF_4 = est_4.x[6]\n",
    "σF_4 = np.exp(est_4.x[7])\n",
    "\n",
    "coeff_4 = [λM_4, λF_4, ηM_4, ηF_4, μM_4, σM_4, μF_4, σF_4]\n",
    "\n",
    "print(coeff_4)"
   ]
  },
  {
   "cell_type": "code",
   "execution_count": 60,
   "metadata": {},
   "outputs": [
    {
     "name": "stdout",
     "output_type": "stream",
     "text": [
      "6484.239598515669\n"
     ]
    }
   ],
   "source": [
    "lnL_4 = est_4.fun\n",
    "\n",
    "print(lnL_4)"
   ]
  },
  {
   "cell_type": "code",
   "execution_count": 61,
   "metadata": {},
   "outputs": [
    {
     "name": "stdout",
     "output_type": "stream",
     "text": [
      "[0.0707345609158121, 0.08055061903086821, 0.10253200242074124, 0.11470852469503239, 0.026229316978795738, 0.03662799291141939, 0.04724728738215924, 0.04029229140975689, 6484.239598515669, 4.504112309348596e-14]\n"
     ]
    }
   ],
   "source": [
    "ts_4 = teststats(est_4.hess_inv, lnL_4, 8)\n",
    "\n",
    "print(ts_4)"
   ]
  },
  {
   "cell_type": "markdown",
   "metadata": {},
   "source": [
    "#### Estimation 1"
   ]
  },
  {
   "cell_type": "code",
   "execution_count": 62,
   "metadata": {},
   "outputs": [],
   "source": [
    "def loglik_1( params: list ):\n",
    "    \"\"\"\n",
    "    Calculates log likelihood with productivity differences, no prejudice (estimation 1).\n",
    "    \n",
    "    Parameters to estimate: λ, η, μM, σM, μF, σF\n",
    "    \"\"\"\n",
    "\n",
    "    λM = np.exp(params[0]) #same lambda\n",
    "    λF = np.exp(params[0]) #same lambda\n",
    "    η = np.exp(params[1]) #same eta\n",
    "    μM = params[2]\n",
    "    σM = np.exp(params[3])\n",
    "    μF = params[4]\n",
    "    σF = np.exp(params[5])\n",
    "    d = 0\n",
    "    p = 0\n",
    "    \n",
    "    \n",
    "    # Men's equations \n",
    "    hM = hazardM(λM, wstarM, α, μM, σM)\n",
    "    \n",
    "    a = M['dur'].count() * np.log(hM/(hM+η))\n",
    "    b = MU['dur'].count() * np.log(η)\n",
    "    c = - hM * np.sum(MU.values[:,0])\n",
    "    e = np.sum( np.log( (1/α) * dens_accepted(ME['wage'], α, μM, σM, wstarM) ) )\n",
    "    \n",
    "    # Women's equations\n",
    "    hF = hazardF(λM, wstarF, α, μF, σF, p, d)\n",
    "    \n",
    "    f = F['dur'].count() * np.log(hF/(hF+η))\n",
    "    g = FU['dur'].count() * np.log(η)\n",
    "    i = - hF * np.sum(FU.values[:,0])\n",
    "    \n",
    "    y = (1/α) * dens_accepted(FE['wage'], α, μF, σF, wstarF)\n",
    "    \n",
    "    j = np.sum( np.log( y ) )\n",
    "    \n",
    "    \n",
    "    return -(a + b + c + e + f + g + i + j)"
   ]
  },
  {
   "cell_type": "code",
   "execution_count": 63,
   "metadata": {},
   "outputs": [
    {
     "name": "stdout",
     "output_type": "stream",
     "text": [
      "6829.948984512112\n"
     ]
    }
   ],
   "source": [
    "# Check on log-likelihood\n",
    "\n",
    "param1 = [λ_0, η_0, μ_M, σ_M, μ_F, σ_F]\n",
    "\n",
    "b1_0 = np.log(param1[0])\n",
    "b1_1 = np.log(param1[1])\n",
    "b1_2 = param1[2]\n",
    "b1_3 = np.log(param1[3])\n",
    "b1_4 = param1[4]\n",
    "b1_5 = np.log(param1[5])\n",
    "\n",
    "init1 = [b1_0, b1_1, b1_2, b1_3, b1_4, b1_5]\n",
    "\n",
    "print(loglik_1(init1))"
   ]
  },
  {
   "cell_type": "code",
   "execution_count": 64,
   "metadata": {},
   "outputs": [
    {
     "data": {
      "text/plain": [
       "      fun: 6490.084478938475\n",
       " hess_inv: array([[ 8.10314700e-04,  4.15776406e-04, -5.26228659e-05,\n",
       "        -1.24322960e-05, -5.45696821e-12, -4.28804934e-05],\n",
       "       [ 4.15776406e-04,  1.46516170e-02,  1.27424390e-05,\n",
       "        -4.11178139e-04, -5.09317033e-11, -7.14487467e-05],\n",
       "       [-5.26228659e-05,  1.27424390e-05,  3.40230283e-04,\n",
       "        -1.17827693e-04,  0.00000000e+00,  3.40656723e-05],\n",
       "       [-1.24322960e-05, -4.11178139e-04, -1.17827693e-04,\n",
       "         6.61180112e-04,  1.81898940e-12, -5.44953322e-05],\n",
       "       [-5.45696821e-12, -5.09317033e-11,  0.00000000e+00,\n",
       "         1.81898940e-12,  1.45519152e-11, -9.09494702e-12],\n",
       "       [-4.28804934e-05, -7.14487467e-05,  3.40656723e-05,\n",
       "        -5.44953322e-05, -9.09494702e-12,  5.17697900e-04]])\n",
       "      jac: array([0.00000000e+00, 6.10351562e-05, 0.00000000e+00, 0.00000000e+00,\n",
       "       6.10351562e-05, 6.10351562e-05])\n",
       "  message: 'Desired error not necessarily achieved due to precision loss.'\n",
       "     nfev: 441\n",
       "      nit: 19\n",
       "     njev: 55\n",
       "   status: 2\n",
       "  success: False\n",
       "        x: array([-0.62206086, -2.14232401,  3.33089965, -0.5685299 ,  2.96860227,\n",
       "       -0.52873083])"
      ]
     },
     "execution_count": 64,
     "metadata": {},
     "output_type": "execute_result"
    }
   ],
   "source": [
    "est_1 = minimize(loglik_1, init1)\n",
    "\n",
    "est_1"
   ]
  },
  {
   "cell_type": "code",
   "execution_count": 65,
   "metadata": {},
   "outputs": [
    {
     "name": "stdout",
     "output_type": "stream",
     "text": [
      "[0.5368369524884239, 0.11738172918932115, 3.3308996500264763, 0.5663574317819295, 2.968602270203934, 0.5893524864243078]\n"
     ]
    }
   ],
   "source": [
    "# Coefficients\n",
    "\n",
    "λ_1 = np.exp(est_1.x[0])\n",
    "η_1 = np.exp(est_1.x[1])\n",
    "μM_1 = est_1.x[2]\n",
    "σM_1 = np.exp(est_1.x[3])\n",
    "μF_1 = est_1.x[4]\n",
    "σF_1 = np.exp(est_1.x[5])\n",
    "\n",
    "coeff_1 = [λ_1, η_1, μM_1, σM_1, μF_1, σF_1]\n",
    "\n",
    "print(coeff_1)"
   ]
  },
  {
   "cell_type": "code",
   "execution_count": 66,
   "metadata": {},
   "outputs": [
    {
     "name": "stdout",
     "output_type": "stream",
     "text": [
      "6490.084478938475\n"
     ]
    }
   ],
   "source": [
    "lnL_1 = est_1.fun\n",
    "\n",
    "print(lnL_1)"
   ]
  },
  {
   "cell_type": "code",
   "execution_count": 67,
   "metadata": {},
   "outputs": [
    {
     "name": "stdout",
     "output_type": "stream",
     "text": [
      "[0.028466027127563603, 0.12104386397826641, 0.01844533229531442, 0.02571342279316481, 3.814697265625e-06, 0.022752975636319003, 6490.084478938475, 1.3151458061166822e-17]\n"
     ]
    }
   ],
   "source": [
    "ts_1 = teststats(est_1.hess_inv, lnL_1, 6)\n",
    "\n",
    "print(ts_1)"
   ]
  },
  {
   "cell_type": "markdown",
   "metadata": {},
   "source": [
    "### Output to Latex"
   ]
  },
  {
   "cell_type": "code",
   "execution_count": 68,
   "metadata": {},
   "outputs": [],
   "source": [
    "# Make coeff and ts arrays the same length\n",
    "def pad(coeff: np.array):\n",
    "    while len(coeff) != 12:\n",
    "        coeff.append(None)\n",
    "    return coeff"
   ]
  },
  {
   "cell_type": "code",
   "execution_count": 69,
   "metadata": {},
   "outputs": [
    {
     "data": {
      "text/plain": [
       "[0.045915708486873534,\n",
       " 0.10185312092920687,\n",
       " 0.07744823088548224,\n",
       " 0.06283763921179684,\n",
       " 0.01746140670008499,\n",
       " 0.024963558284158312,\n",
       " 0.02474419947104088,\n",
       " 0.04472815960700245,\n",
       " 0.15257003821817428,\n",
       " 0.1249896951899015,\n",
       " 6444.98294159042,\n",
       " 0.0]"
      ]
     },
     "execution_count": 69,
     "metadata": {},
     "output_type": "execute_result"
    }
   ],
   "source": [
    "# Pad all vectors for dataframe. \n",
    "pad(coeff_1)\n",
    "pad(ts_1)\n",
    "pad(coeff_2)\n",
    "pad(ts_2)\n",
    "pad(coeff_3)\n",
    "pad(ts_3)\n",
    "pad(coeff_4)\n",
    "pad(ts_4)\n",
    "pad(coeff_5)\n",
    "pad(ts_5)\n",
    "pad(coeff_6)\n",
    "pad(ts_6)"
   ]
  },
  {
   "cell_type": "code",
   "execution_count": 70,
   "metadata": {},
   "outputs": [],
   "source": [
    "out = pd.DataFrame({\n",
    "    '(1)': coeff_1,\n",
    "    'se1': ts_1,\n",
    "    '(2)': coeff_2,\n",
    "    'se2': ts_2,\n",
    "    '(3)': coeff_3,\n",
    "    'se3': ts_3,\n",
    "    '(4)': coeff_4,\n",
    "    'se4': ts_4,\n",
    "    '(5)': coeff_5,\n",
    "    'se5': ts_5,\n",
    "    '(6)': coeff_6,\n",
    "    'se6': ts_6\n",
    "})"
   ]
  },
  {
   "cell_type": "code",
   "execution_count": 71,
   "metadata": {},
   "outputs": [],
   "source": [
    "np.savetxt('./output_SOEP.csv', out, fmt='%1.4f', delimiter=',')"
   ]
  },
  {
   "cell_type": "markdown",
   "metadata": {},
   "source": [
    "### Predicted Values"
   ]
  },
  {
   "cell_type": "code",
   "execution_count": 72,
   "metadata": {},
   "outputs": [],
   "source": [
    "def E(μ: float, σ: float):\n",
    "    \"\"\"\n",
    "    Calculates predicted values of Expected Productivity E(x) from Table 3 \n",
    "    \"\"\"\n",
    "    \n",
    "    exp_in = μ + .5*σ*σ\n",
    "    \n",
    "    return np.exp(exp_in)"
   ]
  },
  {
   "cell_type": "code",
   "execution_count": 73,
   "metadata": {},
   "outputs": [],
   "source": [
    "def V(μ: float, σ: float):\n",
    "    \"\"\"\n",
    "    Calculates predicted values of Variance of Expected Productivity V(x) from Table 3 \n",
    "    \"\"\"\n",
    "    \n",
    "    exp_in1 = 2*μ + 2*σ*σ\n",
    "    exp_in2 = 2*μ + σ*σ\n",
    "    \n",
    "    return np.exp(exp_in1) - np.exp(exp_in2)"
   ]
  },
  {
   "cell_type": "code",
   "execution_count": 74,
   "metadata": {},
   "outputs": [],
   "source": [
    "def int_in(x:np.array, μ: float, σ: float):\n",
    "    \"\"\"\n",
    "    Function for integrand\n",
    "    \"\"\"\n",
    "    \n",
    "    return x * lognormpdf(x, μ, σ)"
   ]
  },
  {
   "cell_type": "code",
   "execution_count": 75,
   "metadata": {},
   "outputs": [],
   "source": [
    "def Ew_M(x: np.array, α: float, wstar: float, μ: float, σ: float):\n",
    "    \"\"\"\n",
    "    Calculated predicted values of Expected Wage given Employed for Men E(w|E) from Table 3\n",
    "    \"\"\"\n",
    "    \n",
    "    mult1 = α/lognormsf(wstar,μ,σ)\n",
    "    integral = integrate.quad(lambda x: int_in(x, μ, σ), 0, wstar)\n",
    "    mult2 = E(μ,σ) - integral[0]\n",
    "    \n",
    "    add = (1-α)*wstar\n",
    "    \n",
    "    return (mult1 * mult2) + add"
   ]
  },
  {
   "cell_type": "code",
   "execution_count": 76,
   "metadata": {},
   "outputs": [],
   "source": [
    "def Ew_F(x: np.array, α: float, wstar: float, μ: float, σ: float, p: float, d: float):\n",
    "    \"\"\"\n",
    "    Calculated predicted values of Expected Wage given Employed for Women E(w|E) from Table 3\n",
    "    \"\"\"\n",
    "    \n",
    "    n_mult1 = α/lognormsf(wstar,μ,σ)\n",
    "    \n",
    "    n_integral = integrate.quad(lambda x:int_in(x, μ, σ), 0, wstar)\n",
    "    n_mult2 = E(μ,σ) - n_integral[0]\n",
    "    \n",
    "    n_add = (1-α)*wstar\n",
    "    \n",
    "    nonprej = (1-p) * ((n_mult1 * n_mult2) + n_add)\n",
    "    \n",
    "    \n",
    "    p_mult1 = α/lognormsf(wstar+d,μ,σ)\n",
    "    \n",
    "    p_integral = integrate.quad(lambda x: int_in(x, μ, σ), 0, wstar+d)\n",
    "    p_mult2 = E(μ,σ) - p_integral[0]\n",
    "    \n",
    "    p_add = (1-α)*wstar - α*d\n",
    "    \n",
    "    prej = p * ((p_mult1 * p_mult2) + p_add)\n",
    "    \n",
    "    return nonprej + prej"
   ]
  },
  {
   "cell_type": "code",
   "execution_count": 77,
   "metadata": {},
   "outputs": [],
   "source": [
    "def pred_hazardM(η: float, λ: float, wstar: float, μ: float, σ: float):\n",
    "    \"\"\"\n",
    "    Calculates predicted hazard rate for men to then find predicted values for Unemployed in Table 3\n",
    "    \"\"\"\n",
    "    \n",
    "    sf = lognormsf(wstar,μ, σ)\n",
    "    \n",
    "    return η + (λ*sf)"
   ]
  },
  {
   "cell_type": "code",
   "execution_count": 78,
   "metadata": {},
   "outputs": [],
   "source": [
    "def uM(η: float, λ: float, wstar: float, μ: float, σ: float):\n",
    "    \"\"\"\n",
    "    Calculated predicted proportion of unemployed men for Table 3\n",
    "    \"\"\"\n",
    "    \n",
    "    hM = pred_hazardM(η,λ,wstar,μ,σ)\n",
    "    \n",
    "    return η / hM"
   ]
  },
  {
   "cell_type": "code",
   "execution_count": 79,
   "metadata": {},
   "outputs": [],
   "source": [
    "def Et_M(η: float, λ: float, wstar: float, μ: float, σ: float):\n",
    "    \"\"\"\n",
    "    Calculated predicted duration of unemployment for unemployed men for Table 3\n",
    "    \"\"\"\n",
    "    \n",
    "    hM = pred_hazardM(η,λ,wstar,μ,σ)\n",
    "    \n",
    "    return 1 / hM"
   ]
  },
  {
   "cell_type": "code",
   "execution_count": 80,
   "metadata": {},
   "outputs": [],
   "source": [
    "def pred_hazardF(η: float, λ: float, wstar: float, μ: float, σ: float, p: float, d: float):\n",
    "    \"\"\"\n",
    "    Calculates predicted hazard rate for women to then find predicted values for Unemployed in Table 3\n",
    "    \"\"\"\n",
    "    \n",
    "    sf1 = lognormsf(wstar,μ, σ)\n",
    "    sf2 = lognormsf(wstar+d,μ, σ)\n",
    "    \n",
    "    mult = (1-p)*sf1 + p*sf2\n",
    "    \n",
    "    return η + (λ*mult)"
   ]
  },
  {
   "cell_type": "code",
   "execution_count": 81,
   "metadata": {},
   "outputs": [],
   "source": [
    "def uF(η: float, λ: float, wstar: float, μ: float, σ: float, p:float, d: float):\n",
    "    \"\"\"\n",
    "    Calculated predicted proportion of unemployed women for Table 3\n",
    "    \"\"\"\n",
    "    \n",
    "    hF = pred_hazardF(η,λ,wstar,μ,σ,p, d)\n",
    "    \n",
    "    return η / hF"
   ]
  },
  {
   "cell_type": "code",
   "execution_count": 82,
   "metadata": {},
   "outputs": [],
   "source": [
    "def Et_F(η: float, λ: float, wstar: float, μ: float, σ: float, p:float, d: float):\n",
    "    \"\"\"\n",
    "    Calculated predicted duration of unemployment for unemployed women for Table 3\n",
    "    \"\"\"\n",
    "    \n",
    "    hF = pred_hazardF(η,λ,wstar,μ,σ,p, d)\n",
    "    \n",
    "    return 1 / hF"
   ]
  },
  {
   "cell_type": "code",
   "execution_count": 83,
   "metadata": {},
   "outputs": [],
   "source": [
    "def predicts(λM: float, ηM: float, λF: float, ηF: float, μM: float, σM: float, μF: float, σF: float, p: float, d: float):\n",
    "    \"\"\"\n",
    "    Creates prediction vector based on values from estimations\n",
    "    \"\"\"\n",
    "    EM = E(μM, σM)\n",
    "    VM = V(μM, σM)\n",
    "    EF = E(μF, σF)\n",
    "    VF = V(μF, σF)\n",
    "    EwM = Ew_M(ME['wage'], α, wstarM, μM, σM)\n",
    "    EwF = Ew_F(FE['wage'], α, wstarF, μF, σF, p, d)\n",
    "    u_M = uM(ηM, λM, wstarM, μM, σM)\n",
    "    EtM = Et_M(ηM, λM_6, wstarM, μM, σM)\n",
    "    u_F = uF(ηF, λF, wstarF, μF, σF, p, d)\n",
    "    EtF = Et_F(ηF, λF, wstarF, μF, σF, p, d)\n",
    "\n",
    "    pred = [EM, VM, EF, VF, EwM, EwF, u_M, EtM, u_F, EtF]\n",
    "\n",
    "    return pred"
   ]
  },
  {
   "cell_type": "markdown",
   "metadata": {},
   "source": [
    "#### Estimation 6"
   ]
  },
  {
   "cell_type": "code",
   "execution_count": 86,
   "metadata": {},
   "outputs": [
    {
     "name": "stdout",
     "output_type": "stream",
     "text": [
      "[32.804945187491256, 409.97225221786175, 30.161477913611098, 110.94038212740531, 21.10267556764301, 16.68059548946747, 0.16216215141267343, 1.5013147135738565, 0.2263710807034079, 1.6896215141117004]\n"
     ]
    }
   ],
   "source": [
    "pred_6 = predicts(λM_6, ηM_6, λF_6, ηF_6, μM_6, σM_6, μF_6, σF_6, p_6, d_6)\n",
    "print(pred_6)"
   ]
  },
  {
   "cell_type": "markdown",
   "metadata": {},
   "source": [
    "#### Estimation 3"
   ]
  },
  {
   "cell_type": "code",
   "execution_count": 87,
   "metadata": {},
   "outputs": [
    {
     "name": "stdout",
     "output_type": "stream",
     "text": [
      "[32.864981287456665, 412.8437515012722, 29.815407098357838, 108.03890835655739, 21.13369430073461, 16.736292620556632, 0.1629572978265136, 1.4774353955545785, 0.23402631014888198, 1.9700388132002595]\n"
     ]
    }
   ],
   "source": [
    "pred_3 = predicts(λ_3, η_3, λ_3, η_3, μM_3, σM_3, μF_3, σF_3, p_3, d_3)\n",
    "print(pred_3)"
   ]
  },
  {
   "cell_type": "markdown",
   "metadata": {},
   "source": [
    "#### Estimation 1"
   ]
  },
  {
   "cell_type": "code",
   "execution_count": 88,
   "metadata": {},
   "outputs": [
    {
     "name": "stdout",
     "output_type": "stream",
     "text": [
      "[32.827941255210675, 407.5501236943285, 23.156382554507818, 222.68743424090815, 21.10797677840084, 16.804425376118743, 0.18256999458957435, 1.479895450837165, 0.19377093258102845, 1.6507759250036407]\n"
     ]
    }
   ],
   "source": [
    "pred_1 = predicts(λ_1, η_1, λ_1, η_1, μM_1, σM_1, μF_1, σF_1, 0, 0)\n",
    "print(pred_1)"
   ]
  },
  {
   "cell_type": "markdown",
   "metadata": {},
   "source": [
    "#### Estimation 4"
   ]
  },
  {
   "cell_type": "code",
   "execution_count": 89,
   "metadata": {},
   "outputs": [
    {
     "name": "stdout",
     "output_type": "stream",
     "text": [
      "[32.80494479959274, 409.9721783669918, 23.409569867345912, 213.87105597352866, 21.102675263214692, 16.832722665478315, 0.1621621764277735, 1.5013146713654721, 0.2263710400499049, 1.6896215142734083]\n"
     ]
    }
   ],
   "source": [
    "pred_4 = predicts(λM_4, ηM_4, λF_4, ηF_4, μM_4, σM_4, μF_4, σF_4, 0, 0)\n",
    "print(pred_4)"
   ]
  },
  {
   "cell_type": "markdown",
   "metadata": {},
   "source": [
    "#### Estimation 2"
   ]
  },
  {
   "cell_type": "code",
   "execution_count": 90,
   "metadata": {},
   "outputs": [
    {
     "name": "stdout",
     "output_type": "stream",
     "text": [
      "[31.688749428628928, 322.75113351521736, 31.688749428628928, 322.75113351521736, 20.456715719331697, 17.894223053802115, 0.1673466453818979, 1.4698654575937316, 0.2180892160377545, 1.8340382120285985]\n"
     ]
    }
   ],
   "source": [
    "pred_2 = predicts(λ_2, η_2, λ_2, η_2, μ_2, σ_2, μ_2, σ_2, p_2, d_2)\n",
    "print(pred_2)"
   ]
  },
  {
   "cell_type": "markdown",
   "metadata": {},
   "source": [
    "### Estimation 5"
   ]
  },
  {
   "cell_type": "code",
   "execution_count": 91,
   "metadata": {},
   "outputs": [
    {
     "name": "stdout",
     "output_type": "stream",
     "text": [
      "[31.688749428628928, 322.75113351521736, 31.688749428628928, 322.75113351521736, 20.456715719331697, 17.894223053802115, 0.1673466453818979, 1.4698654575937316, 0.2180892160377545, 1.8340382120285985]\n"
     ]
    }
   ],
   "source": [
    "pred_5 = predicts(λM_5, ηM_5, λF_5, ηF_5, μ_5, σ_5, μ_5, σ_5, p_5, d_5)\n",
    "print(pred_2)"
   ]
  },
  {
   "cell_type": "markdown",
   "metadata": {},
   "source": [
    "### Output to Latex"
   ]
  },
  {
   "cell_type": "code",
   "execution_count": 92,
   "metadata": {},
   "outputs": [],
   "source": [
    "out_pred = pd.DataFrame({\n",
    "    '(1)': pred_1,\n",
    "    '(2)': pred_2,\n",
    "    '(3)': pred_3,\n",
    "    '(4)': pred_4,\n",
    "    '(5)': pred_5,\n",
    "    '(6)': pred_6,\n",
    "})"
   ]
  },
  {
   "cell_type": "code",
   "execution_count": 93,
   "metadata": {},
   "outputs": [],
   "source": [
    "np.savetxt('./output_pred_SOEP.csv', out_pred, fmt='%1.3f', delimiter=',')"
   ]
  }
 ],
 "metadata": {
  "kernelspec": {
   "display_name": "Python 3",
   "language": "python",
   "name": "python3"
  },
  "language_info": {
   "codemirror_mode": {
    "name": "ipython",
    "version": 3
   },
   "file_extension": ".py",
   "mimetype": "text/x-python",
   "name": "python",
   "nbconvert_exporter": "python",
   "pygments_lexer": "ipython3",
   "version": "3.6.5"
  }
 },
 "nbformat": 4,
 "nbformat_minor": 2
}
